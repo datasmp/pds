{
 "cells": [
  {
   "cell_type": "markdown",
   "metadata": {},
   "source": [
    "# DataFrames Exercises Solutions\n",
    "\n",
    "![](title_pict/df_exercises2.png)"
   ]
  },
  {
   "cell_type": "markdown",
   "metadata": {
    "id": "sNn4AXFmx2cw"
   },
   "source": [
    "## Question-1\n",
    "Load the grades CSV file from *https://raw.githubusercontent.com/datasmp/datasets/main/grades.csv* into a DataFrame.\n",
    "\n",
    "- Use the Pandas *read_csv()* method.\n",
    "- Display the first 10 rows of the DataFrame.\n",
    "- Display the last 10 rows of the DataFrame."
   ]
  },
  {
   "cell_type": "markdown",
   "metadata": {
    "id": "C4ZqBfp1yA1_"
   },
   "source": [
    "## Solution-1"
   ]
  },
  {
   "cell_type": "code",
   "execution_count": 1,
   "metadata": {},
   "outputs": [],
   "source": [
    "import pandas as pd"
   ]
  },
  {
   "cell_type": "code",
   "execution_count": 2,
   "metadata": {
    "executionInfo": {
     "elapsed": 1014,
     "status": "ok",
     "timestamp": 1617118730952,
     "user": {
      "displayName": "Yusuf Danisman",
      "photoUrl": "",
      "userId": "08610553246652363181"
     },
     "user_tz": 240
    },
    "id": "CrpL9RkXyNuq"
   },
   "outputs": [],
   "source": [
    "df_grades = pd.read_csv('https://raw.githubusercontent.com/datasmp/datasets/main/grades.csv')"
   ]
  },
  {
   "cell_type": "code",
   "execution_count": 3,
   "metadata": {
    "colab": {
     "base_uri": "https://localhost:8080/",
     "height": 349
    },
    "executionInfo": {
     "elapsed": 237,
     "status": "ok",
     "timestamp": 1617118792587,
     "user": {
      "displayName": "Yusuf Danisman",
      "photoUrl": "",
      "userId": "08610553246652363181"
     },
     "user_tz": 240
    },
    "id": "4BWvSTgnyO7-",
    "outputId": "70af6b63-3f85-4010-e244-fcce1973e8df"
   },
   "outputs": [
    {
     "data": {
      "text/html": [
       "<div>\n",
       "<style scoped>\n",
       "    .dataframe tbody tr th:only-of-type {\n",
       "        vertical-align: middle;\n",
       "    }\n",
       "\n",
       "    .dataframe tbody tr th {\n",
       "        vertical-align: top;\n",
       "    }\n",
       "\n",
       "    .dataframe thead th {\n",
       "        text-align: right;\n",
       "    }\n",
       "</style>\n",
       "<table border=\"1\" class=\"dataframe\">\n",
       "  <thead>\n",
       "    <tr style=\"text-align: right;\">\n",
       "      <th></th>\n",
       "      <th>Name</th>\n",
       "      <th>ID</th>\n",
       "      <th>Grade</th>\n",
       "      <th>Gender</th>\n",
       "      <th>HW</th>\n",
       "      <th>Test-1</th>\n",
       "      <th>Test-2</th>\n",
       "      <th>Test-3</th>\n",
       "      <th>Test-4</th>\n",
       "      <th>Final</th>\n",
       "    </tr>\n",
       "  </thead>\n",
       "  <tbody>\n",
       "    <tr>\n",
       "      <th>0</th>\n",
       "      <td>mqtvy</td>\n",
       "      <td>37047871</td>\n",
       "      <td>10</td>\n",
       "      <td>M</td>\n",
       "      <td>30</td>\n",
       "      <td>91</td>\n",
       "      <td>69</td>\n",
       "      <td>93</td>\n",
       "      <td>17</td>\n",
       "      <td>50</td>\n",
       "    </tr>\n",
       "    <tr>\n",
       "      <th>1</th>\n",
       "      <td>jbbsx</td>\n",
       "      <td>35439616</td>\n",
       "      <td>11</td>\n",
       "      <td>F</td>\n",
       "      <td>6</td>\n",
       "      <td>18</td>\n",
       "      <td>93</td>\n",
       "      <td>9</td>\n",
       "      <td>98</td>\n",
       "      <td>91</td>\n",
       "    </tr>\n",
       "    <tr>\n",
       "      <th>2</th>\n",
       "      <td>mrvab</td>\n",
       "      <td>35543247</td>\n",
       "      <td>11</td>\n",
       "      <td>M</td>\n",
       "      <td>78</td>\n",
       "      <td>92</td>\n",
       "      <td>60</td>\n",
       "      <td>43</td>\n",
       "      <td>34</td>\n",
       "      <td>26</td>\n",
       "    </tr>\n",
       "    <tr>\n",
       "      <th>3</th>\n",
       "      <td>bjyve</td>\n",
       "      <td>61282135</td>\n",
       "      <td>9</td>\n",
       "      <td>M</td>\n",
       "      <td>60</td>\n",
       "      <td>8</td>\n",
       "      <td>10</td>\n",
       "      <td>99</td>\n",
       "      <td>80</td>\n",
       "      <td>87</td>\n",
       "    </tr>\n",
       "    <tr>\n",
       "      <th>4</th>\n",
       "      <td>rlpsr</td>\n",
       "      <td>53448034</td>\n",
       "      <td>10</td>\n",
       "      <td>M</td>\n",
       "      <td>3</td>\n",
       "      <td>38</td>\n",
       "      <td>45</td>\n",
       "      <td>43</td>\n",
       "      <td>79</td>\n",
       "      <td>69</td>\n",
       "    </tr>\n",
       "    <tr>\n",
       "      <th>5</th>\n",
       "      <td>hotxq</td>\n",
       "      <td>96808584</td>\n",
       "      <td>9</td>\n",
       "      <td>F</td>\n",
       "      <td>29</td>\n",
       "      <td>18</td>\n",
       "      <td>61</td>\n",
       "      <td>17</td>\n",
       "      <td>72</td>\n",
       "      <td>39</td>\n",
       "    </tr>\n",
       "    <tr>\n",
       "      <th>6</th>\n",
       "      <td>ylskw</td>\n",
       "      <td>37901138</td>\n",
       "      <td>9</td>\n",
       "      <td>M</td>\n",
       "      <td>53</td>\n",
       "      <td>85</td>\n",
       "      <td>61</td>\n",
       "      <td>87</td>\n",
       "      <td>9</td>\n",
       "      <td>94</td>\n",
       "    </tr>\n",
       "    <tr>\n",
       "      <th>7</th>\n",
       "      <td>cuepi</td>\n",
       "      <td>91568175</td>\n",
       "      <td>11</td>\n",
       "      <td>M</td>\n",
       "      <td>27</td>\n",
       "      <td>61</td>\n",
       "      <td>82</td>\n",
       "      <td>19</td>\n",
       "      <td>19</td>\n",
       "      <td>8</td>\n",
       "    </tr>\n",
       "    <tr>\n",
       "      <th>8</th>\n",
       "      <td>fmrdj</td>\n",
       "      <td>70101966</td>\n",
       "      <td>9</td>\n",
       "      <td>F</td>\n",
       "      <td>52</td>\n",
       "      <td>35</td>\n",
       "      <td>14</td>\n",
       "      <td>70</td>\n",
       "      <td>12</td>\n",
       "      <td>78</td>\n",
       "    </tr>\n",
       "    <tr>\n",
       "      <th>9</th>\n",
       "      <td>iyhzx</td>\n",
       "      <td>840574</td>\n",
       "      <td>11</td>\n",
       "      <td>M</td>\n",
       "      <td>91</td>\n",
       "      <td>89</td>\n",
       "      <td>37</td>\n",
       "      <td>93</td>\n",
       "      <td>96</td>\n",
       "      <td>28</td>\n",
       "    </tr>\n",
       "  </tbody>\n",
       "</table>\n",
       "</div>"
      ],
      "text/plain": [
       "    Name        ID  Grade Gender  HW  Test-1  Test-2  Test-3  Test-4  Final\n",
       "0  mqtvy  37047871     10      M  30      91      69      93      17     50\n",
       "1  jbbsx  35439616     11      F   6      18      93       9      98     91\n",
       "2  mrvab  35543247     11      M  78      92      60      43      34     26\n",
       "3  bjyve  61282135      9      M  60       8      10      99      80     87\n",
       "4  rlpsr  53448034     10      M   3      38      45      43      79     69\n",
       "5  hotxq  96808584      9      F  29      18      61      17      72     39\n",
       "6  ylskw  37901138      9      M  53      85      61      87       9     94\n",
       "7  cuepi  91568175     11      M  27      61      82      19      19      8\n",
       "8  fmrdj  70101966      9      F  52      35      14      70      12     78\n",
       "9  iyhzx    840574     11      M  91      89      37      93      96     28"
      ]
     },
     "execution_count": 3,
     "metadata": {},
     "output_type": "execute_result"
    }
   ],
   "source": [
    "df_grades.head(10)"
   ]
  },
  {
   "cell_type": "code",
   "execution_count": 4,
   "metadata": {
    "colab": {
     "base_uri": "https://localhost:8080/",
     "height": 349
    },
    "executionInfo": {
     "elapsed": 634,
     "status": "ok",
     "timestamp": 1617118806629,
     "user": {
      "displayName": "Yusuf Danisman",
      "photoUrl": "",
      "userId": "08610553246652363181"
     },
     "user_tz": 240
    },
    "id": "u4vdE6eUyesr",
    "outputId": "df19e8d1-f57b-41e2-a63f-09b120a7f040"
   },
   "outputs": [
    {
     "data": {
      "text/html": [
       "<div>\n",
       "<style scoped>\n",
       "    .dataframe tbody tr th:only-of-type {\n",
       "        vertical-align: middle;\n",
       "    }\n",
       "\n",
       "    .dataframe tbody tr th {\n",
       "        vertical-align: top;\n",
       "    }\n",
       "\n",
       "    .dataframe thead th {\n",
       "        text-align: right;\n",
       "    }\n",
       "</style>\n",
       "<table border=\"1\" class=\"dataframe\">\n",
       "  <thead>\n",
       "    <tr style=\"text-align: right;\">\n",
       "      <th></th>\n",
       "      <th>Name</th>\n",
       "      <th>ID</th>\n",
       "      <th>Grade</th>\n",
       "      <th>Gender</th>\n",
       "      <th>HW</th>\n",
       "      <th>Test-1</th>\n",
       "      <th>Test-2</th>\n",
       "      <th>Test-3</th>\n",
       "      <th>Test-4</th>\n",
       "      <th>Final</th>\n",
       "    </tr>\n",
       "  </thead>\n",
       "  <tbody>\n",
       "    <tr>\n",
       "      <th>90</th>\n",
       "      <td>wxtpu</td>\n",
       "      <td>98301627</td>\n",
       "      <td>12</td>\n",
       "      <td>M</td>\n",
       "      <td>44</td>\n",
       "      <td>57</td>\n",
       "      <td>99</td>\n",
       "      <td>87</td>\n",
       "      <td>9</td>\n",
       "      <td>62</td>\n",
       "    </tr>\n",
       "    <tr>\n",
       "      <th>91</th>\n",
       "      <td>dvadf</td>\n",
       "      <td>79686024</td>\n",
       "      <td>11</td>\n",
       "      <td>F</td>\n",
       "      <td>1</td>\n",
       "      <td>80</td>\n",
       "      <td>24</td>\n",
       "      <td>77</td>\n",
       "      <td>80</td>\n",
       "      <td>77</td>\n",
       "    </tr>\n",
       "    <tr>\n",
       "      <th>92</th>\n",
       "      <td>lagws</td>\n",
       "      <td>82526433</td>\n",
       "      <td>12</td>\n",
       "      <td>F</td>\n",
       "      <td>12</td>\n",
       "      <td>45</td>\n",
       "      <td>97</td>\n",
       "      <td>92</td>\n",
       "      <td>20</td>\n",
       "      <td>29</td>\n",
       "    </tr>\n",
       "    <tr>\n",
       "      <th>93</th>\n",
       "      <td>yzljj</td>\n",
       "      <td>10884705</td>\n",
       "      <td>10</td>\n",
       "      <td>M</td>\n",
       "      <td>92</td>\n",
       "      <td>75</td>\n",
       "      <td>41</td>\n",
       "      <td>33</td>\n",
       "      <td>61</td>\n",
       "      <td>66</td>\n",
       "    </tr>\n",
       "    <tr>\n",
       "      <th>94</th>\n",
       "      <td>jloze</td>\n",
       "      <td>30408806</td>\n",
       "      <td>10</td>\n",
       "      <td>M</td>\n",
       "      <td>19</td>\n",
       "      <td>24</td>\n",
       "      <td>73</td>\n",
       "      <td>98</td>\n",
       "      <td>48</td>\n",
       "      <td>95</td>\n",
       "    </tr>\n",
       "    <tr>\n",
       "      <th>95</th>\n",
       "      <td>zxuaq</td>\n",
       "      <td>58332078</td>\n",
       "      <td>12</td>\n",
       "      <td>M</td>\n",
       "      <td>57</td>\n",
       "      <td>1</td>\n",
       "      <td>48</td>\n",
       "      <td>61</td>\n",
       "      <td>58</td>\n",
       "      <td>99</td>\n",
       "    </tr>\n",
       "    <tr>\n",
       "      <th>96</th>\n",
       "      <td>vegye</td>\n",
       "      <td>10019910</td>\n",
       "      <td>11</td>\n",
       "      <td>F</td>\n",
       "      <td>88</td>\n",
       "      <td>30</td>\n",
       "      <td>48</td>\n",
       "      <td>85</td>\n",
       "      <td>48</td>\n",
       "      <td>17</td>\n",
       "    </tr>\n",
       "    <tr>\n",
       "      <th>97</th>\n",
       "      <td>euwlj</td>\n",
       "      <td>27967150</td>\n",
       "      <td>12</td>\n",
       "      <td>F</td>\n",
       "      <td>70</td>\n",
       "      <td>15</td>\n",
       "      <td>72</td>\n",
       "      <td>77</td>\n",
       "      <td>20</td>\n",
       "      <td>65</td>\n",
       "    </tr>\n",
       "    <tr>\n",
       "      <th>98</th>\n",
       "      <td>oesms</td>\n",
       "      <td>36171468</td>\n",
       "      <td>10</td>\n",
       "      <td>M</td>\n",
       "      <td>88</td>\n",
       "      <td>16</td>\n",
       "      <td>100</td>\n",
       "      <td>62</td>\n",
       "      <td>76</td>\n",
       "      <td>19</td>\n",
       "    </tr>\n",
       "    <tr>\n",
       "      <th>99</th>\n",
       "      <td>buugr</td>\n",
       "      <td>88783139</td>\n",
       "      <td>10</td>\n",
       "      <td>M</td>\n",
       "      <td>23</td>\n",
       "      <td>74</td>\n",
       "      <td>14</td>\n",
       "      <td>17</td>\n",
       "      <td>40</td>\n",
       "      <td>59</td>\n",
       "    </tr>\n",
       "  </tbody>\n",
       "</table>\n",
       "</div>"
      ],
      "text/plain": [
       "     Name        ID  Grade Gender  HW  Test-1  Test-2  Test-3  Test-4  Final\n",
       "90  wxtpu  98301627     12      M  44      57      99      87       9     62\n",
       "91  dvadf  79686024     11      F   1      80      24      77      80     77\n",
       "92  lagws  82526433     12      F  12      45      97      92      20     29\n",
       "93  yzljj  10884705     10      M  92      75      41      33      61     66\n",
       "94  jloze  30408806     10      M  19      24      73      98      48     95\n",
       "95  zxuaq  58332078     12      M  57       1      48      61      58     99\n",
       "96  vegye  10019910     11      F  88      30      48      85      48     17\n",
       "97  euwlj  27967150     12      F  70      15      72      77      20     65\n",
       "98  oesms  36171468     10      M  88      16     100      62      76     19\n",
       "99  buugr  88783139     10      M  23      74      14      17      40     59"
      ]
     },
     "execution_count": 4,
     "metadata": {},
     "output_type": "execute_result"
    }
   ],
   "source": [
    "df_grades.tail(10)"
   ]
  },
  {
   "cell_type": "markdown",
   "metadata": {
    "id": "Gbarhri5ytb9"
   },
   "source": [
    "## Question-2\n",
    "Display the Test 3 grade of the student rlpsr (5th student):\n",
    "- Using loc\n",
    "- Using iloc"
   ]
  },
  {
   "cell_type": "markdown",
   "metadata": {
    "id": "bwj8ctVmytMd"
   },
   "source": [
    "## Solution-2"
   ]
  },
  {
   "cell_type": "code",
   "execution_count": 5,
   "metadata": {
    "colab": {
     "base_uri": "https://localhost:8080/"
    },
    "executionInfo": {
     "elapsed": 649,
     "status": "ok",
     "timestamp": 1617118913593,
     "user": {
      "displayName": "Yusuf Danisman",
      "photoUrl": "",
      "userId": "08610553246652363181"
     },
     "user_tz": 240
    },
    "id": "VVhUP_7Ryr9N",
    "outputId": "cc1a13e3-3702-445b-d317-9493cd766c23"
   },
   "outputs": [
    {
     "data": {
      "text/plain": [
       "43"
      ]
     },
     "execution_count": 5,
     "metadata": {},
     "output_type": "execute_result"
    }
   ],
   "source": [
    "df_grades.loc[4,'Test-3']"
   ]
  },
  {
   "cell_type": "code",
   "execution_count": 6,
   "metadata": {
    "colab": {
     "base_uri": "https://localhost:8080/"
    },
    "executionInfo": {
     "elapsed": 276,
     "status": "ok",
     "timestamp": 1617118933731,
     "user": {
      "displayName": "Yusuf Danisman",
      "photoUrl": "",
      "userId": "08610553246652363181"
     },
     "user_tz": 240
    },
    "id": "_q2w8fu5zGFz",
    "outputId": "b9dc1ce5-f681-4e18-aaee-62d97ffe238f"
   },
   "outputs": [
    {
     "data": {
      "text/plain": [
       "43"
      ]
     },
     "execution_count": 6,
     "metadata": {},
     "output_type": "execute_result"
    }
   ],
   "source": [
    "df_grades.iloc[4,7]"
   ]
  },
  {
   "cell_type": "markdown",
   "metadata": {
    "id": "dVTaa1YKzMFm"
   },
   "source": [
    "## Question-3\n",
    "Display the column labels."
   ]
  },
  {
   "cell_type": "markdown",
   "metadata": {
    "id": "zDHLX0pfzL_1"
   },
   "source": [
    "## Solution-3"
   ]
  },
  {
   "cell_type": "code",
   "execution_count": 7,
   "metadata": {
    "colab": {
     "base_uri": "https://localhost:8080/"
    },
    "executionInfo": {
     "elapsed": 240,
     "status": "ok",
     "timestamp": 1617118976419,
     "user": {
      "displayName": "Yusuf Danisman",
      "photoUrl": "",
      "userId": "08610553246652363181"
     },
     "user_tz": 240
    },
    "id": "kVJu3uFkzLGh",
    "outputId": "8b36be4f-da41-4e64-e495-69d0448dd147"
   },
   "outputs": [
    {
     "data": {
      "text/plain": [
       "Index(['Name', 'ID', 'Grade', 'Gender', 'HW', 'Test-1', 'Test-2', 'Test-3',\n",
       "       'Test-4', 'Final'],\n",
       "      dtype='object')"
      ]
     },
     "execution_count": 7,
     "metadata": {},
     "output_type": "execute_result"
    }
   ],
   "source": [
    "df_grades.columns"
   ]
  },
  {
   "cell_type": "markdown",
   "metadata": {
    "id": "pY85OIEQzW55"
   },
   "source": [
    "## Question-4\n",
    "Remove the *gender* column from the DataFrame."
   ]
  },
  {
   "cell_type": "markdown",
   "metadata": {
    "id": "wzNUcJHmzWs6"
   },
   "source": [
    "## Solution-4\n"
   ]
  },
  {
   "cell_type": "code",
   "execution_count": 8,
   "metadata": {
    "executionInfo": {
     "elapsed": 275,
     "status": "ok",
     "timestamp": 1617119098723,
     "user": {
      "displayName": "Yusuf Danisman",
      "photoUrl": "",
      "userId": "08610553246652363181"
     },
     "user_tz": 240
    },
    "id": "0s5lT3IgzViM"
   },
   "outputs": [],
   "source": [
    "df_grades.drop('Gender', axis=1, inplace=True)"
   ]
  },
  {
   "cell_type": "code",
   "execution_count": 9,
   "metadata": {
    "colab": {
     "base_uri": "https://localhost:8080/",
     "height": 198
    },
    "executionInfo": {
     "elapsed": 259,
     "status": "ok",
     "timestamp": 1617119106962,
     "user": {
      "displayName": "Yusuf Danisman",
      "photoUrl": "",
      "userId": "08610553246652363181"
     },
     "user_tz": 240
    },
    "id": "Lg_eWLkazzYZ",
    "outputId": "7a33cd1c-9ffb-4b6f-eb05-dcbfd21ba149"
   },
   "outputs": [
    {
     "data": {
      "text/html": [
       "<div>\n",
       "<style scoped>\n",
       "    .dataframe tbody tr th:only-of-type {\n",
       "        vertical-align: middle;\n",
       "    }\n",
       "\n",
       "    .dataframe tbody tr th {\n",
       "        vertical-align: top;\n",
       "    }\n",
       "\n",
       "    .dataframe thead th {\n",
       "        text-align: right;\n",
       "    }\n",
       "</style>\n",
       "<table border=\"1\" class=\"dataframe\">\n",
       "  <thead>\n",
       "    <tr style=\"text-align: right;\">\n",
       "      <th></th>\n",
       "      <th>Name</th>\n",
       "      <th>ID</th>\n",
       "      <th>Grade</th>\n",
       "      <th>HW</th>\n",
       "      <th>Test-1</th>\n",
       "      <th>Test-2</th>\n",
       "      <th>Test-3</th>\n",
       "      <th>Test-4</th>\n",
       "      <th>Final</th>\n",
       "    </tr>\n",
       "  </thead>\n",
       "  <tbody>\n",
       "    <tr>\n",
       "      <th>0</th>\n",
       "      <td>mqtvy</td>\n",
       "      <td>37047871</td>\n",
       "      <td>10</td>\n",
       "      <td>30</td>\n",
       "      <td>91</td>\n",
       "      <td>69</td>\n",
       "      <td>93</td>\n",
       "      <td>17</td>\n",
       "      <td>50</td>\n",
       "    </tr>\n",
       "    <tr>\n",
       "      <th>1</th>\n",
       "      <td>jbbsx</td>\n",
       "      <td>35439616</td>\n",
       "      <td>11</td>\n",
       "      <td>6</td>\n",
       "      <td>18</td>\n",
       "      <td>93</td>\n",
       "      <td>9</td>\n",
       "      <td>98</td>\n",
       "      <td>91</td>\n",
       "    </tr>\n",
       "    <tr>\n",
       "      <th>2</th>\n",
       "      <td>mrvab</td>\n",
       "      <td>35543247</td>\n",
       "      <td>11</td>\n",
       "      <td>78</td>\n",
       "      <td>92</td>\n",
       "      <td>60</td>\n",
       "      <td>43</td>\n",
       "      <td>34</td>\n",
       "      <td>26</td>\n",
       "    </tr>\n",
       "    <tr>\n",
       "      <th>3</th>\n",
       "      <td>bjyve</td>\n",
       "      <td>61282135</td>\n",
       "      <td>9</td>\n",
       "      <td>60</td>\n",
       "      <td>8</td>\n",
       "      <td>10</td>\n",
       "      <td>99</td>\n",
       "      <td>80</td>\n",
       "      <td>87</td>\n",
       "    </tr>\n",
       "    <tr>\n",
       "      <th>4</th>\n",
       "      <td>rlpsr</td>\n",
       "      <td>53448034</td>\n",
       "      <td>10</td>\n",
       "      <td>3</td>\n",
       "      <td>38</td>\n",
       "      <td>45</td>\n",
       "      <td>43</td>\n",
       "      <td>79</td>\n",
       "      <td>69</td>\n",
       "    </tr>\n",
       "  </tbody>\n",
       "</table>\n",
       "</div>"
      ],
      "text/plain": [
       "    Name        ID  Grade  HW  Test-1  Test-2  Test-3  Test-4  Final\n",
       "0  mqtvy  37047871     10  30      91      69      93      17     50\n",
       "1  jbbsx  35439616     11   6      18      93       9      98     91\n",
       "2  mrvab  35543247     11  78      92      60      43      34     26\n",
       "3  bjyve  61282135      9  60       8      10      99      80     87\n",
       "4  rlpsr  53448034     10   3      38      45      43      79     69"
      ]
     },
     "execution_count": 9,
     "metadata": {},
     "output_type": "execute_result"
    }
   ],
   "source": [
    "df_grades.head()"
   ]
  },
  {
   "cell_type": "markdown",
   "metadata": {
    "id": "pKpl2RxCz4yE"
   },
   "source": [
    "## Question-5\n",
    "Add a new column named *Weighted Average*, calculated as follows:\n",
    "\n",
    "$0.10 \\times HW + 0.15 \\times Test1 + 0.15 \\times Test2 + 0.15 \\times Test3 + 0.15 \\times Test4 + 0.3 \\times Final$ \n",
    " "
   ]
  },
  {
   "cell_type": "markdown",
   "metadata": {
    "id": "5qE859Jyz4kK"
   },
   "source": [
    "## Solution-5"
   ]
  },
  {
   "cell_type": "code",
   "execution_count": 10,
   "metadata": {
    "colab": {
     "base_uri": "https://localhost:8080/",
     "height": 198
    },
    "executionInfo": {
     "elapsed": 325,
     "status": "ok",
     "timestamp": 1617119454279,
     "user": {
      "displayName": "Yusuf Danisman",
      "photoUrl": "",
      "userId": "08610553246652363181"
     },
     "user_tz": 240
    },
    "id": "brWeNIx4z1Zq",
    "outputId": "91e38d55-b8be-4a2e-a23f-67fa74ac3813"
   },
   "outputs": [
    {
     "data": {
      "text/html": [
       "<div>\n",
       "<style scoped>\n",
       "    .dataframe tbody tr th:only-of-type {\n",
       "        vertical-align: middle;\n",
       "    }\n",
       "\n",
       "    .dataframe tbody tr th {\n",
       "        vertical-align: top;\n",
       "    }\n",
       "\n",
       "    .dataframe thead th {\n",
       "        text-align: right;\n",
       "    }\n",
       "</style>\n",
       "<table border=\"1\" class=\"dataframe\">\n",
       "  <thead>\n",
       "    <tr style=\"text-align: right;\">\n",
       "      <th></th>\n",
       "      <th>Name</th>\n",
       "      <th>ID</th>\n",
       "      <th>Grade</th>\n",
       "      <th>HW</th>\n",
       "      <th>Test-1</th>\n",
       "      <th>Test-2</th>\n",
       "      <th>Test-3</th>\n",
       "      <th>Test-4</th>\n",
       "      <th>Final</th>\n",
       "      <th>Weighted Average</th>\n",
       "    </tr>\n",
       "  </thead>\n",
       "  <tbody>\n",
       "    <tr>\n",
       "      <th>0</th>\n",
       "      <td>mqtvy</td>\n",
       "      <td>37047871</td>\n",
       "      <td>10</td>\n",
       "      <td>30</td>\n",
       "      <td>91</td>\n",
       "      <td>69</td>\n",
       "      <td>93</td>\n",
       "      <td>17</td>\n",
       "      <td>50</td>\n",
       "      <td>58.50</td>\n",
       "    </tr>\n",
       "    <tr>\n",
       "      <th>1</th>\n",
       "      <td>jbbsx</td>\n",
       "      <td>35439616</td>\n",
       "      <td>11</td>\n",
       "      <td>6</td>\n",
       "      <td>18</td>\n",
       "      <td>93</td>\n",
       "      <td>9</td>\n",
       "      <td>98</td>\n",
       "      <td>91</td>\n",
       "      <td>60.60</td>\n",
       "    </tr>\n",
       "    <tr>\n",
       "      <th>2</th>\n",
       "      <td>mrvab</td>\n",
       "      <td>35543247</td>\n",
       "      <td>11</td>\n",
       "      <td>78</td>\n",
       "      <td>92</td>\n",
       "      <td>60</td>\n",
       "      <td>43</td>\n",
       "      <td>34</td>\n",
       "      <td>26</td>\n",
       "      <td>49.95</td>\n",
       "    </tr>\n",
       "    <tr>\n",
       "      <th>3</th>\n",
       "      <td>bjyve</td>\n",
       "      <td>61282135</td>\n",
       "      <td>9</td>\n",
       "      <td>60</td>\n",
       "      <td>8</td>\n",
       "      <td>10</td>\n",
       "      <td>99</td>\n",
       "      <td>80</td>\n",
       "      <td>87</td>\n",
       "      <td>61.65</td>\n",
       "    </tr>\n",
       "    <tr>\n",
       "      <th>4</th>\n",
       "      <td>rlpsr</td>\n",
       "      <td>53448034</td>\n",
       "      <td>10</td>\n",
       "      <td>3</td>\n",
       "      <td>38</td>\n",
       "      <td>45</td>\n",
       "      <td>43</td>\n",
       "      <td>79</td>\n",
       "      <td>69</td>\n",
       "      <td>51.75</td>\n",
       "    </tr>\n",
       "  </tbody>\n",
       "</table>\n",
       "</div>"
      ],
      "text/plain": [
       "    Name        ID  Grade  HW  Test-1  Test-2  Test-3  Test-4  Final  \\\n",
       "0  mqtvy  37047871     10  30      91      69      93      17     50   \n",
       "1  jbbsx  35439616     11   6      18      93       9      98     91   \n",
       "2  mrvab  35543247     11  78      92      60      43      34     26   \n",
       "3  bjyve  61282135      9  60       8      10      99      80     87   \n",
       "4  rlpsr  53448034     10   3      38      45      43      79     69   \n",
       "\n",
       "   Weighted Average  \n",
       "0             58.50  \n",
       "1             60.60  \n",
       "2             49.95  \n",
       "3             61.65  \n",
       "4             51.75  "
      ]
     },
     "execution_count": 10,
     "metadata": {},
     "output_type": "execute_result"
    }
   ],
   "source": [
    "df_grades['Weighted Average'] = df_grades['HW']*10/100+df_grades['Test-1']*15/100+df_grades['Test-2']*15/100+df_grades['Test-3']*15/100+df_grades['Test-4']*15/100+df_grades['Final']*30/100\n",
    "df_grades.head()"
   ]
  },
  {
   "cell_type": "markdown",
   "metadata": {
    "id": "0DAF7c371Q8m"
   },
   "source": [
    "## Question-6"
   ]
  },
  {
   "cell_type": "markdown",
   "metadata": {
    "id": "irolkU-C1QMR"
   },
   "source": [
    "Display only the name of the student with highest Weighted Average."
   ]
  },
  {
   "cell_type": "markdown",
   "metadata": {
    "id": "wKGcNsLI104B"
   },
   "source": [
    "## Solution-6"
   ]
  },
  {
   "cell_type": "code",
   "execution_count": 11,
   "metadata": {
    "colab": {
     "base_uri": "https://localhost:8080/",
     "height": 408
    },
    "executionInfo": {
     "elapsed": 245,
     "status": "ok",
     "timestamp": 1617119619891,
     "user": {
      "displayName": "Yusuf Danisman",
      "photoUrl": "",
      "userId": "08610553246652363181"
     },
     "user_tz": 240
    },
    "id": "t3z9Sb601KLD",
    "outputId": "4131d53d-1de3-4f20-e176-605dc8428aa8"
   },
   "outputs": [
    {
     "data": {
      "text/html": [
       "<div>\n",
       "<style scoped>\n",
       "    .dataframe tbody tr th:only-of-type {\n",
       "        vertical-align: middle;\n",
       "    }\n",
       "\n",
       "    .dataframe tbody tr th {\n",
       "        vertical-align: top;\n",
       "    }\n",
       "\n",
       "    .dataframe thead th {\n",
       "        text-align: right;\n",
       "    }\n",
       "</style>\n",
       "<table border=\"1\" class=\"dataframe\">\n",
       "  <thead>\n",
       "    <tr style=\"text-align: right;\">\n",
       "      <th></th>\n",
       "      <th>Name</th>\n",
       "      <th>ID</th>\n",
       "      <th>Grade</th>\n",
       "      <th>HW</th>\n",
       "      <th>Test-1</th>\n",
       "      <th>Test-2</th>\n",
       "      <th>Test-3</th>\n",
       "      <th>Test-4</th>\n",
       "      <th>Final</th>\n",
       "      <th>Weighted Average</th>\n",
       "    </tr>\n",
       "  </thead>\n",
       "  <tbody>\n",
       "    <tr>\n",
       "      <th>49</th>\n",
       "      <td>amadn</td>\n",
       "      <td>91219544</td>\n",
       "      <td>10</td>\n",
       "      <td>86</td>\n",
       "      <td>97</td>\n",
       "      <td>39</td>\n",
       "      <td>55</td>\n",
       "      <td>94</td>\n",
       "      <td>91</td>\n",
       "      <td>78.65</td>\n",
       "    </tr>\n",
       "    <tr>\n",
       "      <th>16</th>\n",
       "      <td>abqln</td>\n",
       "      <td>59927557</td>\n",
       "      <td>11</td>\n",
       "      <td>26</td>\n",
       "      <td>97</td>\n",
       "      <td>100</td>\n",
       "      <td>46</td>\n",
       "      <td>94</td>\n",
       "      <td>78</td>\n",
       "      <td>76.55</td>\n",
       "    </tr>\n",
       "    <tr>\n",
       "      <th>82</th>\n",
       "      <td>nwfrg</td>\n",
       "      <td>56248049</td>\n",
       "      <td>9</td>\n",
       "      <td>58</td>\n",
       "      <td>64</td>\n",
       "      <td>71</td>\n",
       "      <td>86</td>\n",
       "      <td>65</td>\n",
       "      <td>84</td>\n",
       "      <td>73.90</td>\n",
       "    </tr>\n",
       "    <tr>\n",
       "      <th>81</th>\n",
       "      <td>mndro</td>\n",
       "      <td>52386329</td>\n",
       "      <td>11</td>\n",
       "      <td>76</td>\n",
       "      <td>88</td>\n",
       "      <td>85</td>\n",
       "      <td>91</td>\n",
       "      <td>80</td>\n",
       "      <td>44</td>\n",
       "      <td>72.40</td>\n",
       "    </tr>\n",
       "    <tr>\n",
       "      <th>6</th>\n",
       "      <td>ylskw</td>\n",
       "      <td>37901138</td>\n",
       "      <td>9</td>\n",
       "      <td>53</td>\n",
       "      <td>85</td>\n",
       "      <td>61</td>\n",
       "      <td>87</td>\n",
       "      <td>9</td>\n",
       "      <td>94</td>\n",
       "      <td>69.80</td>\n",
       "    </tr>\n",
       "    <tr>\n",
       "      <th>...</th>\n",
       "      <td>...</td>\n",
       "      <td>...</td>\n",
       "      <td>...</td>\n",
       "      <td>...</td>\n",
       "      <td>...</td>\n",
       "      <td>...</td>\n",
       "      <td>...</td>\n",
       "      <td>...</td>\n",
       "      <td>...</td>\n",
       "      <td>...</td>\n",
       "    </tr>\n",
       "    <tr>\n",
       "      <th>12</th>\n",
       "      <td>jjgag</td>\n",
       "      <td>46794501</td>\n",
       "      <td>11</td>\n",
       "      <td>8</td>\n",
       "      <td>43</td>\n",
       "      <td>1</td>\n",
       "      <td>7</td>\n",
       "      <td>82</td>\n",
       "      <td>36</td>\n",
       "      <td>31.55</td>\n",
       "    </tr>\n",
       "    <tr>\n",
       "      <th>88</th>\n",
       "      <td>fxvdn</td>\n",
       "      <td>87133022</td>\n",
       "      <td>12</td>\n",
       "      <td>54</td>\n",
       "      <td>38</td>\n",
       "      <td>22</td>\n",
       "      <td>43</td>\n",
       "      <td>2</td>\n",
       "      <td>31</td>\n",
       "      <td>30.45</td>\n",
       "    </tr>\n",
       "    <tr>\n",
       "      <th>37</th>\n",
       "      <td>nraon</td>\n",
       "      <td>52950898</td>\n",
       "      <td>12</td>\n",
       "      <td>17</td>\n",
       "      <td>14</td>\n",
       "      <td>45</td>\n",
       "      <td>29</td>\n",
       "      <td>46</td>\n",
       "      <td>24</td>\n",
       "      <td>29.00</td>\n",
       "    </tr>\n",
       "    <tr>\n",
       "      <th>60</th>\n",
       "      <td>eunkr</td>\n",
       "      <td>51870627</td>\n",
       "      <td>11</td>\n",
       "      <td>35</td>\n",
       "      <td>35</td>\n",
       "      <td>10</td>\n",
       "      <td>49</td>\n",
       "      <td>18</td>\n",
       "      <td>27</td>\n",
       "      <td>28.40</td>\n",
       "    </tr>\n",
       "    <tr>\n",
       "      <th>43</th>\n",
       "      <td>etdql</td>\n",
       "      <td>46194596</td>\n",
       "      <td>12</td>\n",
       "      <td>56</td>\n",
       "      <td>20</td>\n",
       "      <td>32</td>\n",
       "      <td>16</td>\n",
       "      <td>10</td>\n",
       "      <td>2</td>\n",
       "      <td>17.90</td>\n",
       "    </tr>\n",
       "  </tbody>\n",
       "</table>\n",
       "<p>100 rows × 10 columns</p>\n",
       "</div>"
      ],
      "text/plain": [
       "     Name        ID  Grade  HW  Test-1  Test-2  Test-3  Test-4  Final  \\\n",
       "49  amadn  91219544     10  86      97      39      55      94     91   \n",
       "16  abqln  59927557     11  26      97     100      46      94     78   \n",
       "82  nwfrg  56248049      9  58      64      71      86      65     84   \n",
       "81  mndro  52386329     11  76      88      85      91      80     44   \n",
       "6   ylskw  37901138      9  53      85      61      87       9     94   \n",
       "..    ...       ...    ...  ..     ...     ...     ...     ...    ...   \n",
       "12  jjgag  46794501     11   8      43       1       7      82     36   \n",
       "88  fxvdn  87133022     12  54      38      22      43       2     31   \n",
       "37  nraon  52950898     12  17      14      45      29      46     24   \n",
       "60  eunkr  51870627     11  35      35      10      49      18     27   \n",
       "43  etdql  46194596     12  56      20      32      16      10      2   \n",
       "\n",
       "    Weighted Average  \n",
       "49             78.65  \n",
       "16             76.55  \n",
       "82             73.90  \n",
       "81             72.40  \n",
       "6              69.80  \n",
       "..               ...  \n",
       "12             31.55  \n",
       "88             30.45  \n",
       "37             29.00  \n",
       "60             28.40  \n",
       "43             17.90  \n",
       "\n",
       "[100 rows x 10 columns]"
      ]
     },
     "execution_count": 11,
     "metadata": {},
     "output_type": "execute_result"
    }
   ],
   "source": [
    "df_grades.sort_values('Weighted Average', ascending=False)"
   ]
  },
  {
   "cell_type": "code",
   "execution_count": 12,
   "metadata": {
    "colab": {
     "base_uri": "https://localhost:8080/",
     "height": 35
    },
    "executionInfo": {
     "elapsed": 496,
     "status": "ok",
     "timestamp": 1617119620586,
     "user": {
      "displayName": "Yusuf Danisman",
      "photoUrl": "",
      "userId": "08610553246652363181"
     },
     "user_tz": 240
    },
    "id": "ipswN5YV1hDl",
    "outputId": "cda680c7-7404-4ee4-ca38-b785c120fd8d"
   },
   "outputs": [
    {
     "data": {
      "text/plain": [
       "'amadn'"
      ]
     },
     "execution_count": 12,
     "metadata": {},
     "output_type": "execute_result"
    }
   ],
   "source": [
    "df_grades.sort_values('Weighted Average', ascending=False).iloc[0,0]"
   ]
  },
  {
   "cell_type": "markdown",
   "metadata": {
    "id": "TtvLG4wH17ay"
   },
   "source": [
    "## Question-7\n",
    "Find the number of students in the 11th grade."
   ]
  },
  {
   "cell_type": "markdown",
   "metadata": {
    "id": "JJzoqy7g17QS"
   },
   "source": [
    "## Solution-7"
   ]
  },
  {
   "cell_type": "code",
   "execution_count": 13,
   "metadata": {
    "colab": {
     "base_uri": "https://localhost:8080/"
    },
    "executionInfo": {
     "elapsed": 217,
     "status": "ok",
     "timestamp": 1617119732928,
     "user": {
      "displayName": "Yusuf Danisman",
      "photoUrl": "",
      "userId": "08610553246652363181"
     },
     "user_tz": 240
    },
    "id": "eCthiZAF1yvA",
    "outputId": "81f6c4a9-439c-4f7e-f3a8-332151824026"
   },
   "outputs": [
    {
     "data": {
      "text/plain": [
       "Grade\n",
       "9     27\n",
       "11    26\n",
       "12    24\n",
       "10    23\n",
       "Name: count, dtype: int64"
      ]
     },
     "execution_count": 13,
     "metadata": {},
     "output_type": "execute_result"
    }
   ],
   "source": [
    "df_grades.value_counts('Grade')"
   ]
  },
  {
   "cell_type": "code",
   "execution_count": 14,
   "metadata": {
    "colab": {
     "base_uri": "https://localhost:8080/"
    },
    "executionInfo": {
     "elapsed": 448,
     "status": "ok",
     "timestamp": 1617119744452,
     "user": {
      "displayName": "Yusuf Danisman",
      "photoUrl": "",
      "userId": "08610553246652363181"
     },
     "user_tz": 240
    },
    "id": "Y_Uca70t2Gf1",
    "outputId": "dd752660-7d5e-4df2-ffee-98a494dfa9e6"
   },
   "outputs": [
    {
     "data": {
      "text/plain": [
       "26"
      ]
     },
     "execution_count": 14,
     "metadata": {},
     "output_type": "execute_result"
    }
   ],
   "source": [
    "df_grades.value_counts('Grade')[11]"
   ]
  },
  {
   "cell_type": "code",
   "execution_count": null,
   "metadata": {
    "id": "PaUVAQBK2UR_"
   },
   "outputs": [],
   "source": []
  }
 ],
 "metadata": {
  "colab": {
   "authorship_tag": "ABX9TyNfXU/c9Jw36En9H0YydNqq",
   "name": "Week_6_LAB_Solutions_DataFrame.ipynb",
   "provenance": []
  },
  "kernelspec": {
   "display_name": "Python 3 (ipykernel)",
   "language": "python",
   "name": "python3"
  },
  "language_info": {
   "codemirror_mode": {
    "name": "ipython",
    "version": 3
   },
   "file_extension": ".py",
   "mimetype": "text/x-python",
   "name": "python",
   "nbconvert_exporter": "python",
   "pygments_lexer": "ipython3",
   "version": "3.11.7"
  }
 },
 "nbformat": 4,
 "nbformat_minor": 4
}
