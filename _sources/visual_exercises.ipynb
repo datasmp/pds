{
 "cells": [
  {
   "cell_type": "markdown",
   "id": "58187e9c-5d7e-4f9f-b2c2-2a3319dfd06a",
   "metadata": {},
   "source": [
    "# Visualization Exercises\n",
    "\n",
    "![Warning Message: Under Construction](pict/under_construction.png)"
   ]
  },
  {
   "cell_type": "code",
   "execution_count": null,
   "id": "10a45e65-03e5-4575-9cf0-694157f7f438",
   "metadata": {},
   "outputs": [],
   "source": []
  }
 ],
 "metadata": {
  "kernelspec": {
   "display_name": "Python 3 (ipykernel)",
   "language": "python",
   "name": "python3"
  },
  "language_info": {
   "codemirror_mode": {
    "name": "ipython",
    "version": 3
   },
   "file_extension": ".py",
   "mimetype": "text/x-python",
   "name": "python",
   "nbconvert_exporter": "python",
   "pygments_lexer": "ipython3",
   "version": "3.11.8"
  }
 },
 "nbformat": 4,
 "nbformat_minor": 5
}
