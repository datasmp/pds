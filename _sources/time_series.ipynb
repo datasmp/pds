{
 "cells": [
  {
   "cell_type": "markdown",
   "id": "0fe229e4-a715-492c-81c3-b0e7bd5dd297",
   "metadata": {},
   "source": [
    "# Time Series\n",
    "![Warning Message: Under Construction](pict/under_construction.png)"
   ]
  },
  {
   "cell_type": "markdown",
   "id": "89033330-c1d0-40f7-bd44-7d0bdf345429",
   "metadata": {},
   "source": [
    "## Timestamp"
   ]
  },
  {
   "cell_type": "markdown",
   "id": "9e77c8e6-d6da-4832-bc92-2b120026d4ea",
   "metadata": {},
   "source": [
    "## Datetime"
   ]
  },
  {
   "cell_type": "markdown",
   "id": "999ffa63-5b36-41d5-a6e5-f390106a0299",
   "metadata": {},
   "source": [
    "## Moving Window "
   ]
  },
  {
   "cell_type": "code",
   "execution_count": null,
   "id": "1dcecfde-0816-48b7-821d-aad4b8dd4518",
   "metadata": {},
   "outputs": [],
   "source": []
  }
 ],
 "metadata": {
  "kernelspec": {
   "display_name": "Python 3 (ipykernel)",
   "language": "python",
   "name": "python3"
  },
  "language_info": {
   "codemirror_mode": {
    "name": "ipython",
    "version": 3
   },
   "file_extension": ".py",
   "mimetype": "text/x-python",
   "name": "python",
   "nbconvert_exporter": "python",
   "pygments_lexer": "ipython3",
   "version": "3.11.8"
  }
 },
 "nbformat": 4,
 "nbformat_minor": 5
}
