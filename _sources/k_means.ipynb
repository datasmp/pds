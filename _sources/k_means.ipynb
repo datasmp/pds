{
 "cells": [
  {
   "cell_type": "markdown",
   "id": "a477916c-2593-49ee-b64a-d0e5abba65c2",
   "metadata": {},
   "source": [
    "# k-Means Clustering\n",
    "![Warning Message: Under Construction](pict/under_construction.png)"
   ]
  },
  {
   "cell_type": "code",
   "execution_count": null,
   "id": "334a233d-f8a8-4fe1-8a7a-659c759bf3d1",
   "metadata": {},
   "outputs": [],
   "source": []
  }
 ],
 "metadata": {
  "kernelspec": {
   "display_name": "Python 3 (ipykernel)",
   "language": "python",
   "name": "python3"
  },
  "language_info": {
   "codemirror_mode": {
    "name": "ipython",
    "version": 3
   },
   "file_extension": ".py",
   "mimetype": "text/x-python",
   "name": "python",
   "nbconvert_exporter": "python",
   "pygments_lexer": "ipython3",
   "version": "3.11.8"
  }
 },
 "nbformat": 4,
 "nbformat_minor": 5
}
