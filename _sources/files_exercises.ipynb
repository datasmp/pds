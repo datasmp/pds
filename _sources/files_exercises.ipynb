{
 "cells": [
  {
   "cell_type": "markdown",
   "id": "58187e9c-5d7e-4f9f-b2c2-2a3319dfd06a",
   "metadata": {},
   "source": [
    "# Files Exercises\n",
    "\n",
    "![Section Title: Files Exercises](title_pict/files_exer.png)\n"
   ]
  },
  {
   "cell_type": "markdown",
   "id": "7bc1b809-c4c0-4d64-9a77-2731ab466b1b",
   "metadata": {},
   "source": [
    "Use the [email_message.txt](https://github.com/datasmp/datasets/blob/main/email_message.txt) file for the questions in this section."
   ]
  },
  {
   "cell_type": "markdown",
   "id": "ea21668e-0fee-4ccd-8312-b0f20a541fc5",
   "metadata": {},
   "source": [
    "## Question-1\n",
    "Store the names of the email senders in a list."
   ]
  },
  {
   "cell_type": "markdown",
   "id": "82142386-600f-48ee-98cc-a8f8d0f86e01",
   "metadata": {},
   "source": [
    "## Question-2\n",
    "Store the email numbers in a list as integers using regular expressions."
   ]
  },
  {
   "cell_type": "markdown",
   "id": "8c1a916d-0c14-4c2c-83da-20e1a0ffdea5",
   "metadata": {},
   "source": [
    "## Question-3\n",
    "Find the missing email number."
   ]
  },
  {
   "cell_type": "markdown",
   "id": "313a6898-5798-4f97-8e0d-7f7a328f5add",
   "metadata": {},
   "source": [
    "## Question-4\n",
    "Find the longest message."
   ]
  },
  {
   "cell_type": "markdown",
   "id": "6347a772-931a-4f7a-a9d3-abeed0a15b1a",
   "metadata": {},
   "source": [
    "## Question-5\n",
    "Find the number of the email with the longest message."
   ]
  }
 ],
 "metadata": {
  "kernelspec": {
   "display_name": "Python 3 (ipykernel)",
   "language": "python",
   "name": "python3"
  },
  "language_info": {
   "codemirror_mode": {
    "name": "ipython",
    "version": 3
   },
   "file_extension": ".py",
   "mimetype": "text/x-python",
   "name": "python",
   "nbconvert_exporter": "python",
   "pygments_lexer": "ipython3",
   "version": "3.11.8"
  }
 },
 "nbformat": 4,
 "nbformat_minor": 5
}
