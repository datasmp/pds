{
 "cells": [
  {
   "cell_type": "markdown",
   "id": "64fa14dc-aff2-4694-808a-fcb1ca5d5580",
   "metadata": {},
   "source": [
    "# Machine Learning Algorithms\n",
    "![Warning Message: Under Construction](pict/under_construction.png)"
   ]
  },
  {
   "cell_type": "code",
   "execution_count": null,
   "id": "6b6bcae0-2dcf-473a-ab4b-417fcb8493ca",
   "metadata": {},
   "outputs": [],
   "source": []
  }
 ],
 "metadata": {
  "kernelspec": {
   "display_name": "Python 3 (ipykernel)",
   "language": "python",
   "name": "python3"
  },
  "language_info": {
   "codemirror_mode": {
    "name": "ipython",
    "version": 3
   },
   "file_extension": ".py",
   "mimetype": "text/x-python",
   "name": "python",
   "nbconvert_exporter": "python",
   "pygments_lexer": "ipython3",
   "version": "3.11.8"
  }
 },
 "nbformat": 4,
 "nbformat_minor": 5
}
