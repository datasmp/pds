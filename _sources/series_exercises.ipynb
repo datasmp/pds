{
 "cells": [
  {
   "cell_type": "markdown",
   "id": "58187e9c-5d7e-4f9f-b2c2-2a3319dfd06a",
   "metadata": {},
   "source": [
    "# Series Exercises\n",
    "\n",
    "![Section Title: Series Exercises](title_pict/series_exer2.png)"
   ]
  },
  {
   "cell_type": "markdown",
   "id": "27d7a3e0-7a70-4405-819e-012c4e37c9c5",
   "metadata": {},
   "source": [
    "## Question-1\n",
    "Create a Series named fruit_name with the index ['Banana', 'Melon', 'Apple', 'Orange', 'Cherry'] and values [200, 450, 275, 190, 230]. - --- Give the name 'Fruit Cost' to the Series.\n",
    "- Add a new row with the index Pear and value 500.\n",
    "- Change the value of Melon to 950.\n",
    "- Remove the row with the index Orange from the Series.\n",
    "- Update the indices to ['Blackberry', 'Apricot', 'Grapefruit', 'Kiwi', 'Nectarine'].\n",
    "- Sort the Series in ascending order.\n",
    "- Display the largest value along with its corresponding index."
   ]
  },
  {
   "cell_type": "markdown",
   "id": "756e287d-74a5-4126-a230-1b3b971182ec",
   "metadata": {},
   "source": [
    "## Question-2\n",
    "Run the following code to import Apple stock values and their corresponding dates as Series.\n",
    "```python\n",
    "apple = pd.read_csv('https://raw.githubusercontent.com/datasmp/datasets/main/stock.csv')['APPLE']\n",
    "dates = pd.read_csv('https://raw.githubusercontent.com/datasmp/datasets/main/stock.csv')['Date']\n",
    "```\n",
    "- Set the dates as the index of the Apple Series.\n",
    "- Display the following details about the updated Apple Series:\n",
    "    - Total number of rows\n",
    "    - The last 5 indices\n",
    "    - The last 5 values\n",
    "    - The median of the values\n",
    "    - The highest two values."
   ]
  },
  {
   "cell_type": "markdown",
   "id": "958e4e77-1389-4c05-89db-e2bbab284005",
   "metadata": {},
   "source": [
    "## Question-3\n",
    "Create an array of 100 random integers between 2 and 4 (excluding 1 and 5).\n",
    "- Store the integers in a Series and set the index as S-1, S-2, ..., S-100.\n",
    "- Display the following details about the Series:\n",
    "    - The number of times the value 3 appears.\n",
    "    - The most common element in the Series.\n",
    "    - The least common element in the Series.\n",
    "    - The number of even values in the Series.\n",
    "    - The sum of all even values in the Series."
   ]
  },
  {
   "cell_type": "markdown",
   "id": "1a845f3d-7ac3-4b6f-b540-83c55bf35a51",
   "metadata": {},
   "source": [
    "## Question-4\n",
    "Generate 1,000 randomly chosen passwords, each consisting of two lowercase letters and two numbers in any order.\n",
    "- Store these passwords in a Series with the index labeled as Person-1, Person-2, ..., Person-1000.\n",
    "- Check for duplicate passwords.\n",
    "- Display the duplicate passwords.\n",
    "- Remove duplicates, keeping only one instance of each password.\n",
    "- Check for duplicates again.\n"
   ]
  },
  {
   "cell_type": "markdown",
   "id": "11f45298-715d-4e43-a3a8-a14a8885da56",
   "metadata": {},
   "source": [
    "## Question-5\n",
    "Generate 1,000 random numbers using a Gaussian distribution and store them in a Series. Calculate the following:  \n",
    "- The count of grades less than 20.  \n",
    "- The count of grades greater than 80.  \n",
    "- The average of grades greater than 80, rounded to the nearest hundredth.  \n",
    "- The count of grades between 45 and 60.  "
   ]
  }
 ],
 "metadata": {
  "kernelspec": {
   "display_name": "Python 3 (ipykernel)",
   "language": "python",
   "name": "python3"
  },
  "language_info": {
   "codemirror_mode": {
    "name": "ipython",
    "version": 3
   },
   "file_extension": ".py",
   "mimetype": "text/x-python",
   "name": "python",
   "nbconvert_exporter": "python",
   "pygments_lexer": "ipython3",
   "version": "3.11.8"
  }
 },
 "nbformat": 4,
 "nbformat_minor": 5
}
