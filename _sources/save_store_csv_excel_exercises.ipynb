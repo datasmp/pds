{
 "cells": [
  {
   "cell_type": "markdown",
   "id": "24c57c28-e43b-4b06-a456-0ec070c6ed53",
   "metadata": {},
   "source": [
    "# Importing and Storing Data Exercises\n",
    "![Warning Message: Under Construction](pict/under_construction.png)"
   ]
  }
 ],
 "metadata": {
  "kernelspec": {
   "display_name": "Python 3 (ipykernel)",
   "language": "python",
   "name": "python3"
  },
  "language_info": {
   "codemirror_mode": {
    "name": "ipython",
    "version": 3
   },
   "file_extension": ".py",
   "mimetype": "text/x-python",
   "name": "python",
   "nbconvert_exporter": "python",
   "pygments_lexer": "ipython3",
   "version": "3.11.8"
  }
 },
 "nbformat": 4,
 "nbformat_minor": 5
}
