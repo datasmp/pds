{
 "cells": [
  {
   "cell_type": "markdown",
   "id": "a6ec46e0-d064-490e-8743-299233264dd0",
   "metadata": {},
   "source": [
    "# Attributes and Methods\n"
   ]
  },
  {
   "cell_type": "code",
   "execution_count": 1,
   "id": "e83079fb-5c7f-4edd-afb1-b56e50c60547",
   "metadata": {},
   "outputs": [],
   "source": [
    "import pandas as pd"
   ]
  },
  {
   "cell_type": "markdown",
   "id": "929b80d0-fca6-4faa-89e0-e71a0dccc12d",
   "metadata": {},
   "source": [
    "In this section, we will cover basic attributes and methods of dataframes. \n",
    "- Throughout this section, we'll be using the following three dataframes."
   ]
  },
  {
   "cell_type": "code",
   "execution_count": 2,
   "id": "4fb8f60c-c01e-4105-92ec-28f1643208e5",
   "metadata": {},
   "outputs": [
    {
     "data": {
      "text/html": [
       "<div>\n",
       "<style scoped>\n",
       "    .dataframe tbody tr th:only-of-type {\n",
       "        vertical-align: middle;\n",
       "    }\n",
       "\n",
       "    .dataframe tbody tr th {\n",
       "        vertical-align: top;\n",
       "    }\n",
       "\n",
       "    .dataframe thead th {\n",
       "        text-align: right;\n",
       "    }\n",
       "</style>\n",
       "<table border=\"1\" class=\"dataframe\">\n",
       "  <thead>\n",
       "    <tr style=\"text-align: right;\">\n",
       "      <th></th>\n",
       "      <th>State</th>\n",
       "      <th>Height</th>\n",
       "    </tr>\n",
       "  </thead>\n",
       "  <tbody>\n",
       "    <tr>\n",
       "      <th>John</th>\n",
       "      <td>NY</td>\n",
       "      <td>160</td>\n",
       "    </tr>\n",
       "    <tr>\n",
       "      <th>Liz</th>\n",
       "      <td>OK</td>\n",
       "      <td>180</td>\n",
       "    </tr>\n",
       "    <tr>\n",
       "      <th>Tim</th>\n",
       "      <td>TX</td>\n",
       "      <td>140</td>\n",
       "    </tr>\n",
       "  </tbody>\n",
       "</table>\n",
       "</div>"
      ],
      "text/plain": [
       "     State  Height\n",
       "John    NY     160\n",
       "Liz     OK     180\n",
       "Tim     TX     140"
      ]
     },
     "execution_count": 2,
     "metadata": {},
     "output_type": "execute_result"
    }
   ],
   "source": [
    "state_height_dic = {'State':['NY', 'OK', 'TX'], 'Height':[160, 180, 140]}\n",
    "df_sh = pd.DataFrame(state_height_dic, index=['John', 'Liz', 'Tim'])\n",
    "df_sh"
   ]
  },
  {
   "cell_type": "code",
   "execution_count": 3,
   "id": "c97d2831-ead5-4dfa-9b9c-abc4734e5da8",
   "metadata": {},
   "outputs": [
    {
     "data": {
      "text/html": [
       "<div>\n",
       "<style scoped>\n",
       "    .dataframe tbody tr th:only-of-type {\n",
       "        vertical-align: middle;\n",
       "    }\n",
       "\n",
       "    .dataframe tbody tr th {\n",
       "        vertical-align: top;\n",
       "    }\n",
       "\n",
       "    .dataframe thead th {\n",
       "        text-align: right;\n",
       "    }\n",
       "</style>\n",
       "<table border=\"1\" class=\"dataframe\">\n",
       "  <thead>\n",
       "    <tr style=\"text-align: right;\">\n",
       "      <th></th>\n",
       "      <th>Name</th>\n",
       "      <th>ID</th>\n",
       "      <th>Grade</th>\n",
       "      <th>Gender</th>\n",
       "      <th>HW</th>\n",
       "      <th>Test-1</th>\n",
       "      <th>Test-2</th>\n",
       "      <th>Test-3</th>\n",
       "      <th>Test-4</th>\n",
       "      <th>Final</th>\n",
       "    </tr>\n",
       "  </thead>\n",
       "  <tbody>\n",
       "    <tr>\n",
       "      <th>0</th>\n",
       "      <td>mqtvy</td>\n",
       "      <td>37047871</td>\n",
       "      <td>10</td>\n",
       "      <td>M</td>\n",
       "      <td>30</td>\n",
       "      <td>91</td>\n",
       "      <td>69</td>\n",
       "      <td>93</td>\n",
       "      <td>17</td>\n",
       "      <td>50</td>\n",
       "    </tr>\n",
       "    <tr>\n",
       "      <th>1</th>\n",
       "      <td>jbbsx</td>\n",
       "      <td>35439616</td>\n",
       "      <td>11</td>\n",
       "      <td>F</td>\n",
       "      <td>6</td>\n",
       "      <td>18</td>\n",
       "      <td>93</td>\n",
       "      <td>9</td>\n",
       "      <td>98</td>\n",
       "      <td>91</td>\n",
       "    </tr>\n",
       "    <tr>\n",
       "      <th>2</th>\n",
       "      <td>mrvab</td>\n",
       "      <td>35543247</td>\n",
       "      <td>11</td>\n",
       "      <td>M</td>\n",
       "      <td>78</td>\n",
       "      <td>92</td>\n",
       "      <td>60</td>\n",
       "      <td>43</td>\n",
       "      <td>34</td>\n",
       "      <td>26</td>\n",
       "    </tr>\n",
       "    <tr>\n",
       "      <th>3</th>\n",
       "      <td>bjyve</td>\n",
       "      <td>61282135</td>\n",
       "      <td>9</td>\n",
       "      <td>M</td>\n",
       "      <td>60</td>\n",
       "      <td>8</td>\n",
       "      <td>10</td>\n",
       "      <td>99</td>\n",
       "      <td>80</td>\n",
       "      <td>87</td>\n",
       "    </tr>\n",
       "    <tr>\n",
       "      <th>4</th>\n",
       "      <td>rlpsr</td>\n",
       "      <td>53448034</td>\n",
       "      <td>10</td>\n",
       "      <td>M</td>\n",
       "      <td>3</td>\n",
       "      <td>38</td>\n",
       "      <td>45</td>\n",
       "      <td>43</td>\n",
       "      <td>79</td>\n",
       "      <td>69</td>\n",
       "    </tr>\n",
       "  </tbody>\n",
       "</table>\n",
       "</div>"
      ],
      "text/plain": [
       "    Name        ID  Grade Gender  HW  Test-1  Test-2  Test-3  Test-4  Final\n",
       "0  mqtvy  37047871     10      M  30      91      69      93      17     50\n",
       "1  jbbsx  35439616     11      F   6      18      93       9      98     91\n",
       "2  mrvab  35543247     11      M  78      92      60      43      34     26\n",
       "3  bjyve  61282135      9      M  60       8      10      99      80     87\n",
       "4  rlpsr  53448034     10      M   3      38      45      43      79     69"
      ]
     },
     "execution_count": 3,
     "metadata": {},
     "output_type": "execute_result"
    }
   ],
   "source": [
    "df_grades = pd.read_csv('https://raw.githubusercontent.com/datasmp/datasets/main/grades.csv')\n",
    "df_grades.head()"
   ]
  },
  {
   "cell_type": "code",
   "execution_count": 4,
   "id": "1d57202c-3a0a-48d4-bc9c-0f4ac0d10304",
   "metadata": {},
   "outputs": [
    {
     "data": {
      "text/html": [
       "<div>\n",
       "<style scoped>\n",
       "    .dataframe tbody tr th:only-of-type {\n",
       "        vertical-align: middle;\n",
       "    }\n",
       "\n",
       "    .dataframe tbody tr th {\n",
       "        vertical-align: top;\n",
       "    }\n",
       "\n",
       "    .dataframe thead th {\n",
       "        text-align: right;\n",
       "    }\n",
       "</style>\n",
       "<table border=\"1\" class=\"dataframe\">\n",
       "  <thead>\n",
       "    <tr style=\"text-align: right;\">\n",
       "      <th></th>\n",
       "      <th>Date</th>\n",
       "      <th>APPLE</th>\n",
       "      <th>TESLA</th>\n",
       "      <th>AMAZON</th>\n",
       "      <th>VISA</th>\n",
       "      <th>SP500</th>\n",
       "    </tr>\n",
       "  </thead>\n",
       "  <tbody>\n",
       "    <tr>\n",
       "      <th>0</th>\n",
       "      <td>2020-01-02</td>\n",
       "      <td>74.33</td>\n",
       "      <td>86.05</td>\n",
       "      <td>1898.01</td>\n",
       "      <td>189.66</td>\n",
       "      <td>3257.85</td>\n",
       "    </tr>\n",
       "    <tr>\n",
       "      <th>1</th>\n",
       "      <td>2020-01-03</td>\n",
       "      <td>73.61</td>\n",
       "      <td>88.60</td>\n",
       "      <td>1874.97</td>\n",
       "      <td>188.15</td>\n",
       "      <td>3234.85</td>\n",
       "    </tr>\n",
       "    <tr>\n",
       "      <th>2</th>\n",
       "      <td>2020-01-06</td>\n",
       "      <td>74.20</td>\n",
       "      <td>90.31</td>\n",
       "      <td>1902.88</td>\n",
       "      <td>187.74</td>\n",
       "      <td>3246.28</td>\n",
       "    </tr>\n",
       "    <tr>\n",
       "      <th>3</th>\n",
       "      <td>2020-01-07</td>\n",
       "      <td>73.85</td>\n",
       "      <td>93.81</td>\n",
       "      <td>1906.86</td>\n",
       "      <td>187.24</td>\n",
       "      <td>3237.18</td>\n",
       "    </tr>\n",
       "    <tr>\n",
       "      <th>4</th>\n",
       "      <td>2020-01-08</td>\n",
       "      <td>75.04</td>\n",
       "      <td>98.43</td>\n",
       "      <td>1891.97</td>\n",
       "      <td>190.45</td>\n",
       "      <td>3253.05</td>\n",
       "    </tr>\n",
       "  </tbody>\n",
       "</table>\n",
       "</div>"
      ],
      "text/plain": [
       "         Date  APPLE  TESLA   AMAZON    VISA    SP500\n",
       "0  2020-01-02  74.33  86.05  1898.01  189.66  3257.85\n",
       "1  2020-01-03  73.61  88.60  1874.97  188.15  3234.85\n",
       "2  2020-01-06  74.20  90.31  1902.88  187.74  3246.28\n",
       "3  2020-01-07  73.85  93.81  1906.86  187.24  3237.18\n",
       "4  2020-01-08  75.04  98.43  1891.97  190.45  3253.05"
      ]
     },
     "execution_count": 4,
     "metadata": {},
     "output_type": "execute_result"
    }
   ],
   "source": [
    "df_stock = pd.read_excel('https://raw.githubusercontent.com/datasmp/datasets/main/stock.xlsx')\n",
    "df_stock.head()"
   ]
  },
  {
   "cell_type": "markdown",
   "id": "edb7f153-f231-412d-82e6-69b2bc58074a",
   "metadata": {},
   "source": [
    "## Attributes\n",
    "- Attributes provide information about the dataframe."
   ]
  },
  {
   "cell_type": "markdown",
   "id": "64db423d-66b4-4958-83f4-68abbd9bc3b4",
   "metadata": {},
   "source": [
    "### shape and len()\n",
    "- `shape` returns the tuple (number of rows, number of columns).\n",
    "- `len()` returns the number of rows."
   ]
  },
  {
   "cell_type": "code",
   "execution_count": 5,
   "id": "2b3d4720-8797-406a-bae2-53e23fe5905a",
   "metadata": {},
   "outputs": [
    {
     "data": {
      "text/plain": [
       "(3, 2)"
      ]
     },
     "execution_count": 5,
     "metadata": {},
     "output_type": "execute_result"
    }
   ],
   "source": [
    "# 3 rows and 2 columns\n",
    "df_sh.shape"
   ]
  },
  {
   "cell_type": "code",
   "execution_count": 6,
   "id": "79c3c3d4-3926-4d93-927e-b82e85bf3733",
   "metadata": {},
   "outputs": [
    {
     "data": {
      "text/plain": [
       "3"
      ]
     },
     "execution_count": 6,
     "metadata": {},
     "output_type": "execute_result"
    }
   ],
   "source": [
    "# 3 rows\n",
    "len(df_sh)"
   ]
  },
  {
   "cell_type": "code",
   "execution_count": 7,
   "id": "2b056b17-efcb-4c82-83ab-1af53c81d08d",
   "metadata": {},
   "outputs": [
    {
     "data": {
      "text/plain": [
       "(100, 10)"
      ]
     },
     "execution_count": 7,
     "metadata": {},
     "output_type": "execute_result"
    }
   ],
   "source": [
    "# 100 rows and 10 columns\n",
    "df_grades.shape"
   ]
  },
  {
   "cell_type": "code",
   "execution_count": 8,
   "id": "7a955106-6a56-4456-9cfb-d5afca49480d",
   "metadata": {},
   "outputs": [
    {
     "data": {
      "text/plain": [
       "100"
      ]
     },
     "execution_count": 8,
     "metadata": {},
     "output_type": "execute_result"
    }
   ],
   "source": [
    "# 100 rows \n",
    "len(df_grades)"
   ]
  },
  {
   "cell_type": "markdown",
   "id": "74ba2110-a5c3-41a0-b757-2b95fe4d7065",
   "metadata": {},
   "source": [
    "### index and columns\n",
    "- *index* returns row labels.\n",
    "- *columns* returns column labels.\n"
   ]
  },
  {
   "cell_type": "code",
   "execution_count": 9,
   "id": "3b562beb-35eb-4bba-8744-1d1c122630a2",
   "metadata": {},
   "outputs": [
    {
     "data": {
      "text/plain": [
       "Index(['John', 'Liz', 'Tim'], dtype='object')"
      ]
     },
     "execution_count": 9,
     "metadata": {},
     "output_type": "execute_result"
    }
   ],
   "source": [
    "# row labels\n",
    "df_sh.index"
   ]
  },
  {
   "cell_type": "code",
   "execution_count": 10,
   "id": "91fa6e61-4737-44c0-97e5-c08018c28e3b",
   "metadata": {},
   "outputs": [
    {
     "data": {
      "text/plain": [
       "Index(['State', 'Height'], dtype='object')"
      ]
     },
     "execution_count": 10,
     "metadata": {},
     "output_type": "execute_result"
    }
   ],
   "source": [
    "# column labels\n",
    "df_sh.columns"
   ]
  },
  {
   "cell_type": "markdown",
   "id": "907ac987-8650-4d9d-87b4-2c1a7ec1d164",
   "metadata": {},
   "source": [
    "### values\n",
    "The values attribute removes labels and returns an array."
   ]
  },
  {
   "cell_type": "code",
   "execution_count": 11,
   "id": "56cd3173-5035-4957-b709-9c87ed179629",
   "metadata": {},
   "outputs": [
    {
     "data": {
      "text/plain": [
       "array([['NY', 160],\n",
       "       ['OK', 180],\n",
       "       ['TX', 140]], dtype=object)"
      ]
     },
     "execution_count": 11,
     "metadata": {},
     "output_type": "execute_result"
    }
   ],
   "source": [
    "df_sh.values"
   ]
  },
  {
   "cell_type": "markdown",
   "id": "2363a88c-4ae4-4c5f-9672-6fdc817ecca2",
   "metadata": {},
   "source": [
    "## Methods"
   ]
  },
  {
   "cell_type": "markdown",
   "id": "8a1d8066-9764-458c-b134-b902ba9307c9",
   "metadata": {},
   "source": [
    "### head() and tail()\n",
    "- head(n) displays the first n rows.\n",
    "- tail(n) displays the last n rows.\n",
    "- The default value of $n$ is 5.\n"
   ]
  },
  {
   "cell_type": "code",
   "execution_count": 12,
   "id": "bcc55b7d-afbf-4817-8508-66d510c16e22",
   "metadata": {},
   "outputs": [
    {
     "data": {
      "text/html": [
       "<div>\n",
       "<style scoped>\n",
       "    .dataframe tbody tr th:only-of-type {\n",
       "        vertical-align: middle;\n",
       "    }\n",
       "\n",
       "    .dataframe tbody tr th {\n",
       "        vertical-align: top;\n",
       "    }\n",
       "\n",
       "    .dataframe thead th {\n",
       "        text-align: right;\n",
       "    }\n",
       "</style>\n",
       "<table border=\"1\" class=\"dataframe\">\n",
       "  <thead>\n",
       "    <tr style=\"text-align: right;\">\n",
       "      <th></th>\n",
       "      <th>Name</th>\n",
       "      <th>ID</th>\n",
       "      <th>Grade</th>\n",
       "      <th>Gender</th>\n",
       "      <th>HW</th>\n",
       "      <th>Test-1</th>\n",
       "      <th>Test-2</th>\n",
       "      <th>Test-3</th>\n",
       "      <th>Test-4</th>\n",
       "      <th>Final</th>\n",
       "    </tr>\n",
       "  </thead>\n",
       "  <tbody>\n",
       "    <tr>\n",
       "      <th>0</th>\n",
       "      <td>mqtvy</td>\n",
       "      <td>37047871</td>\n",
       "      <td>10</td>\n",
       "      <td>M</td>\n",
       "      <td>30</td>\n",
       "      <td>91</td>\n",
       "      <td>69</td>\n",
       "      <td>93</td>\n",
       "      <td>17</td>\n",
       "      <td>50</td>\n",
       "    </tr>\n",
       "    <tr>\n",
       "      <th>1</th>\n",
       "      <td>jbbsx</td>\n",
       "      <td>35439616</td>\n",
       "      <td>11</td>\n",
       "      <td>F</td>\n",
       "      <td>6</td>\n",
       "      <td>18</td>\n",
       "      <td>93</td>\n",
       "      <td>9</td>\n",
       "      <td>98</td>\n",
       "      <td>91</td>\n",
       "    </tr>\n",
       "    <tr>\n",
       "      <th>2</th>\n",
       "      <td>mrvab</td>\n",
       "      <td>35543247</td>\n",
       "      <td>11</td>\n",
       "      <td>M</td>\n",
       "      <td>78</td>\n",
       "      <td>92</td>\n",
       "      <td>60</td>\n",
       "      <td>43</td>\n",
       "      <td>34</td>\n",
       "      <td>26</td>\n",
       "    </tr>\n",
       "    <tr>\n",
       "      <th>3</th>\n",
       "      <td>bjyve</td>\n",
       "      <td>61282135</td>\n",
       "      <td>9</td>\n",
       "      <td>M</td>\n",
       "      <td>60</td>\n",
       "      <td>8</td>\n",
       "      <td>10</td>\n",
       "      <td>99</td>\n",
       "      <td>80</td>\n",
       "      <td>87</td>\n",
       "    </tr>\n",
       "    <tr>\n",
       "      <th>4</th>\n",
       "      <td>rlpsr</td>\n",
       "      <td>53448034</td>\n",
       "      <td>10</td>\n",
       "      <td>M</td>\n",
       "      <td>3</td>\n",
       "      <td>38</td>\n",
       "      <td>45</td>\n",
       "      <td>43</td>\n",
       "      <td>79</td>\n",
       "      <td>69</td>\n",
       "    </tr>\n",
       "  </tbody>\n",
       "</table>\n",
       "</div>"
      ],
      "text/plain": [
       "    Name        ID  Grade Gender  HW  Test-1  Test-2  Test-3  Test-4  Final\n",
       "0  mqtvy  37047871     10      M  30      91      69      93      17     50\n",
       "1  jbbsx  35439616     11      F   6      18      93       9      98     91\n",
       "2  mrvab  35543247     11      M  78      92      60      43      34     26\n",
       "3  bjyve  61282135      9      M  60       8      10      99      80     87\n",
       "4  rlpsr  53448034     10      M   3      38      45      43      79     69"
      ]
     },
     "execution_count": 12,
     "metadata": {},
     "output_type": "execute_result"
    }
   ],
   "source": [
    "# first 5 rows\n",
    "df_grades.head()"
   ]
  },
  {
   "cell_type": "code",
   "execution_count": 13,
   "id": "69113e58-ea44-4173-b4ae-244ba35b9a01",
   "metadata": {},
   "outputs": [
    {
     "data": {
      "text/html": [
       "<div>\n",
       "<style scoped>\n",
       "    .dataframe tbody tr th:only-of-type {\n",
       "        vertical-align: middle;\n",
       "    }\n",
       "\n",
       "    .dataframe tbody tr th {\n",
       "        vertical-align: top;\n",
       "    }\n",
       "\n",
       "    .dataframe thead th {\n",
       "        text-align: right;\n",
       "    }\n",
       "</style>\n",
       "<table border=\"1\" class=\"dataframe\">\n",
       "  <thead>\n",
       "    <tr style=\"text-align: right;\">\n",
       "      <th></th>\n",
       "      <th>Name</th>\n",
       "      <th>ID</th>\n",
       "      <th>Grade</th>\n",
       "      <th>Gender</th>\n",
       "      <th>HW</th>\n",
       "      <th>Test-1</th>\n",
       "      <th>Test-2</th>\n",
       "      <th>Test-3</th>\n",
       "      <th>Test-4</th>\n",
       "      <th>Final</th>\n",
       "    </tr>\n",
       "  </thead>\n",
       "  <tbody>\n",
       "    <tr>\n",
       "      <th>0</th>\n",
       "      <td>mqtvy</td>\n",
       "      <td>37047871</td>\n",
       "      <td>10</td>\n",
       "      <td>M</td>\n",
       "      <td>30</td>\n",
       "      <td>91</td>\n",
       "      <td>69</td>\n",
       "      <td>93</td>\n",
       "      <td>17</td>\n",
       "      <td>50</td>\n",
       "    </tr>\n",
       "    <tr>\n",
       "      <th>1</th>\n",
       "      <td>jbbsx</td>\n",
       "      <td>35439616</td>\n",
       "      <td>11</td>\n",
       "      <td>F</td>\n",
       "      <td>6</td>\n",
       "      <td>18</td>\n",
       "      <td>93</td>\n",
       "      <td>9</td>\n",
       "      <td>98</td>\n",
       "      <td>91</td>\n",
       "    </tr>\n",
       "    <tr>\n",
       "      <th>2</th>\n",
       "      <td>mrvab</td>\n",
       "      <td>35543247</td>\n",
       "      <td>11</td>\n",
       "      <td>M</td>\n",
       "      <td>78</td>\n",
       "      <td>92</td>\n",
       "      <td>60</td>\n",
       "      <td>43</td>\n",
       "      <td>34</td>\n",
       "      <td>26</td>\n",
       "    </tr>\n",
       "    <tr>\n",
       "      <th>3</th>\n",
       "      <td>bjyve</td>\n",
       "      <td>61282135</td>\n",
       "      <td>9</td>\n",
       "      <td>M</td>\n",
       "      <td>60</td>\n",
       "      <td>8</td>\n",
       "      <td>10</td>\n",
       "      <td>99</td>\n",
       "      <td>80</td>\n",
       "      <td>87</td>\n",
       "    </tr>\n",
       "    <tr>\n",
       "      <th>4</th>\n",
       "      <td>rlpsr</td>\n",
       "      <td>53448034</td>\n",
       "      <td>10</td>\n",
       "      <td>M</td>\n",
       "      <td>3</td>\n",
       "      <td>38</td>\n",
       "      <td>45</td>\n",
       "      <td>43</td>\n",
       "      <td>79</td>\n",
       "      <td>69</td>\n",
       "    </tr>\n",
       "    <tr>\n",
       "      <th>5</th>\n",
       "      <td>hotxq</td>\n",
       "      <td>96808584</td>\n",
       "      <td>9</td>\n",
       "      <td>F</td>\n",
       "      <td>29</td>\n",
       "      <td>18</td>\n",
       "      <td>61</td>\n",
       "      <td>17</td>\n",
       "      <td>72</td>\n",
       "      <td>39</td>\n",
       "    </tr>\n",
       "    <tr>\n",
       "      <th>6</th>\n",
       "      <td>ylskw</td>\n",
       "      <td>37901138</td>\n",
       "      <td>9</td>\n",
       "      <td>M</td>\n",
       "      <td>53</td>\n",
       "      <td>85</td>\n",
       "      <td>61</td>\n",
       "      <td>87</td>\n",
       "      <td>9</td>\n",
       "      <td>94</td>\n",
       "    </tr>\n",
       "  </tbody>\n",
       "</table>\n",
       "</div>"
      ],
      "text/plain": [
       "    Name        ID  Grade Gender  HW  Test-1  Test-2  Test-3  Test-4  Final\n",
       "0  mqtvy  37047871     10      M  30      91      69      93      17     50\n",
       "1  jbbsx  35439616     11      F   6      18      93       9      98     91\n",
       "2  mrvab  35543247     11      M  78      92      60      43      34     26\n",
       "3  bjyve  61282135      9      M  60       8      10      99      80     87\n",
       "4  rlpsr  53448034     10      M   3      38      45      43      79     69\n",
       "5  hotxq  96808584      9      F  29      18      61      17      72     39\n",
       "6  ylskw  37901138      9      M  53      85      61      87       9     94"
      ]
     },
     "execution_count": 13,
     "metadata": {},
     "output_type": "execute_result"
    }
   ],
   "source": [
    "# first 7 rows\n",
    "df_grades.head(7)"
   ]
  },
  {
   "cell_type": "code",
   "execution_count": 14,
   "id": "1ac0f110-db72-413a-90eb-70e431c19f60",
   "metadata": {},
   "outputs": [
    {
     "data": {
      "text/html": [
       "<div>\n",
       "<style scoped>\n",
       "    .dataframe tbody tr th:only-of-type {\n",
       "        vertical-align: middle;\n",
       "    }\n",
       "\n",
       "    .dataframe tbody tr th {\n",
       "        vertical-align: top;\n",
       "    }\n",
       "\n",
       "    .dataframe thead th {\n",
       "        text-align: right;\n",
       "    }\n",
       "</style>\n",
       "<table border=\"1\" class=\"dataframe\">\n",
       "  <thead>\n",
       "    <tr style=\"text-align: right;\">\n",
       "      <th></th>\n",
       "      <th>Name</th>\n",
       "      <th>ID</th>\n",
       "      <th>Grade</th>\n",
       "      <th>Gender</th>\n",
       "      <th>HW</th>\n",
       "      <th>Test-1</th>\n",
       "      <th>Test-2</th>\n",
       "      <th>Test-3</th>\n",
       "      <th>Test-4</th>\n",
       "      <th>Final</th>\n",
       "    </tr>\n",
       "  </thead>\n",
       "  <tbody>\n",
       "    <tr>\n",
       "      <th>95</th>\n",
       "      <td>zxuaq</td>\n",
       "      <td>58332078</td>\n",
       "      <td>12</td>\n",
       "      <td>M</td>\n",
       "      <td>57</td>\n",
       "      <td>1</td>\n",
       "      <td>48</td>\n",
       "      <td>61</td>\n",
       "      <td>58</td>\n",
       "      <td>99</td>\n",
       "    </tr>\n",
       "    <tr>\n",
       "      <th>96</th>\n",
       "      <td>vegye</td>\n",
       "      <td>10019910</td>\n",
       "      <td>11</td>\n",
       "      <td>F</td>\n",
       "      <td>88</td>\n",
       "      <td>30</td>\n",
       "      <td>48</td>\n",
       "      <td>85</td>\n",
       "      <td>48</td>\n",
       "      <td>17</td>\n",
       "    </tr>\n",
       "    <tr>\n",
       "      <th>97</th>\n",
       "      <td>euwlj</td>\n",
       "      <td>27967150</td>\n",
       "      <td>12</td>\n",
       "      <td>F</td>\n",
       "      <td>70</td>\n",
       "      <td>15</td>\n",
       "      <td>72</td>\n",
       "      <td>77</td>\n",
       "      <td>20</td>\n",
       "      <td>65</td>\n",
       "    </tr>\n",
       "    <tr>\n",
       "      <th>98</th>\n",
       "      <td>oesms</td>\n",
       "      <td>36171468</td>\n",
       "      <td>10</td>\n",
       "      <td>M</td>\n",
       "      <td>88</td>\n",
       "      <td>16</td>\n",
       "      <td>100</td>\n",
       "      <td>62</td>\n",
       "      <td>76</td>\n",
       "      <td>19</td>\n",
       "    </tr>\n",
       "    <tr>\n",
       "      <th>99</th>\n",
       "      <td>buugr</td>\n",
       "      <td>88783139</td>\n",
       "      <td>10</td>\n",
       "      <td>M</td>\n",
       "      <td>23</td>\n",
       "      <td>74</td>\n",
       "      <td>14</td>\n",
       "      <td>17</td>\n",
       "      <td>40</td>\n",
       "      <td>59</td>\n",
       "    </tr>\n",
       "  </tbody>\n",
       "</table>\n",
       "</div>"
      ],
      "text/plain": [
       "     Name        ID  Grade Gender  HW  Test-1  Test-2  Test-3  Test-4  Final\n",
       "95  zxuaq  58332078     12      M  57       1      48      61      58     99\n",
       "96  vegye  10019910     11      F  88      30      48      85      48     17\n",
       "97  euwlj  27967150     12      F  70      15      72      77      20     65\n",
       "98  oesms  36171468     10      M  88      16     100      62      76     19\n",
       "99  buugr  88783139     10      M  23      74      14      17      40     59"
      ]
     },
     "execution_count": 14,
     "metadata": {},
     "output_type": "execute_result"
    }
   ],
   "source": [
    "# last 5 rows\n",
    "df_grades.tail()"
   ]
  },
  {
   "cell_type": "code",
   "execution_count": 15,
   "id": "edd0e19c-1d55-47f4-b329-f9ff800cf552",
   "metadata": {},
   "outputs": [
    {
     "data": {
      "text/html": [
       "<div>\n",
       "<style scoped>\n",
       "    .dataframe tbody tr th:only-of-type {\n",
       "        vertical-align: middle;\n",
       "    }\n",
       "\n",
       "    .dataframe tbody tr th {\n",
       "        vertical-align: top;\n",
       "    }\n",
       "\n",
       "    .dataframe thead th {\n",
       "        text-align: right;\n",
       "    }\n",
       "</style>\n",
       "<table border=\"1\" class=\"dataframe\">\n",
       "  <thead>\n",
       "    <tr style=\"text-align: right;\">\n",
       "      <th></th>\n",
       "      <th>Name</th>\n",
       "      <th>ID</th>\n",
       "      <th>Grade</th>\n",
       "      <th>Gender</th>\n",
       "      <th>HW</th>\n",
       "      <th>Test-1</th>\n",
       "      <th>Test-2</th>\n",
       "      <th>Test-3</th>\n",
       "      <th>Test-4</th>\n",
       "      <th>Final</th>\n",
       "    </tr>\n",
       "  </thead>\n",
       "  <tbody>\n",
       "    <tr>\n",
       "      <th>93</th>\n",
       "      <td>yzljj</td>\n",
       "      <td>10884705</td>\n",
       "      <td>10</td>\n",
       "      <td>M</td>\n",
       "      <td>92</td>\n",
       "      <td>75</td>\n",
       "      <td>41</td>\n",
       "      <td>33</td>\n",
       "      <td>61</td>\n",
       "      <td>66</td>\n",
       "    </tr>\n",
       "    <tr>\n",
       "      <th>94</th>\n",
       "      <td>jloze</td>\n",
       "      <td>30408806</td>\n",
       "      <td>10</td>\n",
       "      <td>M</td>\n",
       "      <td>19</td>\n",
       "      <td>24</td>\n",
       "      <td>73</td>\n",
       "      <td>98</td>\n",
       "      <td>48</td>\n",
       "      <td>95</td>\n",
       "    </tr>\n",
       "    <tr>\n",
       "      <th>95</th>\n",
       "      <td>zxuaq</td>\n",
       "      <td>58332078</td>\n",
       "      <td>12</td>\n",
       "      <td>M</td>\n",
       "      <td>57</td>\n",
       "      <td>1</td>\n",
       "      <td>48</td>\n",
       "      <td>61</td>\n",
       "      <td>58</td>\n",
       "      <td>99</td>\n",
       "    </tr>\n",
       "    <tr>\n",
       "      <th>96</th>\n",
       "      <td>vegye</td>\n",
       "      <td>10019910</td>\n",
       "      <td>11</td>\n",
       "      <td>F</td>\n",
       "      <td>88</td>\n",
       "      <td>30</td>\n",
       "      <td>48</td>\n",
       "      <td>85</td>\n",
       "      <td>48</td>\n",
       "      <td>17</td>\n",
       "    </tr>\n",
       "    <tr>\n",
       "      <th>97</th>\n",
       "      <td>euwlj</td>\n",
       "      <td>27967150</td>\n",
       "      <td>12</td>\n",
       "      <td>F</td>\n",
       "      <td>70</td>\n",
       "      <td>15</td>\n",
       "      <td>72</td>\n",
       "      <td>77</td>\n",
       "      <td>20</td>\n",
       "      <td>65</td>\n",
       "    </tr>\n",
       "    <tr>\n",
       "      <th>98</th>\n",
       "      <td>oesms</td>\n",
       "      <td>36171468</td>\n",
       "      <td>10</td>\n",
       "      <td>M</td>\n",
       "      <td>88</td>\n",
       "      <td>16</td>\n",
       "      <td>100</td>\n",
       "      <td>62</td>\n",
       "      <td>76</td>\n",
       "      <td>19</td>\n",
       "    </tr>\n",
       "    <tr>\n",
       "      <th>99</th>\n",
       "      <td>buugr</td>\n",
       "      <td>88783139</td>\n",
       "      <td>10</td>\n",
       "      <td>M</td>\n",
       "      <td>23</td>\n",
       "      <td>74</td>\n",
       "      <td>14</td>\n",
       "      <td>17</td>\n",
       "      <td>40</td>\n",
       "      <td>59</td>\n",
       "    </tr>\n",
       "  </tbody>\n",
       "</table>\n",
       "</div>"
      ],
      "text/plain": [
       "     Name        ID  Grade Gender  HW  Test-1  Test-2  Test-3  Test-4  Final\n",
       "93  yzljj  10884705     10      M  92      75      41      33      61     66\n",
       "94  jloze  30408806     10      M  19      24      73      98      48     95\n",
       "95  zxuaq  58332078     12      M  57       1      48      61      58     99\n",
       "96  vegye  10019910     11      F  88      30      48      85      48     17\n",
       "97  euwlj  27967150     12      F  70      15      72      77      20     65\n",
       "98  oesms  36171468     10      M  88      16     100      62      76     19\n",
       "99  buugr  88783139     10      M  23      74      14      17      40     59"
      ]
     },
     "execution_count": 15,
     "metadata": {},
     "output_type": "execute_result"
    }
   ],
   "source": [
    "# last 7 rows\n",
    "df_grades.tail(7)"
   ]
  },
  {
   "cell_type": "markdown",
   "id": "e7872158-a0ea-479d-8463-3c88f37a4d3a",
   "metadata": {},
   "source": [
    "### info()\n",
    "The info() method provides basic information about the DataFrame, including:\n",
    "- row labels: RangeIndex: 100 entries, 0 to 99\n",
    "- column labls: 'Name', 'ID', 'Grade', 'Gender', 'HW', 'Test-1', 'Test-2', 'Test-3', 'Test-4', 'Final'\n",
    "- number of columns: 10\n",
    "- Non-null (non-missing) values: 100 for each column\n",
    "- dtype: object (strings), int64\n",
    "- memory usage: 7.9+ KB"
   ]
  },
  {
   "cell_type": "code",
   "execution_count": 16,
   "id": "9cb3386c-b7b8-4704-8713-202b9e1890fd",
   "metadata": {},
   "outputs": [
    {
     "name": "stdout",
     "output_type": "stream",
     "text": [
      "<class 'pandas.core.frame.DataFrame'>\n",
      "RangeIndex: 100 entries, 0 to 99\n",
      "Data columns (total 10 columns):\n",
      " #   Column  Non-Null Count  Dtype \n",
      "---  ------  --------------  ----- \n",
      " 0   Name    100 non-null    object\n",
      " 1   ID      100 non-null    int64 \n",
      " 2   Grade   100 non-null    int64 \n",
      " 3   Gender  100 non-null    object\n",
      " 4   HW      100 non-null    int64 \n",
      " 5   Test-1  100 non-null    int64 \n",
      " 6   Test-2  100 non-null    int64 \n",
      " 7   Test-3  100 non-null    int64 \n",
      " 8   Test-4  100 non-null    int64 \n",
      " 9   Final   100 non-null    int64 \n",
      "dtypes: int64(8), object(2)\n",
      "memory usage: 7.9+ KB\n"
     ]
    }
   ],
   "source": [
    "df_grades.info()"
   ]
  },
  {
   "cell_type": "code",
   "execution_count": 17,
   "id": "8d8313bf-a985-495d-b995-98e0fc12808e",
   "metadata": {},
   "outputs": [
    {
     "data": {
      "text/plain": [
       "Index(['Name', 'ID', 'Grade', 'Gender', 'HW', 'Test-1', 'Test-2', 'Test-3',\n",
       "       'Test-4', 'Final'],\n",
       "      dtype='object')"
      ]
     },
     "execution_count": 17,
     "metadata": {},
     "output_type": "execute_result"
    }
   ],
   "source": [
    "df_grades.columns"
   ]
  },
  {
   "cell_type": "markdown",
   "id": "11755605-08fb-46d5-9d2d-979ca077713c",
   "metadata": {},
   "source": [
    "### describe()\n",
    "\n",
    "It returns the descriptive statistics of the columns of the DataFrame, including:\n",
    "- Count\n",
    "- Mean\n",
    "- Standard deviation (std)\n",
    "- Minimum (min)\n",
    "- 25th percentile\n",
    "- 50th percentile (median)\n",
    "- 75th percentile\n",
    "- Maximum (max)"
   ]
  },
  {
   "cell_type": "code",
   "execution_count": 18,
   "id": "dffc4547-8877-42e7-aa66-d312b82b4776",
   "metadata": {},
   "outputs": [
    {
     "data": {
      "text/html": [
       "<div>\n",
       "<style scoped>\n",
       "    .dataframe tbody tr th:only-of-type {\n",
       "        vertical-align: middle;\n",
       "    }\n",
       "\n",
       "    .dataframe tbody tr th {\n",
       "        vertical-align: top;\n",
       "    }\n",
       "\n",
       "    .dataframe thead th {\n",
       "        text-align: right;\n",
       "    }\n",
       "</style>\n",
       "<table border=\"1\" class=\"dataframe\">\n",
       "  <thead>\n",
       "    <tr style=\"text-align: right;\">\n",
       "      <th></th>\n",
       "      <th>APPLE</th>\n",
       "      <th>TESLA</th>\n",
       "      <th>AMAZON</th>\n",
       "      <th>VISA</th>\n",
       "      <th>SP500</th>\n",
       "    </tr>\n",
       "  </thead>\n",
       "  <tbody>\n",
       "    <tr>\n",
       "      <th>count</th>\n",
       "      <td>252.000000</td>\n",
       "      <td>252.000000</td>\n",
       "      <td>252.000000</td>\n",
       "      <td>252.000000</td>\n",
       "      <td>252.000000</td>\n",
       "    </tr>\n",
       "    <tr>\n",
       "      <th>mean</th>\n",
       "      <td>94.753056</td>\n",
       "      <td>288.347579</td>\n",
       "      <td>2678.569087</td>\n",
       "      <td>192.986984</td>\n",
       "      <td>3215.720079</td>\n",
       "    </tr>\n",
       "    <tr>\n",
       "      <th>std</th>\n",
       "      <td>21.836181</td>\n",
       "      <td>167.278855</td>\n",
       "      <td>545.632095</td>\n",
       "      <td>15.541861</td>\n",
       "      <td>318.045077</td>\n",
       "    </tr>\n",
       "    <tr>\n",
       "      <th>min</th>\n",
       "      <td>55.660000</td>\n",
       "      <td>72.240000</td>\n",
       "      <td>1676.610000</td>\n",
       "      <td>134.900000</td>\n",
       "      <td>2237.400000</td>\n",
       "    </tr>\n",
       "    <tr>\n",
       "      <th>25%</th>\n",
       "      <td>76.622500</td>\n",
       "      <td>149.745000</td>\n",
       "      <td>2146.120000</td>\n",
       "      <td>187.957500</td>\n",
       "      <td>3034.530000</td>\n",
       "    </tr>\n",
       "    <tr>\n",
       "      <th>50%</th>\n",
       "      <td>90.960000</td>\n",
       "      <td>232.830000</td>\n",
       "      <td>2884.500000</td>\n",
       "      <td>196.205000</td>\n",
       "      <td>3275.360000</td>\n",
       "    </tr>\n",
       "    <tr>\n",
       "      <th>75%</th>\n",
       "      <td>115.350000</td>\n",
       "      <td>421.035000</td>\n",
       "      <td>3164.790000</td>\n",
       "      <td>203.785000</td>\n",
       "      <td>3403.050000</td>\n",
       "    </tr>\n",
       "    <tr>\n",
       "      <th>max</th>\n",
       "      <td>136.490000</td>\n",
       "      <td>695.000000</td>\n",
       "      <td>3531.450000</td>\n",
       "      <td>218.020000</td>\n",
       "      <td>3735.360000</td>\n",
       "    </tr>\n",
       "  </tbody>\n",
       "</table>\n",
       "</div>"
      ],
      "text/plain": [
       "            APPLE       TESLA       AMAZON        VISA        SP500\n",
       "count  252.000000  252.000000   252.000000  252.000000   252.000000\n",
       "mean    94.753056  288.347579  2678.569087  192.986984  3215.720079\n",
       "std     21.836181  167.278855   545.632095   15.541861   318.045077\n",
       "min     55.660000   72.240000  1676.610000  134.900000  2237.400000\n",
       "25%     76.622500  149.745000  2146.120000  187.957500  3034.530000\n",
       "50%     90.960000  232.830000  2884.500000  196.205000  3275.360000\n",
       "75%    115.350000  421.035000  3164.790000  203.785000  3403.050000\n",
       "max    136.490000  695.000000  3531.450000  218.020000  3735.360000"
      ]
     },
     "execution_count": 18,
     "metadata": {},
     "output_type": "execute_result"
    }
   ],
   "source": [
    "df_stock.describe()"
   ]
  },
  {
   "cell_type": "markdown",
   "id": "a6629e90-fffa-444b-92fa-4ce116c373aa",
   "metadata": {},
   "source": [
    "### value_counts()\n",
    "It returns the number of occurrences for each value of the column."
   ]
  },
  {
   "cell_type": "code",
   "execution_count": 19,
   "id": "e0e7fff5-d394-4b87-a6cc-f2f3967673bb",
   "metadata": {},
   "outputs": [
    {
     "data": {
      "text/plain": [
       "Gender\n",
       "M    54\n",
       "F    46\n",
       "Name: count, dtype: int64"
      ]
     },
     "execution_count": 19,
     "metadata": {},
     "output_type": "execute_result"
    }
   ],
   "source": [
    "# There are 54 occurrences of 'M' and 46 occurrences of 'F' in the column Gender.\n",
    "df_grades['Gender'].value_counts()"
   ]
  },
  {
   "cell_type": "code",
   "execution_count": 20,
   "id": "7f0d888d-3ec9-44ee-94ae-90641dab2643",
   "metadata": {},
   "outputs": [
    {
     "data": {
      "text/plain": [
       "Grade\n",
       "9     27\n",
       "11    26\n",
       "12    24\n",
       "10    23\n",
       "Name: count, dtype: int64"
      ]
     },
     "execution_count": 20,
     "metadata": {},
     "output_type": "execute_result"
    }
   ],
   "source": [
    "# There are 27 occurrences of 'nine', 26 occurrences of 'eleven', 24 occurrences of 'twelve', \n",
    "# and 23 occurrences of 'ten' in the Grade column.\n",
    "df_grades['Grade'].value_counts()"
   ]
  },
  {
   "cell_type": "markdown",
   "id": "0c0a5799-ee19-4fe8-ae85-43df87625952",
   "metadata": {},
   "source": [
    "### copy()\n",
    "The *copy()* method returns a copy of the DataFrame."
   ]
  },
  {
   "cell_type": "code",
   "execution_count": 21,
   "id": "d1c40d2c-d3ed-4d55-bed3-127efad053ba",
   "metadata": {},
   "outputs": [
    {
     "data": {
      "text/html": [
       "<div>\n",
       "<style scoped>\n",
       "    .dataframe tbody tr th:only-of-type {\n",
       "        vertical-align: middle;\n",
       "    }\n",
       "\n",
       "    .dataframe tbody tr th {\n",
       "        vertical-align: top;\n",
       "    }\n",
       "\n",
       "    .dataframe thead th {\n",
       "        text-align: right;\n",
       "    }\n",
       "</style>\n",
       "<table border=\"1\" class=\"dataframe\">\n",
       "  <thead>\n",
       "    <tr style=\"text-align: right;\">\n",
       "      <th></th>\n",
       "      <th>State</th>\n",
       "      <th>Height</th>\n",
       "    </tr>\n",
       "  </thead>\n",
       "  <tbody>\n",
       "    <tr>\n",
       "      <th>John</th>\n",
       "      <td>NY</td>\n",
       "      <td>160</td>\n",
       "    </tr>\n",
       "    <tr>\n",
       "      <th>Liz</th>\n",
       "      <td>OK</td>\n",
       "      <td>180</td>\n",
       "    </tr>\n",
       "    <tr>\n",
       "      <th>Tim</th>\n",
       "      <td>TX</td>\n",
       "      <td>140</td>\n",
       "    </tr>\n",
       "  </tbody>\n",
       "</table>\n",
       "</div>"
      ],
      "text/plain": [
       "     State  Height\n",
       "John    NY     160\n",
       "Liz     OK     180\n",
       "Tim     TX     140"
      ]
     },
     "execution_count": 21,
     "metadata": {},
     "output_type": "execute_result"
    }
   ],
   "source": [
    "df_sh_copy = df_sh.copy()\n",
    "df_sh_copy"
   ]
  },
  {
   "cell_type": "markdown",
   "id": "65c47c67-6d8d-414c-ac0b-6a2763bba266",
   "metadata": {},
   "source": [
    "### drop()\n",
    "The drop() method is used to remove column(s) and row(s) from the DataFrame.\n",
    "- axis=0 means that the given row(s) are dropped (default).\n",
    "- axis=1 means that the given column(s) are dropped."
   ]
  },
  {
   "cell_type": "code",
   "execution_count": 22,
   "id": "794cac00-7c61-47fd-abc7-104e6d5470ba",
   "metadata": {},
   "outputs": [
    {
     "data": {
      "text/html": [
       "<div>\n",
       "<style scoped>\n",
       "    .dataframe tbody tr th:only-of-type {\n",
       "        vertical-align: middle;\n",
       "    }\n",
       "\n",
       "    .dataframe tbody tr th {\n",
       "        vertical-align: top;\n",
       "    }\n",
       "\n",
       "    .dataframe thead th {\n",
       "        text-align: right;\n",
       "    }\n",
       "</style>\n",
       "<table border=\"1\" class=\"dataframe\">\n",
       "  <thead>\n",
       "    <tr style=\"text-align: right;\">\n",
       "      <th></th>\n",
       "      <th>State</th>\n",
       "      <th>Height</th>\n",
       "    </tr>\n",
       "  </thead>\n",
       "  <tbody>\n",
       "    <tr>\n",
       "      <th>John</th>\n",
       "      <td>NY</td>\n",
       "      <td>160</td>\n",
       "    </tr>\n",
       "    <tr>\n",
       "      <th>Tim</th>\n",
       "      <td>TX</td>\n",
       "      <td>140</td>\n",
       "    </tr>\n",
       "  </tbody>\n",
       "</table>\n",
       "</div>"
      ],
      "text/plain": [
       "     State  Height\n",
       "John    NY     160\n",
       "Tim     TX     140"
      ]
     },
     "execution_count": 22,
     "metadata": {},
     "output_type": "execute_result"
    }
   ],
   "source": [
    "# row with label 'Liz' is removed\n",
    "df_sh.drop('Liz', axis=0)"
   ]
  },
  {
   "cell_type": "code",
   "execution_count": 23,
   "id": "c39ba93d-bd6d-47de-b167-548272276cf0",
   "metadata": {},
   "outputs": [
    {
     "data": {
      "text/html": [
       "<div>\n",
       "<style scoped>\n",
       "    .dataframe tbody tr th:only-of-type {\n",
       "        vertical-align: middle;\n",
       "    }\n",
       "\n",
       "    .dataframe tbody tr th {\n",
       "        vertical-align: top;\n",
       "    }\n",
       "\n",
       "    .dataframe thead th {\n",
       "        text-align: right;\n",
       "    }\n",
       "</style>\n",
       "<table border=\"1\" class=\"dataframe\">\n",
       "  <thead>\n",
       "    <tr style=\"text-align: right;\">\n",
       "      <th></th>\n",
       "      <th>State</th>\n",
       "    </tr>\n",
       "  </thead>\n",
       "  <tbody>\n",
       "    <tr>\n",
       "      <th>John</th>\n",
       "      <td>NY</td>\n",
       "    </tr>\n",
       "    <tr>\n",
       "      <th>Liz</th>\n",
       "      <td>OK</td>\n",
       "    </tr>\n",
       "    <tr>\n",
       "      <th>Tim</th>\n",
       "      <td>TX</td>\n",
       "    </tr>\n",
       "  </tbody>\n",
       "</table>\n",
       "</div>"
      ],
      "text/plain": [
       "     State\n",
       "John    NY\n",
       "Liz     OK\n",
       "Tim     TX"
      ]
     },
     "execution_count": 23,
     "metadata": {},
     "output_type": "execute_result"
    }
   ],
   "source": [
    "# column with label 'Height' is removed\n",
    "df_sh.drop('Height', axis=1)"
   ]
  },
  {
   "cell_type": "markdown",
   "id": "779d4f08-05af-489b-b286-e6bb0ba216d0",
   "metadata": {},
   "source": [
    "- By default, the *drop()* method does not change the DataFrame. It just displays how the DataFrame would look if the dropping were performed."
   ]
  },
  {
   "cell_type": "code",
   "execution_count": 24,
   "id": "b59f5487-f4f9-4a15-95a4-dcd3fc2c6d70",
   "metadata": {},
   "outputs": [
    {
     "data": {
      "text/html": [
       "<div>\n",
       "<style scoped>\n",
       "    .dataframe tbody tr th:only-of-type {\n",
       "        vertical-align: middle;\n",
       "    }\n",
       "\n",
       "    .dataframe tbody tr th {\n",
       "        vertical-align: top;\n",
       "    }\n",
       "\n",
       "    .dataframe thead th {\n",
       "        text-align: right;\n",
       "    }\n",
       "</style>\n",
       "<table border=\"1\" class=\"dataframe\">\n",
       "  <thead>\n",
       "    <tr style=\"text-align: right;\">\n",
       "      <th></th>\n",
       "      <th>State</th>\n",
       "      <th>Height</th>\n",
       "    </tr>\n",
       "  </thead>\n",
       "  <tbody>\n",
       "    <tr>\n",
       "      <th>John</th>\n",
       "      <td>NY</td>\n",
       "      <td>160</td>\n",
       "    </tr>\n",
       "    <tr>\n",
       "      <th>Liz</th>\n",
       "      <td>OK</td>\n",
       "      <td>180</td>\n",
       "    </tr>\n",
       "    <tr>\n",
       "      <th>Tim</th>\n",
       "      <td>TX</td>\n",
       "      <td>140</td>\n",
       "    </tr>\n",
       "  </tbody>\n",
       "</table>\n",
       "</div>"
      ],
      "text/plain": [
       "     State  Height\n",
       "John    NY     160\n",
       "Liz     OK     180\n",
       "Tim     TX     140"
      ]
     },
     "execution_count": 24,
     "metadata": {},
     "output_type": "execute_result"
    }
   ],
   "source": [
    "# no change on df_sh\n",
    "df_sh"
   ]
  },
  {
   "cell_type": "markdown",
   "id": "3a9053be-212c-4c5c-9a4d-484e1ab2b880",
   "metadata": {},
   "source": [
    "- To make a change to the DataFrame, the parameter `inplace` should be set to True, which is False by default."
   ]
  },
  {
   "cell_type": "code",
   "execution_count": 25,
   "id": "2d52aafe-63c0-49f6-8eb5-83fff23087aa",
   "metadata": {},
   "outputs": [],
   "source": [
    "# no 'State' column any more\n",
    "df_sh.drop('Height', axis=1, inplace=True)  "
   ]
  },
  {
   "cell_type": "code",
   "execution_count": 26,
   "id": "c957566c-ad0c-4211-8cf0-a80aed205ffd",
   "metadata": {},
   "outputs": [
    {
     "data": {
      "text/html": [
       "<div>\n",
       "<style scoped>\n",
       "    .dataframe tbody tr th:only-of-type {\n",
       "        vertical-align: middle;\n",
       "    }\n",
       "\n",
       "    .dataframe tbody tr th {\n",
       "        vertical-align: top;\n",
       "    }\n",
       "\n",
       "    .dataframe thead th {\n",
       "        text-align: right;\n",
       "    }\n",
       "</style>\n",
       "<table border=\"1\" class=\"dataframe\">\n",
       "  <thead>\n",
       "    <tr style=\"text-align: right;\">\n",
       "      <th></th>\n",
       "      <th>State</th>\n",
       "    </tr>\n",
       "  </thead>\n",
       "  <tbody>\n",
       "    <tr>\n",
       "      <th>John</th>\n",
       "      <td>NY</td>\n",
       "    </tr>\n",
       "    <tr>\n",
       "      <th>Liz</th>\n",
       "      <td>OK</td>\n",
       "    </tr>\n",
       "    <tr>\n",
       "      <th>Tim</th>\n",
       "      <td>TX</td>\n",
       "    </tr>\n",
       "  </tbody>\n",
       "</table>\n",
       "</div>"
      ],
      "text/plain": [
       "     State\n",
       "John    NY\n",
       "Liz     OK\n",
       "Tim     TX"
      ]
     },
     "execution_count": 26,
     "metadata": {},
     "output_type": "execute_result"
    }
   ],
   "source": [
    "df_sh"
   ]
  },
  {
   "cell_type": "code",
   "execution_count": 27,
   "id": "e292ace6-2529-4a8b-bb81-59775a8d1700",
   "metadata": {},
   "outputs": [],
   "source": [
    "# no 'Tim' row any more\n",
    "df_sh.drop('Tim', inplace=True) #default value of axis=0  "
   ]
  },
  {
   "cell_type": "code",
   "execution_count": 28,
   "id": "4e699519-b125-4d1d-8b06-89bb721e5412",
   "metadata": {},
   "outputs": [
    {
     "data": {
      "text/html": [
       "<div>\n",
       "<style scoped>\n",
       "    .dataframe tbody tr th:only-of-type {\n",
       "        vertical-align: middle;\n",
       "    }\n",
       "\n",
       "    .dataframe tbody tr th {\n",
       "        vertical-align: top;\n",
       "    }\n",
       "\n",
       "    .dataframe thead th {\n",
       "        text-align: right;\n",
       "    }\n",
       "</style>\n",
       "<table border=\"1\" class=\"dataframe\">\n",
       "  <thead>\n",
       "    <tr style=\"text-align: right;\">\n",
       "      <th></th>\n",
       "      <th>State</th>\n",
       "    </tr>\n",
       "  </thead>\n",
       "  <tbody>\n",
       "    <tr>\n",
       "      <th>John</th>\n",
       "      <td>NY</td>\n",
       "    </tr>\n",
       "    <tr>\n",
       "      <th>Liz</th>\n",
       "      <td>OK</td>\n",
       "    </tr>\n",
       "  </tbody>\n",
       "</table>\n",
       "</div>"
      ],
      "text/plain": [
       "     State\n",
       "John    NY\n",
       "Liz     OK"
      ]
     },
     "execution_count": 28,
     "metadata": {},
     "output_type": "execute_result"
    }
   ],
   "source": [
    "df_sh"
   ]
  },
  {
   "cell_type": "markdown",
   "id": "5ad8e529-17b7-4b0a-a65f-2fef0f96735d",
   "metadata": {},
   "source": [
    "### reset_index()\n",
    "The *reset_index()* method is used to reset the row labels of a DataFrame to default values: $0, 1, 2, ...$\n",
    "- It also adds the initial row labels as a new column with label *index*."
   ]
  },
  {
   "cell_type": "code",
   "execution_count": 29,
   "id": "9b75056e-7e6a-449a-97ac-6c3da93bd4d5",
   "metadata": {},
   "outputs": [
    {
     "data": {
      "text/html": [
       "<div>\n",
       "<style scoped>\n",
       "    .dataframe tbody tr th:only-of-type {\n",
       "        vertical-align: middle;\n",
       "    }\n",
       "\n",
       "    .dataframe tbody tr th {\n",
       "        vertical-align: top;\n",
       "    }\n",
       "\n",
       "    .dataframe thead th {\n",
       "        text-align: right;\n",
       "    }\n",
       "</style>\n",
       "<table border=\"1\" class=\"dataframe\">\n",
       "  <thead>\n",
       "    <tr style=\"text-align: right;\">\n",
       "      <th></th>\n",
       "      <th>index</th>\n",
       "      <th>State</th>\n",
       "    </tr>\n",
       "  </thead>\n",
       "  <tbody>\n",
       "    <tr>\n",
       "      <th>0</th>\n",
       "      <td>John</td>\n",
       "      <td>NY</td>\n",
       "    </tr>\n",
       "    <tr>\n",
       "      <th>1</th>\n",
       "      <td>Liz</td>\n",
       "      <td>OK</td>\n",
       "    </tr>\n",
       "  </tbody>\n",
       "</table>\n",
       "</div>"
      ],
      "text/plain": [
       "  index State\n",
       "0  John    NY\n",
       "1   Liz    OK"
      ]
     },
     "execution_count": 29,
     "metadata": {},
     "output_type": "execute_result"
    }
   ],
   "source": [
    "df_sh.reset_index()"
   ]
  },
  {
   "cell_type": "markdown",
   "id": "35ce2461-9c79-46d9-9b6f-dc2482ef5604",
   "metadata": {},
   "source": [
    "- If you do not want to keep the initial index values, you can set the *drop* parameter to True."
   ]
  },
  {
   "cell_type": "code",
   "execution_count": 30,
   "id": "2f14bb79-6568-453c-a2f4-f9651d2fd522",
   "metadata": {},
   "outputs": [
    {
     "data": {
      "text/html": [
       "<div>\n",
       "<style scoped>\n",
       "    .dataframe tbody tr th:only-of-type {\n",
       "        vertical-align: middle;\n",
       "    }\n",
       "\n",
       "    .dataframe tbody tr th {\n",
       "        vertical-align: top;\n",
       "    }\n",
       "\n",
       "    .dataframe thead th {\n",
       "        text-align: right;\n",
       "    }\n",
       "</style>\n",
       "<table border=\"1\" class=\"dataframe\">\n",
       "  <thead>\n",
       "    <tr style=\"text-align: right;\">\n",
       "      <th></th>\n",
       "      <th>State</th>\n",
       "    </tr>\n",
       "  </thead>\n",
       "  <tbody>\n",
       "    <tr>\n",
       "      <th>0</th>\n",
       "      <td>NY</td>\n",
       "    </tr>\n",
       "    <tr>\n",
       "      <th>1</th>\n",
       "      <td>OK</td>\n",
       "    </tr>\n",
       "  </tbody>\n",
       "</table>\n",
       "</div>"
      ],
      "text/plain": [
       "  State\n",
       "0    NY\n",
       "1    OK"
      ]
     },
     "execution_count": 30,
     "metadata": {},
     "output_type": "execute_result"
    }
   ],
   "source": [
    "# no index column\n",
    "df_sh.reset_index(drop=True)"
   ]
  },
  {
   "cell_type": "markdown",
   "id": "b8ce1097-f1c5-4ff2-af5f-7a4fdcead640",
   "metadata": {},
   "source": [
    "- *reset_index()* does not change the DataFrame unless inplace=True."
   ]
  },
  {
   "cell_type": "code",
   "execution_count": 31,
   "id": "b7a241e3-612f-4f77-a953-62e6284422c0",
   "metadata": {
    "scrolled": true
   },
   "outputs": [
    {
     "data": {
      "text/html": [
       "<div>\n",
       "<style scoped>\n",
       "    .dataframe tbody tr th:only-of-type {\n",
       "        vertical-align: middle;\n",
       "    }\n",
       "\n",
       "    .dataframe tbody tr th {\n",
       "        vertical-align: top;\n",
       "    }\n",
       "\n",
       "    .dataframe thead th {\n",
       "        text-align: right;\n",
       "    }\n",
       "</style>\n",
       "<table border=\"1\" class=\"dataframe\">\n",
       "  <thead>\n",
       "    <tr style=\"text-align: right;\">\n",
       "      <th></th>\n",
       "      <th>State</th>\n",
       "    </tr>\n",
       "  </thead>\n",
       "  <tbody>\n",
       "    <tr>\n",
       "      <th>John</th>\n",
       "      <td>NY</td>\n",
       "    </tr>\n",
       "    <tr>\n",
       "      <th>Liz</th>\n",
       "      <td>OK</td>\n",
       "    </tr>\n",
       "  </tbody>\n",
       "</table>\n",
       "</div>"
      ],
      "text/plain": [
       "     State\n",
       "John    NY\n",
       "Liz     OK"
      ]
     },
     "execution_count": 31,
     "metadata": {},
     "output_type": "execute_result"
    }
   ],
   "source": [
    "# no change on row labels\n",
    "df_sh"
   ]
  },
  {
   "cell_type": "code",
   "execution_count": 32,
   "id": "13ed7958-1645-4107-b7cc-5d7230d00bd1",
   "metadata": {},
   "outputs": [],
   "source": [
    "# row labels are changed\n",
    "df_sh.reset_index(inplace=True)"
   ]
  },
  {
   "cell_type": "code",
   "execution_count": 33,
   "id": "a52d2dff-a9f3-45f6-a3f5-5cb96286c5df",
   "metadata": {
    "scrolled": true
   },
   "outputs": [
    {
     "data": {
      "text/html": [
       "<div>\n",
       "<style scoped>\n",
       "    .dataframe tbody tr th:only-of-type {\n",
       "        vertical-align: middle;\n",
       "    }\n",
       "\n",
       "    .dataframe tbody tr th {\n",
       "        vertical-align: top;\n",
       "    }\n",
       "\n",
       "    .dataframe thead th {\n",
       "        text-align: right;\n",
       "    }\n",
       "</style>\n",
       "<table border=\"1\" class=\"dataframe\">\n",
       "  <thead>\n",
       "    <tr style=\"text-align: right;\">\n",
       "      <th></th>\n",
       "      <th>index</th>\n",
       "      <th>State</th>\n",
       "    </tr>\n",
       "  </thead>\n",
       "  <tbody>\n",
       "    <tr>\n",
       "      <th>0</th>\n",
       "      <td>John</td>\n",
       "      <td>NY</td>\n",
       "    </tr>\n",
       "    <tr>\n",
       "      <th>1</th>\n",
       "      <td>Liz</td>\n",
       "      <td>OK</td>\n",
       "    </tr>\n",
       "  </tbody>\n",
       "</table>\n",
       "</div>"
      ],
      "text/plain": [
       "  index State\n",
       "0  John    NY\n",
       "1   Liz    OK"
      ]
     },
     "execution_count": 33,
     "metadata": {},
     "output_type": "execute_result"
    }
   ],
   "source": [
    "df_sh"
   ]
  },
  {
   "cell_type": "markdown",
   "id": "381f6f09-3a6c-4412-ae12-11a1752cb074",
   "metadata": {},
   "source": [
    "### set_index()\n",
    "\n",
    "The `set_index()` method is used to set the DataFrame row labels to an existing column. \n",
    "- The label of the column that becomes the new index is preserved for future use.\n",
    "  "
   ]
  },
  {
   "cell_type": "code",
   "execution_count": 34,
   "id": "81ea71f8-c659-47a1-8490-e4290a5e11f0",
   "metadata": {},
   "outputs": [
    {
     "data": {
      "text/html": [
       "<div>\n",
       "<style scoped>\n",
       "    .dataframe tbody tr th:only-of-type {\n",
       "        vertical-align: middle;\n",
       "    }\n",
       "\n",
       "    .dataframe tbody tr th {\n",
       "        vertical-align: top;\n",
       "    }\n",
       "\n",
       "    .dataframe thead th {\n",
       "        text-align: right;\n",
       "    }\n",
       "</style>\n",
       "<table border=\"1\" class=\"dataframe\">\n",
       "  <thead>\n",
       "    <tr style=\"text-align: right;\">\n",
       "      <th></th>\n",
       "      <th>index</th>\n",
       "    </tr>\n",
       "    <tr>\n",
       "      <th>State</th>\n",
       "      <th></th>\n",
       "    </tr>\n",
       "  </thead>\n",
       "  <tbody>\n",
       "    <tr>\n",
       "      <th>NY</th>\n",
       "      <td>John</td>\n",
       "    </tr>\n",
       "    <tr>\n",
       "      <th>OK</th>\n",
       "      <td>Liz</td>\n",
       "    </tr>\n",
       "  </tbody>\n",
       "</table>\n",
       "</div>"
      ],
      "text/plain": [
       "      index\n",
       "State      \n",
       "NY     John\n",
       "OK      Liz"
      ]
     },
     "execution_count": 34,
     "metadata": {},
     "output_type": "execute_result"
    }
   ],
   "source": [
    "# Use 'State' column values as new row labels \n",
    "df_sh.set_index('State')"
   ]
  },
  {
   "cell_type": "markdown",
   "id": "7afa81ff-1805-4160-b123-ed9637261488",
   "metadata": {},
   "source": [
    "- *set_index()* does not change the DataFrame unless inplace=True\n",
    "\n",
    "\n",
    "\n",
    "\n",
    "\n"
   ]
  },
  {
   "cell_type": "code",
   "execution_count": 35,
   "id": "a78deca6-4bf9-4b63-bae3-0cf146a57be3",
   "metadata": {},
   "outputs": [
    {
     "data": {
      "text/html": [
       "<div>\n",
       "<style scoped>\n",
       "    .dataframe tbody tr th:only-of-type {\n",
       "        vertical-align: middle;\n",
       "    }\n",
       "\n",
       "    .dataframe tbody tr th {\n",
       "        vertical-align: top;\n",
       "    }\n",
       "\n",
       "    .dataframe thead th {\n",
       "        text-align: right;\n",
       "    }\n",
       "</style>\n",
       "<table border=\"1\" class=\"dataframe\">\n",
       "  <thead>\n",
       "    <tr style=\"text-align: right;\">\n",
       "      <th></th>\n",
       "      <th>index</th>\n",
       "      <th>State</th>\n",
       "    </tr>\n",
       "  </thead>\n",
       "  <tbody>\n",
       "    <tr>\n",
       "      <th>0</th>\n",
       "      <td>John</td>\n",
       "      <td>NY</td>\n",
       "    </tr>\n",
       "    <tr>\n",
       "      <th>1</th>\n",
       "      <td>Liz</td>\n",
       "      <td>OK</td>\n",
       "    </tr>\n",
       "  </tbody>\n",
       "</table>\n",
       "</div>"
      ],
      "text/plain": [
       "  index State\n",
       "0  John    NY\n",
       "1   Liz    OK"
      ]
     },
     "execution_count": 35,
     "metadata": {},
     "output_type": "execute_result"
    }
   ],
   "source": [
    "# no change on row labels\n",
    "df_sh"
   ]
  },
  {
   "cell_type": "code",
   "execution_count": 36,
   "id": "82640258-f651-4a64-8d53-47b0cabc333c",
   "metadata": {},
   "outputs": [],
   "source": [
    "# row labels are changed\n",
    "df_sh.set_index('State', inplace=True)"
   ]
  },
  {
   "cell_type": "code",
   "execution_count": 37,
   "id": "ce05a05c-3c32-49fe-9523-a33674a80d0f",
   "metadata": {},
   "outputs": [
    {
     "data": {
      "text/html": [
       "<div>\n",
       "<style scoped>\n",
       "    .dataframe tbody tr th:only-of-type {\n",
       "        vertical-align: middle;\n",
       "    }\n",
       "\n",
       "    .dataframe tbody tr th {\n",
       "        vertical-align: top;\n",
       "    }\n",
       "\n",
       "    .dataframe thead th {\n",
       "        text-align: right;\n",
       "    }\n",
       "</style>\n",
       "<table border=\"1\" class=\"dataframe\">\n",
       "  <thead>\n",
       "    <tr style=\"text-align: right;\">\n",
       "      <th></th>\n",
       "      <th>index</th>\n",
       "    </tr>\n",
       "    <tr>\n",
       "      <th>State</th>\n",
       "      <th></th>\n",
       "    </tr>\n",
       "  </thead>\n",
       "  <tbody>\n",
       "    <tr>\n",
       "      <th>NY</th>\n",
       "      <td>John</td>\n",
       "    </tr>\n",
       "    <tr>\n",
       "      <th>OK</th>\n",
       "      <td>Liz</td>\n",
       "    </tr>\n",
       "  </tbody>\n",
       "</table>\n",
       "</div>"
      ],
      "text/plain": [
       "      index\n",
       "State      \n",
       "NY     John\n",
       "OK      Liz"
      ]
     },
     "execution_count": 37,
     "metadata": {},
     "output_type": "execute_result"
    }
   ],
   "source": [
    "df_sh"
   ]
  },
  {
   "cell_type": "markdown",
   "id": "2f91d55e-7f1c-45c3-a6a5-93dcaecf5a8c",
   "metadata": {},
   "source": [
    "- Let's update the index of *df_stock* using the *Date* column."
   ]
  },
  {
   "cell_type": "code",
   "execution_count": 38,
   "id": "b937fb07-e12c-433c-bf34-09c558f85966",
   "metadata": {},
   "outputs": [],
   "source": [
    "df_stock.set_index('Date', inplace=True)"
   ]
  },
  {
   "cell_type": "code",
   "execution_count": 39,
   "id": "e758b117-330f-4923-9864-08c11d5ad655",
   "metadata": {},
   "outputs": [
    {
     "data": {
      "text/html": [
       "<div>\n",
       "<style scoped>\n",
       "    .dataframe tbody tr th:only-of-type {\n",
       "        vertical-align: middle;\n",
       "    }\n",
       "\n",
       "    .dataframe tbody tr th {\n",
       "        vertical-align: top;\n",
       "    }\n",
       "\n",
       "    .dataframe thead th {\n",
       "        text-align: right;\n",
       "    }\n",
       "</style>\n",
       "<table border=\"1\" class=\"dataframe\">\n",
       "  <thead>\n",
       "    <tr style=\"text-align: right;\">\n",
       "      <th></th>\n",
       "      <th>APPLE</th>\n",
       "      <th>TESLA</th>\n",
       "      <th>AMAZON</th>\n",
       "      <th>VISA</th>\n",
       "      <th>SP500</th>\n",
       "    </tr>\n",
       "    <tr>\n",
       "      <th>Date</th>\n",
       "      <th></th>\n",
       "      <th></th>\n",
       "      <th></th>\n",
       "      <th></th>\n",
       "      <th></th>\n",
       "    </tr>\n",
       "  </thead>\n",
       "  <tbody>\n",
       "    <tr>\n",
       "      <th>2020-01-02</th>\n",
       "      <td>74.33</td>\n",
       "      <td>86.05</td>\n",
       "      <td>1898.01</td>\n",
       "      <td>189.66</td>\n",
       "      <td>3257.85</td>\n",
       "    </tr>\n",
       "    <tr>\n",
       "      <th>2020-01-03</th>\n",
       "      <td>73.61</td>\n",
       "      <td>88.60</td>\n",
       "      <td>1874.97</td>\n",
       "      <td>188.15</td>\n",
       "      <td>3234.85</td>\n",
       "    </tr>\n",
       "    <tr>\n",
       "      <th>2020-01-06</th>\n",
       "      <td>74.20</td>\n",
       "      <td>90.31</td>\n",
       "      <td>1902.88</td>\n",
       "      <td>187.74</td>\n",
       "      <td>3246.28</td>\n",
       "    </tr>\n",
       "    <tr>\n",
       "      <th>2020-01-07</th>\n",
       "      <td>73.85</td>\n",
       "      <td>93.81</td>\n",
       "      <td>1906.86</td>\n",
       "      <td>187.24</td>\n",
       "      <td>3237.18</td>\n",
       "    </tr>\n",
       "    <tr>\n",
       "      <th>2020-01-08</th>\n",
       "      <td>75.04</td>\n",
       "      <td>98.43</td>\n",
       "      <td>1891.97</td>\n",
       "      <td>190.45</td>\n",
       "      <td>3253.05</td>\n",
       "    </tr>\n",
       "  </tbody>\n",
       "</table>\n",
       "</div>"
      ],
      "text/plain": [
       "            APPLE  TESLA   AMAZON    VISA    SP500\n",
       "Date                                              \n",
       "2020-01-02  74.33  86.05  1898.01  189.66  3257.85\n",
       "2020-01-03  73.61  88.60  1874.97  188.15  3234.85\n",
       "2020-01-06  74.20  90.31  1902.88  187.74  3246.28\n",
       "2020-01-07  73.85  93.81  1906.86  187.24  3237.18\n",
       "2020-01-08  75.04  98.43  1891.97  190.45  3253.05"
      ]
     },
     "execution_count": 39,
     "metadata": {},
     "output_type": "execute_result"
    }
   ],
   "source": [
    "df_stock.head()"
   ]
  },
  {
   "cell_type": "markdown",
   "id": "da41fdc3-6ccb-468d-b765-52fb49be83da",
   "metadata": {},
   "source": [
    "### sum(), mean(), median(), std()\n",
    "When axis=0, computation is column-wise (vertically). This means that for each column, the operation is performed on different row values. \n",
    "- This is the default value.\n",
    "\n",
    "When axis=1, computation is row-wise (horizontally). This means that for each row, the operation is performed on different column values.\n"
   ]
  },
  {
   "cell_type": "code",
   "execution_count": 40,
   "id": "dd2b9a50-b211-4ebf-adf2-7d817bc90b02",
   "metadata": {},
   "outputs": [
    {
     "data": {
      "text/plain": [
       "APPLE      23877.77\n",
       "TESLA      72663.59\n",
       "AMAZON    674999.41\n",
       "VISA       48632.72\n",
       "SP500     810361.46\n",
       "dtype: float64"
      ]
     },
     "execution_count": 40,
     "metadata": {},
     "output_type": "execute_result"
    }
   ],
   "source": [
    "# axis=0\n",
    "df_stock.sum(0)    # sum of values in each column"
   ]
  },
  {
   "cell_type": "code",
   "execution_count": 41,
   "id": "37b42bf5-6575-421b-be3c-7efe5d81f634",
   "metadata": {},
   "outputs": [
    {
     "data": {
      "text/plain": [
       "Date\n",
       "2020-01-02    5505.90\n",
       "2020-01-03    5460.18\n",
       "2020-01-06    5501.41\n",
       "2020-01-07    5498.94\n",
       "2020-01-08    5508.94\n",
       "               ...   \n",
       "2020-12-23    7857.00\n",
       "2020-12-24    7877.67\n",
       "2020-12-28    8031.80\n",
       "2020-12-29    8063.74\n",
       "2020-12-30    8064.21\n",
       "Length: 252, dtype: float64"
      ]
     },
     "execution_count": 41,
     "metadata": {},
     "output_type": "execute_result"
    }
   ],
   "source": [
    "# axis=1\n",
    "df_stock.sum(1)    # sum of values in each row"
   ]
  },
  {
   "cell_type": "code",
   "execution_count": 42,
   "id": "8318922b-cbc1-4d86-9313-77e1ac6a6472",
   "metadata": {},
   "outputs": [
    {
     "data": {
      "text/plain": [
       "APPLE       94.753056\n",
       "TESLA      288.347579\n",
       "AMAZON    2678.569087\n",
       "VISA       192.986984\n",
       "SP500     3215.720079\n",
       "dtype: float64"
      ]
     },
     "execution_count": 42,
     "metadata": {},
     "output_type": "execute_result"
    }
   ],
   "source": [
    "# mean of each column\n",
    "df_stock.mean()"
   ]
  },
  {
   "cell_type": "code",
   "execution_count": 43,
   "id": "73eb9d73-9203-4d0a-bc94-a830ccc0129e",
   "metadata": {},
   "outputs": [
    {
     "data": {
      "text/plain": [
       "APPLE       90.960\n",
       "TESLA      232.830\n",
       "AMAZON    2884.500\n",
       "VISA       196.205\n",
       "SP500     3275.360\n",
       "dtype: float64"
      ]
     },
     "execution_count": 43,
     "metadata": {},
     "output_type": "execute_result"
    }
   ],
   "source": [
    "# median of each column\n",
    "df_stock.median()"
   ]
  },
  {
   "cell_type": "code",
   "execution_count": 44,
   "id": "7667e734-01b6-4f1f-963a-02fe31e4ab47",
   "metadata": {},
   "outputs": [
    {
     "data": {
      "text/plain": [
       "APPLE      21.836181\n",
       "TESLA     167.278855\n",
       "AMAZON    545.632095\n",
       "VISA       15.541861\n",
       "SP500     318.045077\n",
       "dtype: float64"
      ]
     },
     "execution_count": 44,
     "metadata": {},
     "output_type": "execute_result"
    }
   ],
   "source": [
    "# standard deviation of each column\n",
    "df_stock.std()"
   ]
  },
  {
   "cell_type": "markdown",
   "id": "0f1ab822-7a8d-4732-b88f-9d1b768927be",
   "metadata": {},
   "source": [
    "### rename()\n",
    "The *rename()* method is used to rename column or row labels."
   ]
  },
  {
   "cell_type": "code",
   "execution_count": 45,
   "id": "3cbefc2b-4e31-4119-b48d-9bbe4ed0d769",
   "metadata": {},
   "outputs": [
    {
     "data": {
      "text/html": [
       "<div>\n",
       "<style scoped>\n",
       "    .dataframe tbody tr th:only-of-type {\n",
       "        vertical-align: middle;\n",
       "    }\n",
       "\n",
       "    .dataframe tbody tr th {\n",
       "        vertical-align: top;\n",
       "    }\n",
       "\n",
       "    .dataframe thead th {\n",
       "        text-align: right;\n",
       "    }\n",
       "</style>\n",
       "<table border=\"1\" class=\"dataframe\">\n",
       "  <thead>\n",
       "    <tr style=\"text-align: right;\">\n",
       "      <th></th>\n",
       "      <th>index</th>\n",
       "    </tr>\n",
       "    <tr>\n",
       "      <th>State</th>\n",
       "      <th></th>\n",
       "    </tr>\n",
       "  </thead>\n",
       "  <tbody>\n",
       "    <tr>\n",
       "      <th>NY</th>\n",
       "      <td>John</td>\n",
       "    </tr>\n",
       "    <tr>\n",
       "      <th>OK</th>\n",
       "      <td>Liz</td>\n",
       "    </tr>\n",
       "  </tbody>\n",
       "</table>\n",
       "</div>"
      ],
      "text/plain": [
       "      index\n",
       "State      \n",
       "NY     John\n",
       "OK      Liz"
      ]
     },
     "execution_count": 45,
     "metadata": {},
     "output_type": "execute_result"
    }
   ],
   "source": [
    "df_sh"
   ]
  },
  {
   "cell_type": "markdown",
   "id": "95a5eaf8-63eb-4d26-b1bd-4f15f401d23f",
   "metadata": {},
   "source": [
    "- Let's rename the index column as \"Name\"."
   ]
  },
  {
   "cell_type": "code",
   "execution_count": 46,
   "id": "1cb30223-6226-4479-9501-899d43516c03",
   "metadata": {
    "scrolled": true
   },
   "outputs": [
    {
     "data": {
      "text/html": [
       "<div>\n",
       "<style scoped>\n",
       "    .dataframe tbody tr th:only-of-type {\n",
       "        vertical-align: middle;\n",
       "    }\n",
       "\n",
       "    .dataframe tbody tr th {\n",
       "        vertical-align: top;\n",
       "    }\n",
       "\n",
       "    .dataframe thead th {\n",
       "        text-align: right;\n",
       "    }\n",
       "</style>\n",
       "<table border=\"1\" class=\"dataframe\">\n",
       "  <thead>\n",
       "    <tr style=\"text-align: right;\">\n",
       "      <th></th>\n",
       "      <th>Name</th>\n",
       "    </tr>\n",
       "    <tr>\n",
       "      <th>State</th>\n",
       "      <th></th>\n",
       "    </tr>\n",
       "  </thead>\n",
       "  <tbody>\n",
       "    <tr>\n",
       "      <th>NY</th>\n",
       "      <td>John</td>\n",
       "    </tr>\n",
       "    <tr>\n",
       "      <th>OK</th>\n",
       "      <td>Liz</td>\n",
       "    </tr>\n",
       "  </tbody>\n",
       "</table>\n",
       "</div>"
      ],
      "text/plain": [
       "       Name\n",
       "State      \n",
       "NY     John\n",
       "OK      Liz"
      ]
     },
     "execution_count": 46,
     "metadata": {},
     "output_type": "execute_result"
    }
   ],
   "source": [
    "df_sh.rename(columns={'index':'Name'})"
   ]
  },
  {
   "cell_type": "code",
   "execution_count": 47,
   "id": "eb000371-5037-44cd-90da-19881692c64d",
   "metadata": {
    "scrolled": true
   },
   "outputs": [
    {
     "data": {
      "text/html": [
       "<div>\n",
       "<style scoped>\n",
       "    .dataframe tbody tr th:only-of-type {\n",
       "        vertical-align: middle;\n",
       "    }\n",
       "\n",
       "    .dataframe tbody tr th {\n",
       "        vertical-align: top;\n",
       "    }\n",
       "\n",
       "    .dataframe thead th {\n",
       "        text-align: right;\n",
       "    }\n",
       "</style>\n",
       "<table border=\"1\" class=\"dataframe\">\n",
       "  <thead>\n",
       "    <tr style=\"text-align: right;\">\n",
       "      <th></th>\n",
       "      <th>index</th>\n",
       "    </tr>\n",
       "    <tr>\n",
       "      <th>State</th>\n",
       "      <th></th>\n",
       "    </tr>\n",
       "  </thead>\n",
       "  <tbody>\n",
       "    <tr>\n",
       "      <th>NY</th>\n",
       "      <td>John</td>\n",
       "    </tr>\n",
       "    <tr>\n",
       "      <th>OK</th>\n",
       "      <td>Liz</td>\n",
       "    </tr>\n",
       "  </tbody>\n",
       "</table>\n",
       "</div>"
      ],
      "text/plain": [
       "      index\n",
       "State      \n",
       "NY     John\n",
       "OK      Liz"
      ]
     },
     "execution_count": 47,
     "metadata": {},
     "output_type": "execute_result"
    }
   ],
   "source": [
    "# no change on df_sh\n",
    "df_sh"
   ]
  },
  {
   "cell_type": "markdown",
   "id": "94329f08-c1b7-40a2-9029-99b274b2c93d",
   "metadata": {},
   "source": [
    "- *rename()* does not change the DataFrame unless inplace=True.\n",
    "\n",
    "\n",
    "\n",
    "\n",
    "\n"
   ]
  },
  {
   "cell_type": "code",
   "execution_count": 48,
   "id": "f9da4d9c-d4fc-4ec9-b9a8-c601f902e1f3",
   "metadata": {
    "scrolled": true
   },
   "outputs": [],
   "source": [
    "# 'index' --> 'Name'\n",
    "df_sh.rename(columns={'index':'Name'}, inplace=True)"
   ]
  },
  {
   "cell_type": "code",
   "execution_count": 49,
   "id": "b9d4f617-35d5-456d-b3a7-12bacdda6eaf",
   "metadata": {},
   "outputs": [
    {
     "data": {
      "text/html": [
       "<div>\n",
       "<style scoped>\n",
       "    .dataframe tbody tr th:only-of-type {\n",
       "        vertical-align: middle;\n",
       "    }\n",
       "\n",
       "    .dataframe tbody tr th {\n",
       "        vertical-align: top;\n",
       "    }\n",
       "\n",
       "    .dataframe thead th {\n",
       "        text-align: right;\n",
       "    }\n",
       "</style>\n",
       "<table border=\"1\" class=\"dataframe\">\n",
       "  <thead>\n",
       "    <tr style=\"text-align: right;\">\n",
       "      <th></th>\n",
       "      <th>Name</th>\n",
       "    </tr>\n",
       "    <tr>\n",
       "      <th>State</th>\n",
       "      <th></th>\n",
       "    </tr>\n",
       "  </thead>\n",
       "  <tbody>\n",
       "    <tr>\n",
       "      <th>NY</th>\n",
       "      <td>John</td>\n",
       "    </tr>\n",
       "    <tr>\n",
       "      <th>OK</th>\n",
       "      <td>Liz</td>\n",
       "    </tr>\n",
       "  </tbody>\n",
       "</table>\n",
       "</div>"
      ],
      "text/plain": [
       "       Name\n",
       "State      \n",
       "NY     John\n",
       "OK      Liz"
      ]
     },
     "execution_count": 49,
     "metadata": {},
     "output_type": "execute_result"
    }
   ],
   "source": [
    "df_sh"
   ]
  },
  {
   "cell_type": "markdown",
   "id": "3711a3f7-f3e7-4eb8-9487-cac964314591",
   "metadata": {},
   "source": [
    "### sort_values()\n",
    "It sorts the dataframe based on the provided column in ascending or descending order.\n",
    "- By default, sorting is done in ascending order.\n",
    "- To sort in descending order, set the `ascending` parameter to False."
   ]
  },
  {
   "cell_type": "code",
   "execution_count": 50,
   "id": "7c488afa-5064-43f7-abb8-39aa759ea1e0",
   "metadata": {},
   "outputs": [
    {
     "data": {
      "text/html": [
       "<div>\n",
       "<style scoped>\n",
       "    .dataframe tbody tr th:only-of-type {\n",
       "        vertical-align: middle;\n",
       "    }\n",
       "\n",
       "    .dataframe tbody tr th {\n",
       "        vertical-align: top;\n",
       "    }\n",
       "\n",
       "    .dataframe thead th {\n",
       "        text-align: right;\n",
       "    }\n",
       "</style>\n",
       "<table border=\"1\" class=\"dataframe\">\n",
       "  <thead>\n",
       "    <tr style=\"text-align: right;\">\n",
       "      <th></th>\n",
       "      <th>Name</th>\n",
       "      <th>ID</th>\n",
       "      <th>Grade</th>\n",
       "      <th>Gender</th>\n",
       "      <th>HW</th>\n",
       "      <th>Test-1</th>\n",
       "      <th>Test-2</th>\n",
       "      <th>Test-3</th>\n",
       "      <th>Test-4</th>\n",
       "      <th>Final</th>\n",
       "    </tr>\n",
       "  </thead>\n",
       "  <tbody>\n",
       "    <tr>\n",
       "      <th>12</th>\n",
       "      <td>jjgag</td>\n",
       "      <td>46794501</td>\n",
       "      <td>11</td>\n",
       "      <td>F</td>\n",
       "      <td>8</td>\n",
       "      <td>43</td>\n",
       "      <td>1</td>\n",
       "      <td>7</td>\n",
       "      <td>82</td>\n",
       "      <td>36</td>\n",
       "    </tr>\n",
       "    <tr>\n",
       "      <th>19</th>\n",
       "      <td>cxkpb</td>\n",
       "      <td>71808293</td>\n",
       "      <td>10</td>\n",
       "      <td>M</td>\n",
       "      <td>87</td>\n",
       "      <td>80</td>\n",
       "      <td>4</td>\n",
       "      <td>14</td>\n",
       "      <td>77</td>\n",
       "      <td>87</td>\n",
       "    </tr>\n",
       "    <tr>\n",
       "      <th>62</th>\n",
       "      <td>mwsqn</td>\n",
       "      <td>85824590</td>\n",
       "      <td>11</td>\n",
       "      <td>M</td>\n",
       "      <td>89</td>\n",
       "      <td>95</td>\n",
       "      <td>4</td>\n",
       "      <td>34</td>\n",
       "      <td>94</td>\n",
       "      <td>21</td>\n",
       "    </tr>\n",
       "    <tr>\n",
       "      <th>65</th>\n",
       "      <td>yxchm</td>\n",
       "      <td>48696307</td>\n",
       "      <td>9</td>\n",
       "      <td>M</td>\n",
       "      <td>33</td>\n",
       "      <td>54</td>\n",
       "      <td>5</td>\n",
       "      <td>39</td>\n",
       "      <td>94</td>\n",
       "      <td>99</td>\n",
       "    </tr>\n",
       "    <tr>\n",
       "      <th>61</th>\n",
       "      <td>rulsy</td>\n",
       "      <td>40694890</td>\n",
       "      <td>12</td>\n",
       "      <td>M</td>\n",
       "      <td>4</td>\n",
       "      <td>8</td>\n",
       "      <td>6</td>\n",
       "      <td>81</td>\n",
       "      <td>62</td>\n",
       "      <td>46</td>\n",
       "    </tr>\n",
       "  </tbody>\n",
       "</table>\n",
       "</div>"
      ],
      "text/plain": [
       "     Name        ID  Grade Gender  HW  Test-1  Test-2  Test-3  Test-4  Final\n",
       "12  jjgag  46794501     11      F   8      43       1       7      82     36\n",
       "19  cxkpb  71808293     10      M  87      80       4      14      77     87\n",
       "62  mwsqn  85824590     11      M  89      95       4      34      94     21\n",
       "65  yxchm  48696307      9      M  33      54       5      39      94     99\n",
       "61  rulsy  40694890     12      M   4       8       6      81      62     46"
      ]
     },
     "execution_count": 50,
     "metadata": {},
     "output_type": "execute_result"
    }
   ],
   "source": [
    "# ascending\n",
    "df_grades.sort_values('Test-2').head()"
   ]
  },
  {
   "cell_type": "code",
   "execution_count": 51,
   "id": "acfbbd86-2b6d-400d-be6c-20a00f3afaab",
   "metadata": {},
   "outputs": [
    {
     "data": {
      "text/html": [
       "<div>\n",
       "<style scoped>\n",
       "    .dataframe tbody tr th:only-of-type {\n",
       "        vertical-align: middle;\n",
       "    }\n",
       "\n",
       "    .dataframe tbody tr th {\n",
       "        vertical-align: top;\n",
       "    }\n",
       "\n",
       "    .dataframe thead th {\n",
       "        text-align: right;\n",
       "    }\n",
       "</style>\n",
       "<table border=\"1\" class=\"dataframe\">\n",
       "  <thead>\n",
       "    <tr style=\"text-align: right;\">\n",
       "      <th></th>\n",
       "      <th>Name</th>\n",
       "      <th>ID</th>\n",
       "      <th>Grade</th>\n",
       "      <th>Gender</th>\n",
       "      <th>HW</th>\n",
       "      <th>Test-1</th>\n",
       "      <th>Test-2</th>\n",
       "      <th>Test-3</th>\n",
       "      <th>Test-4</th>\n",
       "      <th>Final</th>\n",
       "    </tr>\n",
       "  </thead>\n",
       "  <tbody>\n",
       "    <tr>\n",
       "      <th>16</th>\n",
       "      <td>abqln</td>\n",
       "      <td>59927557</td>\n",
       "      <td>11</td>\n",
       "      <td>F</td>\n",
       "      <td>26</td>\n",
       "      <td>97</td>\n",
       "      <td>100</td>\n",
       "      <td>46</td>\n",
       "      <td>94</td>\n",
       "      <td>78</td>\n",
       "    </tr>\n",
       "    <tr>\n",
       "      <th>98</th>\n",
       "      <td>oesms</td>\n",
       "      <td>36171468</td>\n",
       "      <td>10</td>\n",
       "      <td>M</td>\n",
       "      <td>88</td>\n",
       "      <td>16</td>\n",
       "      <td>100</td>\n",
       "      <td>62</td>\n",
       "      <td>76</td>\n",
       "      <td>19</td>\n",
       "    </tr>\n",
       "    <tr>\n",
       "      <th>74</th>\n",
       "      <td>xohww</td>\n",
       "      <td>81223224</td>\n",
       "      <td>9</td>\n",
       "      <td>M</td>\n",
       "      <td>32</td>\n",
       "      <td>24</td>\n",
       "      <td>100</td>\n",
       "      <td>81</td>\n",
       "      <td>59</td>\n",
       "      <td>73</td>\n",
       "    </tr>\n",
       "    <tr>\n",
       "      <th>90</th>\n",
       "      <td>wxtpu</td>\n",
       "      <td>98301627</td>\n",
       "      <td>12</td>\n",
       "      <td>M</td>\n",
       "      <td>44</td>\n",
       "      <td>57</td>\n",
       "      <td>99</td>\n",
       "      <td>87</td>\n",
       "      <td>9</td>\n",
       "      <td>62</td>\n",
       "    </tr>\n",
       "    <tr>\n",
       "      <th>25</th>\n",
       "      <td>tkhtm</td>\n",
       "      <td>56044667</td>\n",
       "      <td>12</td>\n",
       "      <td>F</td>\n",
       "      <td>20</td>\n",
       "      <td>67</td>\n",
       "      <td>97</td>\n",
       "      <td>13</td>\n",
       "      <td>73</td>\n",
       "      <td>41</td>\n",
       "    </tr>\n",
       "  </tbody>\n",
       "</table>\n",
       "</div>"
      ],
      "text/plain": [
       "     Name        ID  Grade Gender  HW  Test-1  Test-2  Test-3  Test-4  Final\n",
       "16  abqln  59927557     11      F  26      97     100      46      94     78\n",
       "98  oesms  36171468     10      M  88      16     100      62      76     19\n",
       "74  xohww  81223224      9      M  32      24     100      81      59     73\n",
       "90  wxtpu  98301627     12      M  44      57      99      87       9     62\n",
       "25  tkhtm  56044667     12      F  20      67      97      13      73     41"
      ]
     },
     "execution_count": 51,
     "metadata": {},
     "output_type": "execute_result"
    }
   ],
   "source": [
    "# descending\n",
    "df_grades.sort_values('Test-2', ascending=False).head()"
   ]
  },
  {
   "cell_type": "markdown",
   "id": "2075a902-d554-42fc-b281-1aeed11c683c",
   "metadata": {},
   "source": [
    "### duplicated()\n",
    "- It returns a Series with boolean values showing if a row is a repeat or not."
   ]
  },
  {
   "cell_type": "code",
   "execution_count": 57,
   "id": "4f0de79c-1f10-4359-b387-8a660c74c350",
   "metadata": {},
   "outputs": [
    {
     "data": {
      "text/html": [
       "<div>\n",
       "<style scoped>\n",
       "    .dataframe tbody tr th:only-of-type {\n",
       "        vertical-align: middle;\n",
       "    }\n",
       "\n",
       "    .dataframe tbody tr th {\n",
       "        vertical-align: top;\n",
       "    }\n",
       "\n",
       "    .dataframe thead th {\n",
       "        text-align: right;\n",
       "    }\n",
       "</style>\n",
       "<table border=\"1\" class=\"dataframe\">\n",
       "  <thead>\n",
       "    <tr style=\"text-align: right;\">\n",
       "      <th></th>\n",
       "      <th>State</th>\n",
       "      <th>Height</th>\n",
       "    </tr>\n",
       "  </thead>\n",
       "  <tbody>\n",
       "    <tr>\n",
       "      <th>John</th>\n",
       "      <td>NY</td>\n",
       "      <td>160</td>\n",
       "    </tr>\n",
       "    <tr>\n",
       "      <th>Liz</th>\n",
       "      <td>OK</td>\n",
       "      <td>180</td>\n",
       "    </tr>\n",
       "    <tr>\n",
       "      <th>Tim</th>\n",
       "      <td>TX</td>\n",
       "      <td>140</td>\n",
       "    </tr>\n",
       "    <tr>\n",
       "      <th>Tim</th>\n",
       "      <td>TX</td>\n",
       "      <td>140</td>\n",
       "    </tr>\n",
       "  </tbody>\n",
       "</table>\n",
       "</div>"
      ],
      "text/plain": [
       "     State  Height\n",
       "John    NY     160\n",
       "Liz     OK     180\n",
       "Tim     TX     140\n",
       "Tim     TX     140"
      ]
     },
     "execution_count": 57,
     "metadata": {},
     "output_type": "execute_result"
    }
   ],
   "source": [
    "state_height_dic = {'State':['NY', 'OK', 'TX', 'TX'], 'Height':[160, 180, 140, 140]}\n",
    "df_sh = pd.DataFrame(state_height_dic, index=['John', 'Liz', 'Tim', 'Tim'])\n",
    "df_sh"
   ]
  },
  {
   "cell_type": "code",
   "execution_count": 61,
   "id": "534e846c-b10c-4a01-8b45-a1fc76d9fb5d",
   "metadata": {},
   "outputs": [
    {
     "data": {
      "text/plain": [
       "John    False\n",
       "Liz     False\n",
       "Tim     False\n",
       "Tim      True\n",
       "dtype: bool"
      ]
     },
     "execution_count": 61,
     "metadata": {},
     "output_type": "execute_result"
    }
   ],
   "source": [
    "df_sh.duplicated()"
   ]
  },
  {
   "cell_type": "markdown",
   "id": "a5d450e1-dcf7-4e4a-a35b-e5524e7c4134",
   "metadata": {},
   "source": [
    "### drop_duplicates()\n",
    "- It returns a DataFrame with duplicate rows removed."
   ]
  },
  {
   "cell_type": "code",
   "execution_count": 62,
   "id": "d32a2a0c-cbae-400e-b5bc-81a3a437fbd9",
   "metadata": {},
   "outputs": [
    {
     "data": {
      "text/html": [
       "<div>\n",
       "<style scoped>\n",
       "    .dataframe tbody tr th:only-of-type {\n",
       "        vertical-align: middle;\n",
       "    }\n",
       "\n",
       "    .dataframe tbody tr th {\n",
       "        vertical-align: top;\n",
       "    }\n",
       "\n",
       "    .dataframe thead th {\n",
       "        text-align: right;\n",
       "    }\n",
       "</style>\n",
       "<table border=\"1\" class=\"dataframe\">\n",
       "  <thead>\n",
       "    <tr style=\"text-align: right;\">\n",
       "      <th></th>\n",
       "      <th>State</th>\n",
       "      <th>Height</th>\n",
       "    </tr>\n",
       "  </thead>\n",
       "  <tbody>\n",
       "    <tr>\n",
       "      <th>John</th>\n",
       "      <td>NY</td>\n",
       "      <td>160</td>\n",
       "    </tr>\n",
       "    <tr>\n",
       "      <th>Liz</th>\n",
       "      <td>OK</td>\n",
       "      <td>180</td>\n",
       "    </tr>\n",
       "    <tr>\n",
       "      <th>Tim</th>\n",
       "      <td>TX</td>\n",
       "      <td>140</td>\n",
       "    </tr>\n",
       "  </tbody>\n",
       "</table>\n",
       "</div>"
      ],
      "text/plain": [
       "     State  Height\n",
       "John    NY     160\n",
       "Liz     OK     180\n",
       "Tim     TX     140"
      ]
     },
     "execution_count": 62,
     "metadata": {},
     "output_type": "execute_result"
    }
   ],
   "source": [
    "df_sh.drop_duplicates()"
   ]
  },
  {
   "cell_type": "code",
   "execution_count": null,
   "id": "d5f89227-a993-414c-a0fc-6d5bc20bccfc",
   "metadata": {},
   "outputs": [],
   "source": []
  }
 ],
 "metadata": {
  "kernelspec": {
   "display_name": "Python 3 (ipykernel)",
   "language": "python",
   "name": "python3"
  },
  "language_info": {
   "codemirror_mode": {
    "name": "ipython",
    "version": 3
   },
   "file_extension": ".py",
   "mimetype": "text/x-python",
   "name": "python",
   "nbconvert_exporter": "python",
   "pygments_lexer": "ipython3",
   "version": "3.11.7"
  }
 },
 "nbformat": 4,
 "nbformat_minor": 5
}
