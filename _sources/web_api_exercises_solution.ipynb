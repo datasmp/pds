{
 "cells": [
  {
   "cell_type": "markdown",
   "id": "58187e9c-5d7e-4f9f-b2c2-2a3319dfd06a",
   "metadata": {},
   "source": [
    "# Web APIs Exercises Solutions"
   ]
  },
  {
   "cell_type": "markdown",
   "id": "a0f94064-515f-4406-8e3a-4b5ee4ba5a95",
   "metadata": {},
   "source": [
    "## Question-1\n",
    "Retrieve the advice with the 'id' number equal to 123 using the [Advice Slip API](https://api.adviceslip.com/)."
   ]
  },
  {
   "cell_type": "code",
   "execution_count": 71,
   "id": "fc4ed711-5a7f-4c59-89b1-401a415e15c8",
   "metadata": {},
   "outputs": [
    {
     "name": "stdout",
     "output_type": "stream",
     "text": [
      " ID: 123 --- ADVICE: Winter is coming.\n"
     ]
    }
   ],
   "source": [
    "import urllib.request\n",
    "import json\n",
    "\n",
    "slip_id = 123\n",
    "url = f'https://api.adviceslip.com/advice/{slip_id}'\n",
    "\n",
    "try:\n",
    "    response = urllib.request.urlopen(url)\n",
    "    data = json.loads(response.read().decode())\n",
    "    print(f' ID: {data[\"slip\"][\"id\"]} --- ADVICE: {data[\"slip\"][\"advice\"]}')\n",
    "except :\n",
    "    print(f'Error')"
   ]
  },
  {
   "cell_type": "markdown",
   "id": "27de8b08-3be6-4b1b-bb11-53abdb62fe95",
   "metadata": {},
   "source": [
    "## Question-2\n",
    "Choose 10 random 'id' numbers between 100 and 200 using the numpy.random.randint() function, and print the corresponding advice messages  if they contain fewer than 30 characters using the [Advice Slip API](https://api.adviceslip.com/)"
   ]
  },
  {
   "cell_type": "code",
   "execution_count": 68,
   "id": "4602dee8-6275-412c-b0d6-e76186e5b63f",
   "metadata": {},
   "outputs": [
    {
     "name": "stdout",
     "output_type": "stream",
     "text": [
      " ID: 123 --- ADVICE: Winter is coming.\n",
      " ID: 103 --- ADVICE: Respect your elders.\n"
     ]
    }
   ],
   "source": [
    "import urllib.request\n",
    "import json\n",
    "import numpy as np\n",
    "\n",
    "random_slip_id = np.random.randint(100,200,10)\n",
    "\n",
    "for slip_id in random_slip_id:\n",
    "    url = f'https://api.adviceslip.com/advice/{slip_id}'\n",
    "    try:\n",
    "        response = urllib.request.urlopen(url)\n",
    "        data = json.loads(response.read().decode())\n",
    "        if len(data[\"slip\"][\"advice\"]) < 30:\n",
    "            print(f' ID: {data[\"slip\"][\"id\"]} --- ADVICE: {data[\"slip\"][\"advice\"]}')\n",
    "    except :\n",
    "        print(f'Error')"
   ]
  },
  {
   "cell_type": "markdown",
   "id": "d2aa95a7-8915-405d-aafb-04999c09535d",
   "metadata": {},
   "source": [
    "## Question-3\n",
    "Find the date of the advice slip containing the word \"better\" and having an id number closest to 100 using the [Advice Slip API](https://api.adviceslip.com/)"
   ]
  },
  {
   "cell_type": "code",
   "execution_count": 149,
   "id": "41b3656b-220b-475c-ba7b-b7024c5cbe7a",
   "metadata": {},
   "outputs": [
    {
     "name": "stdout",
     "output_type": "stream",
     "text": [
      "Result Date: 2017-04-05\n"
     ]
    }
   ],
   "source": [
    "import urllib.request\n",
    "import json\n",
    "import math\n",
    "\n",
    "query = \"better\"\n",
    "url = f'https://api.adviceslip.com/advice/search/{query}'\n",
    "\n",
    "\n",
    "try:\n",
    "    response = urllib.request.urlopen(url)\n",
    "    data = json.loads(response.read().decode())\n",
    "except :\n",
    "    print(f'Error')\n",
    "\n",
    "close_ind = math.inf\n",
    "\n",
    "for slip in data['slips']:\n",
    "    if abs(int(slip['id']) - 50) < close_ind:\n",
    "        result_date = slip['date']\n",
    "        close_ind = abs(int(slip['id']) - 50)\n",
    "\n",
    "print(f'Result Date: {result_date}')"
   ]
  },
  {
   "cell_type": "markdown",
   "id": "8c65138e-3966-46bb-860c-1eedc4bde9f5",
   "metadata": {},
   "source": [
    "## Question-4\n",
    "Generate random latitude and longitude values for 20 different locations within the following ranges: latitude from -90 to 90 and longitude from -180 to 180. \n",
    "- Use the [Open-Meteo API](https://open-meteo.com/en/docs) to retrieve the temperature data for these locations.\n",
    "- Plot each location as a point on a graph, with the size of the point proportional to the absolute value of the temperature.\n",
    "- Assign red to the points representing negative temperatures and blue to those with positive temperatures."
   ]
  },
  {
   "cell_type": "code",
   "execution_count": 115,
   "id": "be8843e4-d7da-45b3-b4a0-eca6b3e23a88",
   "metadata": {},
   "outputs": [
    {
     "data": {
      "image/png": "[encoded data removed]",
      "text/plain": [
       "<Figure size 640x480 with 1 Axes>"
      ]
     },
     "metadata": {},
     "output_type": "display_data"
    }
   ],
   "source": [
    "import urllib.request\n",
    "import json\n",
    "import numpy as np\n",
    "import matplotlib.pyplot as plt\n",
    "\n",
    "N = 20\n",
    "random_latitude = np.random.uniform(-90, 90, N)\n",
    "random_longitude = np.random.uniform(-180, 180, N)\n",
    "\n",
    "for i in range(N):\n",
    "    latitude, longitude = random_latitude[i], random_longitude[i]\n",
    "    url = f'https://api.open-meteo.com/v1/forecast?latitude={latitude}&longitude={longitude}&current_weather=true'\n",
    "    \n",
    "    try:\n",
    "        response = urllib.request.urlopen(url)\n",
    "        data = json.loads(response.read().decode())\n",
    "        temp = data[\"current_weather\"][\"temperature\"]\n",
    "        if temp < 0: \n",
    "            color = 'r'\n",
    "        else: \n",
    "            color = 'b'\n",
    "        plt.scatter(longitude, latitude, s=abs(temp)*3, c=color)\n",
    "        plt.xlim(-180,180)\n",
    "        plt.ylim(-90,90)\n",
    "            \n",
    "    except :\n",
    "        print(f'Error')"
   ]
  },
  {
   "cell_type": "markdown",
   "id": "b61685cc-bcde-4485-a9ee-e237b3e49125",
   "metadata": {},
   "source": [
    "## Question-5\n",
    "Request one week of hourly temperature data for New York using the [Open-Meteo API](https://open-meteo.com/en/docs) and calculate the descriptive statistics of the temperature values, including max, min, mean, median, and standard deviation."
   ]
  },
  {
   "cell_type": "code",
   "execution_count": 168,
   "id": "df1382fe-4e55-4cdd-953e-847acfc6ade3",
   "metadata": {},
   "outputs": [
    {
     "name": "stdout",
     "output_type": "stream",
     "text": [
      "Maximum: 5.6\n",
      "Minimum: -7.0\n",
      "Mean   : -1.18\n",
      "Median : -1.40\n",
      "Std    : 3.32\n"
     ]
    }
   ],
   "source": [
    "import urllib.request\n",
    "import json\n",
    "import numpy as np\n",
    "\n",
    "latitude, longitude = 40.730610, -73.935242\n",
    "url = f'https://api.open-meteo.com/v1/forecast?latitude={latitude}&longitude={longitude}&hourly=temperature_2m'\n",
    "\n",
    "try:\n",
    "    response = urllib.request.urlopen(url)\n",
    "    data = json.loads(response.read().decode())\n",
    "    temp = data['hourly']['temperature_2m']\n",
    "except:\n",
    "    print('Error')\n",
    "\n",
    "print(f'Maximum: {max(temp)}')\n",
    "print(f'Minimum: {min(temp)}')\n",
    "print(f'Mean   : {np.mean(temp):.02f}')\n",
    "print(f'Median : {np.median(temp):.02f}')\n",
    "print(f'Std    : {np.std(temp):.02f}')"
   ]
  },
  {
   "cell_type": "markdown",
   "id": "1f7b0143-4b20-47ef-afab-d929b3d1de35",
   "metadata": {},
   "source": [
    "## Question-6\n",
    "Request the latitude and longitude values of 10 cities/states using the OpenWeather API, and then plot the locations of these countries on a coordinate system."
   ]
  },
  {
   "cell_type": "code",
   "execution_count": 179,
   "id": "2720e7ef-9153-450d-9ec1-596a7b307815",
   "metadata": {},
   "outputs": [
    {
     "data": {
      "image/png": "[encoded data removed]",
      "text/plain": [
       "<Figure size 640x480 with 1 Axes>"
      ]
     },
     "metadata": {},
     "output_type": "display_data"
    }
   ],
   "source": [
    "city_list = [\"London\", \"Paris\", \"Berlin\", \"Austin\", \"Washington\"]\n",
    "api_key = \"b06a02dc50ebce4f060fb01289ea5e78\"\n",
    "unit = \"metric\"\n",
    "lat_list, lon_list = [], []\n",
    "\n",
    "for city in city_list:\n",
    "    url = f'https://api.openweathermap.org/data/2.5/weather?q={city}&appid={api_key}&units={unit}'\n",
    "    response = urllib.request.urlopen(url)\n",
    "    data = json.loads(response.read().decode())\n",
    "    lat_list.append(data['coord']['lat'])\n",
    "    lon_list.append(data['coord']['lon'])\n",
    "\n",
    "plt.scatter(lon_list, lat_list);"
   ]
  },
  {
   "cell_type": "code",
   "execution_count": null,
   "id": "63bbfa57-a87c-4851-aa58-1c248dd96295",
   "metadata": {},
   "outputs": [],
   "source": []
  }
 ],
 "metadata": {
  "kernelspec": {
   "display_name": "Python 3 (ipykernel)",
   "language": "python",
   "name": "python3"
  },
  "language_info": {
   "codemirror_mode": {
    "name": "ipython",
    "version": 3
   },
   "file_extension": ".py",
   "mimetype": "text/x-python",
   "name": "python",
   "nbconvert_exporter": "python",
   "pygments_lexer": "ipython3",
   "version": "3.11.8"
  }
 },
 "nbformat": 4,
 "nbformat_minor": 5
}
