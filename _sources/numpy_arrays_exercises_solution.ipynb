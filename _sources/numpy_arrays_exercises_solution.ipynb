{
 "cells": [
  {
   "cell_type": "markdown",
   "id": "58187e9c-5d7e-4f9f-b2c2-2a3319dfd06a",
   "metadata": {},
   "source": [
    "# Numpy Array Exercises Solutions"
   ]
  },
  {
   "cell_type": "markdown",
   "id": "a43612d9-2e72-4224-aaeb-2c6637623705",
   "metadata": {},
   "source": [
    "## Question-1\n",
    "Create a 5x5 2D NumPy array with random values between 0 and 1:\n",
    "\n",
    "- Set a fixed seed for np.random to ensure reproducibility.\n",
    "- Replace all values in the second and fourth columns with 1 using indexing or slicing.\n",
    "- Replace all values in the second and fourth rows with 0 using indexing or slicing.\n",
    "Plot the final array."
   ]
  },
  {
   "cell_type": "code",
   "execution_count": 19,
   "id": "f39f7d64-41e4-4fb7-a582-9c7b0d942f85",
   "metadata": {},
   "outputs": [
    {
     "data": {
      "image/png": "[encoded data removed]",
      "text/plain": [
       "<Figure size 640x480 with 1 Axes>"
      ]
     },
     "metadata": {},
     "output_type": "display_data"
    }
   ],
   "source": [
    "import numpy as np\n",
    "import matplotlib.pyplot as plt\n",
    "np.random.seed(0)\n",
    "myarray = np.random.uniform(size=(5,5))\n",
    "myarray[:,1] = 1\n",
    "myarray[:,3] = 1\n",
    "myarray[1,:] = 0\n",
    "myarray[3,:] = 0\n",
    "plt.imshow(myarray, 'gray');"
   ]
  },
  {
   "cell_type": "markdown",
   "id": "669f8f95-22c0-42c7-a8a4-c57aa3d56314",
   "metadata": {},
   "source": [
    "## Question-2\n",
    "Select 4 images from the digits dataset and combine their NumPy arrays to create a single image arranged in a 2x2 grid. \n",
    "- Place 2 images on the top row and the other 2 images directly below them."
   ]
  },
  {
   "cell_type": "code",
   "execution_count": 33,
   "id": "bdfe931f-bc29-4cdd-b32a-cc2f4d7d7f88",
   "metadata": {},
   "outputs": [
    {
     "data": {
      "image/png": "[encoded data removed]",
      "text/plain": [
       "<Figure size 640x480 with 1 Axes>"
      ]
     },
     "metadata": {},
     "output_type": "display_data"
    }
   ],
   "source": [
    "import numpy as np\n",
    "from sklearn.datasets import load_digits\n",
    "import matplotlib.pyplot as plt\n",
    "\n",
    "dataset = load_digits()\n",
    "\n",
    "pict1 = dataset.images[0]\n",
    "pict2 = dataset.images[1]\n",
    "pict3 = dataset.images[2]\n",
    "pict4 = dataset.images[3]\n",
    "\n",
    "combined_pict = np.vstack([np.hstack([pict1, pict2]), np.hstack([pict3, pict4])])\n",
    "\n",
    "plt.imshow(combined_pict, 'gray');"
   ]
  },
  {
   "cell_type": "markdown",
   "id": "3042fa24-5128-4ed6-beb4-0f7771c130b1",
   "metadata": {},
   "source": [
    "## Question-3\n",
    "Generate an array of 50 random names with lengths of 3, 4, or 5 characters.\n",
    "- The length of each name should be chosen randomly, and the characters should be selected randomly."
   ]
  },
  {
   "cell_type": "code",
   "execution_count": 77,
   "id": "1a6620e8-4c56-415a-8ed7-b1b671700969",
   "metadata": {},
   "outputs": [
    {
     "data": {
      "text/plain": [
       "['pva', 'tvse', 'yymbg', 'yrfzn', 'jut']"
      ]
     },
     "execution_count": 77,
     "metadata": {},
     "output_type": "execute_result"
    }
   ],
   "source": [
    "import numpy as np\n",
    "import string\n",
    "\n",
    "np.random.seed(0)\n",
    "name_list = []\n",
    "\n",
    "for i in range(50):\n",
    "    length = np.random.choice([3,4,5])\n",
    "    name_list.append(''.join(np.random.choice(list(string.ascii_lowercase), size=(length,))))\n",
    "    \n",
    "name_list[:5]"
   ]
  },
  {
   "cell_type": "markdown",
   "id": "62827583-fc56-4a74-98f0-34df1541bdbc",
   "metadata": {},
   "source": [
    "## Question-4\n",
    "Create a 2D array with 50 rows and 5 columns containing values between 0 and 100. These values represent the grades for Test-1, Test-2, Test-3, Final, and LAB for each student, with their names generated in the previous question. Calculate the weighted percentage grade using the following weights:\n",
    "\n",
    "Weighted average = 0.15 * Test-1 + 0.20 * Test-2 + 0.25 * Test-3 + 0.30 * Final + 0.10 * LAB\n",
    "\n",
    "A student passes if their weighted average is greater than 55; otherwise, they fail.\n",
    "For each test, draw random values from a normal distribution with means chosen randomly between 20 and 80, and standard deviations between 5 and 10.\n",
    "\n",
    "You may round the values if necessary.\n",
    "\n",
    "Store the names, grades, weighted averages, and the corresponding pass/fail result in a single array. Add a header row with the column labels: Name, Test-1, Test-2, Test-3, Final, LAB, Result.\n",
    "\n",
    "The first two rows of the output:\n",
    "\n",
    "[['Name' 'Test-1' 'Test-2' 'Test-3' 'Final' 'LAB' 'Weighted Average' 'Result']  \n",
    " ['pva' '0.0' '0.0' '0.0' '0.0' '0.0' '0.0' 'Fail']]"
   ]
  },
  {
   "cell_type": "code",
   "execution_count": 193,
   "id": "1e42abd5-1d8b-491c-a40f-7bdb3455f5c3",
   "metadata": {},
   "outputs": [
    {
     "name": "stdout",
     "output_type": "stream",
     "text": [
      "[[0. 0. 0. 0. 0. 0. 0. 0.]\n",
      " [0. 0. 0. 0. 0. 0. 0. 0.]\n",
      " [0. 0. 0. 0. 0. 0. 0. 0.]\n",
      " [0. 0. 0. 0. 0. 0. 0. 0.]]\n"
     ]
    }
   ],
   "source": [
    "import numpy as np\n",
    "np.random.seed(0)\n",
    "labels = np.array(['Name', 'Test-1', 'Test-2', 'Test-3', 'Final', 'LAB', 'Weighted Average', 'Result']).reshape(1,8)\n",
    "names = np.array(name_list)\n",
    "grades = np.zeros((50,8))\n",
    "\n",
    "ind = 1\n",
    "for label in list(labels[1:-2]):\n",
    "    grades[:,ind] = np.random.normal(loc=np.random.uniform(20,80) , scale=np.random.uniform(5,25), size=(50,))\n",
    "    ind += 1\n",
    "\n",
    "grades[:,6] = 0.15*grades[:,1]+ 0.20*grades[:,2] + 0.25*grades[:,3] + 0.3*grades[:,4]+0.10*grades[:,5]\n",
    "\n",
    "result = np.where(grades[:,-2] > 55, 'Pass', 'Fail')\n",
    "\n",
    "# grades = np.round(grades, 3).astype(str)\n",
    "\n",
    "# grades = grades.astype('str')\n",
    "# grades[:,0] = names\n",
    "# grades[:,7] = result\n",
    "\n",
    "# grades = np.vstack([labels, grades])\n",
    "print(grades[:4])"
   ]
  },
  {
   "cell_type": "code",
   "execution_count": 163,
   "id": "393bf85b-fe7d-4e04-baec-0d11743eb88d",
   "metadata": {},
   "outputs": [
    {
     "data": {
      "text/plain": [
       "(1, 8)"
      ]
     },
     "execution_count": 163,
     "metadata": {},
     "output_type": "execute_result"
    }
   ],
   "source": [
    "labels.shape"
   ]
  },
  {
   "cell_type": "markdown",
   "id": "2d329cb7-9953-4a9b-87de-9a3f2a4c6cf9",
   "metadata": {},
   "source": [
    "## Question-5\n",
    "Create a 10x10 array with ones along both diagonals and zeros in all other positions. Plot the array so that it forms an \"X\" shape."
   ]
  },
  {
   "cell_type": "code",
   "execution_count": 71,
   "id": "9aae290e-78dc-4a4f-8e94-5f6bb86bad64",
   "metadata": {},
   "outputs": [
    {
     "data": {
      "image/png": "[encoded data removed]",
      "text/plain": [
       "<Figure size 640x480 with 1 Axes>"
      ]
     },
     "metadata": {},
     "output_type": "display_data"
    }
   ],
   "source": [
    "import numpy as np\n",
    "import matplotlib.pyplot as plt\n",
    "\n",
    "array = np.zeros((10,10))\n",
    "\n",
    "for i in range(10):\n",
    "    array[i,i] = 1\n",
    "    array[i,9-i] = 1\n",
    "\n",
    "plt.imshow(array, 'gray');"
   ]
  },
  {
   "cell_type": "markdown",
   "id": "b69b91c4-7a2b-44c3-b296-1133638c713d",
   "metadata": {},
   "source": [
    "## Question-6\n",
    "Generate 10,000 randomly chosen passwords, each consisting of five lowercase letters and three numbers in any order."
   ]
  },
  {
   "cell_type": "code",
   "execution_count": null,
   "id": "ba670def-1623-4f4b-aec9-435cc9f5557a",
   "metadata": {},
   "outputs": [],
   "source": [
    "import numpy as np\n",
    "import string\n",
    "np.random.seed(0)\n",
    "\n",
    "digits = list(string.digits) \n",
    "lower_case = list(string.ascii_lowercase)\n",
    "passwords = []\n",
    "\n",
    "for i in range(1000):\n",
    "    password = list(np.random.choice(digits, 2)) + list(np.random.choice(lower_case, 2))\n",
    "    np.random.shuffle(password) \n",
    "    passwords.append(''.join(password))"
   ]
  }
 ],
 "metadata": {
  "kernelspec": {
   "display_name": "Python 3 (ipykernel)",
   "language": "python",
   "name": "python3"
  },
  "language_info": {
   "codemirror_mode": {
    "name": "ipython",
    "version": 3
   },
   "file_extension": ".py",
   "mimetype": "text/x-python",
   "name": "python",
   "nbconvert_exporter": "python",
   "pygments_lexer": "ipython3",
   "version": "3.11.8"
  }
 },
 "nbformat": 4,
 "nbformat_minor": 5
}
