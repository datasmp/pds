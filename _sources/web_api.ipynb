{
 "cells": [
  {
   "cell_type": "markdown",
   "id": "58187e9c-5d7e-4f9f-b2c2-2a3319dfd06a",
   "metadata": {},
   "source": [
    "# Web APIs\n",
    "![Section Title: Web APIs](title_pict/web_api2.png)\n",
    "API stands for Application Programming Interface. It basically connects applications to work together and share information.\n",
    "- Web APIs enable applications to communicate with each other over the internet by sending and receiving data. \n",
    "- For example, you can request stock price information from [Yahoo Finance](https://finance.yahoo.com/), weather details from [OpenWeather](https://openweathermap.org/), or Twitter messages from X (formerly Twitter).\n",
    "- Some API services are completely free and can be used without any setup. Others require you to create an account and obtain an API key, even if they are free. Many APIs offer limited free usage, with additional charges for higher usage.\n",
    "- On the landing pages of many websites, you can often find a link to their API information.\n",
    "- Python provides several libraries for working with Web APIs. In this chapter, we will primarily use *urllib*.\n"
   ]
  },
  {
   "cell_type": "markdown",
   "id": "7df3a772-0df7-4fdb-b946-dc5f40531aaa",
   "metadata": {},
   "source": [
    "### JSON\n",
    "JSON stands for JavaScript Object Notation. It is a text-based format used to store structured data. \n",
    "- JSON is commonly used for exchanging data between applications, making it easy to transmit information across different systems.\n",
    "- At first, it may seem complicated, long, and messy, but JSON is actually very easy to read.\n",
    "- It is composed of key-value pairs, where each key is associated with a value.\n",
    "- JSON can be used with any programming language.\n",
    "- Below is an example of how data appears in JSON format:"
   ]
  },
  {
   "cell_type": "code",
   "execution_count": 3,
   "id": "f48304f7-be98-420e-a2af-0777675b03be",
   "metadata": {},
   "outputs": [
    {
     "name": "stdout",
     "output_type": "stream",
     "text": [
      "{\n",
      "\n",
      " \"cells\": [\n",
      "\n",
      "  {\n",
      "\n",
      "   \"cell_type\": \"markdown\",\n",
      "\n",
      "   \"id\": \"d8712b3b-783d-4fee-b9d9-65c3178feb7f\",\n",
      "\n",
      "   \"metadata\": {},\n",
      "\n",
      "   \"source\": [\n",
      "\n",
      "    \"# Numpy Arrays\\n\",\n",
      "\n",
      "    \"![](title_pict/numpy2.png)\"\n",
      "\n",
      "   ]\n",
      "\n",
      "  },\n",
      "\n",
      "  {\n",
      "\n",
      "   \"cell_type\": \"markdown\",\n",
      "\n",
      "   \"id\": \"7d557bc0-854e-4690-a83d-fbbb8a904085\",\n",
      "\n",
      "   \"metadata\": {},\n",
      "\n",
      "   \"source\": [\n",
      "\n",
      "    \"## Missing Parts\\n\",\n",
      "\n",
      "    \"- Vectorized Operations\"\n",
      "\n",
      "   ]\n",
      "\n",
      "  },\n",
      "\n",
      "\n",
      "\n"
     ]
    }
   ],
   "source": [
    "fhand = open('json_sample.txt')\n",
    "for line in fhand:\n",
    "    print(line)"
   ]
  },
  {
   "cell_type": "markdown",
   "id": "6594a2d1-7bd9-4138-b6af-61b11b7179bd",
   "metadata": {},
   "source": [
    "## Example: Advice Slip\n",
    "[https://adviceslip.com/](https://adviceslip.com/) is a website that provides advice.\n",
    "- Its API can be used to request advice programmatically.\n",
    "- For more information about their API services, visit the following link: [Advice Slip API Documentation](https://api.adviceslip.com/)."
   ]
  },
  {
   "cell_type": "markdown",
   "id": "f55cbe20-7dde-4898-a317-6d6ad4ec63ce",
   "metadata": {},
   "source": [
    "The following libraries will be required:"
   ]
  },
  {
   "cell_type": "code",
   "execution_count": 6,
   "id": "c128cd54-5bdd-4721-8df1-91feabdfa60b",
   "metadata": {},
   "outputs": [],
   "source": [
    "import urllib.request\n",
    "import json"
   ]
  },
  {
   "cell_type": "markdown",
   "id": "79c54e09-ced1-4ad8-84a3-de7052eca50f",
   "metadata": {},
   "source": [
    "### Random Advice"
   ]
  },
  {
   "cell_type": "markdown",
   "id": "4b85303f-0de8-421f-9acc-410280bf3479",
   "metadata": {},
   "source": [
    "To receive a random advice, the following [URL](https://api.adviceslip.com/advice) will be used, as provided on the [website](https://api.adviceslip.com/):"
   ]
  },
  {
   "cell_type": "code",
   "execution_count": 9,
   "id": "ea625558-6c91-4c4c-b6b7-c5b62bbb6585",
   "metadata": {},
   "outputs": [],
   "source": [
    "url = 'https://api.adviceslip.com/advice'"
   ]
  },
  {
   "cell_type": "markdown",
   "id": "580a9928-6d76-4e34-88c9-c3ec8b96ce81",
   "metadata": {},
   "source": [
    "In the following code, urllib.request.urlopen() opens the webpage with the given URL (called API endpoint):\n",
    "\n",
    "- It sends an HTTP request to the URL and retrieves the response from the server.\n",
    "- It returns a response object, which contains the server's response to the request.\n",
    "- This response object can be used to access the content, status code, headers, and other details of the server's response."
   ]
  },
  {
   "cell_type": "code",
   "execution_count": 11,
   "id": "c1da0047-64e6-4ceb-bca3-0894db019dff",
   "metadata": {},
   "outputs": [
    {
     "data": {
      "text/plain": [
       "<http.client.HTTPResponse at 0x155297a30>"
      ]
     },
     "execution_count": 11,
     "metadata": {},
     "output_type": "execute_result"
    }
   ],
   "source": [
    "response = urllib.request.urlopen(url)\n",
    "response"
   ]
  },
  {
   "cell_type": "code",
   "execution_count": 12,
   "id": "aa22a444-8b51-4398-aa4a-74671f0e96f4",
   "metadata": {},
   "outputs": [
    {
     "data": {
      "text/plain": [
       "http.client.HTTPResponse"
      ]
     },
     "execution_count": 12,
     "metadata": {},
     "output_type": "execute_result"
    }
   ],
   "source": [
    "type(response)"
   ]
  },
  {
   "cell_type": "markdown",
   "id": "d57045a1-d558-4c80-b21b-2f4f01a8ea59",
   "metadata": {},
   "source": [
    "- You can then read the content from the response using a for loop line by line or methods like read()."
   ]
  },
  {
   "cell_type": "code",
   "execution_count": 14,
   "id": "72abb4ea-e3bc-44bb-82c7-5af9d914a958",
   "metadata": {},
   "outputs": [
    {
     "name": "stdout",
     "output_type": "stream",
     "text": [
      "b'{\"slip\": { \"id\": 84, \"advice\": \"Never set an alarm clock unless you know how to switch it off\"}}'\n"
     ]
    }
   ],
   "source": [
    "for line in response:\n",
    "    print(line)"
   ]
  },
  {
   "cell_type": "code",
   "execution_count": 15,
   "id": "c95b6f5b-91d5-4905-b0bd-2046822b6d56",
   "metadata": {},
   "outputs": [
    {
     "data": {
      "text/plain": [
       "b'{\"slip\": { \"id\": 190, \"advice\": \"Don\\'t always believe what you think.\"}}'"
      ]
     },
     "execution_count": 15,
     "metadata": {},
     "output_type": "execute_result"
    }
   ],
   "source": [
    "response = urllib.request.urlopen(url)\n",
    "response.read()"
   ]
  },
  {
   "cell_type": "markdown",
   "id": "8c13ff6f-eb7c-485f-baac-5e0bd022f2e9",
   "metadata": {},
   "source": [
    "- The type of the line returned by urllib.request.urlopen() is bytes.\n",
    "- The *read()* method also returns a byte object.\n",
    "- You can use *decode()* method to convert it to a string.\n",
    "- To work with the content as a string, you need to decode the bytes."
   ]
  },
  {
   "cell_type": "code",
   "execution_count": 17,
   "id": "40d79d13-481a-4ec3-bc34-6838bd5bb01e",
   "metadata": {},
   "outputs": [
    {
     "name": "stdout",
     "output_type": "stream",
     "text": [
      "response: {\"slip\": { \"id\": 145, \"advice\": \"Always the burrito.\"}} \n",
      "\n",
      "TYPE: <class 'str'>\n"
     ]
    }
   ],
   "source": [
    "response = urllib.request.urlopen(url)\n",
    "\n",
    "for line in response:\n",
    "    print(f'response: {line.decode()} \\n\\nTYPE: {type(line.decode())}')"
   ]
  },
  {
   "cell_type": "code",
   "execution_count": 18,
   "id": "9f7b361d-8ab8-490c-893b-bbb5a1b9b658",
   "metadata": {},
   "outputs": [
    {
     "data": {
      "text/plain": [
       "'{\"slip\": { \"id\": 170, \"advice\": \"Remedy tickly coughs with a drink of honey, lemon and water as hot as you can take.\"}}'"
      ]
     },
     "execution_count": 18,
     "metadata": {},
     "output_type": "execute_result"
    }
   ],
   "source": [
    "response = urllib.request.urlopen(url)\n",
    "response.read().decode()"
   ]
  },
  {
   "cell_type": "markdown",
   "id": "a70cdec2-acc4-4fc6-ae3e-16cd397e0ad4",
   "metadata": {},
   "source": [
    "- *json.loads()* is used to convert the response into a Python dictionary.\n",
    "- This makes it easier to access and manipulate the content of the response, as you can use key-value pairs."
   ]
  },
  {
   "cell_type": "code",
   "execution_count": 20,
   "id": "a08a7e47-864a-4bfa-8635-231f1d5191df",
   "metadata": {},
   "outputs": [
    {
     "data": {
      "text/plain": [
       "{'slip': {'id': 205,\n",
       "  'advice': \"Try to not compliment people on things they don't control.\"}}"
      ]
     },
     "execution_count": 20,
     "metadata": {},
     "output_type": "execute_result"
    }
   ],
   "source": [
    "response = urllib.request.urlopen(url)\n",
    "data = json.loads(response.read().decode())\n",
    "data"
   ]
  },
  {
   "cell_type": "code",
   "execution_count": 21,
   "id": "6d3b2057-dfa2-470a-a2df-22a01fd62a57",
   "metadata": {},
   "outputs": [
    {
     "data": {
      "text/plain": [
       "dict"
      ]
     },
     "execution_count": 21,
     "metadata": {},
     "output_type": "execute_result"
    }
   ],
   "source": [
    "type(data)"
   ]
  },
  {
   "cell_type": "markdown",
   "id": "a87ba0b9-8faa-45cc-85e5-3cd8b482583e",
   "metadata": {},
   "source": [
    "- In the data dictionary, there is a key-value pair where the key is 'slip', and the corresponding value is another dictionary. "
   ]
  },
  {
   "cell_type": "code",
   "execution_count": 23,
   "id": "45bdd671-3d75-4c9c-86a4-1557b7170cef",
   "metadata": {},
   "outputs": [
    {
     "data": {
      "text/plain": [
       "{'id': 205,\n",
       " 'advice': \"Try to not compliment people on things they don't control.\"}"
      ]
     },
     "execution_count": 23,
     "metadata": {},
     "output_type": "execute_result"
    }
   ],
   "source": [
    "data['slip']"
   ]
  },
  {
   "cell_type": "markdown",
   "id": "a000a08d-f2b2-4611-baaf-13e02397caa7",
   "metadata": {},
   "source": [
    "- The second (inner) dictionary contains two key-value pairs with the keys: 'id' and 'advice'.\n",
    "- To access the id number and the advice, you can use the following code:"
   ]
  },
  {
   "cell_type": "code",
   "execution_count": 25,
   "id": "1446f7ec-1759-4762-893c-7914d0ef0ea9",
   "metadata": {},
   "outputs": [
    {
     "data": {
      "text/plain": [
       "205"
      ]
     },
     "execution_count": 25,
     "metadata": {},
     "output_type": "execute_result"
    }
   ],
   "source": [
    "data['slip']['id']"
   ]
  },
  {
   "cell_type": "code",
   "execution_count": 26,
   "id": "fbe8ede1-5f16-4818-8458-69a36577630c",
   "metadata": {},
   "outputs": [
    {
     "data": {
      "text/plain": [
       "\"Try to not compliment people on things they don't control.\""
      ]
     },
     "execution_count": 26,
     "metadata": {},
     "output_type": "execute_result"
    }
   ],
   "source": [
    "data['slip']['advice']"
   ]
  },
  {
   "cell_type": "markdown",
   "id": "8ce1aa95-2193-480e-b08c-2dbcd22db2ec",
   "metadata": {},
   "source": [
    "Since access issues to URLs are common, it's recommended to use a try-except statement to handle any potential errors.\n",
    "- This allows the code to handle exceptions such as network errors or HTTP errors without crashing."
   ]
  },
  {
   "cell_type": "code",
   "execution_count": 28,
   "id": "b4a76908-7d6b-41e4-8381-4dbb73796a42",
   "metadata": {},
   "outputs": [
    {
     "name": "stdout",
     "output_type": "stream",
     "text": [
      " ID: 61 --- ADVICE: Once in a while, eat some sweets you used to enjoy when you were younger.\n"
     ]
    }
   ],
   "source": [
    "import urllib.request\n",
    "import json\n",
    "\n",
    "url = 'https://api.adviceslip.com/advice'\n",
    "\n",
    "try:\n",
    "    response = urllib.request.urlopen(url)\n",
    "    data = json.loads(response.read().decode())\n",
    "    print(f' ID: {data[\"slip\"][\"id\"]} --- ADVICE: {data[\"slip\"][\"advice\"]}')\n",
    "except :\n",
    "    print(f'Error')"
   ]
  },
  {
   "cell_type": "markdown",
   "id": "09b38f4b-e8d4-4fe8-ae14-dbaadb3783a3",
   "metadata": {},
   "source": [
    "### Searching Advice\n",
    "As stated in the API documentation, advice slips related to a specific search term can be retrieved using the following code:\n",
    "\n",
    "- The primary changes are in the URL, where the search query is included, and the structure of the returned data is slightly different.\n",
    "- In the following example, we will search for advice slips containing the word \"always.\""
   ]
  },
  {
   "cell_type": "code",
   "execution_count": 30,
   "id": "07b083a5-d712-4ccb-b059-28eebe81598e",
   "metadata": {},
   "outputs": [],
   "source": [
    "query = \"always\"\n",
    "url = f'https://api.adviceslip.com/advice/search/{query}'\n",
    "\n",
    "response = urllib.request.urlopen(url)\n",
    "data = json.loads(response.read().decode())"
   ]
  },
  {
   "cell_type": "markdown",
   "id": "36ebd6e0-97e2-4cc0-ae62-e1871b0661c9",
   "metadata": {},
   "source": [
    "- The type of *data* is a dictionary."
   ]
  },
  {
   "cell_type": "code",
   "execution_count": 32,
   "id": "de5e6286-ef16-4b51-a57f-897cf10ccd3a",
   "metadata": {},
   "outputs": [
    {
     "data": {
      "text/plain": [
       "{'total_results': '17',\n",
       " 'query': 'always',\n",
       " 'slips': [{'id': 9,\n",
       "   'advice': 'True happiness always resides in the quest.',\n",
       "   'date': '2015-10-24'},\n",
       "  {'id': 12, 'advice': 'Always block trolls.', 'date': '2016-11-30'},\n",
       "  {'id': 13,\n",
       "   'advice': \"If you're feeling tired or anxious, a pint of water will almost always make you feel better.\",\n",
       "   'date': '2016-10-23'},\n",
       "  {'id': 34,\n",
       "   'advice': 'To improve productivity, always have a shittier task to put off.',\n",
       "   'date': '2016-09-26'},\n",
       "  {'id': 38,\n",
       "   'advice': 'The most delicious cocktails often have the highest alcohol content. Always pace yourself to preserve your dignity.',\n",
       "   'date': '2016-09-21'},\n",
       "  {'id': 42,\n",
       "   'advice': 'Always double check you actually attached the file to the email.',\n",
       "   'date': '2017-03-30'},\n",
       "  {'id': 75,\n",
       "   'advice': 'You will always regret the round of Tequila.',\n",
       "   'date': '2015-04-07'},\n",
       "  {'id': 76,\n",
       "   'advice': 'You will always regret the round of JÃ¤germeister.',\n",
       "   'date': '2016-12-19'},\n",
       "  {'id': 98, 'advice': \"It's always the quiet ones.\", 'date': '2015-10-04'},\n",
       "  {'id': 145, 'advice': 'Always the burrito.', 'date': '2015-10-13'},\n",
       "  {'id': 173, 'advice': 'Always bet on black.', 'date': '2016-11-12'},\n",
       "  {'id': 178,\n",
       "   'advice': \"It always seems impossible, until it's done.\",\n",
       "   'date': '2017-03-09'},\n",
       "  {'id': 183, 'advice': 'Always get two ciders.', 'date': '2017-01-01'},\n",
       "  {'id': 187,\n",
       "   'advice': 'The sun always shines above the clouds.',\n",
       "   'date': '2013-01-01'},\n",
       "  {'id': 190,\n",
       "   'advice': \"Don't always believe what you think.\",\n",
       "   'date': '2016-08-21'},\n",
       "  {'id': 194,\n",
       "   'advice': \"Don't always rely on your comforts.\",\n",
       "   'date': '2017-01-08'},\n",
       "  {'id': 207,\n",
       "   'advice': 'Always seek out advice or opinions when making a decision.',\n",
       "   'date': '2016-11-05'}]}"
      ]
     },
     "execution_count": 32,
     "metadata": {},
     "output_type": "execute_result"
    }
   ],
   "source": [
    "data"
   ]
  },
  {
   "cell_type": "markdown",
   "id": "403b9ff7-e459-4bb8-9ef3-de4c841027c2",
   "metadata": {},
   "source": [
    "## Example: Weather Info"
   ]
  },
  {
   "cell_type": "markdown",
   "id": "12af2510-5551-4e46-8bfc-3ce2bb30b8a5",
   "metadata": {},
   "source": [
    "In this example, we will use the [Open-Meteo API](https://open-meteo.com/en/docs) to access weather information using latitude and longitude.\n",
    "- We will use the latitude and longitude coordinates of California.\n",
    "- The URL contains placeholders for the latitude and longitude values."
   ]
  },
  {
   "cell_type": "code",
   "execution_count": 35,
   "id": "a14f8226-f97d-4bcf-b0a1-5322403e4380",
   "metadata": {},
   "outputs": [],
   "source": [
    "import urllib.request\n",
    "import json\n",
    "\n",
    "latitude, longitude = 36.7783, -119.4179\n",
    "\n",
    "url = f'https://api.open-meteo.com/v1/forecast?latitude={latitude}&longitude={longitude}&current_weather=true'"
   ]
  },
  {
   "cell_type": "markdown",
   "id": "012d55e2-bea4-4bd6-8b18-94ff09436212",
   "metadata": {},
   "source": [
    "- urllib.request.urlopen() opens the webpage with the given URL\n",
    "- read() returns the response as a byte object, making it readable like a file.\n",
    "- decode() converts the byte response into a string.\n",
    "- json.loads() converts the string response into a dictionary."
   ]
  },
  {
   "cell_type": "code",
   "execution_count": 37,
   "id": "3d0e1048-a5da-4f62-9ec0-7ba387636a33",
   "metadata": {},
   "outputs": [
    {
     "data": {
      "text/plain": [
       "{'latitude': 36.765133,\n",
       " 'longitude': -119.425156,\n",
       " 'generationtime_ms': 0.06437301635742188,\n",
       " 'utc_offset_seconds': 0,\n",
       " 'timezone': 'GMT',\n",
       " 'timezone_abbreviation': 'GMT',\n",
       " 'elevation': 144.0,\n",
       " 'current_weather_units': {'time': 'iso8601',\n",
       "  'interval': 'seconds',\n",
       "  'temperature': '°C',\n",
       "  'windspeed': 'km/h',\n",
       "  'winddirection': '°',\n",
       "  'is_day': '',\n",
       "  'weathercode': 'wmo code'},\n",
       " 'current_weather': {'time': '2025-01-15T20:15',\n",
       "  'interval': 900,\n",
       "  'temperature': 15.0,\n",
       "  'windspeed': 6.5,\n",
       "  'winddirection': 273,\n",
       "  'is_day': 1,\n",
       "  'weathercode': 0}}"
      ]
     },
     "execution_count": 37,
     "metadata": {},
     "output_type": "execute_result"
    }
   ],
   "source": [
    "response = urllib.request.urlopen(url)\n",
    "data = json.loads(response.read().decode())\n",
    "data"
   ]
  },
  {
   "cell_type": "markdown",
   "id": "e8e02a07-b052-49ec-bfa2-b166d5b1dc81",
   "metadata": {},
   "source": [
    "- *data* is a dictionary, and the values corresponding to the keys 'current_weather_units' and 'current_weather' are both dictionaries."
   ]
  },
  {
   "cell_type": "code",
   "execution_count": 39,
   "id": "93e66781-4ff3-4029-b44a-f1e6789cf165",
   "metadata": {},
   "outputs": [
    {
     "data": {
      "text/plain": [
       "dict_keys(['latitude', 'longitude', 'generationtime_ms', 'utc_offset_seconds', 'timezone', 'timezone_abbreviation', 'elevation', 'current_weather_units', 'current_weather'])"
      ]
     },
     "execution_count": 39,
     "metadata": {},
     "output_type": "execute_result"
    }
   ],
   "source": [
    "data.keys()"
   ]
  },
  {
   "cell_type": "code",
   "execution_count": 40,
   "id": "f8b7e95c-4dbd-4a5b-bdac-c878e4b29457",
   "metadata": {},
   "outputs": [
    {
     "data": {
      "text/plain": [
       "{'time': '2025-01-15T20:15',\n",
       " 'interval': 900,\n",
       " 'temperature': 15.0,\n",
       " 'windspeed': 6.5,\n",
       " 'winddirection': 273,\n",
       " 'is_day': 1,\n",
       " 'weathercode': 0}"
      ]
     },
     "execution_count": 40,
     "metadata": {},
     "output_type": "execute_result"
    }
   ],
   "source": [
    "data['current_weather']"
   ]
  },
  {
   "cell_type": "code",
   "execution_count": 41,
   "id": "c032dde3-ac10-47c4-9361-3ed3de4f0e9b",
   "metadata": {},
   "outputs": [
    {
     "data": {
      "text/plain": [
       "{'time': 'iso8601',\n",
       " 'interval': 'seconds',\n",
       " 'temperature': '°C',\n",
       " 'windspeed': 'km/h',\n",
       " 'winddirection': '°',\n",
       " 'is_day': '',\n",
       " 'weathercode': 'wmo code'}"
      ]
     },
     "execution_count": 41,
     "metadata": {},
     "output_type": "execute_result"
    }
   ],
   "source": [
    "data['current_weather_units']"
   ]
  },
  {
   "cell_type": "markdown",
   "id": "d7b99762-48a0-4b4b-a4b3-886a795c2442",
   "metadata": {},
   "source": [
    "- The temperature and its unit can be combined as follows:"
   ]
  },
  {
   "cell_type": "code",
   "execution_count": 43,
   "id": "07c62774-74b3-440e-9148-a5de8037ccab",
   "metadata": {},
   "outputs": [
    {
     "data": {
      "text/plain": [
       "'15.0°C'"
      ]
     },
     "execution_count": 43,
     "metadata": {},
     "output_type": "execute_result"
    }
   ],
   "source": [
    "str(data['current_weather']['temperature']) +  data['current_weather_units']['temperature']"
   ]
  },
  {
   "cell_type": "code",
   "execution_count": 44,
   "id": "93243797-aea3-43e2-90b2-5d65adea577d",
   "metadata": {},
   "outputs": [
    {
     "name": "stdout",
     "output_type": "stream",
     "text": [
      "Temperature: 15.0 °C\n",
      "Windspeed  : 6.5 km/h\n"
     ]
    }
   ],
   "source": [
    "import urllib.request\n",
    "import json\n",
    "\n",
    "latitude, longitude = 36.7783, -119.4179\n",
    "url = f'https://api.open-meteo.com/v1/forecast?latitude={latitude}&longitude={longitude}&current_weather=true'\n",
    "\n",
    "try:\n",
    "    response = urllib.request.urlopen(url)\n",
    "    data = json.loads(response.read().decode())\n",
    "    print(f'Temperature: {data[\"current_weather\"][\"temperature\"]} {data[\"current_weather_units\"][\"temperature\"]}')\n",
    "    print(f'Windspeed  : {data[\"current_weather\"][\"windspeed\"]} {data[\"current_weather_units\"][\"windspeed\"]}')\n",
    "\n",
    "except :\n",
    "    print(f'Error')"
   ]
  },
  {
   "cell_type": "markdown",
   "id": "4938eba7-7eda-42e3-9a8d-f9bc37e3bf3c",
   "metadata": {},
   "source": [
    "### Hourly Data\n",
    "The hourly parameter allows you to retrieve hourly temperature data measured at a height of 2 meters above ground level."
   ]
  },
  {
   "cell_type": "code",
   "execution_count": 46,
   "id": "cb310674-fe00-4246-8bfc-b8897ee7c17e",
   "metadata": {},
   "outputs": [],
   "source": [
    "import urllib.request\n",
    "import json\n",
    "\n",
    "latitude, longitude = 36.7783, -119.4179\n",
    "url = f'https://api.open-meteo.com/v1/forecast?latitude={latitude}&longitude={longitude}&hourly=temperature_2m'\n",
    "\n",
    "response = urllib.request.urlopen(url)\n",
    "data = json.loads(response.read().decode())"
   ]
  },
  {
   "cell_type": "markdown",
   "id": "82c28674-691f-4549-b4cd-ff6ae7551583",
   "metadata": {},
   "source": [
    "- *data* is a dictionary, and the values corresponding to the keys 'hoourly' and 'temperature_2m' are both dictionaries."
   ]
  },
  {
   "cell_type": "code",
   "execution_count": 48,
   "id": "daf632db-1887-4032-a8b8-48659aab14c1",
   "metadata": {},
   "outputs": [
    {
     "data": {
      "text/plain": [
       "{'latitude': 36.765133,\n",
       " 'longitude': -119.425156,\n",
       " 'generationtime_ms': 0.041365623474121094,\n",
       " 'utc_offset_seconds': 0,\n",
       " 'timezone': 'GMT',\n",
       " 'timezone_abbreviation': 'GMT',\n",
       " 'elevation': 144.0,\n",
       " 'hourly_units': {'time': 'iso8601', 'temperature_2m': '°C'},\n",
       " 'hourly': {'time': ['2025-01-15T00:00',\n",
       "   '2025-01-15T01:00',\n",
       "   '2025-01-15T02:00',\n",
       "   '2025-01-15T03:00',\n",
       "   '2025-01-15T04:00',\n",
       "   '2025-01-15T05:00',\n",
       "   '2025-01-15T06:00',\n",
       "   '2025-01-15T07:00',\n",
       "   '2025-01-15T08:00',\n",
       "   '2025-01-15T09:00',\n",
       "   '2025-01-15T10:00',\n",
       "   '2025-01-15T11:00',\n",
       "   '2025-01-15T12:00',\n",
       "   '2025-01-15T13:00',\n",
       "   '2025-01-15T14:00',\n",
       "   '2025-01-15T15:00',\n",
       "   '2025-01-15T16:00',\n",
       "   '2025-01-15T17:00',\n",
       "   '2025-01-15T18:00',\n",
       "   '2025-01-15T19:00',\n",
       "   '2025-01-15T20:00',\n",
       "   '2025-01-15T21:00',\n",
       "   '2025-01-15T22:00',\n",
       "   '2025-01-15T23:00',\n",
       "   '2025-01-16T00:00',\n",
       "   '2025-01-16T01:00',\n",
       "   '2025-01-16T02:00',\n",
       "   '2025-01-16T03:00',\n",
       "   '2025-01-16T04:00',\n",
       "   '2025-01-16T05:00',\n",
       "   '2025-01-16T06:00',\n",
       "   '2025-01-16T07:00',\n",
       "   '2025-01-16T08:00',\n",
       "   '2025-01-16T09:00',\n",
       "   '2025-01-16T10:00',\n",
       "   '2025-01-16T11:00',\n",
       "   '2025-01-16T12:00',\n",
       "   '2025-01-16T13:00',\n",
       "   '2025-01-16T14:00',\n",
       "   '2025-01-16T15:00',\n",
       "   '2025-01-16T16:00',\n",
       "   '2025-01-16T17:00',\n",
       "   '2025-01-16T18:00',\n",
       "   '2025-01-16T19:00',\n",
       "   '2025-01-16T20:00',\n",
       "   '2025-01-16T21:00',\n",
       "   '2025-01-16T22:00',\n",
       "   '2025-01-16T23:00',\n",
       "   '2025-01-17T00:00',\n",
       "   '2025-01-17T01:00',\n",
       "   '2025-01-17T02:00',\n",
       "   '2025-01-17T03:00',\n",
       "   '2025-01-17T04:00',\n",
       "   '2025-01-17T05:00',\n",
       "   '2025-01-17T06:00',\n",
       "   '2025-01-17T07:00',\n",
       "   '2025-01-17T08:00',\n",
       "   '2025-01-17T09:00',\n",
       "   '2025-01-17T10:00',\n",
       "   '2025-01-17T11:00',\n",
       "   '2025-01-17T12:00',\n",
       "   '2025-01-17T13:00',\n",
       "   '2025-01-17T14:00',\n",
       "   '2025-01-17T15:00',\n",
       "   '2025-01-17T16:00',\n",
       "   '2025-01-17T17:00',\n",
       "   '2025-01-17T18:00',\n",
       "   '2025-01-17T19:00',\n",
       "   '2025-01-17T20:00',\n",
       "   '2025-01-17T21:00',\n",
       "   '2025-01-17T22:00',\n",
       "   '2025-01-17T23:00',\n",
       "   '2025-01-18T00:00',\n",
       "   '2025-01-18T01:00',\n",
       "   '2025-01-18T02:00',\n",
       "   '2025-01-18T03:00',\n",
       "   '2025-01-18T04:00',\n",
       "   '2025-01-18T05:00',\n",
       "   '2025-01-18T06:00',\n",
       "   '2025-01-18T07:00',\n",
       "   '2025-01-18T08:00',\n",
       "   '2025-01-18T09:00',\n",
       "   '2025-01-18T10:00',\n",
       "   '2025-01-18T11:00',\n",
       "   '2025-01-18T12:00',\n",
       "   '2025-01-18T13:00',\n",
       "   '2025-01-18T14:00',\n",
       "   '2025-01-18T15:00',\n",
       "   '2025-01-18T16:00',\n",
       "   '2025-01-18T17:00',\n",
       "   '2025-01-18T18:00',\n",
       "   '2025-01-18T19:00',\n",
       "   '2025-01-18T20:00',\n",
       "   '2025-01-18T21:00',\n",
       "   '2025-01-18T22:00',\n",
       "   '2025-01-18T23:00',\n",
       "   '2025-01-19T00:00',\n",
       "   '2025-01-19T01:00',\n",
       "   '2025-01-19T02:00',\n",
       "   '2025-01-19T03:00',\n",
       "   '2025-01-19T04:00',\n",
       "   '2025-01-19T05:00',\n",
       "   '2025-01-19T06:00',\n",
       "   '2025-01-19T07:00',\n",
       "   '2025-01-19T08:00',\n",
       "   '2025-01-19T09:00',\n",
       "   '2025-01-19T10:00',\n",
       "   '2025-01-19T11:00',\n",
       "   '2025-01-19T12:00',\n",
       "   '2025-01-19T13:00',\n",
       "   '2025-01-19T14:00',\n",
       "   '2025-01-19T15:00',\n",
       "   '2025-01-19T16:00',\n",
       "   '2025-01-19T17:00',\n",
       "   '2025-01-19T18:00',\n",
       "   '2025-01-19T19:00',\n",
       "   '2025-01-19T20:00',\n",
       "   '2025-01-19T21:00',\n",
       "   '2025-01-19T22:00',\n",
       "   '2025-01-19T23:00',\n",
       "   '2025-01-20T00:00',\n",
       "   '2025-01-20T01:00',\n",
       "   '2025-01-20T02:00',\n",
       "   '2025-01-20T03:00',\n",
       "   '2025-01-20T04:00',\n",
       "   '2025-01-20T05:00',\n",
       "   '2025-01-20T06:00',\n",
       "   '2025-01-20T07:00',\n",
       "   '2025-01-20T08:00',\n",
       "   '2025-01-20T09:00',\n",
       "   '2025-01-20T10:00',\n",
       "   '2025-01-20T11:00',\n",
       "   '2025-01-20T12:00',\n",
       "   '2025-01-20T13:00',\n",
       "   '2025-01-20T14:00',\n",
       "   '2025-01-20T15:00',\n",
       "   '2025-01-20T16:00',\n",
       "   '2025-01-20T17:00',\n",
       "   '2025-01-20T18:00',\n",
       "   '2025-01-20T19:00',\n",
       "   '2025-01-20T20:00',\n",
       "   '2025-01-20T21:00',\n",
       "   '2025-01-20T22:00',\n",
       "   '2025-01-20T23:00',\n",
       "   '2025-01-21T00:00',\n",
       "   '2025-01-21T01:00',\n",
       "   '2025-01-21T02:00',\n",
       "   '2025-01-21T03:00',\n",
       "   '2025-01-21T04:00',\n",
       "   '2025-01-21T05:00',\n",
       "   '2025-01-21T06:00',\n",
       "   '2025-01-21T07:00',\n",
       "   '2025-01-21T08:00',\n",
       "   '2025-01-21T09:00',\n",
       "   '2025-01-21T10:00',\n",
       "   '2025-01-21T11:00',\n",
       "   '2025-01-21T12:00',\n",
       "   '2025-01-21T13:00',\n",
       "   '2025-01-21T14:00',\n",
       "   '2025-01-21T15:00',\n",
       "   '2025-01-21T16:00',\n",
       "   '2025-01-21T17:00',\n",
       "   '2025-01-21T18:00',\n",
       "   '2025-01-21T19:00',\n",
       "   '2025-01-21T20:00',\n",
       "   '2025-01-21T21:00',\n",
       "   '2025-01-21T22:00',\n",
       "   '2025-01-21T23:00'],\n",
       "  'temperature_2m': [15.4,\n",
       "   13.4,\n",
       "   10.9,\n",
       "   10.3,\n",
       "   9.4,\n",
       "   9.7,\n",
       "   9.1,\n",
       "   8.7,\n",
       "   8.2,\n",
       "   7.0,\n",
       "   7.1,\n",
       "   7.5,\n",
       "   6.8,\n",
       "   8.0,\n",
       "   9.0,\n",
       "   8.7,\n",
       "   8.6,\n",
       "   8.7,\n",
       "   10.9,\n",
       "   12.8,\n",
       "   14.7,\n",
       "   16.0,\n",
       "   16.9,\n",
       "   17.3,\n",
       "   16.6,\n",
       "   13.9,\n",
       "   12.0,\n",
       "   12.1,\n",
       "   11.7,\n",
       "   11.8,\n",
       "   11.8,\n",
       "   10.2,\n",
       "   8.6,\n",
       "   9.4,\n",
       "   9.3,\n",
       "   9.6,\n",
       "   9.6,\n",
       "   10.1,\n",
       "   9.0,\n",
       "   8.5,\n",
       "   8.4,\n",
       "   9.5,\n",
       "   12.4,\n",
       "   14.2,\n",
       "   15.6,\n",
       "   16.8,\n",
       "   17.6,\n",
       "   17.8,\n",
       "   17.1,\n",
       "   14.0,\n",
       "   11.9,\n",
       "   11.6,\n",
       "   11.4,\n",
       "   11.1,\n",
       "   11.2,\n",
       "   11.3,\n",
       "   10.0,\n",
       "   8.4,\n",
       "   7.8,\n",
       "   7.7,\n",
       "   8.4,\n",
       "   8.6,\n",
       "   8.3,\n",
       "   7.2,\n",
       "   5.6,\n",
       "   8.4,\n",
       "   10.4,\n",
       "   13.5,\n",
       "   14.6,\n",
       "   15.2,\n",
       "   15.6,\n",
       "   15.7,\n",
       "   15.0,\n",
       "   10.3,\n",
       "   9.0,\n",
       "   8.7,\n",
       "   8.4,\n",
       "   7.9,\n",
       "   7.5,\n",
       "   7.1,\n",
       "   6.7,\n",
       "   6.3,\n",
       "   5.9,\n",
       "   5.5,\n",
       "   5.1,\n",
       "   4.9,\n",
       "   4.6,\n",
       "   4.1,\n",
       "   6.4,\n",
       "   9.7,\n",
       "   11.3,\n",
       "   12.5,\n",
       "   13.5,\n",
       "   14.3,\n",
       "   14.7,\n",
       "   14.7,\n",
       "   14.3,\n",
       "   9.6,\n",
       "   8.3,\n",
       "   8.3,\n",
       "   8.1,\n",
       "   7.6,\n",
       "   7.2,\n",
       "   6.8,\n",
       "   6.5,\n",
       "   6.3,\n",
       "   6.0,\n",
       "   6.0,\n",
       "   5.3,\n",
       "   5.2,\n",
       "   4.9,\n",
       "   4.6,\n",
       "   6.9,\n",
       "   10.3,\n",
       "   12.0,\n",
       "   13.3,\n",
       "   14.3,\n",
       "   15.0,\n",
       "   15.5,\n",
       "   15.6,\n",
       "   14.8,\n",
       "   10.2,\n",
       "   8.8,\n",
       "   8.5,\n",
       "   8.0,\n",
       "   7.7,\n",
       "   7.2,\n",
       "   6.9,\n",
       "   6.6,\n",
       "   6.1,\n",
       "   5.7,\n",
       "   5.6,\n",
       "   5.2,\n",
       "   4.5,\n",
       "   3.9,\n",
       "   4.2,\n",
       "   6.3,\n",
       "   9.2,\n",
       "   11.8,\n",
       "   13.4,\n",
       "   14.5,\n",
       "   15.3,\n",
       "   15.9,\n",
       "   16.1,\n",
       "   15.5,\n",
       "   13.4,\n",
       "   10.4,\n",
       "   8.3,\n",
       "   7.7,\n",
       "   7.9,\n",
       "   8.1,\n",
       "   7.9,\n",
       "   7.7,\n",
       "   7.4,\n",
       "   7.1,\n",
       "   6.7,\n",
       "   6.3,\n",
       "   5.9,\n",
       "   5.5,\n",
       "   6.0,\n",
       "   8.1,\n",
       "   11.2,\n",
       "   13.8,\n",
       "   15.4,\n",
       "   16.6,\n",
       "   17.3,\n",
       "   17.7,\n",
       "   17.7]}}"
      ]
     },
     "execution_count": 48,
     "metadata": {},
     "output_type": "execute_result"
    }
   ],
   "source": [
    "data"
   ]
  },
  {
   "cell_type": "markdown",
   "id": "39c760ae-117c-405d-a4ff-dbe0ea9e1c65",
   "metadata": {},
   "source": [
    "- data['hourly']['time'] is a list containing dates and times."
   ]
  },
  {
   "cell_type": "code",
   "execution_count": 50,
   "id": "a67cdcfa-521b-45d9-b9f0-207d21ef5bdb",
   "metadata": {},
   "outputs": [
    {
     "data": {
      "text/plain": [
       "['2025-01-15T00:00',\n",
       " '2025-01-15T01:00',\n",
       " '2025-01-15T02:00',\n",
       " '2025-01-15T03:00',\n",
       " '2025-01-15T04:00',\n",
       " '2025-01-15T05:00',\n",
       " '2025-01-15T06:00',\n",
       " '2025-01-15T07:00',\n",
       " '2025-01-15T08:00',\n",
       " '2025-01-15T09:00',\n",
       " '2025-01-15T10:00',\n",
       " '2025-01-15T11:00',\n",
       " '2025-01-15T12:00',\n",
       " '2025-01-15T13:00',\n",
       " '2025-01-15T14:00',\n",
       " '2025-01-15T15:00',\n",
       " '2025-01-15T16:00',\n",
       " '2025-01-15T17:00',\n",
       " '2025-01-15T18:00',\n",
       " '2025-01-15T19:00',\n",
       " '2025-01-15T20:00',\n",
       " '2025-01-15T21:00',\n",
       " '2025-01-15T22:00',\n",
       " '2025-01-15T23:00',\n",
       " '2025-01-16T00:00',\n",
       " '2025-01-16T01:00',\n",
       " '2025-01-16T02:00',\n",
       " '2025-01-16T03:00',\n",
       " '2025-01-16T04:00',\n",
       " '2025-01-16T05:00',\n",
       " '2025-01-16T06:00',\n",
       " '2025-01-16T07:00',\n",
       " '2025-01-16T08:00',\n",
       " '2025-01-16T09:00',\n",
       " '2025-01-16T10:00',\n",
       " '2025-01-16T11:00',\n",
       " '2025-01-16T12:00',\n",
       " '2025-01-16T13:00',\n",
       " '2025-01-16T14:00',\n",
       " '2025-01-16T15:00',\n",
       " '2025-01-16T16:00',\n",
       " '2025-01-16T17:00',\n",
       " '2025-01-16T18:00',\n",
       " '2025-01-16T19:00',\n",
       " '2025-01-16T20:00',\n",
       " '2025-01-16T21:00',\n",
       " '2025-01-16T22:00',\n",
       " '2025-01-16T23:00',\n",
       " '2025-01-17T00:00',\n",
       " '2025-01-17T01:00',\n",
       " '2025-01-17T02:00',\n",
       " '2025-01-17T03:00',\n",
       " '2025-01-17T04:00',\n",
       " '2025-01-17T05:00',\n",
       " '2025-01-17T06:00',\n",
       " '2025-01-17T07:00',\n",
       " '2025-01-17T08:00',\n",
       " '2025-01-17T09:00',\n",
       " '2025-01-17T10:00',\n",
       " '2025-01-17T11:00',\n",
       " '2025-01-17T12:00',\n",
       " '2025-01-17T13:00',\n",
       " '2025-01-17T14:00',\n",
       " '2025-01-17T15:00',\n",
       " '2025-01-17T16:00',\n",
       " '2025-01-17T17:00',\n",
       " '2025-01-17T18:00',\n",
       " '2025-01-17T19:00',\n",
       " '2025-01-17T20:00',\n",
       " '2025-01-17T21:00',\n",
       " '2025-01-17T22:00',\n",
       " '2025-01-17T23:00',\n",
       " '2025-01-18T00:00',\n",
       " '2025-01-18T01:00',\n",
       " '2025-01-18T02:00',\n",
       " '2025-01-18T03:00',\n",
       " '2025-01-18T04:00',\n",
       " '2025-01-18T05:00',\n",
       " '2025-01-18T06:00',\n",
       " '2025-01-18T07:00',\n",
       " '2025-01-18T08:00',\n",
       " '2025-01-18T09:00',\n",
       " '2025-01-18T10:00',\n",
       " '2025-01-18T11:00',\n",
       " '2025-01-18T12:00',\n",
       " '2025-01-18T13:00',\n",
       " '2025-01-18T14:00',\n",
       " '2025-01-18T15:00',\n",
       " '2025-01-18T16:00',\n",
       " '2025-01-18T17:00',\n",
       " '2025-01-18T18:00',\n",
       " '2025-01-18T19:00',\n",
       " '2025-01-18T20:00',\n",
       " '2025-01-18T21:00',\n",
       " '2025-01-18T22:00',\n",
       " '2025-01-18T23:00',\n",
       " '2025-01-19T00:00',\n",
       " '2025-01-19T01:00',\n",
       " '2025-01-19T02:00',\n",
       " '2025-01-19T03:00',\n",
       " '2025-01-19T04:00',\n",
       " '2025-01-19T05:00',\n",
       " '2025-01-19T06:00',\n",
       " '2025-01-19T07:00',\n",
       " '2025-01-19T08:00',\n",
       " '2025-01-19T09:00',\n",
       " '2025-01-19T10:00',\n",
       " '2025-01-19T11:00',\n",
       " '2025-01-19T12:00',\n",
       " '2025-01-19T13:00',\n",
       " '2025-01-19T14:00',\n",
       " '2025-01-19T15:00',\n",
       " '2025-01-19T16:00',\n",
       " '2025-01-19T17:00',\n",
       " '2025-01-19T18:00',\n",
       " '2025-01-19T19:00',\n",
       " '2025-01-19T20:00',\n",
       " '2025-01-19T21:00',\n",
       " '2025-01-19T22:00',\n",
       " '2025-01-19T23:00',\n",
       " '2025-01-20T00:00',\n",
       " '2025-01-20T01:00',\n",
       " '2025-01-20T02:00',\n",
       " '2025-01-20T03:00',\n",
       " '2025-01-20T04:00',\n",
       " '2025-01-20T05:00',\n",
       " '2025-01-20T06:00',\n",
       " '2025-01-20T07:00',\n",
       " '2025-01-20T08:00',\n",
       " '2025-01-20T09:00',\n",
       " '2025-01-20T10:00',\n",
       " '2025-01-20T11:00',\n",
       " '2025-01-20T12:00',\n",
       " '2025-01-20T13:00',\n",
       " '2025-01-20T14:00',\n",
       " '2025-01-20T15:00',\n",
       " '2025-01-20T16:00',\n",
       " '2025-01-20T17:00',\n",
       " '2025-01-20T18:00',\n",
       " '2025-01-20T19:00',\n",
       " '2025-01-20T20:00',\n",
       " '2025-01-20T21:00',\n",
       " '2025-01-20T22:00',\n",
       " '2025-01-20T23:00',\n",
       " '2025-01-21T00:00',\n",
       " '2025-01-21T01:00',\n",
       " '2025-01-21T02:00',\n",
       " '2025-01-21T03:00',\n",
       " '2025-01-21T04:00',\n",
       " '2025-01-21T05:00',\n",
       " '2025-01-21T06:00',\n",
       " '2025-01-21T07:00',\n",
       " '2025-01-21T08:00',\n",
       " '2025-01-21T09:00',\n",
       " '2025-01-21T10:00',\n",
       " '2025-01-21T11:00',\n",
       " '2025-01-21T12:00',\n",
       " '2025-01-21T13:00',\n",
       " '2025-01-21T14:00',\n",
       " '2025-01-21T15:00',\n",
       " '2025-01-21T16:00',\n",
       " '2025-01-21T17:00',\n",
       " '2025-01-21T18:00',\n",
       " '2025-01-21T19:00',\n",
       " '2025-01-21T20:00',\n",
       " '2025-01-21T21:00',\n",
       " '2025-01-21T22:00',\n",
       " '2025-01-21T23:00']"
      ]
     },
     "execution_count": 50,
     "metadata": {},
     "output_type": "execute_result"
    }
   ],
   "source": [
    "data['hourly']['time']"
   ]
  },
  {
   "cell_type": "markdown",
   "id": "40104f5b-84a2-413a-8ba2-44bee65713f5",
   "metadata": {},
   "source": [
    "- This is weekly data, consisting of 7 days, each with 24 hours, totaling 168 hours of data."
   ]
  },
  {
   "cell_type": "code",
   "execution_count": 52,
   "id": "78685b7b-4c8c-4d3b-93bb-ced51bfcb2af",
   "metadata": {},
   "outputs": [
    {
     "data": {
      "text/plain": [
       "168"
      ]
     },
     "execution_count": 52,
     "metadata": {},
     "output_type": "execute_result"
    }
   ],
   "source": [
    "len(data['hourly']['time'])"
   ]
  },
  {
   "cell_type": "markdown",
   "id": "8fc73744-c490-40d8-99d7-35d48b68a65d",
   "metadata": {},
   "source": [
    "- data['hourly']['temperature_2m'] is a list containing temperatures."
   ]
  },
  {
   "cell_type": "code",
   "execution_count": 54,
   "id": "2cb2a3d8-ba02-4c52-a483-86e595a8ecdf",
   "metadata": {},
   "outputs": [
    {
     "data": {
      "text/plain": [
       "[15.4,\n",
       " 13.4,\n",
       " 10.9,\n",
       " 10.3,\n",
       " 9.4,\n",
       " 9.7,\n",
       " 9.1,\n",
       " 8.7,\n",
       " 8.2,\n",
       " 7.0,\n",
       " 7.1,\n",
       " 7.5,\n",
       " 6.8,\n",
       " 8.0,\n",
       " 9.0,\n",
       " 8.7,\n",
       " 8.6,\n",
       " 8.7,\n",
       " 10.9,\n",
       " 12.8,\n",
       " 14.7,\n",
       " 16.0,\n",
       " 16.9,\n",
       " 17.3,\n",
       " 16.6,\n",
       " 13.9,\n",
       " 12.0,\n",
       " 12.1,\n",
       " 11.7,\n",
       " 11.8,\n",
       " 11.8,\n",
       " 10.2,\n",
       " 8.6,\n",
       " 9.4,\n",
       " 9.3,\n",
       " 9.6,\n",
       " 9.6,\n",
       " 10.1,\n",
       " 9.0,\n",
       " 8.5,\n",
       " 8.4,\n",
       " 9.5,\n",
       " 12.4,\n",
       " 14.2,\n",
       " 15.6,\n",
       " 16.8,\n",
       " 17.6,\n",
       " 17.8,\n",
       " 17.1,\n",
       " 14.0,\n",
       " 11.9,\n",
       " 11.6,\n",
       " 11.4,\n",
       " 11.1,\n",
       " 11.2,\n",
       " 11.3,\n",
       " 10.0,\n",
       " 8.4,\n",
       " 7.8,\n",
       " 7.7,\n",
       " 8.4,\n",
       " 8.6,\n",
       " 8.3,\n",
       " 7.2,\n",
       " 5.6,\n",
       " 8.4,\n",
       " 10.4,\n",
       " 13.5,\n",
       " 14.6,\n",
       " 15.2,\n",
       " 15.6,\n",
       " 15.7,\n",
       " 15.0,\n",
       " 10.3,\n",
       " 9.0,\n",
       " 8.7,\n",
       " 8.4,\n",
       " 7.9,\n",
       " 7.5,\n",
       " 7.1,\n",
       " 6.7,\n",
       " 6.3,\n",
       " 5.9,\n",
       " 5.5,\n",
       " 5.1,\n",
       " 4.9,\n",
       " 4.6,\n",
       " 4.1,\n",
       " 6.4,\n",
       " 9.7,\n",
       " 11.3,\n",
       " 12.5,\n",
       " 13.5,\n",
       " 14.3,\n",
       " 14.7,\n",
       " 14.7,\n",
       " 14.3,\n",
       " 9.6,\n",
       " 8.3,\n",
       " 8.3,\n",
       " 8.1,\n",
       " 7.6,\n",
       " 7.2,\n",
       " 6.8,\n",
       " 6.5,\n",
       " 6.3,\n",
       " 6.0,\n",
       " 6.0,\n",
       " 5.3,\n",
       " 5.2,\n",
       " 4.9,\n",
       " 4.6,\n",
       " 6.9,\n",
       " 10.3,\n",
       " 12.0,\n",
       " 13.3,\n",
       " 14.3,\n",
       " 15.0,\n",
       " 15.5,\n",
       " 15.6,\n",
       " 14.8,\n",
       " 10.2,\n",
       " 8.8,\n",
       " 8.5,\n",
       " 8.0,\n",
       " 7.7,\n",
       " 7.2,\n",
       " 6.9,\n",
       " 6.6,\n",
       " 6.1,\n",
       " 5.7,\n",
       " 5.6,\n",
       " 5.2,\n",
       " 4.5,\n",
       " 3.9,\n",
       " 4.2,\n",
       " 6.3,\n",
       " 9.2,\n",
       " 11.8,\n",
       " 13.4,\n",
       " 14.5,\n",
       " 15.3,\n",
       " 15.9,\n",
       " 16.1,\n",
       " 15.5,\n",
       " 13.4,\n",
       " 10.4,\n",
       " 8.3,\n",
       " 7.7,\n",
       " 7.9,\n",
       " 8.1,\n",
       " 7.9,\n",
       " 7.7,\n",
       " 7.4,\n",
       " 7.1,\n",
       " 6.7,\n",
       " 6.3,\n",
       " 5.9,\n",
       " 5.5,\n",
       " 6.0,\n",
       " 8.1,\n",
       " 11.2,\n",
       " 13.8,\n",
       " 15.4,\n",
       " 16.6,\n",
       " 17.3,\n",
       " 17.7,\n",
       " 17.7]"
      ]
     },
     "execution_count": 54,
     "metadata": {},
     "output_type": "execute_result"
    }
   ],
   "source": [
    "data['hourly']['temperature_2m']"
   ]
  },
  {
   "cell_type": "markdown",
   "id": "fbbfb91f-83f4-4199-9cd1-1fd9b5893233",
   "metadata": {},
   "source": [
    "- Hourly temperatures for the first two days"
   ]
  },
  {
   "cell_type": "code",
   "execution_count": 56,
   "id": "5410294e-ed83-41bf-9355-b30bf1a0d381",
   "metadata": {},
   "outputs": [
    {
     "data": {
      "image/png": "[encoded data removed]",
      "text/plain": [
       "<Figure size 2000x500 with 1 Axes>"
      ]
     },
     "metadata": {},
     "output_type": "display_data"
    }
   ],
   "source": [
    "import matplotlib.pyplot as plt\n",
    "plt.figure(figsize=(20,5))\n",
    "plt.plot(data['hourly']['time'][:24*2], data['hourly']['temperature_2m'][:24*2])\n",
    "plt.xticks(rotation=60);"
   ]
  },
  {
   "cell_type": "markdown",
   "id": "ae549cf1-902a-4fc7-931a-813e1eb6d055",
   "metadata": {},
   "source": [
    "## Example: Pictures"
   ]
  },
  {
   "cell_type": "markdown",
   "id": "484ba318-afd1-4834-b916-b472dce99b39",
   "metadata": {},
   "source": [
    "In this example, we will use the [PicSum AI](https://picsum.photos/) to access some random pictures.\n",
    "- The last two numbers in the URL represent the dimensions of the image, specifically the width and height in pixels."
   ]
  },
  {
   "cell_type": "code",
   "execution_count": 59,
   "id": "e4241f53-ab15-4dcc-8e5e-f83847684799",
   "metadata": {},
   "outputs": [],
   "source": [
    "url = 'https://picsum.photos/200/300'"
   ]
  },
  {
   "cell_type": "markdown",
   "id": "575f52b4-ee01-45a1-b8d9-6db16126dbc7",
   "metadata": {},
   "source": [
    "- The response is an HTTPResponse object, and by using the read() method, we can convert the response content into a bytes object."
   ]
  },
  {
   "cell_type": "code",
   "execution_count": 61,
   "id": "c8c20b5b-73b8-42b5-b035-b3529372a022",
   "metadata": {},
   "outputs": [
    {
     "data": {
      "text/plain": [
       "<http.client.HTTPResponse at 0x156a7abf0>"
      ]
     },
     "execution_count": 61,
     "metadata": {},
     "output_type": "execute_result"
    }
   ],
   "source": [
    "import urllib.request\n",
    "response = urllib.request.urlopen(url)\n",
    "response"
   ]
  },
  {
   "cell_type": "markdown",
   "id": "9296e30d-c017-4d7b-8b4a-98eb99215796",
   "metadata": {},
   "source": [
    "Using the *imread()* method of plt response object is converted to an array."
   ]
  },
  {
   "cell_type": "code",
   "execution_count": 63,
   "id": "5cc4f399-c298-4fae-a3a2-fd30f8a67b3d",
   "metadata": {},
   "outputs": [],
   "source": [
    "import matplotlib.pyplot as plt\n",
    "image_array = plt.imread(response, format=\"jpeg\")"
   ]
  },
  {
   "cell_type": "markdown",
   "id": "382245e3-c418-4c58-844d-468c6de90312",
   "metadata": {},
   "source": [
    "- The shape of this array is (300, 200, 3), and it is a 3-dimensional array. The third dimension represents the RGB color channels that will becovered in Numpy Arrays chapter. "
   ]
  },
  {
   "cell_type": "code",
   "execution_count": 65,
   "id": "812f9398-42f5-4de0-90d2-f2f6bae4481c",
   "metadata": {},
   "outputs": [
    {
     "data": {
      "text/plain": [
       "(300, 200, 3)"
      ]
     },
     "execution_count": 65,
     "metadata": {},
     "output_type": "execute_result"
    }
   ],
   "source": [
    "image_array.shape"
   ]
  },
  {
   "cell_type": "code",
   "execution_count": 66,
   "id": "33ab94f2-2ab1-49a6-9a3c-0d48e6967cf0",
   "metadata": {},
   "outputs": [
    {
     "data": {
      "text/plain": [
       "3"
      ]
     },
     "execution_count": 66,
     "metadata": {},
     "output_type": "execute_result"
    }
   ],
   "source": [
    "image_array.ndim"
   ]
  },
  {
   "cell_type": "code",
   "execution_count": 67,
   "id": "9bd05d13-8de2-441d-8549-81835c842cc0",
   "metadata": {},
   "outputs": [
    {
     "data": {
      "text/plain": [
       "array([[136, 136, 136, ..., 192, 192, 192],\n",
       "       [136, 136, 136, ..., 192, 192, 192],\n",
       "       [135, 135, 135, ..., 191, 191, 191],\n",
       "       ...,\n",
       "       [ 56,  56,  56, ...,  47,  48,  49],\n",
       "       [ 55,  55,  55, ...,  46,  48,  48],\n",
       "       [ 53,  53,  53, ...,  46,  47,  48]], dtype=uint8)"
      ]
     },
     "execution_count": 67,
     "metadata": {},
     "output_type": "execute_result"
    }
   ],
   "source": [
    "image_array[:,:,0]"
   ]
  },
  {
   "cell_type": "code",
   "execution_count": 68,
   "id": "103e0800-06ab-419d-95ae-ac731443aa94",
   "metadata": {},
   "outputs": [
    {
     "data": {
      "text/plain": [
       "(300, 200)"
      ]
     },
     "execution_count": 68,
     "metadata": {},
     "output_type": "execute_result"
    }
   ],
   "source": [
    "image_array[:,:,0].shape"
   ]
  },
  {
   "cell_type": "markdown",
   "id": "b65d71b2-1b22-49d9-bdf0-4e1fc3afd808",
   "metadata": {},
   "source": [
    "- This picture can be displayed using the *imshow()* method."
   ]
  },
  {
   "cell_type": "code",
   "execution_count": 70,
   "id": "32515b26-7521-4309-a96d-ddde61281714",
   "metadata": {},
   "outputs": [
    {
     "data": {
      "image/png": "[encoded data removed]",
      "text/plain": [
       "<Figure size 640x480 with 1 Axes>"
      ]
     },
     "metadata": {},
     "output_type": "display_data"
    }
   ],
   "source": [
    "plt.imshow(image_array);"
   ]
  },
  {
   "cell_type": "markdown",
   "id": "f5efd3f5-bd9e-40e4-8b17-f651eed2865a",
   "metadata": {},
   "source": [
    "- This picture can be saved using the *imsave()* method."
   ]
  },
  {
   "cell_type": "code",
   "execution_count": 117,
   "id": "69ba7b27-148c-47d0-87ae-e5de9f86aba5",
   "metadata": {},
   "outputs": [],
   "source": [
    "plt.imsave('random_image.png', image_array)"
   ]
  },
  {
   "cell_type": "markdown",
   "id": "76001a32-e3ac-45f8-8813-e03fa87bf0e4",
   "metadata": {},
   "source": [
    "## Example: API key"
   ]
  },
  {
   "cell_type": "markdown",
   "id": "acd9034d-52a4-4891-b412-66ddf0a77537",
   "metadata": {},
   "source": [
    "In this example, we will use the [OpenWeather](https://openweathermap.org/) to access weather data. \n",
    "- To proceed, you need to sign up and wait at least 2 hours for your account to be activated.\n",
    "- Once activated, you will receive an API key to make data requests.\n",
    "- First, we construct the URL by including the query parameters such as the city, API key, and measurement units (metric)."
   ]
  },
  {
   "cell_type": "markdown",
   "id": "5eae7f54-fb35-4cb6-928f-16c7f8acbb9f",
   "metadata": {},
   "source": [
    "```python\n",
    "city = \"London\"\n",
    "api_key = \"API KEY\"\n",
    "unit = \"metric\"\n",
    "\n",
    "url = f'https://api.openweathermap.org/data/2.5/weather?q={city}&appid={api_key}&units={unit}'\n",
    "url"
   ]
  },
  {
   "cell_type": "markdown",
   "id": "3816e4e5-a686-4d47-b62d-430d61115889",
   "metadata": {},
   "source": [
    "- Similar to the previous example, the received data is in the form of a dictionary."
   ]
  },
  {
   "cell_type": "markdown",
   "id": "9eed2730-523a-4981-9739-33225b43d2d4",
   "metadata": {},
   "source": [
    "``` python\n",
    "response = urllib.request.urlopen(url)\n",
    "data = json.loads(response.read().decode())\n",
    "data"
   ]
  },
  {
   "cell_type": "markdown",
   "id": "34b03f2f-6682-4536-af25-f2791a18650d",
   "metadata": {},
   "source": [
    "``` python\n",
    "{'coord': {'lon': -0.1257, 'lat': 51.5085},\n",
    " 'weather': [{'id': 804,\n",
    "   'main': 'Clouds',\n",
    "   'description': 'overcast clouds',\n",
    "   'icon': '04n'}],\n",
    " 'base': 'stations',\n",
    " 'main': {'temp': 8.53,\n",
    "  'feels_like': 7.93,\n",
    "  'temp_min': 6.98,\n",
    "  'temp_max': 9.44,\n",
    "  'pressure': 1034,\n",
    "  'humidity': 92,\n",
    "  'sea_level': 1034,\n",
    "  'grnd_level': 1030},\n",
    " 'visibility': 10000,\n",
    " 'wind': {'speed': 1.54, 'deg': 200},\n",
    " 'clouds': {'all': 100},\n",
    " 'dt': 1736973275,\n",
    " 'sys': {'type': 2,\n",
    "  'id': 2075535,\n",
    "  'country': 'GB',\n",
    "  'sunrise': 1736927957,\n",
    "  'sunset': 1736958010},\n",
    " 'timezone': 0,\n",
    " 'id': 2643743,\n",
    " 'name': 'London',\n",
    " 'cod': 200}"
   ]
  },
  {
   "cell_type": "markdown",
   "id": "0ced69d6-22c4-4177-b365-3db147bd5a18",
   "metadata": {},
   "source": [
    "- Temperature"
   ]
  },
  {
   "cell_type": "markdown",
   "id": "997c4dbe-9bd5-491e-a0a7-2cc042e08cde",
   "metadata": {},
   "source": [
    "``` python\n",
    "str(data['main']['temp']) "
   ]
  },
  {
   "cell_type": "markdown",
   "id": "d638faa1-f26d-4526-b2b9-bc9b1b6057b9",
   "metadata": {},
   "source": [
    "``` python\n",
    "'8.53'"
   ]
  },
  {
   "cell_type": "markdown",
   "id": "411b0a1c-ef92-4658-a434-5d700e1751a6",
   "metadata": {},
   "source": [
    "- Latitude  "
   ]
  },
  {
   "cell_type": "markdown",
   "id": "cc17aed3-e41b-4634-b418-c585c5981af9",
   "metadata": {},
   "source": [
    "``` python\n",
    "data['coord']['lat']"
   ]
  },
  {
   "cell_type": "markdown",
   "id": "d2a96f0d-9e74-49e8-9cea-23dafc44f60c",
   "metadata": {},
   "source": [
    "```python\n",
    "51.5085"
   ]
  },
  {
   "cell_type": "markdown",
   "id": "0f3b2b4b-3205-4b96-94f2-846ce33eb00c",
   "metadata": {},
   "source": [
    "- Longitude "
   ]
  },
  {
   "cell_type": "markdown",
   "id": "642c5b68-db7f-4de0-a5bd-baa605addeb2",
   "metadata": {},
   "source": [
    "``` python\n",
    "data['coord']['lon']"
   ]
  },
  {
   "cell_type": "markdown",
   "id": "a863573f-9177-4330-a1ac-866c5fe65b41",
   "metadata": {},
   "source": [
    "``` python\n",
    "-0.1257"
   ]
  },
  {
   "cell_type": "code",
   "execution_count": null,
   "id": "324db94b-33b0-4c37-a1d9-47cf189c27bb",
   "metadata": {},
   "outputs": [],
   "source": []
  },
  {
   "cell_type": "code",
   "execution_count": null,
   "id": "6ee10218-9f32-4f29-abd7-8b6ea4c30d22",
   "metadata": {},
   "outputs": [],
   "source": []
  }
 ],
 "metadata": {
  "kernelspec": {
   "display_name": "Python 3 (ipykernel)",
   "language": "python",
   "name": "python3"
  },
  "language_info": {
   "codemirror_mode": {
    "name": "ipython",
    "version": 3
   },
   "file_extension": ".py",
   "mimetype": "text/x-python",
   "name": "python",
   "nbconvert_exporter": "python",
   "pygments_lexer": "ipython3",
   "version": "3.11.8"
  }
 },
 "nbformat": 4,
 "nbformat_minor": 5
}
