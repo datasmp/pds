{
 "cells": [
  {
   "cell_type": "markdown",
   "id": "2f97fa78-bcfd-4a39-a942-a6d4792f4d74",
   "metadata": {},
   "source": [
    "# Visualization\n",
    "![](title_pict/visualization2.png)\n",
    "\n",
    "In this section, we will cover the most commonly used visualization libraries: Matplotlib and Seaborn."
   ]
  },
  {
   "cell_type": "code",
   "execution_count": null,
   "id": "a9f72b1a-f451-4063-a797-1bb9f1c39f57",
   "metadata": {},
   "outputs": [],
   "source": []
  }
 ],
 "metadata": {
  "kernelspec": {
   "display_name": "Python 3 (ipykernel)",
   "language": "python",
   "name": "python3"
  },
  "language_info": {
   "codemirror_mode": {
    "name": "ipython",
    "version": 3
   },
   "file_extension": ".py",
   "mimetype": "text/x-python",
   "name": "python",
   "nbconvert_exporter": "python",
   "pygments_lexer": "ipython3",
   "version": "3.11.7"
  }
 },
 "nbformat": 4,
 "nbformat_minor": 5
}
