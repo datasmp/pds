{
 "cells": [
  {
   "cell_type": "markdown",
   "id": "b6f7cebf-f222-4477-bb75-00225064f539",
   "metadata": {},
   "source": [
    "# Basic Information"
   ]
  },
  {
   "cell_type": "markdown",
   "id": "127be5ca-45d5-430b-8c5c-61c153f01e32",
   "metadata": {},
   "source": [
    "## Types of Variables\n",
    "\n",
    "1. Discrete Variable:\n",
    "    - It has countable number of distinct values.\n",
    "    - Example: Number of patients\n",
    "\n",
    "2. Continous Variable:\n",
    "    - It can take any value within an interval.\n",
    "    - Examples: Amount of rainfall, weight, height, salary, profit.\n",
    "\n",
    "_Warning_: Continuous variables are often rounded, making them appear like discrete variables.\n",
    "\n",
    "\n",
    "**Binary Variable:** It has only two values.    \n",
    "**Univariate Dataset:** It has exactly one variable.  \n",
    "**Bivariate Dataset:** It has exactly two variables.  \n",
    "**Multivariate Dataset:** It has more than two variables.    \n",
    "\n",
    "**Time Series:** each value represents a different, equally spaced point in time (year, month, week, day, hour, minute).\n"
   ]
  },
  {
   "cell_type": "markdown",
   "id": "9d47d49c-9f4a-462d-bd65-103dae0e6674",
   "metadata": {},
   "source": [
    "## Types of Data\n",
    "\n",
    "1. Categorical (Qualitative):\n",
    "    - Attributes, labels, non-numerical entries.\n",
    "    - Represented by words or codes.\n",
    "    - Examples:\n",
    "        - Verbal Label: Gender (F, M), Color (Red, Green, Blue)\n",
    "        - Coded: Gender (0, 1)\n",
    "        - Coded: Color (0, 1, 2)\n",
    "2. Numerical (Quantitative):\n",
    "    - Numerical measurements, counts, results of mathematical operations.\n",
    "    - Examples: Salary, number of claims, amount of rainfall.\n",
    "    - Types:\n",
    "        - Discrete: number of apples.\n",
    "        - Continuous: percentage changes."
   ]
  },
  {
   "cell_type": "markdown",
   "id": "626b985f-3f3f-4916-99ea-9028362c426a",
   "metadata": {},
   "source": [
    "## Level of Measurement\n",
    "\n",
    "1. Nominal:\n",
    "    - Weakest level of measurement.\n",
    "    - Easy to recognize.\n",
    "    - Only qualitative (categorical).\n",
    "    - Labels.\n",
    "    - Only mathematical operation: counting (frequency).\n",
    "    - No order.\n",
    "    - Examples: Gender, Eye color.\n",
    "\n",
    "2. Ordinal:\n",
    "    - Qualitative (categorical) or quantitative (numerical).\n",
    "    - There is a ranking (order).\n",
    "    - Mathematical operations: min, max, median, quartiles, interquartile range.\n",
    "    - Examples: Small, medium, large; Elementary, middle, high school.\n",
    "\n",
    "3. Interval:\n",
    "    - Quantitative.\n",
    "    - There is a ranking (order).\n",
    "    - Meaningful intervals.\n",
    "    - Ratios are not meaningful.\n",
    "    - Example: Temperature (e.g., 20°F-30°F has the same difference as 50°F-60°F).\n",
    "    - Likert scale data can be considered as interval measurements if the intervals are the same.\n",
    "    - Mathematical operations: sum, difference, mean, standard deviation, correlation.\n",
    "    - There is no meaningful zero.\n",
    "\n",
    "4. Ratio:\n",
    "    - Strongest level of measurement.\n",
    "    - There is a meaningful zero.\n",
    "    - Zero does not have to be observable (e.g., weight = 0 is OK).\n",
    "    - Any mathematical operation (ratios, logarithms).\n",
    "    - Examples: Revenue, profit, number of apples."
   ]
  },
  {
   "cell_type": "markdown",
   "id": "a4285e33-ca69-4824-a53f-ac436e33c2e6",
   "metadata": {},
   "source": [
    "## Five Number Summary\n",
    "- coming soon"
   ]
  },
  {
   "cell_type": "markdown",
   "id": "2e4658ca-c026-4506-93e3-86f0de8e56cb",
   "metadata": {},
   "source": [
    "## Correlation Coefficient\n",
    "- coming soon"
   ]
  },
  {
   "cell_type": "code",
   "execution_count": null,
   "id": "40fd14c9-dee5-4930-bfbc-9de2cae21f6e",
   "metadata": {},
   "outputs": [],
   "source": []
  }
 ],
 "metadata": {
  "kernelspec": {
   "display_name": "Python 3 (ipykernel)",
   "language": "python",
   "name": "python3"
  },
  "language_info": {
   "codemirror_mode": {
    "name": "ipython",
    "version": 3
   },
   "file_extension": ".py",
   "mimetype": "text/x-python",
   "name": "python",
   "nbconvert_exporter": "python",
   "pygments_lexer": "ipython3",
   "version": "3.11.7"
  }
 },
 "nbformat": 4,
 "nbformat_minor": 5
}
