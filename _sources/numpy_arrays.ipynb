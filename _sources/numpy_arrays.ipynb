{
 "cells": [
  {
   "cell_type": "markdown",
   "id": "d8712b3b-783d-4fee-b9d9-65c3178feb7f",
   "metadata": {},
   "source": [
    "# Numpy Arrays\n",
    "![](title_pict/numpy2.png)"
   ]
  },
  {
   "cell_type": "markdown",
   "id": "99613960-9e19-4c79-8111-de003e3af246",
   "metadata": {},
   "source": [
    "## Motivation\n",
    "Let's attempt to multiply each element of a list by 10.\n",
    "- The `*` operator repeats the list elements.\n",
    "- If we use the `*` operator on a list, instead of multiplying each element by 10, it replicates the initial list 10 times, as shown in the following code:"
   ]
  },
  {
   "cell_type": "code",
   "execution_count": 9,
   "id": "92fcee7e-32ea-4b90-a36b-bccca488986c",
   "metadata": {},
   "outputs": [
    {
     "name": "stdout",
     "output_type": "stream",
     "text": [
      "[1, 2, 3, 1, 2, 3, 1, 2, 3, 1, 2, 3, 1, 2, 3, 1, 2, 3, 1, 2, 3, 1, 2, 3, 1, 2, 3, 1, 2, 3]\n"
     ]
    }
   ],
   "source": [
    "list1 = [1,2,3]\n",
    "print(list1*10)"
   ]
  },
  {
   "cell_type": "markdown",
   "id": "c93c7903-0689-481f-8ff9-f03398b0e181",
   "metadata": {},
   "source": [
    "- We can multiply each element of a list using list comprehensions."
   ]
  },
  {
   "cell_type": "code",
   "execution_count": 10,
   "id": "8e997cd3-fbfe-404a-95eb-49e1ce4c9e8e",
   "metadata": {},
   "outputs": [
    {
     "name": "stdout",
     "output_type": "stream",
     "text": [
      "[10, 20, 30]\n"
     ]
    }
   ],
   "source": [
    "new_list = [i*10 for i in list1]\n",
    "print(new_list)"
   ]
  },
  {
   "cell_type": "markdown",
   "id": "a7da7591-eaa6-49b1-b4f9-c45599b85288",
   "metadata": {},
   "source": [
    "- However, it's quite common to multiply each element of a sequence by a fixed number, and there should be a more efficient way to accomplish this.\n",
    "- NumPy arrays interpret the `*` operator as multiplication, not repetition."
   ]
  },
  {
   "cell_type": "code",
   "execution_count": 13,
   "id": "2c3138b9-2604-4710-ab0d-7d2913775eda",
   "metadata": {},
   "outputs": [
    {
     "name": "stdout",
     "output_type": "stream",
     "text": [
      "[1 2 3]\n"
     ]
    }
   ],
   "source": [
    "import numpy as np\n",
    "array1 = np.array([1,2,3])\n",
    "print(array1)"
   ]
  },
  {
   "cell_type": "code",
   "execution_count": 14,
   "id": "172d0943-0815-4162-9c38-4bc7745ba128",
   "metadata": {},
   "outputs": [
    {
     "name": "stdout",
     "output_type": "stream",
     "text": [
      "[10 20 30]\n"
     ]
    }
   ],
   "source": [
    "print(array1*10)"
   ]
  },
  {
   "cell_type": "markdown",
   "id": "ab6d5797-1fa5-4e84-8003-517518dd99af",
   "metadata": {},
   "source": [
    "There's a similar situation with the + operator.\n",
    "- For lists, + concatenates elements, whereas for NumPy arrays, it performs componentwise addition."
   ]
  },
  {
   "cell_type": "code",
   "execution_count": 15,
   "id": "50196119-9eef-4662-82ae-6be19209e060",
   "metadata": {},
   "outputs": [
    {
     "name": "stdout",
     "output_type": "stream",
     "text": [
      "[1, 2, 3, 4, 5, 6]\n"
     ]
    }
   ],
   "source": [
    "list1 = [1,2,3]\n",
    "list2 = [4,5,6]\n",
    "print(list1+list2)"
   ]
  },
  {
   "cell_type": "code",
   "execution_count": 16,
   "id": "c3f2810f-f8e5-46a5-b67b-71bf2ab65574",
   "metadata": {},
   "outputs": [
    {
     "name": "stdout",
     "output_type": "stream",
     "text": [
      "[5 7 9]\n"
     ]
    }
   ],
   "source": [
    "array1 = np.array([1,2,3])\n",
    "array2 = np.array([4,5,6])\n",
    "print(array1+array2)"
   ]
  },
  {
   "cell_type": "markdown",
   "id": "23fa4810-4092-43bd-9b6e-d34ed899cdef",
   "metadata": {},
   "source": [
    "![](pict/logo_numpy.jpeg)"
   ]
  },
  {
   "cell_type": "markdown",
   "id": "e828f60b-be5b-4b1e-9579-f90367a5c35e",
   "metadata": {},
   "source": [
    "## Numpy \n",
    "[Numpy](https://numpy.org/) is the foundational package for scientific computing in Python.\n",
    "- Numpy's primary data structure is arrays.\n",
    "    - Arrays are known for their speed and versatility.\n",
    "    - They enable vectorized operations.\n",
    "    - Indexing facilitates accessing values within an array.\n",
    "- NumPy offers a comprehensive collection of mathematical tools for various computations, encompassing:\n",
    "    - Matrix operations\n",
    "    - Generation of random numbers\n",
    "    - Mathematical and statistical functions\n",
    "- NumPy methods can be used for importing and manipulating images.\n",
    "- NumPy is the foundation for powerful machine learning libraries like scikit-learn and SciPy.\n",
    "- It's customary to import the `numpy` package under the alias `np` for brevity and clarity in code."
   ]
  },
  {
   "cell_type": "code",
   "execution_count": 1,
   "id": "2bbb6cd5-5388-4211-b83a-acc976a3f2a7",
   "metadata": {},
   "outputs": [],
   "source": [
    "import numpy as np"
   ]
  },
  {
   "cell_type": "markdown",
   "id": "e50d5555-39a0-459b-8a5c-c80139e6fe42",
   "metadata": {},
   "source": [
    "## Numpy Arrays\n",
    "A NumPy array, also known as `ndarray`, is a multidimensional array.\n",
    "- You can perform mathematical and statistical operations on arrays.\n",
    "- Manipulations such as reshaping, sorting, stacking, transposing, and shuffling arrays are possible."
   ]
  },
  {
   "cell_type": "markdown",
   "id": "ba6519c8-34cc-41a9-ba55-093389523b9a",
   "metadata": {},
   "source": [
    "The `np.array()` method is used to create an array. The following code generates a 2 by 3 matrix."
   ]
  },
  {
   "cell_type": "code",
   "execution_count": 2,
   "id": "ee4010c3-aee1-451f-8d75-d40df5c2dd14",
   "metadata": {},
   "outputs": [
    {
     "name": "stdout",
     "output_type": "stream",
     "text": [
      "[[1 2 3]\n",
      " [4 5 6]]\n"
     ]
    }
   ],
   "source": [
    "myarray = np.array([ [1,2,3], [4,5,6]])\n",
    "print(myarray)"
   ]
  },
  {
   "cell_type": "markdown",
   "id": "491e9402-115a-48a5-a94a-b8fffa12098a",
   "metadata": {},
   "source": [
    "The type of a NumPy array is `ndarray`."
   ]
  },
  {
   "cell_type": "code",
   "execution_count": 3,
   "id": "514e807d-2319-4347-9cd3-b7273d9bebc6",
   "metadata": {},
   "outputs": [
    {
     "name": "stdout",
     "output_type": "stream",
     "text": [
      "<class 'numpy.ndarray'>\n"
     ]
    }
   ],
   "source": [
    "print(type(myarray))"
   ]
  },
  {
   "cell_type": "markdown",
   "id": "281e79a0-7f55-4488-9ab2-a5ceac17c979",
   "metadata": {},
   "source": [
    "### Dimensions\n",
    "The dimension of a numpy array is the number of axes along which the array extends.\n",
    "- Examples:\n",
    "    - Vector: A one-dimensional array. It has only one axis.\n",
    "    - Matrix (Grid): A two-dimensional array. It has two axes.\n",
    "\n",
    "- The dimension of an array indicates the number of indices required to specify an element within the array.\n",
    "- The dimension of an array can be determined using the `ndim`."
   ]
  },
  {
   "cell_type": "markdown",
   "id": "d5a04249-0f19-4051-8c89-31d6db08d575",
   "metadata": {},
   "source": [
    "#### 0-dimension\n",
    "Its elements consist of scalars."
   ]
  },
  {
   "cell_type": "code",
   "execution_count": 25,
   "id": "a28af9ac-e30d-4afa-9090-63486a6fb6a0",
   "metadata": {},
   "outputs": [
    {
     "name": "stdout",
     "output_type": "stream",
     "text": [
      "0\n"
     ]
    }
   ],
   "source": [
    "myarray0 = np.array(5)\n",
    "print(myarray0.ndim)"
   ]
  },
  {
   "cell_type": "markdown",
   "id": "8f706f7d-ca32-40de-bb00-c6d316f8afe3",
   "metadata": {},
   "source": [
    "#### 1-dimension\n",
    "Its elements consist of 0-dimensional arrays.\n",
    "- 1,2,3,4 are 0 dimensional."
   ]
  },
  {
   "cell_type": "code",
   "execution_count": 26,
   "id": "d7250136-28c2-4eb4-b817-0f472c952516",
   "metadata": {},
   "outputs": [
    {
     "name": "stdout",
     "output_type": "stream",
     "text": [
      "1\n"
     ]
    }
   ],
   "source": [
    "myarray1 = np.array([1,2,3,4])\n",
    "print(myarray1.ndim)"
   ]
  },
  {
   "cell_type": "markdown",
   "id": "2979d805-413a-47af-8d75-3703578fc7e9",
   "metadata": {},
   "source": [
    "#### 2-dimension\n",
    "Its elements consist of 1-dimensional arrays.\n",
    "- [1,2] annd [3,4] are 1-dimensional."
   ]
  },
  {
   "cell_type": "code",
   "execution_count": 45,
   "id": "dee3e74c-16d8-40b2-9007-ffd1abcca08a",
   "metadata": {},
   "outputs": [
    {
     "name": "stdout",
     "output_type": "stream",
     "text": [
      "Dimension: 2\n",
      "===============\n",
      "[[1 2]\n",
      " [3 4]]\n"
     ]
    }
   ],
   "source": [
    "myarray2 = np.array([[1,2],[3,4]])\n",
    "print('Dimension:', myarray2.ndim)\n",
    "print('='*15)\n",
    "print( myarray2)"
   ]
  },
  {
   "cell_type": "markdown",
   "id": "d1de13a6-548c-46df-bcdd-090d777c2d3f",
   "metadata": {},
   "source": [
    "#### 3-dimension\n",
    "Its elements consist of 2-dimensional arrays.\n",
    "- [[1,2],[3,4]], [[5,6],[7,8]], [[9,10],[11,12]] are 2-dimensional."
   ]
  },
  {
   "cell_type": "code",
   "execution_count": 50,
   "id": "ea9d87b7-240f-465e-b4b9-65ce47488b15",
   "metadata": {},
   "outputs": [
    {
     "name": "stdout",
     "output_type": "stream",
     "text": [
      "Dimension: 3\n",
      "==========\n",
      "[[[ 1  2]\n",
      "  [ 3  4]]\n",
      "\n",
      " [[ 5  6]\n",
      "  [ 7  8]]\n",
      "\n",
      " [[ 9 10]\n",
      "  [11 12]]]\n"
     ]
    }
   ],
   "source": [
    "myarray3 = np.array( [[[1,2],[3,4]],[[5,6],[7,8]], [[9,10],[11,12]]] )\n",
    "print('Dimension:', myarray3.ndim)\n",
    "print('='*10)\n",
    "print( myarray3)"
   ]
  },
  {
   "cell_type": "markdown",
   "id": "32ae9801-b2d0-4b95-9587-6794cdd442e4",
   "metadata": {},
   "source": [
    "### Shape\n",
    "The shape of a numpy array is the number of elements in each dimension.\n",
    "- Since the dimension of the following array is 3, its shape consists of three numbers."
   ]
  },
  {
   "cell_type": "code",
   "execution_count": 65,
   "id": "0035ccc2-aec9-4bf6-b971-6cf9e1f4afd0",
   "metadata": {},
   "outputs": [
    {
     "name": "stdout",
     "output_type": "stream",
     "text": [
      "Dimension: 3\n",
      "---------------\n",
      "[[[1 1 1 1]\n",
      "  [2 2 2 2]\n",
      "  [3 3 3 3]]\n",
      "\n",
      " [[4 4 4 4]\n",
      "  [5 5 5 5]\n",
      "  [6 6 6 6]]]\n"
     ]
    }
   ],
   "source": [
    "myarray = np.array( [[[1,1,1,1],[2,2,2,2], [3,3,3,3]], [[4,4,4,4],[5,5,5,5], [6,6,6,6]]] )\n",
    "print('Dimension:', myarray3.ndim)\n",
    "print('-'*15)\n",
    "print( myarray)"
   ]
  },
  {
   "cell_type": "markdown",
   "id": "e9c23f09-eedd-4cb5-9552-c2930fe55c66",
   "metadata": {},
   "source": [
    "- In the first dimension: There are two elements: [[1,1,1,1],[2,2,2,2], [3,3,3,3]] and [[4,4,4,4],[5,5,5,5], [6,6,6,6]]].\n",
    "- In the second dimension each element has 3 elements.\n",
    "    - [[1,1,1,1],[2,2,2,2], [3,3,3,3]] has 3 elements [1,1,1,1],[2,2,2,2], and [3,3,3,3].\n",
    "    - [[4,4,4,4],[5,5,5,5], [6,6,6,6]] has 3 elements [4,4,4,4],[5,5,5,5], and [6,6,6,6].\n",
    "- In the third dimension there are 4 elements of each element.\n",
    "    -  [1,1,1,1], [2,2,2,2],...., [6,6,6,6] are all have four elements."
   ]
  },
  {
   "cell_type": "code",
   "execution_count": 66,
   "id": "231c55ec-39dc-4c0c-8c84-821c858a3a90",
   "metadata": {},
   "outputs": [
    {
     "name": "stdout",
     "output_type": "stream",
     "text": [
      "Shape    : (2, 3, 4)\n"
     ]
    }
   ],
   "source": [
    "print('Shape    :', myarray.shape)"
   ]
  },
  {
   "cell_type": "markdown",
   "id": "30252195-b142-4e70-9604-79886665809f",
   "metadata": {},
   "source": [
    "**Example**"
   ]
  },
  {
   "cell_type": "code",
   "execution_count": 68,
   "id": "ce9b384e-aaf0-442e-94c3-5e1c3627ba3c",
   "metadata": {},
   "outputs": [
    {
     "name": "stdout",
     "output_type": "stream",
     "text": [
      "Dimension: 3\n",
      "Shape    : (1, 3, 1)\n",
      "---------------\n",
      "[[[1]\n",
      "  [2]\n",
      "  [3]]]\n"
     ]
    }
   ],
   "source": [
    "myarray = np.array( [[[1],[2], [3]]] )\n",
    "print('Dimension:', myarray.ndim)\n",
    "print('Shape    :', myarray.shape)\n",
    "print('-'*15)\n",
    "print( myarray)"
   ]
  },
  {
   "cell_type": "markdown",
   "id": "fa9819cb-f930-46d9-96c3-d6f3c2321f87",
   "metadata": {},
   "source": [
    "- In the first dimension: There is only elements: [[1],[2], [3]].\n",
    "- In the second dimension: [[1],[2], [3]] has 3 elements.\n",
    "- In the third dimension: there is 1 element of each element.\n",
    "    - [1],[2], [3] are all have one element."
   ]
  },
  {
   "cell_type": "markdown",
   "id": "11c7a0c9-b2ba-4f74-a535-8abd8def538e",
   "metadata": {},
   "source": [
    "**Example**"
   ]
  },
  {
   "cell_type": "code",
   "execution_count": 70,
   "id": "ddc431fc-ebd9-4eee-8fd4-681f7b4fca9a",
   "metadata": {},
   "outputs": [
    {
     "name": "stdout",
     "output_type": "stream",
     "text": [
      "Dimension: 4\n",
      "Shape    : (1, 1, 1, 1)\n",
      "---------------\n",
      "[[[[1]]]]\n"
     ]
    }
   ],
   "source": [
    "myarray = np.array( [[[[1]]]] )\n",
    "print('Dimension:', myarray.ndim)\n",
    "print('Shape    :', myarray.shape)\n",
    "print('-'*15)\n",
    "print( myarray)"
   ]
  },
  {
   "cell_type": "markdown",
   "id": "ea21a8e4-b5c9-44c7-8881-0abf3db152a1",
   "metadata": {},
   "source": [
    "- In the first dimension: There is only elements: [[[1]]].\n",
    "- In the second dimension: [[[1]]] has 1 element: [[1]]\n",
    "- In the third dimension:  [[1]] has 1 element: [1].\n",
    "- In the fourth dimension: [1] has 1 element: 1."
   ]
  },
  {
   "cell_type": "markdown",
   "id": "730f6eec-8445-457d-86db-eda500dd6303",
   "metadata": {},
   "source": [
    "### Size\n",
    "- The total number of elements."
   ]
  },
  {
   "cell_type": "code",
   "execution_count": 72,
   "id": "8479f4d6-7258-4a58-bc7d-8a1403d20b15",
   "metadata": {},
   "outputs": [
    {
     "name": "stdout",
     "output_type": "stream",
     "text": [
      "Dimension: 3\n",
      "Shape    : (1, 3, 1)\n",
      "Size     : 3\n",
      "---------------\n",
      "[[[1]\n",
      "  [2]\n",
      "  [3]]]\n"
     ]
    }
   ],
   "source": [
    "myarray = np.array( [[[1],[2], [3]]] )\n",
    "print('Dimension:', myarray.ndim)\n",
    "print('Shape    :', myarray.shape)\n",
    "print('Size     :', myarray.size)\n",
    "\n",
    "print('-'*15)\n",
    "print( myarray)"
   ]
  },
  {
   "cell_type": "code",
   "execution_count": 74,
   "id": "a5ec9672-c5cc-41d2-a7d4-d23305f6f621",
   "metadata": {},
   "outputs": [
    {
     "name": "stdout",
     "output_type": "stream",
     "text": [
      "Dimension: 3\n",
      "Shape    : (2, 3, 4)\n",
      "Size     : 24\n",
      "---------------\n",
      "[[[1 1 1 1]\n",
      "  [2 2 2 2]\n",
      "  [3 3 3 3]]\n",
      "\n",
      " [[4 4 4 4]\n",
      "  [5 5 5 5]\n",
      "  [6 6 6 6]]]\n"
     ]
    }
   ],
   "source": [
    "myarray = np.array( [[[1,1,1,1],[2,2,2,2], [3,3,3,3]], [[4,4,4,4],[5,5,5,5], [6,6,6,6]]] )\n",
    "print('Dimension:', myarray.ndim)\n",
    "print('Shape    :', myarray.shape)\n",
    "print('Size     :', myarray.size)\n",
    "\n",
    "print('-'*15)\n",
    "print( myarray)"
   ]
  },
  {
   "cell_type": "markdown",
   "id": "b7aa8808-3615-4630-ab24-3060d7c284de",
   "metadata": {},
   "source": [
    "## Indexing\n",
    "Indexing of ndarrays involves square brackets, just like with lists.\n",
    "- When using indexing, you can consider the ndarray as lists of lists."
   ]
  },
  {
   "cell_type": "code",
   "execution_count": 133,
   "id": "9e56bafd-3e98-4739-86e0-29043ebf350e",
   "metadata": {},
   "outputs": [
    {
     "name": "stdout",
     "output_type": "stream",
     "text": [
      "[[3 5 7]\n",
      " [2 9 8]]\n"
     ]
    }
   ],
   "source": [
    "myarray = np.array( [[3, 5, 7], [2, 9, 8]] )\n",
    "print(myarray)"
   ]
  },
  {
   "cell_type": "code",
   "execution_count": 134,
   "id": "4499362a-7611-4633-96d6-095c8435174d",
   "metadata": {},
   "outputs": [
    {
     "data": {
      "text/plain": [
       "array([3, 5, 7])"
      ]
     },
     "execution_count": 134,
     "metadata": {},
     "output_type": "execute_result"
    }
   ],
   "source": [
    "# index 0 element of [[3, 5, 7], [2, 9, 8]] \n",
    "myarray[0]"
   ]
  },
  {
   "cell_type": "code",
   "execution_count": 136,
   "id": "542aa4d8-a865-4aa9-b729-cd7333bce596",
   "metadata": {},
   "outputs": [
    {
     "data": {
      "text/plain": [
       "7"
      ]
     },
     "execution_count": 136,
     "metadata": {},
     "output_type": "execute_result"
    }
   ],
   "source": [
    "# index 2 element of 3, 5, 7\n",
    "myarray[0][2]"
   ]
  },
  {
   "cell_type": "markdown",
   "id": "c0db47f9-289c-4751-9f58-b10179d7c8d4",
   "metadata": {},
   "source": [
    "$[0][2] = [0,2]$"
   ]
  },
  {
   "cell_type": "code",
   "execution_count": 137,
   "id": "ad3ccc4b-9a5b-4a42-a191-57f9637bb432",
   "metadata": {},
   "outputs": [
    {
     "data": {
      "text/plain": [
       "7"
      ]
     },
     "execution_count": 137,
     "metadata": {},
     "output_type": "execute_result"
    }
   ],
   "source": [
    "# row index: 0, column index:2\n",
    "myarray[0,2]"
   ]
  },
  {
   "cell_type": "markdown",
   "id": "e0ec109b-a879-42d4-b02a-0715fdefee29",
   "metadata": {},
   "source": [
    "## Slicing\n",
    "The colon (:) is used for slicing, just like with lists."
   ]
  },
  {
   "cell_type": "code",
   "execution_count": 141,
   "id": "85410b59-158e-40eb-a217-b6bb0107d1db",
   "metadata": {},
   "outputs": [
    {
     "data": {
      "text/plain": [
       "array([[5, 7],\n",
       "       [9, 8]])"
      ]
     },
     "execution_count": 141,
     "metadata": {},
     "output_type": "execute_result"
    }
   ],
   "source": [
    "# all rows, columns starting from index 1\n",
    "myarray[:,1:]"
   ]
  },
  {
   "cell_type": "markdown",
   "id": "2a0caad0-938d-48dd-8788-59f002eb72a6",
   "metadata": {},
   "source": [
    "## Array Methods"
   ]
  },
  {
   "cell_type": "markdown",
   "id": "994c8568-3f01-4717-ac15-2feac4f4a7b1",
   "metadata": {},
   "source": [
    "### reshape()\n",
    "- The *reshape()* method generates a new array with the specified shape."
   ]
  },
  {
   "cell_type": "code",
   "execution_count": 78,
   "id": "91a2fb3a-25e0-45f9-9c50-b4f945b5fb05",
   "metadata": {},
   "outputs": [
    {
     "name": "stdout",
     "output_type": "stream",
     "text": [
      "Dimension: 1\n",
      "Shape    : (6,)\n"
     ]
    }
   ],
   "source": [
    "array1 = np.array([1,2,3,4,5,6])\n",
    "print('Dimension:', array1.ndim)\n",
    "print('Shape    :', array1.shape)"
   ]
  },
  {
   "cell_type": "code",
   "execution_count": 81,
   "id": "c5789274-52d5-475e-ac9b-1730d5e8dcc6",
   "metadata": {},
   "outputs": [
    {
     "name": "stdout",
     "output_type": "stream",
     "text": [
      "Dimension: 2\n",
      "Shape    : (2, 3)\n"
     ]
    }
   ],
   "source": [
    "array2 = array1.reshape(2,3)\n",
    "print('Dimension:', array2.ndim)\n",
    "print('Shape    :', array2.shape)"
   ]
  },
  {
   "cell_type": "markdown",
   "id": "0f2cdacd-0379-4961-af0f-6c5e331a956e",
   "metadata": {},
   "source": [
    "### sum()\n",
    "- sum(): sum of all elements\n",
    "- sum(0): sum for each column\n",
    "- sum(1): sum for each row"
   ]
  },
  {
   "cell_type": "code",
   "execution_count": 84,
   "id": "1f33d8b1-e8d9-42c2-b811-22c20197f561",
   "metadata": {},
   "outputs": [
    {
     "name": "stdout",
     "output_type": "stream",
     "text": [
      "[[1 2 3]\n",
      " [4 5 6]]\n"
     ]
    }
   ],
   "source": [
    "myarray = np.array( [[1,2,3],[4,5,6]] )\n",
    "print(myarray)"
   ]
  },
  {
   "cell_type": "code",
   "execution_count": 85,
   "id": "ccd36e6b-0734-47ae-8174-f1b106170854",
   "metadata": {},
   "outputs": [
    {
     "name": "stdout",
     "output_type": "stream",
     "text": [
      "21\n"
     ]
    }
   ],
   "source": [
    "# 1+2+3+4+5+6\n",
    "print(myarray.sum())"
   ]
  },
  {
   "cell_type": "code",
   "execution_count": 88,
   "id": "89efb8c2-6897-43e6-aadc-d3523c40bcee",
   "metadata": {},
   "outputs": [
    {
     "name": "stdout",
     "output_type": "stream",
     "text": [
      "[5 7 9]\n"
     ]
    }
   ],
   "source": [
    "# 1+4=5\n",
    "# 2+5=7\n",
    "# 3+6=9\n",
    "print(myarray.sum(0))"
   ]
  },
  {
   "cell_type": "code",
   "execution_count": 89,
   "id": "1fb60624-a8f4-4487-99e4-a9f786e868f8",
   "metadata": {},
   "outputs": [
    {
     "name": "stdout",
     "output_type": "stream",
     "text": [
      "[ 6 15]\n"
     ]
    }
   ],
   "source": [
    "# 1+2+3=6\n",
    "# 4+5+6=15\n",
    "print(myarray.sum(1))"
   ]
  },
  {
   "cell_type": "markdown",
   "id": "59674a80-bae2-4e7b-a685-8bcdf63894a5",
   "metadata": {},
   "source": [
    "### min()\n",
    "- min(): minimum of all elements\n",
    "- min(0): minimum for each column\n",
    "- min(1): minimum for each row"
   ]
  },
  {
   "cell_type": "code",
   "execution_count": 112,
   "id": "b028f4dd-440b-4abb-95ea-4ff230866115",
   "metadata": {},
   "outputs": [
    {
     "name": "stdout",
     "output_type": "stream",
     "text": [
      "[[3 5 7]\n",
      " [2 9 8]]\n"
     ]
    }
   ],
   "source": [
    "myarray = np.array( [ [3,5,7], [2,9,8] ] )\n",
    "print(myarray)"
   ]
  },
  {
   "cell_type": "code",
   "execution_count": 113,
   "id": "fe73c431-ba30-4e71-aa26-72d1a1a4a86b",
   "metadata": {},
   "outputs": [
    {
     "name": "stdout",
     "output_type": "stream",
     "text": [
      "2\n"
     ]
    }
   ],
   "source": [
    "# minimum of 3, 5, 7, 2, 9, 8\n",
    "print(myarray.min())"
   ]
  },
  {
   "cell_type": "code",
   "execution_count": 114,
   "id": "0e4c3d02-29d7-4bd7-9c95-a2101d3fe135",
   "metadata": {},
   "outputs": [
    {
     "name": "stdout",
     "output_type": "stream",
     "text": [
      "[2 5 7]\n"
     ]
    }
   ],
   "source": [
    "# minimum of 3, 2\n",
    "# minimum of 5, 9\n",
    "# minimum of 7, 8\n",
    "\n",
    "print(myarray.min(0))"
   ]
  },
  {
   "cell_type": "code",
   "execution_count": 115,
   "id": "3f737bed-4b67-42c2-bcde-6e993d58cce3",
   "metadata": {},
   "outputs": [
    {
     "name": "stdout",
     "output_type": "stream",
     "text": [
      "[3 2]\n"
     ]
    }
   ],
   "source": [
    "# minimum of 3, 5, 7\n",
    "# minimum of 2, 9, 8\n",
    "\n",
    "print(myarray.min(1))"
   ]
  },
  {
   "cell_type": "markdown",
   "id": "8706b73d-bae7-49c7-879c-1863dd60b006",
   "metadata": {},
   "source": [
    "### max()\n",
    "- max(): maximum of all elements\n",
    "- max(0): maximum for each column\n",
    "- max(1): maximum for each row"
   ]
  },
  {
   "cell_type": "code",
   "execution_count": 106,
   "id": "03136d78-bc01-475d-858d-fb3d30d85c73",
   "metadata": {},
   "outputs": [
    {
     "name": "stdout",
     "output_type": "stream",
     "text": [
      "[[3 5 7]\n",
      " [2 9 8]]\n"
     ]
    }
   ],
   "source": [
    "myarray = np.array( [ [3,5,7], [2,9,8] ] )\n",
    "print(myarray)"
   ]
  },
  {
   "cell_type": "code",
   "execution_count": 117,
   "id": "a18dddde-567e-4fe8-b734-9772b0b3f669",
   "metadata": {},
   "outputs": [
    {
     "name": "stdout",
     "output_type": "stream",
     "text": [
      "9\n"
     ]
    }
   ],
   "source": [
    "# maximum of 3, 5, 7, 2, 9, 8\n",
    "print(myarray.max())"
   ]
  },
  {
   "cell_type": "code",
   "execution_count": 118,
   "id": "30f2502e-6d67-430f-bb09-0bddb5fbc3f3",
   "metadata": {},
   "outputs": [
    {
     "name": "stdout",
     "output_type": "stream",
     "text": [
      "[3 9 8]\n"
     ]
    }
   ],
   "source": [
    "# maximum of 3, 2\n",
    "# maximum of 5, 9\n",
    "# maximum of 7, 8\n",
    "\n",
    "print(myarray.max(0))"
   ]
  },
  {
   "cell_type": "code",
   "execution_count": 119,
   "id": "db7c157f-d5ae-4bd6-9ced-4eb5889c8a44",
   "metadata": {},
   "outputs": [
    {
     "name": "stdout",
     "output_type": "stream",
     "text": [
      "[7 9]\n"
     ]
    }
   ],
   "source": [
    "# maximum of 3, 5, 7\n",
    "# maximum of 2, 9, 8\n",
    "\n",
    "print(myarray.max(1))"
   ]
  },
  {
   "cell_type": "markdown",
   "id": "36f1008b-357b-473e-8dcb-b4a10bba3c43",
   "metadata": {},
   "source": [
    "### sort()\n",
    "The *sort()* method sorts the values in an array and modifies the original array."
   ]
  },
  {
   "cell_type": "code",
   "execution_count": 92,
   "id": "8bd13e44-77b8-4a23-967d-52ed8ac3ecdc",
   "metadata": {},
   "outputs": [
    {
     "name": "stdout",
     "output_type": "stream",
     "text": [
      "[0 1 2 4 5 7 9]\n"
     ]
    }
   ],
   "source": [
    "myarray = np.array( [1,9,4,0,2,7,5] )\n",
    "myarray.sort()\n",
    "print(myarray)"
   ]
  },
  {
   "cell_type": "markdown",
   "id": "74b77236-b1ac-41b4-97c2-02d77cac15de",
   "metadata": {},
   "source": [
    "### argmin()\n",
    "The *argmin()* method returns the index of the minimum element. "
   ]
  },
  {
   "cell_type": "code",
   "execution_count": 122,
   "id": "b2d78448-fd55-42f3-8994-ebb89348b814",
   "metadata": {},
   "outputs": [
    {
     "name": "stdout",
     "output_type": "stream",
     "text": [
      "1\n"
     ]
    }
   ],
   "source": [
    "# minimum element: 3\n",
    "# index of 3 is 1\n",
    "myarray = np.array( [5,3,9,6])\n",
    "print(myarray.argmin())"
   ]
  },
  {
   "cell_type": "markdown",
   "id": "fb6723cb-cc7c-4976-8400-463c07533bec",
   "metadata": {},
   "source": [
    "### argmax()\n",
    "The *argmax()* method returns the index of the maximum element. "
   ]
  },
  {
   "cell_type": "code",
   "execution_count": 123,
   "id": "f87a267d-0ca8-444c-bc28-d24b7d2ebd3d",
   "metadata": {},
   "outputs": [
    {
     "name": "stdout",
     "output_type": "stream",
     "text": [
      "2\n"
     ]
    }
   ],
   "source": [
    "# maximum element: 9\n",
    "# index of 9 is 2\n",
    "myarray = np.array( [5,3,9,6])\n",
    "print(myarray.argmax())"
   ]
  },
  {
   "cell_type": "markdown",
   "id": "616bf213-a2ab-47c1-82f9-3b8c2b509589",
   "metadata": {},
   "source": [
    "## Numpy Methods"
   ]
  },
  {
   "cell_type": "markdown",
   "id": "8ea7b9e3-546a-4a7c-9221-b12f7b46e5db",
   "metadata": {},
   "source": [
    "### hstack()\n",
    "The *hstack()* method combines arrays column-wise or horizontally.\n"
   ]
  },
  {
   "cell_type": "code",
   "execution_count": 98,
   "id": "d6a27669-02e1-4147-a171-ede773e67a34",
   "metadata": {},
   "outputs": [
    {
     "name": "stdout",
     "output_type": "stream",
     "text": [
      "[1 2 3 4 5 6]\n"
     ]
    }
   ],
   "source": [
    "array1 = np.array([1,2,3])\n",
    "array2 = np.array([4,5,6])\n",
    "print(np.hstack([array1, array2]))"
   ]
  },
  {
   "cell_type": "markdown",
   "id": "be34d029-a9cf-4089-b616-ae6b419a1e8f",
   "metadata": {},
   "source": [
    "### vstack()\n",
    "The *hstack()* method combines arrays row-wise or vertically."
   ]
  },
  {
   "cell_type": "code",
   "execution_count": 99,
   "id": "04e3f99d-2aa3-4d08-9939-15ee219d642f",
   "metadata": {},
   "outputs": [
    {
     "name": "stdout",
     "output_type": "stream",
     "text": [
      "[[1 2 3]\n",
      " [4 5 6]]\n"
     ]
    }
   ],
   "source": [
    "array1 = np.array([1,2,3])\n",
    "array2 = np.array([4,5,6])\n",
    "print(np.vstack([array1, array2]))"
   ]
  },
  {
   "cell_type": "markdown",
   "id": "8fdd306d-c78a-4cda-9089-db9989acfa8d",
   "metadata": {},
   "source": [
    "### linspace()"
   ]
  },
  {
   "cell_type": "markdown",
   "id": "239c4e96-ba86-4f5b-853c-067df8e84e34",
   "metadata": {},
   "source": [
    "The *linspace()* method calculates and returns a specific number of evenly spaced samples within the provided interval, including both the start and stop values.\n",
    "- You can choose whether or not to include the endpoint of the interval."
   ]
  },
  {
   "cell_type": "markdown",
   "id": "41be8c70-7caa-42d7-8a1f-df9fce0a8753",
   "metadata": {},
   "source": [
    "The following code generates 20 numbers starting from 2 and ends up at 10. \n",
    "- The difference between each consecutive number is $(10-2)/(20-1)$\n",
    "- 1 is subtracted from 20 because there are 19 intervals between 20 numbers."
   ]
  },
  {
   "cell_type": "code",
   "execution_count": 132,
   "id": "dff4642d-50b9-4c84-90ed-ce97ea941d5f",
   "metadata": {
    "scrolled": true
   },
   "outputs": [
    {
     "data": {
      "text/plain": [
       "array([ 2.        ,  2.42105263,  2.84210526,  3.26315789,  3.68421053,\n",
       "        4.10526316,  4.52631579,  4.94736842,  5.36842105,  5.78947368,\n",
       "        6.21052632,  6.63157895,  7.05263158,  7.47368421,  7.89473684,\n",
       "        8.31578947,  8.73684211,  9.15789474,  9.57894737, 10.        ])"
      ]
     },
     "execution_count": 132,
     "metadata": {},
     "output_type": "execute_result"
    }
   ],
   "source": [
    "np.linspace(2,10,20)"
   ]
  },
  {
   "cell_type": "markdown",
   "id": "27d9bfaf-d7e3-4ad0-afed-2963a62c4b81",
   "metadata": {},
   "source": [
    "### dot()\n",
    "The `dot()` method returns the dot product of two vectors, which is the sum of their componentwise products.\n",
    "\n",
    "**Example:**  \n",
    "$ [1,2,3] \\cdot [4,5,6] = 1\\cdot 4 + 2\\cdot 5+ 3\\cdot 6 = 4+10+18=32 $"
   ]
  },
  {
   "cell_type": "code",
   "execution_count": 232,
   "id": "c42475d9-7576-4441-9f3a-7a493816a251",
   "metadata": {},
   "outputs": [
    {
     "name": "stdout",
     "output_type": "stream",
     "text": [
      "32\n"
     ]
    }
   ],
   "source": [
    "array1 = np.array([1,2,3])\n",
    "array2 = np.array([4,5,6])\n",
    "\n",
    "print(np.dot(array1,array2))"
   ]
  },
  {
   "cell_type": "markdown",
   "id": "9e2a1aac-d373-4c2d-9054-80fbf65c3c9b",
   "metadata": {},
   "source": [
    "### cross()\n",
    "The `cross()` method returns the cross product of two vectors.\n"
   ]
  },
  {
   "cell_type": "code",
   "execution_count": 231,
   "id": "7c5fefdb-ca0b-44fa-a800-27fea68a6d49",
   "metadata": {},
   "outputs": [
    {
     "name": "stdout",
     "output_type": "stream",
     "text": [
      "[-3  6 -3]\n"
     ]
    }
   ],
   "source": [
    "array1 = np.array([1,2,3])\n",
    "array2 = np.array([4,5,6])\n",
    "\n",
    "print(np.cross(array1,array2))"
   ]
  },
  {
   "cell_type": "markdown",
   "id": "e712a3f3-9cf3-4b8b-8c28-eaf4ed4a1203",
   "metadata": {},
   "source": [
    "## Images\n",
    "Images can be stored as ndarrays and modified using array methods."
   ]
  },
  {
   "cell_type": "markdown",
   "id": "af7c906f-1a3a-4dd9-a167-35b28909f5bd",
   "metadata": {},
   "source": [
    "### 2-Dimensional Images\n",
    "\n",
    "`matplotlib.pyplot` is used to plot images.\n",
    "- By default, the colormap is viridis (yellow-blue).\n",
    "    - The smallest number in the ndarray corresponds to blue, while the largest represents yellow.\n",
    "    - For additional colormap options, refer to the following link: [colormaps](https://matplotlib.org/stable/users/explain/colors/colormaps.html)\n",
    "    - In gray colormap, the smallest number in the ndarray represents black, and the largest one represents white."
   ]
  },
  {
   "cell_type": "code",
   "execution_count": 152,
   "id": "3c17f528-76c1-4604-8d25-1acd1c6cf554",
   "metadata": {},
   "outputs": [],
   "source": [
    "myarray = np.array([[1,4,7,10,1]])"
   ]
  },
  {
   "cell_type": "markdown",
   "id": "8b292046-32a9-4c5b-bafa-484a93e83594",
   "metadata": {},
   "source": [
    "For the given ndarray above and the viridis colormap:\n",
    "- The largest number, 10, corresponds to yellow.\n",
    "- The smallest number, 1, corresponds to (dark) blue"
   ]
  },
  {
   "cell_type": "code",
   "execution_count": 153,
   "id": "81c6985a-fbee-4ef4-87ce-e9d6e322feb0",
   "metadata": {},
   "outputs": [
    {
     "data": {
      "image/png": "[encoded data removed]",
      "text/plain": [
       "<Figure size 640x480 with 1 Axes>"
      ]
     },
     "metadata": {},
     "output_type": "display_data"
    }
   ],
   "source": [
    "import matplotlib.pyplot as plt\n",
    "plt.imshow(myarray)\n",
    "plt.axis('off');  # remove axis"
   ]
  },
  {
   "cell_type": "markdown",
   "id": "27fe8ede-fd11-4791-b122-01862af04205",
   "metadata": {},
   "source": [
    "For the given ndarray above and the gray colormap:\n",
    "- The largest number, 10, corresponds to white.\n",
    "- The smallest number, 1, corresponds to black"
   ]
  },
  {
   "cell_type": "code",
   "execution_count": 154,
   "id": "3f95d215-330e-428b-ab2f-93c4c2275c4b",
   "metadata": {},
   "outputs": [
    {
     "data": {
      "image/png": "[encoded data removed]",
      "text/plain": [
       "<Figure size 640x480 with 1 Axes>"
      ]
     },
     "metadata": {},
     "output_type": "display_data"
    }
   ],
   "source": [
    "plt.imshow(myarray, 'gray')\n",
    "plt.axis('off');  # remove axis"
   ]
  },
  {
   "cell_type": "code",
   "execution_count": 222,
   "id": "f98515d1-a286-4a33-94d9-4a2959c3cdaa",
   "metadata": {},
   "outputs": [
    {
     "data": {
      "image/png": "[encoded data removed]",
      "text/plain": [
       "<Figure size 300x300 with 1 Axes>"
      ]
     },
     "metadata": {},
     "output_type": "display_data"
    }
   ],
   "source": [
    "# 1: yellow\n",
    "# 2: blue\n",
    "myarray = np.array([[1,0], [0,1]])\n",
    "plt.figure(figsize=(3,3))\n",
    "plt.imshow(myarray)\n",
    "plt.axis('off');  # remove axis"
   ]
  },
  {
   "cell_type": "code",
   "execution_count": 225,
   "id": "3aab4056-4a7f-4e2e-b7df-de0812c4d679",
   "metadata": {},
   "outputs": [
    {
     "data": {
      "image/png": "[encoded data removed]",
      "text/plain": [
       "<Figure size 300x300 with 1 Axes>"
      ]
     },
     "metadata": {},
     "output_type": "display_data"
    }
   ],
   "source": [
    "# 1: white\n",
    "# 2: black\n",
    "myarray = np.array([[1,0], [0,1]])\n",
    "plt.figure(figsize=(3,3))\n",
    "plt.imshow(myarray, 'gray');"
   ]
  },
  {
   "cell_type": "markdown",
   "id": "87b8df9e-0e1b-4b16-be77-096ac9fb2816",
   "metadata": {},
   "source": [
    "#### Digits Dataset\n",
    "The digits dataset in *sklearn* library consists of 1797 pictures of handwritten digits.\n",
    "- Each picture is represented as an 8 by 8 pixel image, resulting in relatively low picture quality.\n",
    "\n",
    "We import *load_digits()* from sklearn.datasets module\n",
    "- Its type is Bunch, which is similar to dictionaries."
   ]
  },
  {
   "cell_type": "code",
   "execution_count": 185,
   "id": "3881bc87-b809-41b6-80e1-8ef9fbf12e99",
   "metadata": {},
   "outputs": [
    {
     "name": "stdout",
     "output_type": "stream",
     "text": [
      "<class 'sklearn.utils._bunch.Bunch'>\n"
     ]
    }
   ],
   "source": [
    "from sklearn.datasets import load_digits\n",
    "dataset = load_digits()\n",
    "print(type(dataset))"
   ]
  },
  {
   "cell_type": "markdown",
   "id": "a01e86a0-b54f-4e14-9621-5888a19125ca",
   "metadata": {},
   "source": [
    "- The images are in the value correspond to the key *images*.\n",
    "- You can also use the key *DESCR* as follows, to access more about the dataset.\n",
    "``` python\n",
    "print(dataset.DESCR)\n",
    "```"
   ]
  },
  {
   "cell_type": "code",
   "execution_count": 175,
   "id": "ce666662-1e73-4787-a381-01f16da9127d",
   "metadata": {},
   "outputs": [
    {
     "name": "stdout",
     "output_type": "stream",
     "text": [
      "dict_keys(['data', 'target', 'frame', 'feature_names', 'target_names', 'images', 'DESCR'])\n"
     ]
    }
   ],
   "source": [
    "print(dataset.keys())"
   ]
  },
  {
   "cell_type": "markdown",
   "id": "2a1bc33f-201d-431c-a03d-3faa2a7584f7",
   "metadata": {},
   "source": [
    "- There are 1797 images in this dataset.\n",
    "- Each picture is represented by an 8 by 8 ndarray."
   ]
  },
  {
   "cell_type": "code",
   "execution_count": 176,
   "id": "ffb4e29f-4f98-4a2f-8ff4-4b0bac249313",
   "metadata": {},
   "outputs": [
    {
     "name": "stdout",
     "output_type": "stream",
     "text": [
      "(1797, 8, 8)\n"
     ]
    }
   ],
   "source": [
    "print(dataset.images.shape)"
   ]
  },
  {
   "cell_type": "markdown",
   "id": "948734bf-2d85-4c3d-95c1-5e2e34be0ca9",
   "metadata": {},
   "source": [
    "- The first image in the dataset:\n"
   ]
  },
  {
   "cell_type": "code",
   "execution_count": 191,
   "id": "a66af0f4-7adf-4be0-9239-c8c204dca183",
   "metadata": {},
   "outputs": [
    {
     "name": "stdout",
     "output_type": "stream",
     "text": [
      "(8, 8)\n"
     ]
    }
   ],
   "source": [
    "image0  = dataset.images[0]\n",
    "print(image0.shape)"
   ]
  },
  {
   "cell_type": "code",
   "execution_count": 192,
   "id": "973aae8b-9295-4f49-ac69-fe4f9a217bb8",
   "metadata": {},
   "outputs": [
    {
     "name": "stdout",
     "output_type": "stream",
     "text": [
      "[[ 0.  0.  5. 13.  9.  1.  0.  0.]\n",
      " [ 0.  0. 13. 15. 10. 15.  5.  0.]\n",
      " [ 0.  3. 15.  2.  0. 11.  8.  0.]\n",
      " [ 0.  4. 12.  0.  0.  8.  8.  0.]\n",
      " [ 0.  5.  8.  0.  0.  9.  8.  0.]\n",
      " [ 0.  4. 11.  0.  1. 12.  7.  0.]\n",
      " [ 0.  2. 14.  5. 10. 12.  0.  0.]\n",
      " [ 0.  0.  6. 13. 10.  0.  0.  0.]]\n"
     ]
    }
   ],
   "source": [
    "print(image0)"
   ]
  },
  {
   "cell_type": "code",
   "execution_count": 180,
   "id": "57ddbc62-e4b9-4aeb-a491-cbeaea5c532d",
   "metadata": {},
   "outputs": [
    {
     "data": {
      "image/png": "[encoded data removed]",
      "text/plain": [
       "<Figure size 100x100 with 1 Axes>"
      ]
     },
     "metadata": {},
     "output_type": "display_data"
    }
   ],
   "source": [
    "plt.figure(figsize=(1,1))\n",
    "plt.imshow(image0, 'gray')\n",
    "plt.axis('off');"
   ]
  },
  {
   "cell_type": "markdown",
   "id": "ebb1945f-0083-4026-a870-694ae34c04b3",
   "metadata": {},
   "source": [
    "- The second image in the dataset."
   ]
  },
  {
   "cell_type": "code",
   "execution_count": 182,
   "id": "a1b20c03-a4c2-47b5-b9a8-c17c09b28e4f",
   "metadata": {},
   "outputs": [
    {
     "name": "stdout",
     "output_type": "stream",
     "text": [
      "(8, 8)\n"
     ]
    }
   ],
   "source": [
    "image1  = dataset.images[1]\n",
    "print(image1.shape)"
   ]
  },
  {
   "cell_type": "code",
   "execution_count": 183,
   "id": "8b1b54c5-3e4d-41ad-8a1c-3d45933047b9",
   "metadata": {
    "scrolled": true
   },
   "outputs": [
    {
     "data": {
      "image/png": "[encoded data removed]",
      "text/plain": [
       "<Figure size 100x100 with 1 Axes>"
      ]
     },
     "metadata": {},
     "output_type": "display_data"
    }
   ],
   "source": [
    "plt.figure(figsize=(1,1))\n",
    "plt.imshow(image1, 'gray')\n",
    "plt.axis('off');"
   ]
  },
  {
   "cell_type": "markdown",
   "id": "fd50f1d0-a1e7-44a2-93e4-52698e5b7bd8",
   "metadata": {},
   "source": [
    "#### Face Dataset\n",
    "The *fetch_lfw_people dataset* contains images of famous individuals.\n",
    "- The parameter *min_faces_per_person* determines the inclusion of images for individuals who have more than the specified number of pictures in the dataset."
   ]
  },
  {
   "cell_type": "code",
   "execution_count": 199,
   "id": "9bbcf114-453d-420f-aac0-eeec5d1e81fc",
   "metadata": {},
   "outputs": [],
   "source": [
    "from sklearn.datasets import fetch_lfw_people\n",
    "dataset = fetch_lfw_people(min_faces_per_person=50)"
   ]
  },
  {
   "cell_type": "code",
   "execution_count": 200,
   "id": "c318dfe0-193a-4cd4-a4ee-8147b58780d6",
   "metadata": {},
   "outputs": [
    {
     "name": "stdout",
     "output_type": "stream",
     "text": [
      "dict_keys(['data', 'images', 'target', 'target_names', 'DESCR'])\n"
     ]
    }
   ],
   "source": [
    "print(dataset.keys())"
   ]
  },
  {
   "cell_type": "markdown",
   "id": "b3fa5a15-20b6-47db-b4ab-e6e521241646",
   "metadata": {},
   "source": [
    "- There are 1560 images in this dataset.\n",
    "- Each picture is represented by an 62 by 47 ndarray."
   ]
  },
  {
   "cell_type": "code",
   "execution_count": 203,
   "id": "b2631087-c0a3-4237-9da2-9c7ac3482688",
   "metadata": {},
   "outputs": [
    {
     "name": "stdout",
     "output_type": "stream",
     "text": [
      "(1560, 62, 47)\n"
     ]
    }
   ],
   "source": [
    "print(dataset.images.shape)"
   ]
  },
  {
   "cell_type": "markdown",
   "id": "79aa28b3-7f4c-4ac4-a50f-b19e87339e0c",
   "metadata": {},
   "source": [
    "- The first image in the dataset:\n"
   ]
  },
  {
   "cell_type": "code",
   "execution_count": 217,
   "id": "a2e531b8-8ebd-4ad8-8552-4014de8608f7",
   "metadata": {},
   "outputs": [
    {
     "name": "stdout",
     "output_type": "stream",
     "text": [
      "(62, 47)\n"
     ]
    }
   ],
   "source": [
    "image0  = dataset.images[0]\n",
    "print(image0.shape)"
   ]
  },
  {
   "cell_type": "code",
   "execution_count": 218,
   "id": "e15f652e-31d7-4bdc-a007-7bb8f103b1a2",
   "metadata": {},
   "outputs": [
    {
     "name": "stdout",
     "output_type": "stream",
     "text": [
      "[[0.3150327  0.33333334 0.39738563 ... 0.22352941 0.2784314  0.30588236]\n",
      " [0.3385621  0.34901962 0.40392157 ... 0.15555556 0.22745098 0.3124183 ]\n",
      " [0.36078432 0.38039216 0.37124184 ... 0.17254902 0.18431373 0.2496732 ]\n",
      " ...\n",
      " [0.18692811 0.18431373 0.1751634  ... 0.6640523  0.4366013  0.3124183 ]\n",
      " [0.18692811 0.18954249 0.18169935 ... 0.58300656 0.54640526 0.3895425 ]\n",
      " [0.18692811 0.18562092 0.18039216 ... 0.5254902  0.606536   0.46535948]]\n"
     ]
    }
   ],
   "source": [
    "print(image0)"
   ]
  },
  {
   "cell_type": "markdown",
   "id": "66f73cd0-74d0-4572-8207-530a774354ce",
   "metadata": {},
   "source": [
    "- The target of the first image is 11.\n",
    "    - This is the index of the name of the person in target names.  "
   ]
  },
  {
   "cell_type": "code",
   "execution_count": 219,
   "id": "5b0a7a0e-b4c2-4a4d-871f-cc3bc0d6bfa0",
   "metadata": {},
   "outputs": [
    {
     "name": "stdout",
     "output_type": "stream",
     "text": [
      "11\n"
     ]
    }
   ],
   "source": [
    "print(dataset.target[0])"
   ]
  },
  {
   "cell_type": "markdown",
   "id": "9c40d03a-f5f6-49a4-83e4-3e127fc899f7",
   "metadata": {},
   "source": [
    "- This image belongs to Tony Blair."
   ]
  },
  {
   "cell_type": "code",
   "execution_count": 220,
   "id": "645b9165-c291-47c5-80a0-e492cac00d94",
   "metadata": {},
   "outputs": [
    {
     "data": {
      "text/plain": [
       "'Tony Blair'"
      ]
     },
     "execution_count": 220,
     "metadata": {},
     "output_type": "execute_result"
    }
   ],
   "source": [
    "dataset.target_names[11]"
   ]
  },
  {
   "cell_type": "code",
   "execution_count": 221,
   "id": "aee6b4e3-34da-4a71-8abd-7492611c61c4",
   "metadata": {},
   "outputs": [
    {
     "data": {
      "image/png": "[encoded data removed]",
      "text/plain": [
       "<Figure size 640x480 with 1 Axes>"
      ]
     },
     "metadata": {},
     "output_type": "display_data"
    }
   ],
   "source": [
    "plt.imshow(image0, 'gray')\n",
    "plt.axis('off');"
   ]
  },
  {
   "cell_type": "code",
   "execution_count": null,
   "id": "59554d76-735c-48fd-af4d-1ab8bad72e9a",
   "metadata": {},
   "outputs": [],
   "source": []
  },
  {
   "cell_type": "code",
   "execution_count": null,
   "id": "842f2c25-d8f4-4809-aacd-4f286f68f72f",
   "metadata": {},
   "outputs": [],
   "source": []
  }
 ],
 "metadata": {
  "kernelspec": {
   "display_name": "Python 3 (ipykernel)",
   "language": "python",
   "name": "python3"
  },
  "language_info": {
   "codemirror_mode": {
    "name": "ipython",
    "version": 3
   },
   "file_extension": ".py",
   "mimetype": "text/x-python",
   "name": "python",
   "nbconvert_exporter": "python",
   "pygments_lexer": "ipython3",
   "version": "3.11.7"
  }
 },
 "nbformat": 4,
 "nbformat_minor": 5
}
