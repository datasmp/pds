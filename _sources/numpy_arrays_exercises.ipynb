{
 "cells": [
  {
   "cell_type": "markdown",
   "id": "58187e9c-5d7e-4f9f-b2c2-2a3319dfd06a",
   "metadata": {},
   "source": [
    "# Numpy Array Exercises\n"
   ]
  },
  {
   "cell_type": "markdown",
   "id": "eb32217f-4698-4ee7-825d-06f3aebbc772",
   "metadata": {},
   "source": [
    "## Question-1\n",
    "Create a 5x5 2D NumPy array with random values between 0 and 1:\n",
    "\n",
    "- Set a fixed seed for np.random to ensure reproducibility.\n",
    "- Replace all values in the second and fourth columns with 1 using indexing or slicing.\n",
    "- Replace all values in the second and fourth rows with 0 using indexing or slicing.\n",
    "Plot the final array."
   ]
  },
  {
   "cell_type": "markdown",
   "id": "ea62b513-cd1f-4930-9065-60f0d3719baa",
   "metadata": {},
   "source": [
    "## Question-2\n",
    "Select 4 images from the digits dataset and combine their NumPy arrays to create a single image arranged in a 2x2 grid. \n",
    "- Place 2 images on the top row and the other 2 images directly below them."
   ]
  },
  {
   "cell_type": "markdown",
   "id": "1ab0301d-aaef-42e4-9d3e-faf05705ea93",
   "metadata": {},
   "source": [
    "## Question-3\n",
    "Generate an array of 50 random names with lengths of 3, 4, or 5 characters.\n",
    "- The length of each name should be chosen randomly, and the characters should be selected randomly."
   ]
  },
  {
   "cell_type": "markdown",
   "id": "469ac3f2-b280-4ecb-bb2a-c0c2b0b4e4c9",
   "metadata": {},
   "source": [
    "## Question-4\n",
    "Create a 2D array with 50 rows and 5 columns containing values between 0 and 100. These values represent the grades for Test-1, Test-2, Test-3, Final, and LAB for each student, with their names generated in the previous question. Calculate the weighted percentage grade using the following weights:\n",
    "\n",
    "Weighted average = 0.15 * Test-1 + 0.20 * Test-2 + 0.25 * Test-3 + 0.30 * Final + 0.10 * LAB\n",
    "\n",
    "A student passes if their weighted average is greater than 55; otherwise, they fail.\n",
    "For each test, draw random values from a normal distribution with means chosen randomly between 20 and 80, and standard deviations between 5 and 10.\n",
    "\n",
    "You may round the values if necessary.\n",
    "\n",
    "Store the names, grades, weighted averages, and the corresponding pass/fail result in a single array. Add a header row with the column labels: Name, Test-1, Test-2, Test-3, Final, LAB, Result.\n",
    "\n",
    "The first two rows of the output:\n",
    "\n",
    "[['Name' 'Test-1' 'Test-2' 'Test-3' 'Final' 'LAB' 'Weighted Average' 'Result']  \n",
    " ['pva' '0.0' '0.0' '0.0' '0.0' '0.0' '0.0' 'Fail']]"
   ]
  },
  {
   "cell_type": "markdown",
   "id": "6a8c7f46-5c2f-4a9b-94fb-23f3a55c792d",
   "metadata": {},
   "source": [
    "## Question-5\n",
    "Create a 10x10 array with ones along both diagonals and zeros in all other positions. Plot the array so that it forms an \"X\" shape."
   ]
  },
  {
   "cell_type": "markdown",
   "id": "64664771-df5c-4eca-9b2c-f18b81e15248",
   "metadata": {},
   "source": [
    "## Question-6\n",
    "Generate 10,000 randomly chosen passwords, each consisting of five lowercase letters and three numbers in any order."
   ]
  },
  {
   "cell_type": "code",
   "execution_count": null,
   "id": "f7092e5a-d297-4b3b-8061-898beaf54df3",
   "metadata": {},
   "outputs": [],
   "source": []
  }
 ],
 "metadata": {
  "kernelspec": {
   "display_name": "Python 3 (ipykernel)",
   "language": "python",
   "name": "python3"
  },
  "language_info": {
   "codemirror_mode": {
    "name": "ipython",
    "version": 3
   },
   "file_extension": ".py",
   "mimetype": "text/x-python",
   "name": "python",
   "nbconvert_exporter": "python",
   "pygments_lexer": "ipython3",
   "version": "3.11.8"
  }
 },
 "nbformat": 4,
 "nbformat_minor": 5
}
