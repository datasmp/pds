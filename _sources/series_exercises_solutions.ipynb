{
 "cells": [
  {
   "cell_type": "markdown",
   "id": "58187e9c-5d7e-4f9f-b2c2-2a3319dfd06a",
   "metadata": {},
   "source": [
    "# Series Exercises Solutions\n",
    "\n",
    "![Section Title: Series Exercises](title_pict/series_exer2.png)"
   ]
  },
  {
   "cell_type": "markdown",
   "id": "c8e33d78-9258-4f55-a33e-e56777f75099",
   "metadata": {},
   "source": [
    "## Question-1\n",
    "Create a Series named fruit_name with the index ['Banana', 'Melon', 'Apple', 'Orange', 'Cherry'] and values [200, 450, 275, 190, 230]. - --- Give the name 'Fruit Cost' to the Series.\n",
    "- Add a new row with the index Pear and value 500.\n",
    "- Change the value of Melon to 950.\n",
    "- Remove the row with the index Orange from the Series.\n",
    "- Update the indices to ['Blackberry', 'Apricot', 'Grapefruit', 'Kiwi', 'Nectarine'].\n",
    "- Sort the Series in ascending order.\n",
    "- Display the largest value along with its corresponding index."
   ]
  },
  {
   "cell_type": "code",
   "execution_count": 35,
   "id": "71751a6b-1a71-4bfe-b889-e9de0a99754a",
   "metadata": {},
   "outputs": [
    {
     "name": "stdout",
     "output_type": "stream",
     "text": [
      "Lartgest Value 950 for Fruit Apricot\n"
     ]
    }
   ],
   "source": [
    "import pandas as pd\n",
    "\n",
    "fruits = ['Banana', 'Melon', 'Apple', 'Orange', 'Cherry']\n",
    "cost = [200, 450, 275, 190, 230]\n",
    "\n",
    "fruit_cost = pd.Series(cost, index=fruits, name='Fruit Cost')\n",
    "\n",
    "fruit_cost['Pear'] =500\n",
    "fruit_cost['Melon'] =950\n",
    "fruit_cost.drop('Orange', inplace=True)\n",
    "\n",
    "vegetables = ['Blackberry', 'Apricot', 'Grapefruit ', 'Kiwi', 'Nectarine']\n",
    "fruit_cost.index = vegetables\n",
    "\n",
    "fruit_cost.sort_values(inplace=True)\n",
    "print(f'Lartgest Value {fruit_cost.iloc[-1]} for Fruit {fruit_cost.index[-1]}')"
   ]
  },
  {
   "cell_type": "markdown",
   "id": "e6a9990c-4e28-40b4-8ba7-45ec2dd40b0e",
   "metadata": {},
   "source": [
    "## Question-2\n",
    "Run the following code to import Apple stock values and their corresponding dates as Series.\n",
    "```python\n",
    "apple = pd.read_csv('https://raw.githubusercontent.com/datasmp/datasets/main/stock.csv')['APPLE']\n",
    "dates = pd.read_csv('https://raw.githubusercontent.com/datasmp/datasets/main/stock.csv')['Date']\n",
    "```\n",
    "- Set the dates as the index of the Apple Series.\n",
    "- Display the following details about the updated Apple Series:\n",
    "    - Total number of rows\n",
    "    - The last 5 indices\n",
    "    - The last 5 values\n",
    "    - The median of the values\n",
    "    - The highest two values."
   ]
  },
  {
   "cell_type": "code",
   "execution_count": 101,
   "id": "a80da1cd-eefe-402a-99b6-d3302daf978a",
   "metadata": {},
   "outputs": [
    {
     "name": "stdout",
     "output_type": "stream",
     "text": [
      "Number of rows    : 252\n",
      "Last five indices : ['2020-01-02', '2020-01-03', '2020-01-06', '2020-01-07', '2020-01-08']\n",
      "Last five values  : [74.33 73.61 74.2  73.85 75.04]\n",
      "Median            : 90.96\n",
      "Highest two values: [134.67 136.49]\n"
     ]
    },
    {
     "data": {
      "text/plain": [
       "Date\n",
       "2020-01-02    74.33\n",
       "2020-01-03    73.61\n",
       "2020-01-06    74.20\n",
       "2020-01-07    73.85\n",
       "2020-01-08    75.04\n",
       "Name: APPLE, dtype: float64"
      ]
     },
     "execution_count": 101,
     "metadata": {},
     "output_type": "execute_result"
    }
   ],
   "source": [
    "apple.index = dates\n",
    "\n",
    "print(f'Number of rows    : {len(apple)}')\n",
    "print(f'Last five indices : {list(apple[:5].index)}')\n",
    "print(f'Last five values  : {apple[:5].values}')\n",
    "print(f'Median            : {apple.median():.2f}')\n",
    "print(f'Highest two values: {apple.sort_values().values[-2:]}')\n",
    "\n",
    "apple.head()"
   ]
  },
  {
   "cell_type": "markdown",
   "id": "8d2b6c56-e6e7-4469-99f2-6adf61fea8ff",
   "metadata": {},
   "source": [
    "## Question-3\n",
    "Create an array of 100 random integers between 2 and 4 (excluding 1 and 5).\n",
    "- Store the integers in a Series and set the index as S-1, S-2, ..., S-100.\n",
    "- Display the following details about the Series:\n",
    "    - The number of times the value 3 appears.\n",
    "    - The most common element in the Series.\n",
    "    - The least common element in the Series.\n",
    "    - The number of even values in the Series.\n",
    "    - The sum of all even values in the Series."
   ]
  },
  {
   "cell_type": "code",
   "execution_count": 170,
   "id": "14c062ff-d5e0-4470-8f3e-69ac86ec6a92",
   "metadata": {},
   "outputs": [
    {
     "name": "stdout",
     "output_type": "stream",
     "text": [
      "Number of ocuurences of 3: 19\n",
      "The most common element  : 1\n",
      "The least common element : 3\n",
      "The number of even values: 42\n",
      "Sum of the even values   : 128\n"
     ]
    }
   ],
   "source": [
    "import numpy as np\n",
    "import pandas as pd\n",
    "np.random.seed(0)\n",
    "numbers = np.random.randint(1,6,100)\n",
    "numbers = pd.Series(numbers)\n",
    "numbers.index = [f'S-{i}' for i in range(1,101)]\n",
    "print(f'Number of occurences of 3 : {numbers.value_counts()[5]}')\n",
    "print(f'The most common element   : {numbers.value_counts().index[0]}')\n",
    "print(f'The least common element  : {numbers.value_counts().index[-1]}')\n",
    "print(f'The number of even values : {numbers.value_counts()[2]+numbers.value_counts()[4]}')\n",
    "print(f'The sum of all even values: {sum([i for i in numbers.values if i%2==0])}')\n"
   ]
  },
  {
   "cell_type": "markdown",
   "id": "1a0fd8ac-d19f-47eb-a348-468ac8f82555",
   "metadata": {},
   "source": [
    "## Question-4\n",
    "Generate 1,000 randomly chosen passwords, each consisting of two lowercase letters and two numbers in any order.\n",
    "- Store these passwords in a Series with the index labeled as Person-1, Person-2, ..., Person-1000.\n",
    "- Check for duplicate passwords.\n",
    "- Display the duplicate passwords.\n",
    "- Remove duplicates, keeping only one instance of each password.\n",
    "- Check for duplicates again.\n"
   ]
  },
  {
   "cell_type": "code",
   "execution_count": 239,
   "id": "ff3e84a2-78f2-4b4e-916c-34e05b4c04a0",
   "metadata": {},
   "outputs": [
    {
     "name": "stdout",
     "output_type": "stream",
     "text": [
      "The number of duplicates : 1\n",
      "Duplicate(s)             : Player-952    kk53\n",
      "dtype: object\n",
      "The number of duplicates : 0\n"
     ]
    }
   ],
   "source": [
    "import numpy as np\n",
    "import pandas as pd\n",
    "import string\n",
    "np.random.seed(0)\n",
    "\n",
    "digits = list(string.digits) \n",
    "lower_case = list(string.ascii_lowercase)\n",
    "passwords = []\n",
    "\n",
    "for i in range(1000):\n",
    "    password = list(np.random.choice(digits, 2)) + list(np.random.choice(lower_case, 2))\n",
    "    np.random.shuffle(password) \n",
    "    passwords.append(''.join(password))\n",
    "\n",
    "\n",
    "passwords_series = pd.Series(passwords)\n",
    "passwords_series.index = [f'Player-{i}' for i in range(1,1001)]\n",
    "\n",
    "print(f'The number of duplicates : {sum(passwords_series.duplicated())}')\n",
    "print(f'Duplicate(s)             : {passwords_series[passwords_series.duplicated()==True]}')\n",
    "passwords_series.drop_duplicates(inplace=True)\n",
    "print(f'The number of duplicates : {sum(passwords_series.duplicated())}')\n"
   ]
  },
  {
   "cell_type": "markdown",
   "id": "92e2ca82-f4ea-4580-bca2-3566543c33f0",
   "metadata": {},
   "source": [
    "## Question-5\n",
    "Generate 1,000 random numbers using a Gaussian distribution and store them in a Series. Calculate the following:  \n",
    "- The count of grades less than 20.  \n",
    "- The count of grades greater than 80.  \n",
    "- The average of grades greater than 80, rounded to the nearest hundredth.  \n",
    "- The count of grades between 45 and 60.  "
   ]
  },
  {
   "cell_type": "code",
   "execution_count": 265,
   "id": "5bb9db36-cd6c-4614-9b2b-f10288d0f539",
   "metadata": {},
   "outputs": [
    {
     "name": "stdout",
     "output_type": "stream",
     "text": [
      "The number of grades less than 20     : 4\n",
      "The number of grades more than 80     : 84\n",
      "The average of the grades more than 80: 87.12\n",
      "The number of grades between 45 and 60: 476\n"
     ]
    }
   ],
   "source": [
    "import numpy as np\n",
    "import pandas as pd\n",
    "import string\n",
    "np.random.seed(0)\n",
    "\n",
    "grades = pd.Series(np.random.normal(60, 15, 1000))\n",
    "print(f'The count of grades less than 20     : {len(grades[grades<20])}')\n",
    "print(f'The count of grades greater than 80.     : {len(grades[grades>80])}')\n",
    "print(f'The average of the grades greater than 80: {grades[grades>80].mean():.2f}')\n",
    "print(f'The count of grades between 45 and 60: {len(grades[(grades>45)&(grades>60)])}')\n",
    "\n"
   ]
  },
  {
   "cell_type": "code",
   "execution_count": null,
   "id": "32cf4e31-f23c-4ae8-ac75-0688adc6dbaa",
   "metadata": {},
   "outputs": [],
   "source": []
  }
 ],
 "metadata": {
  "kernelspec": {
   "display_name": "Python 3 (ipykernel)",
   "language": "python",
   "name": "python3"
  },
  "language_info": {
   "codemirror_mode": {
    "name": "ipython",
    "version": 3
   },
   "file_extension": ".py",
   "mimetype": "text/x-python",
   "name": "python",
   "nbconvert_exporter": "python",
   "pygments_lexer": "ipython3",
   "version": "3.11.8"
  }
 },
 "nbformat": 4,
 "nbformat_minor": 5
}
