{
 "cells": [
  {
   "cell_type": "markdown",
   "metadata": {},
   "source": [
    "# DataFrames Exercises \n",
    "![](title_pict/df_exercises2.png)"
   ]
  },
  {
   "cell_type": "markdown",
   "metadata": {
    "id": "sNn4AXFmx2cw"
   },
   "source": [
    "## Question-1\n",
    "Load the grades CSV file from *https://raw.githubusercontent.com/datasmp/datasets/main/grades.csv* into a DataFrame.\n",
    "\n",
    "- Use the Pandas *read_csv()* method.\n",
    "- Display the first 10 rows of the DataFrame.\n",
    "- Display the last 10 rows of the DataFrame."
   ]
  },
  {
   "cell_type": "markdown",
   "metadata": {
    "id": "Gbarhri5ytb9"
   },
   "source": [
    "## Question-2\n",
    "Display the Test 3 grade of the student rlpsr (5th student):\n",
    "- Using loc\n",
    "- Using iloc"
   ]
  },
  {
   "cell_type": "markdown",
   "metadata": {
    "id": "dVTaa1YKzMFm"
   },
   "source": [
    "## Question-3\n",
    "Display the column labels."
   ]
  },
  {
   "cell_type": "markdown",
   "metadata": {
    "id": "pY85OIEQzW55"
   },
   "source": [
    "## Question-4\n",
    "Remove the *gender* column from the DataFrame."
   ]
  },
  {
   "cell_type": "markdown",
   "metadata": {
    "id": "pKpl2RxCz4yE"
   },
   "source": [
    "## Question-5\n",
    "Add a new column named *Weighted Average*, calculated as follows:\n",
    "\n",
    "$0.10 \\times HW + 0.15 \\times Test1 + 0.15 \\times Test2 + 0.15 \\times Test3 + 0.15 \\times Test4 + 0.3 \\times Final$ \n",
    " "
   ]
  },
  {
   "cell_type": "markdown",
   "metadata": {
    "id": "0DAF7c371Q8m"
   },
   "source": [
    "## Question-6"
   ]
  },
  {
   "cell_type": "markdown",
   "metadata": {
    "id": "irolkU-C1QMR"
   },
   "source": [
    "Display only the name of the student with highest Weighted Average."
   ]
  },
  {
   "cell_type": "markdown",
   "metadata": {
    "id": "TtvLG4wH17ay"
   },
   "source": [
    "## Question-7\n",
    "Find the number of students in the 11th grade."
   ]
  },
  {
   "cell_type": "code",
   "execution_count": null,
   "metadata": {
    "id": "PaUVAQBK2UR_"
   },
   "outputs": [],
   "source": []
  }
 ],
 "metadata": {
  "colab": {
   "authorship_tag": "ABX9TyNfXU/c9Jw36En9H0YydNqq",
   "name": "Week_6_LAB_Solutions_DataFrame.ipynb",
   "provenance": []
  },
  "kernelspec": {
   "display_name": "Python 3 (ipykernel)",
   "language": "python",
   "name": "python3"
  },
  "language_info": {
   "codemirror_mode": {
    "name": "ipython",
    "version": 3
   },
   "file_extension": ".py",
   "mimetype": "text/x-python",
   "name": "python",
   "nbconvert_exporter": "python",
   "pygments_lexer": "ipython3",
   "version": "3.11.7"
  }
 },
 "nbformat": 4,
 "nbformat_minor": 4
}
