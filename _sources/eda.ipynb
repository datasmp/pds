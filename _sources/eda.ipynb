{
 "cells": [
  {
   "cell_type": "markdown",
   "id": "2bd2245a-40ac-458e-8fbf-9b293dc18850",
   "metadata": {},
   "source": [
    "# Exploratory Data Analysis"
   ]
  },
  {
   "cell_type": "markdown",
   "id": "e5675539-4e0a-49ec-8c0f-947a3d706ec9",
   "metadata": {},
   "source": [
    "Exploratory Data Analysis (EDA) delves into the data's depths, revealing its underlying patterns and connections.\n",
    "- EDA is an initial exploration to grasp the data's nuances.\n",
    "- It helps us to understand the different facets of the dataset.\n",
    "- EDA helps to derive meaningful conclusions from the insights of the data.\n",
    "\n",
    "1. Import the data\n",
    "    - You can import data from a local computer, website, or using an API like yfinance.\n",
    "    - You can also use some built-in datasets.\n",
    "    - You can import Excel or CSV files.\n",
    "\n",
    "2. Explore the Data\n",
    "    - You can use the methods *head(), tail(), columns, index, info(), describe()*.\n",
    "\n",
    "3. Cleaning and refining the data:\n",
    "    - Check data types using info().\n",
    "        - If a numerical feature is given as a string, do conversion.\n",
    "        - If a date feature is given as a string, do conversion.\n",
    "    - You can change the column or row labels.\n",
    "        - You can use rename() to change column or row labels.\n",
    "        - You can use reset_index() or set_index() to change indexes or row labels.\n",
    "    - Rectifying missing values.\n",
    "        - You can use *info(), isnull() or notnull()* to detect missing values.\n",
    "        - You can either drop or fill the missing values.\n",
    "            - Drop rows or columns with missing values.\n",
    "        - Fill in the missing values.\n",
    "            - You can fill it with a constant value or the mean/median of the column.\n",
    "            - You can use imputation methods.\n",
    "    - Eliminating duplications.\n",
    "        - You can use *duplicate()* to determine repeated rows.\n",
    "        - You can either drop the repetitions or keep them.\n",
    "        - You can use *drop_duplicates()* to remove repetitions.\n",
    "    - Filtering out extraneous noise.\n",
    "    - Spotting and rectifying anomalies and outliers.\n",
    "        - You can either remove them or keep them.\n",
    "        - You can use different definitions of outliers.\n",
    "            - One method is using the interquartile range (IQR).\n",
    "    - Removing redundancies.\n",
    "        - Drop the columns which do not provide useful information.\n",
    "    - Scaling Data\n",
    "        - If the scales of featues are different, it might be a good idea to change their scale to the same level.\n",
    "        - You can use *StandardScaler()* or *MinMaxScaler()*.\n",
    "\n",
    "4. Statistical Tools\n",
    "    - Utilize statistical tools and graphs to derive insights from the data.\n",
    "    - Uncovering significant features and interrelations among them.\n",
    "    - You can find correlations between features using the method *corr()*.\n",
    "    - You can display it using *sns.heatmap()*.\n",
    "\n",
    "5. Visualization\n",
    "    - Utilize graphs to derive insights from the data.\n",
    "    - You can use line plots, scatter plots, histograms, pie charts, pair plots.\n"
   ]
  },
  {
   "cell_type": "markdown",
   "id": "627bb5f3-35f8-4c1a-b733-89e4c14dd3b5",
   "metadata": {
    "jp-MarkdownHeadingCollapsed": true
   },
   "source": [
    "## Important Libraries\n",
    "- pandas\n",
    "- numpy\n",
    "- seaborn\n",
    "- matplotlib"
   ]
  },
  {
   "cell_type": "markdown",
   "id": "203036da-322f-4535-9f67-020040c3b9c6",
   "metadata": {},
   "source": [
    "## Open Data Repositories\n",
    "\n",
    "- UC Urvine ML Repository: https://archive.ics.uci.edu/ml/index.php\n",
    "- Kaggle: https://www.kaggle.com/datasets\n",
    "- Wiki: https://en.wikipedia.org/wiki/List_of_datasets_for_machine-learning_research"
   ]
  }
 ],
 "metadata": {
  "kernelspec": {
   "display_name": "Python 3 (ipykernel)",
   "language": "python",
   "name": "python3"
  },
  "language_info": {
   "codemirror_mode": {
    "name": "ipython",
    "version": 3
   },
   "file_extension": ".py",
   "mimetype": "text/x-python",
   "name": "python",
   "nbconvert_exporter": "python",
   "pygments_lexer": "ipython3",
   "version": "3.11.7"
  }
 },
 "nbformat": 4,
 "nbformat_minor": 5
}
