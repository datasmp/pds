{
 "cells": [
  {
   "cell_type": "markdown",
   "id": "24c57c28-e43b-4b06-a456-0ec070c6ed53",
   "metadata": {},
   "source": [
    "# Importing and Storing Data\n",
    "![Warning Message: Under Construction](pict/under_construction.png)"
   ]
  },
  {
   "cell_type": "markdown",
   "id": "24073841-2953-4920-b221-a9a1a2f97b76",
   "metadata": {},
   "source": [
    "## read_csv()"
   ]
  },
  {
   "cell_type": "markdown",
   "id": "c745fd04-7407-43af-abd1-abdbbc583e09",
   "metadata": {},
   "source": [
    "## read_excel()"
   ]
  },
  {
   "cell_type": "markdown",
   "id": "429c09e2-5305-4670-a6f7-25a4528c5df9",
   "metadata": {},
   "source": [
    "## to_csv()"
   ]
  },
  {
   "cell_type": "markdown",
   "id": "a4ba6570-ead6-444a-aac2-9b8e06fa7212",
   "metadata": {},
   "source": [
    "## to_excel()"
   ]
  },
  {
   "cell_type": "markdown",
   "id": "e5a4b019-1f8c-4e72-ae3e-73433e6228e1",
   "metadata": {},
   "source": []
  }
 ],
 "metadata": {
  "kernelspec": {
   "display_name": "Python 3 (ipykernel)",
   "language": "python",
   "name": "python3"
  },
  "language_info": {
   "codemirror_mode": {
    "name": "ipython",
    "version": 3
   },
   "file_extension": ".py",
   "mimetype": "text/x-python",
   "name": "python",
   "nbconvert_exporter": "python",
   "pygments_lexer": "ipython3",
   "version": "3.11.8"
  }
 },
 "nbformat": 4,
 "nbformat_minor": 5
}
