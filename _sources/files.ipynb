{
 "cells": [
  {
   "cell_type": "markdown",
   "id": "58187e9c-5d7e-4f9f-b2c2-2a3319dfd06a",
   "metadata": {},
   "source": [
    "# Files \n",
    "![Section Title: Files](title_pict/fil.png)\n"
   ]
  },
  {
   "cell_type": "markdown",
   "id": "7b1ca542-7a0e-4204-958b-73516caa448c",
   "metadata": {},
   "source": [
    "## open()\n",
    "\n",
    "The content of files with a .txt extension can be imported using the built-in *open()* function. It supports various mode types for opening files:\n",
    "\n",
    "- The default mode is `r` (read mode), which allows only reading the file.\n",
    "- To write to a file, use the `w` mode (write mode), which overwrites the file if it already exists.\n",
    "- To add new information to the file without overwriting existing content, use the `a` mode (append mode).\n",
    "- The `x` mode is used to create a new file. If the file already exists, this mode will raise an error."
   ]
  },
  {
   "cell_type": "markdown",
   "id": "cd2a1a92-7891-4f8b-919c-2dd77c3e172f",
   "metadata": {},
   "source": [
    "You can use the *help()* function to get detailed information about the *open()* function, including its parameters, modes, and usage.\n",
    "``` python\n",
    "help(open)"
   ]
  },
  {
   "cell_type": "markdown",
   "id": "fd8b3247-1c75-4982-90f2-c1e46de78a21",
   "metadata": {},
   "source": [
    "## Read Mode\n",
    "`r`: Read mode (default).\n",
    "- Returns an error if the file does not exist.\n",
    "- Returns a TextIOWrapper object for reading the file content."
   ]
  },
  {
   "cell_type": "markdown",
   "id": "7069dc1c-afd1-4c9a-9341-fafb654b0b3d",
   "metadata": {},
   "source": [
    "The following code imports the *states_city.txt* file, which is stored in the same folder as your notebook, and it returns a TextIOWrapper object."
   ]
  },
  {
   "cell_type": "markdown",
   "id": "1ccc0a4d-ce9e-406b-b0cd-6e6c6e0acf42",
   "metadata": {},
   "source": [
    "- This file can be downloaded using the following [link](https://github.com/datasmp/datasets/blob/main/states_city.txt).\n",
    "- Save the file to the folder containing the Jupyter Notebook you are using.\n",
    "- If you want to store the file in a different folder, specify the path, such as *'folder1_name/folder2_name/states_city.txt'*."
   ]
  },
  {
   "cell_type": "code",
   "execution_count": 7,
   "id": "9b0111c5-a01c-41ef-bcee-a45435ff009a",
   "metadata": {},
   "outputs": [
    {
     "data": {
      "text/plain": [
       "<_io.TextIOWrapper name='states_city.txt' mode='r' encoding='UTF-8'>"
      ]
     },
     "execution_count": 7,
     "metadata": {},
     "output_type": "execute_result"
    }
   ],
   "source": [
    "open('states_city.txt')"
   ]
  },
  {
   "cell_type": "code",
   "execution_count": 8,
   "id": "69750f5b-8e8d-4ee9-8832-afd3d5d65cdc",
   "metadata": {},
   "outputs": [
    {
     "data": {
      "text/plain": [
       "_io.TextIOWrapper"
      ]
     },
     "execution_count": 8,
     "metadata": {},
     "output_type": "execute_result"
    }
   ],
   "source": [
    "fhand = open('states_city.txt')\n",
    "type(fhand)"
   ]
  },
  {
   "cell_type": "markdown",
   "id": "8362229e-a96d-40c7-af2c-6759ef60768c",
   "metadata": {},
   "source": [
    "- You can use the *help()* function to get detailed information about the *TextIOWrapper* class.\n",
    "\n",
    "```python\n",
    "help(fhand)"
   ]
  },
  {
   "cell_type": "markdown",
   "id": "841f43ce-349c-4728-bbaa-bca8c93be647",
   "metadata": {},
   "source": [
    "- The following is a list of non-magic methods."
   ]
  },
  {
   "cell_type": "code",
   "execution_count": 12,
   "id": "26a89f02-91f4-4752-a3fd-b7e2c9f2a8d5",
   "metadata": {},
   "outputs": [
    {
     "data": {
      "text/plain": [
       "['buffer',\n",
       " 'close',\n",
       " 'closed',\n",
       " 'detach',\n",
       " 'encoding',\n",
       " 'errors',\n",
       " 'fileno',\n",
       " 'flush',\n",
       " 'isatty',\n",
       " 'line_buffering',\n",
       " 'mode',\n",
       " 'name',\n",
       " 'newlines',\n",
       " 'read',\n",
       " 'readable',\n",
       " 'readline',\n",
       " 'readlines',\n",
       " 'reconfigure',\n",
       " 'seek',\n",
       " 'seekable',\n",
       " 'tell',\n",
       " 'truncate',\n",
       " 'writable',\n",
       " 'write',\n",
       " 'write_through',\n",
       " 'writelines']"
      ]
     },
     "execution_count": 12,
     "metadata": {},
     "output_type": "execute_result"
    }
   ],
   "source": [
    "[i for i in dir(fhand) if not i.startswith('_')]"
   ]
  },
  {
   "cell_type": "markdown",
   "id": "719be811-f7c3-49c1-b631-8a873f64c0e7",
   "metadata": {},
   "source": [
    "- To read the fhand, it can be iterated through line by line."
   ]
  },
  {
   "cell_type": "code",
   "execution_count": 14,
   "id": "e0ebb71c-7f41-458a-9c0c-cedc073dd25e",
   "metadata": {},
   "outputs": [
    {
     "name": "stdout",
     "output_type": "stream",
     "text": [
      "State: Ohio\n",
      "    City: Columbus\n",
      "    City: Cleveland\n",
      "\n",
      "State: Florida\n",
      "    City: Miami\n",
      "    City: Tampa\n",
      "    City: Orlando\n",
      "\n",
      "State: Oklahoma\n",
      "    City: Tulsa\n",
      "    City: Norman\n"
     ]
    }
   ],
   "source": [
    "fhand = open('states_city.txt')\n",
    "\n",
    "for line in fhand:\n",
    "    print(line, end='')"
   ]
  },
  {
   "cell_type": "markdown",
   "id": "e9ca68fc-4649-4424-9b15-747b3c1f5be5",
   "metadata": {},
   "source": [
    "- Each line is a string."
   ]
  },
  {
   "cell_type": "code",
   "execution_count": 16,
   "id": "49144873-38e6-400e-b6e8-05f53d47b3ae",
   "metadata": {},
   "outputs": [
    {
     "data": {
      "text/plain": [
       "'    City: Norman\\n'"
      ]
     },
     "execution_count": 16,
     "metadata": {},
     "output_type": "execute_result"
    }
   ],
   "source": [
    "line"
   ]
  },
  {
   "cell_type": "code",
   "execution_count": 17,
   "id": "554d1907-b317-430b-9ba3-16f39cd06a3a",
   "metadata": {},
   "outputs": [
    {
     "data": {
      "text/plain": [
       "str"
      ]
     },
     "execution_count": 17,
     "metadata": {},
     "output_type": "execute_result"
    }
   ],
   "source": [
    "type(line)"
   ]
  },
  {
   "cell_type": "markdown",
   "id": "6d334b2f-b520-4bea-9275-a1966a584112",
   "metadata": {},
   "source": [
    "### Remove White Spaces"
   ]
  },
  {
   "cell_type": "markdown",
   "id": "e96b3bdb-8c39-46a4-984f-1d6d272a4dc8",
   "metadata": {},
   "source": [
    "To remove spaces from the left, right, or both sides of a string, use the string methods lstrip(), rstrip(), and strip(), respectively."
   ]
  },
  {
   "cell_type": "code",
   "execution_count": 20,
   "id": "877d41dd-bd7f-49e0-bd68-39095b2eb066",
   "metadata": {},
   "outputs": [
    {
     "name": "stdout",
     "output_type": "stream",
     "text": [
      "State: Ohio\n",
      "City: Columbus\n",
      "City: Cleveland\n",
      "\n",
      "State: Florida\n",
      "City: Miami\n",
      "City: Tampa\n",
      "City: Orlando\n",
      "\n",
      "State: Oklahoma\n",
      "City: Tulsa\n",
      "City: Norman\n"
     ]
    }
   ],
   "source": [
    "fhand = open('states_city.txt')\n",
    "\n",
    "for line in fhand:\n",
    "    print(line.strip())"
   ]
  },
  {
   "cell_type": "markdown",
   "id": "ec9d80c0-8d93-46f7-837b-4cdeb4f454c8",
   "metadata": {},
   "source": [
    "### read()\n",
    "- It returns the entire text as a single string."
   ]
  },
  {
   "cell_type": "code",
   "execution_count": 22,
   "id": "e814c624-2cf4-48e7-935e-eaa50739d458",
   "metadata": {},
   "outputs": [
    {
     "data": {
      "text/plain": [
       "'State: Ohio\\n    City: Columbus\\n    City: Cleveland\\n\\nState: Florida\\n    City: Miami\\n    City: Tampa\\n    City: Orlando\\n\\nState: Oklahoma\\n    City: Tulsa\\n    City: Norman\\n'"
      ]
     },
     "execution_count": 22,
     "metadata": {},
     "output_type": "execute_result"
    }
   ],
   "source": [
    "fhand = open('states_city.txt')\n",
    "text = fhand.read()\n",
    "text"
   ]
  },
  {
   "cell_type": "code",
   "execution_count": 23,
   "id": "52e454db-e0c3-4d6e-b7ff-7114d7e63e08",
   "metadata": {},
   "outputs": [
    {
     "data": {
      "text/plain": [
       "str"
      ]
     },
     "execution_count": 23,
     "metadata": {},
     "output_type": "execute_result"
    }
   ],
   "source": [
    "type(text)"
   ]
  },
  {
   "cell_type": "code",
   "execution_count": 24,
   "id": "680b9cc1-db00-4a0c-8135-ca574a1c1f96",
   "metadata": {
    "scrolled": true
   },
   "outputs": [
    {
     "name": "stdout",
     "output_type": "stream",
     "text": [
      "State: Ohio\n",
      "    City: Columbus\n",
      "    City: Cleveland\n",
      "\n",
      "State: Florida\n",
      "    City: Miami\n",
      "    City: Tampa\n",
      "    City: Orlando\n",
      "\n",
      "State: Oklahoma\n",
      "    City: Tulsa\n",
      "    City: Norman\n",
      "\n"
     ]
    }
   ],
   "source": [
    "print(text)"
   ]
  },
  {
   "cell_type": "markdown",
   "id": "ed45903a-e052-48d8-ab24-6a044a273932",
   "metadata": {},
   "source": [
    "- The *read(n)* method returns the first *n* characters. The following code returns the first 10 characters."
   ]
  },
  {
   "cell_type": "code",
   "execution_count": 26,
   "id": "e34fecba-66a1-476d-8d18-e053552def7b",
   "metadata": {},
   "outputs": [
    {
     "data": {
      "text/plain": [
       "'State: Ohi'"
      ]
     },
     "execution_count": 26,
     "metadata": {},
     "output_type": "execute_result"
    }
   ],
   "source": [
    "fhand = open('states_city.txt')\n",
    "text = fhand.read(10)\n",
    "text"
   ]
  },
  {
   "cell_type": "markdown",
   "id": "9599f154-436d-4ea4-a71e-f8099fd204c7",
   "metadata": {},
   "source": [
    "### readlines()\n",
    "- It returns a list, where each line in the text is represented as a string."
   ]
  },
  {
   "cell_type": "code",
   "execution_count": 28,
   "id": "c991c4cb-f2aa-4fd2-a24c-61f21f2bcd2a",
   "metadata": {},
   "outputs": [
    {
     "data": {
      "text/plain": [
       "['State: Ohio\\n',\n",
       " '    City: Columbus\\n',\n",
       " '    City: Cleveland\\n',\n",
       " '\\n',\n",
       " 'State: Florida\\n',\n",
       " '    City: Miami\\n',\n",
       " '    City: Tampa\\n',\n",
       " '    City: Orlando\\n',\n",
       " '\\n',\n",
       " 'State: Oklahoma\\n',\n",
       " '    City: Tulsa\\n',\n",
       " '    City: Norman\\n']"
      ]
     },
     "execution_count": 28,
     "metadata": {},
     "output_type": "execute_result"
    }
   ],
   "source": [
    "fhand = open('states_city.txt')\n",
    "text = fhand.readlines()\n",
    "text"
   ]
  },
  {
   "cell_type": "code",
   "execution_count": 29,
   "id": "b4f02fec-eb87-4d8f-8e80-7f2ea72348bd",
   "metadata": {},
   "outputs": [
    {
     "data": {
      "text/plain": [
       "list"
      ]
     },
     "execution_count": 29,
     "metadata": {},
     "output_type": "execute_result"
    }
   ],
   "source": [
    "type(text)"
   ]
  },
  {
   "cell_type": "markdown",
   "id": "ce5e6129-887d-4614-b3c7-1b675313fc0b",
   "metadata": {},
   "source": [
    "## Write Mode\n",
    "`w`: Write mode.\n",
    "- It opens the file for writing.\n",
    "- If the file does not exist, it will be created.\n",
    "- It returns the number of characters in the last written string.\n",
    "- If the file already exists, all data will be deleted first, and then new strings will be written."
   ]
  },
  {
   "cell_type": "markdown",
   "id": "b158214a-6458-408a-9dca-3cfb17ef25c7",
   "metadata": {},
   "source": [
    "The following code opens the *animals.txt* file and deletes all its data if the file exists.   \n",
    "Otherwise, the *animals.txt* file is created. The last three lines, zebra, lion, and cat, are written to the file."
   ]
  },
  {
   "cell_type": "code",
   "execution_count": 32,
   "id": "88231a7d-a914-4149-ba99-dd70d633eeab",
   "metadata": {},
   "outputs": [
    {
     "data": {
      "text/plain": [
       "4"
      ]
     },
     "execution_count": 32,
     "metadata": {},
     "output_type": "execute_result"
    }
   ],
   "source": [
    "fhand = open('animals.txt', 'w')\n",
    "type(fhand)\n",
    "fhand.write('zebra\\n')\n",
    "fhand.write('lion\\n')\n",
    "fhand.write('cat\\n')"
   ]
  },
  {
   "cell_type": "markdown",
   "id": "18cdeafd-1d7b-4460-ab54-5ddc1fae1313",
   "metadata": {},
   "source": [
    "A file cannot be read in write mode. The following will return an error message.\n",
    "```python\n",
    "fhand = open('animals.txt', 'w')\n",
    "type(fhand)\n",
    "fhand.write('zebra\\n')\n",
    "fhand.write('lion\\n')\n",
    "fhand.write('cat\\n')\n",
    "fhand.read()"
   ]
  },
  {
   "cell_type": "markdown",
   "id": "440aa0e4-af65-48bf-836d-06e1e8673337",
   "metadata": {},
   "source": [
    "The following code is used to read the data from the *animals.txt* file."
   ]
  },
  {
   "cell_type": "code",
   "execution_count": 35,
   "id": "153f1f4b-7809-4c41-8f1c-2e0e1fe518e5",
   "metadata": {},
   "outputs": [
    {
     "name": "stdout",
     "output_type": "stream",
     "text": [
      "zebra\n",
      "lion\n",
      "cat\n",
      "\n"
     ]
    }
   ],
   "source": [
    "fhand = open('animals.txt', 'r')\n",
    "print(fhand.read())"
   ]
  },
  {
   "cell_type": "markdown",
   "id": "e6a0d9e6-480f-4fa1-88f1-62211fab096f",
   "metadata": {},
   "source": [
    "## Append Mode\n",
    "`a`: Append mode.\n",
    "- It opens the file to append new data to it.\n",
    "- If the file does not exist, it will be created.\n",
    "- It returns the number of characters in the last written string.\n",
    "- If the file exists, in append mode, the new data will be added at the end without deleting the existing content."
   ]
  },
  {
   "cell_type": "markdown",
   "id": "e0c5201c-9d1d-4fec-aa39-a774f82e7152",
   "metadata": {},
   "source": [
    "The following code opens the *animals.txt* file if it exists.   \n",
    "Otherwise, the *animals.txt* file is created. The last three lines, dog, mouse, and cow, are written to the file."
   ]
  },
  {
   "cell_type": "code",
   "execution_count": 38,
   "id": "30e2f3f5-0d94-466a-a9d8-23b02e787274",
   "metadata": {},
   "outputs": [
    {
     "data": {
      "text/plain": [
       "3"
      ]
     },
     "execution_count": 38,
     "metadata": {},
     "output_type": "execute_result"
    }
   ],
   "source": [
    "fhand = open('animals.txt', 'a')\n",
    "type(fhand)\n",
    "fhand.write('dog\\n')\n",
    "fhand.write('mouse\\n')\n",
    "fhand.write('cow')"
   ]
  },
  {
   "cell_type": "markdown",
   "id": "fd87da9e-f8c2-419e-8aec-3cc121682ff8",
   "metadata": {},
   "source": [
    "The following code is used to read the data from the *animals.txt* file."
   ]
  },
  {
   "cell_type": "code",
   "execution_count": 40,
   "id": "0424e8ad-a45f-475d-a2b8-c4eb47b628a8",
   "metadata": {},
   "outputs": [
    {
     "name": "stdout",
     "output_type": "stream",
     "text": [
      "zebra\n",
      "lion\n",
      "cat\n",
      "dog\n",
      "mouse\n",
      "cow\n"
     ]
    }
   ],
   "source": [
    "fhand = open('animals.txt', 'r')\n",
    "print(fhand.read())"
   ]
  },
  {
   "cell_type": "markdown",
   "id": "d09abc6b-ff5c-4818-944d-a1046460bb21",
   "metadata": {},
   "source": [
    "## Create Mode \n",
    "`a`: Append mode.\n",
    "- It creates a new file.\n",
    "- It returns an error message if the file already exists."
   ]
  },
  {
   "cell_type": "markdown",
   "id": "3a116459-b64c-4e09-a2b2-a17d1945c7df",
   "metadata": {},
   "source": [
    "The following code creates the courses.txt file."
   ]
  },
  {
   "cell_type": "code",
   "execution_count": 43,
   "id": "339321c0-10ad-4b71-a509-487872824646",
   "metadata": {},
   "outputs": [],
   "source": [
    "fhand = open('courses.txt', 'x')"
   ]
  },
  {
   "cell_type": "markdown",
   "id": "7af504a4-55f4-461c-907c-d97fbb2eba9d",
   "metadata": {},
   "source": [
    "The following code is used to read the data from the *animals.txt* file."
   ]
  },
  {
   "cell_type": "code",
   "execution_count": 45,
   "id": "bf969ce8-4fb1-4f39-a172-455d12054eed",
   "metadata": {
    "scrolled": true
   },
   "outputs": [
    {
     "name": "stdout",
     "output_type": "stream",
     "text": [
      "\n"
     ]
    }
   ],
   "source": [
    "fhand = open('courses.txt', 'r')\n",
    "print(fhand.read())"
   ]
  },
  {
   "cell_type": "markdown",
   "id": "e55c2ca2-1562-4e62-bc9e-98f80cc56504",
   "metadata": {},
   "source": [
    "## Delete a File\n",
    "To delete a file, use the *os.remove()* function from the os module."
   ]
  },
  {
   "cell_type": "code",
   "execution_count": 47,
   "id": "c3d5cc5a-e1df-4a83-9d3d-31599a7475be",
   "metadata": {},
   "outputs": [],
   "source": [
    "import os\n",
    "os.remove('courses.txt')"
   ]
  },
  {
   "cell_type": "markdown",
   "id": "b47277b5-3706-4aa4-9797-5cddbecd4591",
   "metadata": {},
   "source": [
    "## Examples"
   ]
  },
  {
   "cell_type": "code",
   "execution_count": 76,
   "id": "cd7a04a3-fa03-469c-a562-49b0a5efa7ef",
   "metadata": {},
   "outputs": [
    {
     "name": "stdout",
     "output_type": "stream",
     "text": [
      "State: Ohio\n",
      "    City: Columbus\n",
      "    City: Cleveland\n",
      "\n",
      "State: Florida\n",
      "    City: Miami\n",
      "    City: Tampa\n",
      "    City: Orlando\n",
      "\n",
      "State: Oklahoma\n",
      "    City: Tulsa\n",
      "    City: Norman\n"
     ]
    }
   ],
   "source": [
    "fhand = open('states_city.txt')\n",
    "\n",
    "for line in fhand:\n",
    "    print(line, end='')"
   ]
  },
  {
   "cell_type": "markdown",
   "id": "1726f4de-1879-4d56-968b-27a9b16db7b8",
   "metadata": {},
   "source": [
    "- **Question-1:** Determine the total number of cities."
   ]
  },
  {
   "cell_type": "code",
   "execution_count": 88,
   "id": "3c9ba950-f01b-4456-83c4-fd441cbe6ff2",
   "metadata": {},
   "outputs": [
    {
     "name": "stdout",
     "output_type": "stream",
     "text": [
      "Number of Cities: 7\n"
     ]
    }
   ],
   "source": [
    "fhand = open('states_city.txt')\n",
    "count = 0\n",
    "for line in fhand:\n",
    "    if line.strip().startswith('City'):\n",
    "        count += 1    \n",
    "\n",
    "print(f'Number of Cities: {count}')"
   ]
  },
  {
   "cell_type": "markdown",
   "id": "967f2ba6-28e4-46f0-afad-44bccfaf6ba8",
   "metadata": {},
   "source": [
    "- **Question-2:** Store city names in a list."
   ]
  },
  {
   "cell_type": "code",
   "execution_count": 96,
   "id": "65d00b7e-1f98-4bfd-9c3a-cc5eaa87f2f4",
   "metadata": {},
   "outputs": [
    {
     "name": "stdout",
     "output_type": "stream",
     "text": [
      "City Names: ['Columbus', 'Cleveland', 'Miami', 'Tampa', 'Orlando', 'Tulsa', 'Norman']\n"
     ]
    }
   ],
   "source": [
    "fhand = open('states_city.txt')\n",
    "city_names = []\n",
    "for line in fhand:\n",
    "    if line.strip().startswith('City'):\n",
    "        colon_index = line.find(':')\n",
    "        city_names.append(line[colon_index+2:-1])   \n",
    "\n",
    "print(f'City Names: {city_names}')"
   ]
  },
  {
   "cell_type": "markdown",
   "id": "cf16390c-ccb8-4e26-81f7-b6005269d9e4",
   "metadata": {},
   "source": [
    "- **Question-3:** Store city names in a list using regular expressions."
   ]
  },
  {
   "cell_type": "code",
   "execution_count": 163,
   "id": "178f4b0f-037a-4a77-ae69-7b6953176176",
   "metadata": {},
   "outputs": [
    {
     "name": "stdout",
     "output_type": "stream",
     "text": [
      "City Names: ['Columbus', 'Cleveland', 'Miami', 'Tampa', 'Orlando', 'Tulsa', 'Norman']\n"
     ]
    }
   ],
   "source": [
    "import re\n",
    "\n",
    "fhand = open('states_city.txt')\n",
    "city_names = []\n",
    "for line in fhand:\n",
    "    city_name = re.findall('City:\\s*(\\w+)',line)\n",
    "    if len(city_name) !=0:\n",
    "        city_names.append(city_name[0])   \n",
    "\n",
    "print(f'City Names: {city_names}')"
   ]
  },
  {
   "cell_type": "code",
   "execution_count": null,
   "id": "94673230-8d1b-45d0-8fb1-c4de84e9ca84",
   "metadata": {},
   "outputs": [],
   "source": []
  }
 ],
 "metadata": {
  "kernelspec": {
   "display_name": "Python 3 (ipykernel)",
   "language": "python",
   "name": "python3"
  },
  "language_info": {
   "codemirror_mode": {
    "name": "ipython",
    "version": 3
   },
   "file_extension": ".py",
   "mimetype": "text/x-python",
   "name": "python",
   "nbconvert_exporter": "python",
   "pygments_lexer": "ipython3",
   "version": "3.11.8"
  }
 },
 "nbformat": 4,
 "nbformat_minor": 5
}
