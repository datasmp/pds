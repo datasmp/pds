{
 "cells": [
  {
   "cell_type": "markdown",
   "id": "58187e9c-5d7e-4f9f-b2c2-2a3319dfd06a",
   "metadata": {},
   "source": [
    "# Regular Expression Exercises\n",
    "![Section Title: Regular Expression Exercises](title_pict/reg_exp_exer.png)"
   ]
  },
  {
   "cell_type": "markdown",
   "id": "920a26b1-ba6b-4f88-af63-38c5e4a72489",
   "metadata": {},
   "source": [
    "## Question-1\n",
    "Separate and extract the digits from the following text: 'I am 25 years old and my height is 180 cm.'\n",
    "- Output: ['2', '5', '1', '8', '0']"
   ]
  },
  {
   "cell_type": "markdown",
   "id": "9079d537-1cc8-41c0-84c8-fb8a4a8e7bb9",
   "metadata": {},
   "source": [
    "## Question-2\n",
    "Extract the numbers from the following text: 'I am 25 years old and my height is 180 cm.' \n",
    "- Output: ['25', '180']"
   ]
  },
  {
   "cell_type": "markdown",
   "id": "ab50f730-cd0f-416c-84ea-5acfa402d96d",
   "metadata": {},
   "source": [
    "## Question-3\n",
    "For the given *states* list, print the parts that include everything between 'o' and 'a'.\n",
    "```python\n",
    "states = ['Ohio', 'Florida', 'Iowa', 'Dakota', 'Arizona', 'Texas']\n"
   ]
  },
  {
   "cell_type": "markdown",
   "id": "69e4c223-cd99-4fa8-9b73-d1e852c3e137",
   "metadata": {},
   "source": [
    "## Question-4\n",
    "For the given *states* list, print the parts that include everything between 'o' and 'a', including 'o' and 'a' themselves.\n",
    "```python\n",
    "states = ['Ohio', 'Florida', 'Iowa', 'Dakota', 'Arizona', 'Texas']\n"
   ]
  },
  {
   "cell_type": "markdown",
   "id": "841e4967-3e7c-4a6a-9f47-228d10046759",
   "metadata": {},
   "source": [
    "## Question-5\n",
    "Extract the company name in the email part of the following text if it starts with 'ID'.\n",
    "\n",
    "``` python\n",
    "text = 'ID=78243537282  email= abc@tesla.net 10/25/2001 12:59:34 pm'"
   ]
  }
 ],
 "metadata": {
  "kernelspec": {
   "display_name": "Python 3 (ipykernel)",
   "language": "python",
   "name": "python3"
  },
  "language_info": {
   "codemirror_mode": {
    "name": "ipython",
    "version": 3
   },
   "file_extension": ".py",
   "mimetype": "text/x-python",
   "name": "python",
   "nbconvert_exporter": "python",
   "pygments_lexer": "ipython3",
   "version": "3.11.8"
  }
 },
 "nbformat": 4,
 "nbformat_minor": 5
}
