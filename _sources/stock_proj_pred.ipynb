{
 "cells": [
  {
   "cell_type": "markdown",
   "id": "2276052b-4d0f-46da-ae44-6cb576021608",
   "metadata": {},
   "source": [
    "# Project-3: Stock Prediction\n",
    "This project aims to predict future percentage changes using historical percentage change data.   \n",
    "There are two types of prediction problems: Regression and Classification.  \n",
    "- Regression: The output is a continuous variable (e.g., percentage change, price, cost, salary).\n",
    "- Classification: The output is a categorical variable (e.g., gender, dress type, species)."
   ]
  },
  {
   "cell_type": "markdown",
   "id": "946b5788-d47f-41e0-ab53-dfe9082c4342",
   "metadata": {},
   "source": [
    "## Single Stock\n",
    "- We will use the Close data of a single stock."
   ]
  },
  {
   "cell_type": "code",
   "execution_count": 1,
   "id": "663667fb-8a10-4b19-bf10-8c9ac8ca7c46",
   "metadata": {},
   "outputs": [],
   "source": [
    "import yfinance as yf\n",
    "import pandas as pd\n",
    "import numpy as np"
   ]
  },
  {
   "cell_type": "markdown",
   "id": "5b1aca54-281b-42be-ac04-05804f0dad9f",
   "metadata": {},
   "source": [
    "### Data Preparation"
   ]
  },
  {
   "cell_type": "code",
   "execution_count": 2,
   "id": "f072da4b-e921-4c67-b5d4-d8da03a50cf3",
   "metadata": {},
   "outputs": [
    {
     "data": {
      "text/html": [
       "<div>\n",
       "<style scoped>\n",
       "    .dataframe tbody tr th:only-of-type {\n",
       "        vertical-align: middle;\n",
       "    }\n",
       "\n",
       "    .dataframe tbody tr th {\n",
       "        vertical-align: top;\n",
       "    }\n",
       "\n",
       "    .dataframe thead th {\n",
       "        text-align: right;\n",
       "    }\n",
       "</style>\n",
       "<table border=\"1\" class=\"dataframe\">\n",
       "  <thead>\n",
       "    <tr style=\"text-align: right;\">\n",
       "      <th></th>\n",
       "      <th>Open</th>\n",
       "      <th>High</th>\n",
       "      <th>Low</th>\n",
       "      <th>Close</th>\n",
       "      <th>Volume</th>\n",
       "      <th>Dividends</th>\n",
       "      <th>Stock Splits</th>\n",
       "    </tr>\n",
       "    <tr>\n",
       "      <th>Date</th>\n",
       "      <th></th>\n",
       "      <th></th>\n",
       "      <th></th>\n",
       "      <th></th>\n",
       "      <th></th>\n",
       "      <th></th>\n",
       "      <th></th>\n",
       "    </tr>\n",
       "  </thead>\n",
       "  <tbody>\n",
       "    <tr>\n",
       "      <th>2015-01-02 00:00:00-05:00</th>\n",
       "      <td>24.895674</td>\n",
       "      <td>24.906850</td>\n",
       "      <td>23.992734</td>\n",
       "      <td>24.435265</td>\n",
       "      <td>212818400</td>\n",
       "      <td>0.0</td>\n",
       "      <td>0.0</td>\n",
       "    </tr>\n",
       "    <tr>\n",
       "      <th>2015-01-05 00:00:00-05:00</th>\n",
       "      <td>24.202833</td>\n",
       "      <td>24.283294</td>\n",
       "      <td>23.559154</td>\n",
       "      <td>23.746893</td>\n",
       "      <td>257142000</td>\n",
       "      <td>0.0</td>\n",
       "      <td>0.0</td>\n",
       "    </tr>\n",
       "    <tr>\n",
       "      <th>2015-01-06 00:00:00-05:00</th>\n",
       "      <td>23.811706</td>\n",
       "      <td>24.010621</td>\n",
       "      <td>23.384820</td>\n",
       "      <td>23.749126</td>\n",
       "      <td>263188400</td>\n",
       "      <td>0.0</td>\n",
       "      <td>0.0</td>\n",
       "    </tr>\n",
       "    <tr>\n",
       "      <th>2015-01-07 00:00:00-05:00</th>\n",
       "      <td>23.959216</td>\n",
       "      <td>24.182716</td>\n",
       "      <td>23.847466</td>\n",
       "      <td>24.082142</td>\n",
       "      <td>160423600</td>\n",
       "      <td>0.0</td>\n",
       "      <td>0.0</td>\n",
       "    </tr>\n",
       "    <tr>\n",
       "      <th>2015-01-08 00:00:00-05:00</th>\n",
       "      <td>24.412920</td>\n",
       "      <td>25.065540</td>\n",
       "      <td>24.294463</td>\n",
       "      <td>25.007429</td>\n",
       "      <td>237458000</td>\n",
       "      <td>0.0</td>\n",
       "      <td>0.0</td>\n",
       "    </tr>\n",
       "  </tbody>\n",
       "</table>\n",
       "</div>"
      ],
      "text/plain": [
       "                                Open       High        Low      Close  \\\n",
       "Date                                                                    \n",
       "2015-01-02 00:00:00-05:00  24.895674  24.906850  23.992734  24.435265   \n",
       "2015-01-05 00:00:00-05:00  24.202833  24.283294  23.559154  23.746893   \n",
       "2015-01-06 00:00:00-05:00  23.811706  24.010621  23.384820  23.749126   \n",
       "2015-01-07 00:00:00-05:00  23.959216  24.182716  23.847466  24.082142   \n",
       "2015-01-08 00:00:00-05:00  24.412920  25.065540  24.294463  25.007429   \n",
       "\n",
       "                              Volume  Dividends  Stock Splits  \n",
       "Date                                                           \n",
       "2015-01-02 00:00:00-05:00  212818400        0.0           0.0  \n",
       "2015-01-05 00:00:00-05:00  257142000        0.0           0.0  \n",
       "2015-01-06 00:00:00-05:00  263188400        0.0           0.0  \n",
       "2015-01-07 00:00:00-05:00  160423600        0.0           0.0  \n",
       "2015-01-08 00:00:00-05:00  237458000        0.0           0.0  "
      ]
     },
     "execution_count": 2,
     "metadata": {},
     "output_type": "execute_result"
    }
   ],
   "source": [
    "df = yf.Ticker('AAPL').history(start='2015-1-1', end='2018-12-31')\n",
    "df.head()"
   ]
  },
  {
   "cell_type": "code",
   "execution_count": 3,
   "id": "9c2a8186-a9d2-4fa1-b2fd-b2c0f92b41e7",
   "metadata": {},
   "outputs": [
    {
     "data": {
      "text/html": [
       "<div>\n",
       "<style scoped>\n",
       "    .dataframe tbody tr th:only-of-type {\n",
       "        vertical-align: middle;\n",
       "    }\n",
       "\n",
       "    .dataframe tbody tr th {\n",
       "        vertical-align: top;\n",
       "    }\n",
       "\n",
       "    .dataframe thead th {\n",
       "        text-align: right;\n",
       "    }\n",
       "</style>\n",
       "<table border=\"1\" class=\"dataframe\">\n",
       "  <thead>\n",
       "    <tr style=\"text-align: right;\">\n",
       "      <th></th>\n",
       "      <th>Date</th>\n",
       "      <th>Open</th>\n",
       "      <th>High</th>\n",
       "      <th>Low</th>\n",
       "      <th>Close</th>\n",
       "      <th>Volume</th>\n",
       "      <th>Dividends</th>\n",
       "      <th>Stock Splits</th>\n",
       "    </tr>\n",
       "  </thead>\n",
       "  <tbody>\n",
       "    <tr>\n",
       "      <th>0</th>\n",
       "      <td>2015-01-02 00:00:00-05:00</td>\n",
       "      <td>24.895674</td>\n",
       "      <td>24.906850</td>\n",
       "      <td>23.992734</td>\n",
       "      <td>24.435265</td>\n",
       "      <td>212818400</td>\n",
       "      <td>0.0</td>\n",
       "      <td>0.0</td>\n",
       "    </tr>\n",
       "    <tr>\n",
       "      <th>1</th>\n",
       "      <td>2015-01-05 00:00:00-05:00</td>\n",
       "      <td>24.202833</td>\n",
       "      <td>24.283294</td>\n",
       "      <td>23.559154</td>\n",
       "      <td>23.746893</td>\n",
       "      <td>257142000</td>\n",
       "      <td>0.0</td>\n",
       "      <td>0.0</td>\n",
       "    </tr>\n",
       "    <tr>\n",
       "      <th>2</th>\n",
       "      <td>2015-01-06 00:00:00-05:00</td>\n",
       "      <td>23.811706</td>\n",
       "      <td>24.010621</td>\n",
       "      <td>23.384820</td>\n",
       "      <td>23.749126</td>\n",
       "      <td>263188400</td>\n",
       "      <td>0.0</td>\n",
       "      <td>0.0</td>\n",
       "    </tr>\n",
       "    <tr>\n",
       "      <th>3</th>\n",
       "      <td>2015-01-07 00:00:00-05:00</td>\n",
       "      <td>23.959216</td>\n",
       "      <td>24.182716</td>\n",
       "      <td>23.847466</td>\n",
       "      <td>24.082142</td>\n",
       "      <td>160423600</td>\n",
       "      <td>0.0</td>\n",
       "      <td>0.0</td>\n",
       "    </tr>\n",
       "    <tr>\n",
       "      <th>4</th>\n",
       "      <td>2015-01-08 00:00:00-05:00</td>\n",
       "      <td>24.412920</td>\n",
       "      <td>25.065540</td>\n",
       "      <td>24.294463</td>\n",
       "      <td>25.007429</td>\n",
       "      <td>237458000</td>\n",
       "      <td>0.0</td>\n",
       "      <td>0.0</td>\n",
       "    </tr>\n",
       "  </tbody>\n",
       "</table>\n",
       "</div>"
      ],
      "text/plain": [
       "                       Date       Open       High        Low      Close  \\\n",
       "0 2015-01-02 00:00:00-05:00  24.895674  24.906850  23.992734  24.435265   \n",
       "1 2015-01-05 00:00:00-05:00  24.202833  24.283294  23.559154  23.746893   \n",
       "2 2015-01-06 00:00:00-05:00  23.811706  24.010621  23.384820  23.749126   \n",
       "3 2015-01-07 00:00:00-05:00  23.959216  24.182716  23.847466  24.082142   \n",
       "4 2015-01-08 00:00:00-05:00  24.412920  25.065540  24.294463  25.007429   \n",
       "\n",
       "      Volume  Dividends  Stock Splits  \n",
       "0  212818400        0.0           0.0  \n",
       "1  257142000        0.0           0.0  \n",
       "2  263188400        0.0           0.0  \n",
       "3  160423600        0.0           0.0  \n",
       "4  237458000        0.0           0.0  "
      ]
     },
     "execution_count": 3,
     "metadata": {},
     "output_type": "execute_result"
    }
   ],
   "source": [
    "# Reset the index and set the previous index as the Date column.\n",
    "df.reset_index(inplace=True)\n",
    "df.head()"
   ]
  },
  {
   "cell_type": "code",
   "execution_count": 4,
   "id": "3e1100bf-4909-43b5-994b-6afe366c26b0",
   "metadata": {},
   "outputs": [
    {
     "data": {
      "text/html": [
       "<div>\n",
       "<style scoped>\n",
       "    .dataframe tbody tr th:only-of-type {\n",
       "        vertical-align: middle;\n",
       "    }\n",
       "\n",
       "    .dataframe tbody tr th {\n",
       "        vertical-align: top;\n",
       "    }\n",
       "\n",
       "    .dataframe thead th {\n",
       "        text-align: right;\n",
       "    }\n",
       "</style>\n",
       "<table border=\"1\" class=\"dataframe\">\n",
       "  <thead>\n",
       "    <tr style=\"text-align: right;\">\n",
       "      <th></th>\n",
       "      <th>Date</th>\n",
       "      <th>Open</th>\n",
       "      <th>High</th>\n",
       "      <th>Low</th>\n",
       "      <th>Close</th>\n",
       "      <th>Volume</th>\n",
       "      <th>Dividends</th>\n",
       "      <th>Stock Splits</th>\n",
       "    </tr>\n",
       "  </thead>\n",
       "  <tbody>\n",
       "    <tr>\n",
       "      <th>0</th>\n",
       "      <td>2015-01-02</td>\n",
       "      <td>24.895674</td>\n",
       "      <td>24.906850</td>\n",
       "      <td>23.992734</td>\n",
       "      <td>24.435265</td>\n",
       "      <td>212818400</td>\n",
       "      <td>0.0</td>\n",
       "      <td>0.0</td>\n",
       "    </tr>\n",
       "    <tr>\n",
       "      <th>1</th>\n",
       "      <td>2015-01-05</td>\n",
       "      <td>24.202833</td>\n",
       "      <td>24.283294</td>\n",
       "      <td>23.559154</td>\n",
       "      <td>23.746893</td>\n",
       "      <td>257142000</td>\n",
       "      <td>0.0</td>\n",
       "      <td>0.0</td>\n",
       "    </tr>\n",
       "    <tr>\n",
       "      <th>2</th>\n",
       "      <td>2015-01-06</td>\n",
       "      <td>23.811706</td>\n",
       "      <td>24.010621</td>\n",
       "      <td>23.384820</td>\n",
       "      <td>23.749126</td>\n",
       "      <td>263188400</td>\n",
       "      <td>0.0</td>\n",
       "      <td>0.0</td>\n",
       "    </tr>\n",
       "    <tr>\n",
       "      <th>3</th>\n",
       "      <td>2015-01-07</td>\n",
       "      <td>23.959216</td>\n",
       "      <td>24.182716</td>\n",
       "      <td>23.847466</td>\n",
       "      <td>24.082142</td>\n",
       "      <td>160423600</td>\n",
       "      <td>0.0</td>\n",
       "      <td>0.0</td>\n",
       "    </tr>\n",
       "    <tr>\n",
       "      <th>4</th>\n",
       "      <td>2015-01-08</td>\n",
       "      <td>24.412920</td>\n",
       "      <td>25.065540</td>\n",
       "      <td>24.294463</td>\n",
       "      <td>25.007429</td>\n",
       "      <td>237458000</td>\n",
       "      <td>0.0</td>\n",
       "      <td>0.0</td>\n",
       "    </tr>\n",
       "  </tbody>\n",
       "</table>\n",
       "</div>"
      ],
      "text/plain": [
       "         Date       Open       High        Low      Close     Volume  \\\n",
       "0  2015-01-02  24.895674  24.906850  23.992734  24.435265  212818400   \n",
       "1  2015-01-05  24.202833  24.283294  23.559154  23.746893  257142000   \n",
       "2  2015-01-06  23.811706  24.010621  23.384820  23.749126  263188400   \n",
       "3  2015-01-07  23.959216  24.182716  23.847466  24.082142  160423600   \n",
       "4  2015-01-08  24.412920  25.065540  24.294463  25.007429  237458000   \n",
       "\n",
       "   Dividends  Stock Splits  \n",
       "0        0.0           0.0  \n",
       "1        0.0           0.0  \n",
       "2        0.0           0.0  \n",
       "3        0.0           0.0  \n",
       "4        0.0           0.0  "
      ]
     },
     "execution_count": 4,
     "metadata": {},
     "output_type": "execute_result"
    }
   ],
   "source": [
    "# Use dt to access only the date part and assign it as the new values for the 'Date' column.\n",
    "df['Date'] = df.Date.dt.date\n",
    "df.head()"
   ]
  },
  {
   "cell_type": "code",
   "execution_count": 5,
   "id": "aadb23bd-ecf5-4720-bf82-0f53c8ac7349",
   "metadata": {},
   "outputs": [
    {
     "data": {
      "text/html": [
       "<div>\n",
       "<style scoped>\n",
       "    .dataframe tbody tr th:only-of-type {\n",
       "        vertical-align: middle;\n",
       "    }\n",
       "\n",
       "    .dataframe tbody tr th {\n",
       "        vertical-align: top;\n",
       "    }\n",
       "\n",
       "    .dataframe thead th {\n",
       "        text-align: right;\n",
       "    }\n",
       "</style>\n",
       "<table border=\"1\" class=\"dataframe\">\n",
       "  <thead>\n",
       "    <tr style=\"text-align: right;\">\n",
       "      <th></th>\n",
       "      <th>Open</th>\n",
       "      <th>High</th>\n",
       "      <th>Low</th>\n",
       "      <th>Close</th>\n",
       "      <th>Volume</th>\n",
       "      <th>Dividends</th>\n",
       "      <th>Stock Splits</th>\n",
       "    </tr>\n",
       "    <tr>\n",
       "      <th>Date</th>\n",
       "      <th></th>\n",
       "      <th></th>\n",
       "      <th></th>\n",
       "      <th></th>\n",
       "      <th></th>\n",
       "      <th></th>\n",
       "      <th></th>\n",
       "    </tr>\n",
       "  </thead>\n",
       "  <tbody>\n",
       "    <tr>\n",
       "      <th>2015-01-02</th>\n",
       "      <td>24.895674</td>\n",
       "      <td>24.906850</td>\n",
       "      <td>23.992734</td>\n",
       "      <td>24.435265</td>\n",
       "      <td>212818400</td>\n",
       "      <td>0.0</td>\n",
       "      <td>0.0</td>\n",
       "    </tr>\n",
       "    <tr>\n",
       "      <th>2015-01-05</th>\n",
       "      <td>24.202833</td>\n",
       "      <td>24.283294</td>\n",
       "      <td>23.559154</td>\n",
       "      <td>23.746893</td>\n",
       "      <td>257142000</td>\n",
       "      <td>0.0</td>\n",
       "      <td>0.0</td>\n",
       "    </tr>\n",
       "    <tr>\n",
       "      <th>2015-01-06</th>\n",
       "      <td>23.811706</td>\n",
       "      <td>24.010621</td>\n",
       "      <td>23.384820</td>\n",
       "      <td>23.749126</td>\n",
       "      <td>263188400</td>\n",
       "      <td>0.0</td>\n",
       "      <td>0.0</td>\n",
       "    </tr>\n",
       "    <tr>\n",
       "      <th>2015-01-07</th>\n",
       "      <td>23.959216</td>\n",
       "      <td>24.182716</td>\n",
       "      <td>23.847466</td>\n",
       "      <td>24.082142</td>\n",
       "      <td>160423600</td>\n",
       "      <td>0.0</td>\n",
       "      <td>0.0</td>\n",
       "    </tr>\n",
       "    <tr>\n",
       "      <th>2015-01-08</th>\n",
       "      <td>24.412920</td>\n",
       "      <td>25.065540</td>\n",
       "      <td>24.294463</td>\n",
       "      <td>25.007429</td>\n",
       "      <td>237458000</td>\n",
       "      <td>0.0</td>\n",
       "      <td>0.0</td>\n",
       "    </tr>\n",
       "  </tbody>\n",
       "</table>\n",
       "</div>"
      ],
      "text/plain": [
       "                 Open       High        Low      Close     Volume  Dividends  \\\n",
       "Date                                                                           \n",
       "2015-01-02  24.895674  24.906850  23.992734  24.435265  212818400        0.0   \n",
       "2015-01-05  24.202833  24.283294  23.559154  23.746893  257142000        0.0   \n",
       "2015-01-06  23.811706  24.010621  23.384820  23.749126  263188400        0.0   \n",
       "2015-01-07  23.959216  24.182716  23.847466  24.082142  160423600        0.0   \n",
       "2015-01-08  24.412920  25.065540  24.294463  25.007429  237458000        0.0   \n",
       "\n",
       "            Stock Splits  \n",
       "Date                      \n",
       "2015-01-02           0.0  \n",
       "2015-01-05           0.0  \n",
       "2015-01-06           0.0  \n",
       "2015-01-07           0.0  \n",
       "2015-01-08           0.0  "
      ]
     },
     "execution_count": 5,
     "metadata": {},
     "output_type": "execute_result"
    }
   ],
   "source": [
    "# Set the 'Date' column as the index again, retaining only the date part.\n",
    "df.set_index('Date', inplace=True)\n",
    "df.head()"
   ]
  },
  {
   "cell_type": "code",
   "execution_count": 6,
   "id": "fb29d652-4315-4e1b-9293-3ebe983757cb",
   "metadata": {},
   "outputs": [
    {
     "data": {
      "text/html": [
       "<div>\n",
       "<style scoped>\n",
       "    .dataframe tbody tr th:only-of-type {\n",
       "        vertical-align: middle;\n",
       "    }\n",
       "\n",
       "    .dataframe tbody tr th {\n",
       "        vertical-align: top;\n",
       "    }\n",
       "\n",
       "    .dataframe thead th {\n",
       "        text-align: right;\n",
       "    }\n",
       "</style>\n",
       "<table border=\"1\" class=\"dataframe\">\n",
       "  <thead>\n",
       "    <tr style=\"text-align: right;\">\n",
       "      <th></th>\n",
       "      <th>Close</th>\n",
       "    </tr>\n",
       "    <tr>\n",
       "      <th>Date</th>\n",
       "      <th></th>\n",
       "    </tr>\n",
       "  </thead>\n",
       "  <tbody>\n",
       "    <tr>\n",
       "      <th>2015-01-02</th>\n",
       "      <td>24.435265</td>\n",
       "    </tr>\n",
       "    <tr>\n",
       "      <th>2015-01-05</th>\n",
       "      <td>23.746893</td>\n",
       "    </tr>\n",
       "    <tr>\n",
       "      <th>2015-01-06</th>\n",
       "      <td>23.749126</td>\n",
       "    </tr>\n",
       "    <tr>\n",
       "      <th>2015-01-07</th>\n",
       "      <td>24.082142</td>\n",
       "    </tr>\n",
       "    <tr>\n",
       "      <th>2015-01-08</th>\n",
       "      <td>25.007429</td>\n",
       "    </tr>\n",
       "  </tbody>\n",
       "</table>\n",
       "</div>"
      ],
      "text/plain": [
       "                Close\n",
       "Date                 \n",
       "2015-01-02  24.435265\n",
       "2015-01-05  23.746893\n",
       "2015-01-06  23.749126\n",
       "2015-01-07  24.082142\n",
       "2015-01-08  25.007429"
      ]
     },
     "execution_count": 6,
     "metadata": {},
     "output_type": "execute_result"
    }
   ],
   "source": [
    "# only Close column\n",
    "dfC = pd.DataFrame(df.Close)\n",
    "dfC.head()"
   ]
  },
  {
   "cell_type": "markdown",
   "id": "320433bc-ae75-4aff-aac1-6064aa8aa95c",
   "metadata": {},
   "source": [
    "### Percentage Change"
   ]
  },
  {
   "cell_type": "code",
   "execution_count": 7,
   "id": "286bb0a1-1f7c-46eb-aa48-8b64ae220f91",
   "metadata": {},
   "outputs": [
    {
     "data": {
      "text/html": [
       "<div>\n",
       "<style scoped>\n",
       "    .dataframe tbody tr th:only-of-type {\n",
       "        vertical-align: middle;\n",
       "    }\n",
       "\n",
       "    .dataframe tbody tr th {\n",
       "        vertical-align: top;\n",
       "    }\n",
       "\n",
       "    .dataframe thead th {\n",
       "        text-align: right;\n",
       "    }\n",
       "</style>\n",
       "<table border=\"1\" class=\"dataframe\">\n",
       "  <thead>\n",
       "    <tr style=\"text-align: right;\">\n",
       "      <th></th>\n",
       "      <th>Close</th>\n",
       "    </tr>\n",
       "    <tr>\n",
       "      <th>Date</th>\n",
       "      <th></th>\n",
       "    </tr>\n",
       "  </thead>\n",
       "  <tbody>\n",
       "    <tr>\n",
       "      <th>2015-01-02</th>\n",
       "      <td>NaN</td>\n",
       "    </tr>\n",
       "    <tr>\n",
       "      <th>2015-01-05</th>\n",
       "      <td>-0.028171</td>\n",
       "    </tr>\n",
       "    <tr>\n",
       "      <th>2015-01-06</th>\n",
       "      <td>0.000094</td>\n",
       "    </tr>\n",
       "    <tr>\n",
       "      <th>2015-01-07</th>\n",
       "      <td>0.014022</td>\n",
       "    </tr>\n",
       "    <tr>\n",
       "      <th>2015-01-08</th>\n",
       "      <td>0.038422</td>\n",
       "    </tr>\n",
       "  </tbody>\n",
       "</table>\n",
       "</div>"
      ],
      "text/plain": [
       "               Close\n",
       "Date                \n",
       "2015-01-02       NaN\n",
       "2015-01-05 -0.028171\n",
       "2015-01-06  0.000094\n",
       "2015-01-07  0.014022\n",
       "2015-01-08  0.038422"
      ]
     },
     "execution_count": 7,
     "metadata": {},
     "output_type": "execute_result"
    }
   ],
   "source": [
    "# percentage change\n",
    "dfCP = dfC.pct_change()\n",
    "dfCP.head()"
   ]
  },
  {
   "cell_type": "code",
   "execution_count": 8,
   "id": "22460818-6d6f-4b02-9c16-9ce9a48eedda",
   "metadata": {},
   "outputs": [
    {
     "data": {
      "text/html": [
       "<div>\n",
       "<style scoped>\n",
       "    .dataframe tbody tr th:only-of-type {\n",
       "        vertical-align: middle;\n",
       "    }\n",
       "\n",
       "    .dataframe tbody tr th {\n",
       "        vertical-align: top;\n",
       "    }\n",
       "\n",
       "    .dataframe thead th {\n",
       "        text-align: right;\n",
       "    }\n",
       "</style>\n",
       "<table border=\"1\" class=\"dataframe\">\n",
       "  <thead>\n",
       "    <tr style=\"text-align: right;\">\n",
       "      <th></th>\n",
       "      <th>Close</th>\n",
       "    </tr>\n",
       "    <tr>\n",
       "      <th>Date</th>\n",
       "      <th></th>\n",
       "    </tr>\n",
       "  </thead>\n",
       "  <tbody>\n",
       "    <tr>\n",
       "      <th>2015-01-05</th>\n",
       "      <td>-0.028171</td>\n",
       "    </tr>\n",
       "    <tr>\n",
       "      <th>2015-01-06</th>\n",
       "      <td>0.000094</td>\n",
       "    </tr>\n",
       "    <tr>\n",
       "      <th>2015-01-07</th>\n",
       "      <td>0.014022</td>\n",
       "    </tr>\n",
       "    <tr>\n",
       "      <th>2015-01-08</th>\n",
       "      <td>0.038422</td>\n",
       "    </tr>\n",
       "    <tr>\n",
       "      <th>2015-01-09</th>\n",
       "      <td>0.001073</td>\n",
       "    </tr>\n",
       "  </tbody>\n",
       "</table>\n",
       "</div>"
      ],
      "text/plain": [
       "               Close\n",
       "Date                \n",
       "2015-01-05 -0.028171\n",
       "2015-01-06  0.000094\n",
       "2015-01-07  0.014022\n",
       "2015-01-08  0.038422\n",
       "2015-01-09  0.001073"
      ]
     },
     "execution_count": 8,
     "metadata": {},
     "output_type": "execute_result"
    }
   ],
   "source": [
    "# drop missing values\n",
    "dfCP.dropna(inplace=True)\n",
    "dfCP.head()"
   ]
  },
  {
   "cell_type": "markdown",
   "id": "cd745d93-aa96-4434-8dfb-9c8f8140c7e2",
   "metadata": {},
   "source": [
    "### Lag Data\n",
    "The lagged data represents past data, while the close values will be the future data that we aim to predict.\n",
    "- lag_1 is the value of the day before the Close day.\n",
    "- lag_2 is the value of two days before the Close day.\n",
    "- One important question is how many lagged data points will be used as input."
   ]
  },
  {
   "cell_type": "code",
   "execution_count": 9,
   "id": "a0345983-fb6d-4d36-b09b-45f8b458877c",
   "metadata": {},
   "outputs": [
    {
     "data": {
      "text/html": [
       "<div>\n",
       "<style scoped>\n",
       "    .dataframe tbody tr th:only-of-type {\n",
       "        vertical-align: middle;\n",
       "    }\n",
       "\n",
       "    .dataframe tbody tr th {\n",
       "        vertical-align: top;\n",
       "    }\n",
       "\n",
       "    .dataframe thead th {\n",
       "        text-align: right;\n",
       "    }\n",
       "</style>\n",
       "<table border=\"1\" class=\"dataframe\">\n",
       "  <thead>\n",
       "    <tr style=\"text-align: right;\">\n",
       "      <th></th>\n",
       "      <th>Close</th>\n",
       "      <th>lag_1</th>\n",
       "      <th>lag_2</th>\n",
       "      <th>lag_3</th>\n",
       "      <th>lag_4</th>\n",
       "      <th>lag_5</th>\n",
       "    </tr>\n",
       "    <tr>\n",
       "      <th>Date</th>\n",
       "      <th></th>\n",
       "      <th></th>\n",
       "      <th></th>\n",
       "      <th></th>\n",
       "      <th></th>\n",
       "      <th></th>\n",
       "    </tr>\n",
       "  </thead>\n",
       "  <tbody>\n",
       "    <tr>\n",
       "      <th>2015-01-05</th>\n",
       "      <td>-0.028171</td>\n",
       "      <td>NaN</td>\n",
       "      <td>NaN</td>\n",
       "      <td>NaN</td>\n",
       "      <td>NaN</td>\n",
       "      <td>NaN</td>\n",
       "    </tr>\n",
       "    <tr>\n",
       "      <th>2015-01-06</th>\n",
       "      <td>0.000094</td>\n",
       "      <td>-0.028171</td>\n",
       "      <td>NaN</td>\n",
       "      <td>NaN</td>\n",
       "      <td>NaN</td>\n",
       "      <td>NaN</td>\n",
       "    </tr>\n",
       "    <tr>\n",
       "      <th>2015-01-07</th>\n",
       "      <td>0.014022</td>\n",
       "      <td>0.000094</td>\n",
       "      <td>-0.028171</td>\n",
       "      <td>NaN</td>\n",
       "      <td>NaN</td>\n",
       "      <td>NaN</td>\n",
       "    </tr>\n",
       "    <tr>\n",
       "      <th>2015-01-08</th>\n",
       "      <td>0.038422</td>\n",
       "      <td>0.014022</td>\n",
       "      <td>0.000094</td>\n",
       "      <td>-0.028171</td>\n",
       "      <td>NaN</td>\n",
       "      <td>NaN</td>\n",
       "    </tr>\n",
       "    <tr>\n",
       "      <th>2015-01-09</th>\n",
       "      <td>0.001073</td>\n",
       "      <td>0.038422</td>\n",
       "      <td>0.014022</td>\n",
       "      <td>0.000094</td>\n",
       "      <td>-0.028171</td>\n",
       "      <td>NaN</td>\n",
       "    </tr>\n",
       "  </tbody>\n",
       "</table>\n",
       "</div>"
      ],
      "text/plain": [
       "               Close     lag_1     lag_2     lag_3     lag_4  lag_5\n",
       "Date                                                               \n",
       "2015-01-05 -0.028171       NaN       NaN       NaN       NaN    NaN\n",
       "2015-01-06  0.000094 -0.028171       NaN       NaN       NaN    NaN\n",
       "2015-01-07  0.014022  0.000094 -0.028171       NaN       NaN    NaN\n",
       "2015-01-08  0.038422  0.014022  0.000094 -0.028171       NaN    NaN\n",
       "2015-01-09  0.001073  0.038422  0.014022  0.000094 -0.028171    NaN"
      ]
     },
     "execution_count": 9,
     "metadata": {},
     "output_type": "execute_result"
    }
   ],
   "source": [
    "# lag data\n",
    "dfCPL = dfCP.copy()\n",
    "dfCPL['lag_1'] = dfCPL.Close.shift(1)\n",
    "dfCPL['lag_2'] = dfCPL.Close.shift(2)\n",
    "dfCPL['lag_3'] = dfCPL.Close.shift(3)\n",
    "dfCPL['lag_4'] = dfCPL.Close.shift(4)\n",
    "dfCPL['lag_5'] = dfCPL.Close.shift(5)\n",
    "dfCPL.head()"
   ]
  },
  {
   "cell_type": "code",
   "execution_count": 10,
   "id": "4467fb16-09d4-4428-8448-63237594e236",
   "metadata": {},
   "outputs": [
    {
     "data": {
      "text/html": [
       "<div>\n",
       "<style scoped>\n",
       "    .dataframe tbody tr th:only-of-type {\n",
       "        vertical-align: middle;\n",
       "    }\n",
       "\n",
       "    .dataframe tbody tr th {\n",
       "        vertical-align: top;\n",
       "    }\n",
       "\n",
       "    .dataframe thead th {\n",
       "        text-align: right;\n",
       "    }\n",
       "</style>\n",
       "<table border=\"1\" class=\"dataframe\">\n",
       "  <thead>\n",
       "    <tr style=\"text-align: right;\">\n",
       "      <th></th>\n",
       "      <th>Close</th>\n",
       "      <th>lag_1</th>\n",
       "      <th>lag_2</th>\n",
       "      <th>lag_3</th>\n",
       "      <th>lag_4</th>\n",
       "      <th>lag_5</th>\n",
       "    </tr>\n",
       "    <tr>\n",
       "      <th>Date</th>\n",
       "      <th></th>\n",
       "      <th></th>\n",
       "      <th></th>\n",
       "      <th></th>\n",
       "      <th></th>\n",
       "      <th></th>\n",
       "    </tr>\n",
       "  </thead>\n",
       "  <tbody>\n",
       "    <tr>\n",
       "      <th>2015-01-12</th>\n",
       "      <td>-0.024641</td>\n",
       "      <td>0.001073</td>\n",
       "      <td>0.038422</td>\n",
       "      <td>0.014022</td>\n",
       "      <td>0.000094</td>\n",
       "      <td>-0.028171</td>\n",
       "    </tr>\n",
       "    <tr>\n",
       "      <th>2015-01-13</th>\n",
       "      <td>0.008879</td>\n",
       "      <td>-0.024641</td>\n",
       "      <td>0.001073</td>\n",
       "      <td>0.038422</td>\n",
       "      <td>0.014022</td>\n",
       "      <td>0.000094</td>\n",
       "    </tr>\n",
       "    <tr>\n",
       "      <th>2015-01-14</th>\n",
       "      <td>-0.003810</td>\n",
       "      <td>0.008879</td>\n",
       "      <td>-0.024641</td>\n",
       "      <td>0.001073</td>\n",
       "      <td>0.038422</td>\n",
       "      <td>0.014022</td>\n",
       "    </tr>\n",
       "    <tr>\n",
       "      <th>2015-01-15</th>\n",
       "      <td>-0.027140</td>\n",
       "      <td>-0.003810</td>\n",
       "      <td>0.008879</td>\n",
       "      <td>-0.024641</td>\n",
       "      <td>0.001073</td>\n",
       "      <td>0.038422</td>\n",
       "    </tr>\n",
       "    <tr>\n",
       "      <th>2015-01-16</th>\n",
       "      <td>-0.007770</td>\n",
       "      <td>-0.027140</td>\n",
       "      <td>-0.003810</td>\n",
       "      <td>0.008879</td>\n",
       "      <td>-0.024641</td>\n",
       "      <td>0.001073</td>\n",
       "    </tr>\n",
       "  </tbody>\n",
       "</table>\n",
       "</div>"
      ],
      "text/plain": [
       "               Close     lag_1     lag_2     lag_3     lag_4     lag_5\n",
       "Date                                                                  \n",
       "2015-01-12 -0.024641  0.001073  0.038422  0.014022  0.000094 -0.028171\n",
       "2015-01-13  0.008879 -0.024641  0.001073  0.038422  0.014022  0.000094\n",
       "2015-01-14 -0.003810  0.008879 -0.024641  0.001073  0.038422  0.014022\n",
       "2015-01-15 -0.027140 -0.003810  0.008879 -0.024641  0.001073  0.038422\n",
       "2015-01-16 -0.007770 -0.027140 -0.003810  0.008879 -0.024641  0.001073"
      ]
     },
     "execution_count": 10,
     "metadata": {},
     "output_type": "execute_result"
    }
   ],
   "source": [
    "# drop missing values\n",
    "dfCPL.dropna(inplace=True)\n",
    "dfCPL.head()"
   ]
  },
  {
   "cell_type": "markdown",
   "id": "d3e39f21-dc64-4648-86bd-8813c91e6eeb",
   "metadata": {},
   "source": [
    "### Split Data\n",
    "The entire dataset will be divided into three sets:\n",
    "1. Training Set (80%): Used to build the model.\n",
    "2. Validation Set (10%): Used to select the model with the best parameters.\n",
    "3. Test Set (10%): Used to evaluate the performance of the best model."
   ]
  },
  {
   "cell_type": "markdown",
   "id": "1896f284-4a11-40a2-87c8-bb2bb16ad54d",
   "metadata": {},
   "source": [
    "- $X$ denotes the input data, representing the lagged (past) data.\n",
    "- $y$ denotes the output data, representing the close (future) data\n",
    "- $yC$ represents the output data, indicating whether it is increasing (+1) or decreasing/flat (0), reflecting the close (future) data."
   ]
  },
  {
   "cell_type": "code",
   "execution_count": 11,
   "id": "c549ff40-cdd9-4ba9-97dd-4f0a1146dde4",
   "metadata": {},
   "outputs": [],
   "source": [
    "X = dfCPL.iloc[:,1:]\n",
    "y = dfCPL['Close'].values\n",
    "\n",
    "yC = np.where(y > 0, 1, 0)"
   ]
  },
  {
   "cell_type": "code",
   "execution_count": 12,
   "id": "67392844-558d-456c-afe1-dc8105045120",
   "metadata": {},
   "outputs": [
    {
     "data": {
      "text/plain": [
       "array([-0.02464069,  0.00887863, -0.00381041, -0.02714035, -0.00777039])"
      ]
     },
     "execution_count": 12,
     "metadata": {},
     "output_type": "execute_result"
    }
   ],
   "source": [
    "# first 5 values of y\n",
    "y[:5]"
   ]
  },
  {
   "cell_type": "code",
   "execution_count": 13,
   "id": "67c79121-17fc-4086-9e0f-adba6cc7db03",
   "metadata": {},
   "outputs": [
    {
     "data": {
      "text/plain": [
       "array([0, 1, 0, 0, 0])"
      ]
     },
     "execution_count": 13,
     "metadata": {},
     "output_type": "execute_result"
    }
   ],
   "source": [
    "# first 5 values of yC\n",
    "yC[:5]"
   ]
  },
  {
   "cell_type": "code",
   "execution_count": 14,
   "id": "e4b77c4f-f3d6-434f-b9f8-e260ba335199",
   "metadata": {},
   "outputs": [
    {
     "data": {
      "text/plain": [
       "799"
      ]
     },
     "execution_count": 14,
     "metadata": {},
     "output_type": "execute_result"
    }
   ],
   "source": [
    "# 80% of the data\n",
    "N = int(len(dfCPL)*0.8)\n",
    "N"
   ]
  },
  {
   "cell_type": "code",
   "execution_count": 15,
   "id": "2dfe8dc0-eab9-4fad-8914-3769cb6994ec",
   "metadata": {},
   "outputs": [
    {
     "data": {
      "text/plain": [
       "899"
      ]
     },
     "execution_count": 15,
     "metadata": {},
     "output_type": "execute_result"
    }
   ],
   "source": [
    "# 90% of the data\n",
    "M = int(len(dfCPL)*0.9)\n",
    "M"
   ]
  },
  {
   "cell_type": "code",
   "execution_count": 16,
   "id": "82b5111a-7036-493f-a0d6-0defbbadad36",
   "metadata": {},
   "outputs": [],
   "source": [
    "# splitting\n",
    "X_train, y_train, yC_train = X[:N] , y[:N] , yC[:N]\n",
    "X_valid, y_valid, yC_valid = X[N:M], y[N:M], yC[N:M]\n",
    "X_test , y_test , yC_test  = X[M:] , y[M:] , yC[M:]"
   ]
  },
  {
   "cell_type": "code",
   "execution_count": 17,
   "id": "820f944a-11dc-4716-8310-73d024b833ac",
   "metadata": {},
   "outputs": [
    {
     "data": {
      "text/plain": [
       "((799, 5), (799,), (799,))"
      ]
     },
     "execution_count": 17,
     "metadata": {},
     "output_type": "execute_result"
    }
   ],
   "source": [
    "# training set shape\n",
    "X_train.shape, y_train.shape, yC_train.shape"
   ]
  },
  {
   "cell_type": "code",
   "execution_count": 18,
   "id": "3f4fe133-01d3-4802-816c-afebd520a7c7",
   "metadata": {},
   "outputs": [
    {
     "data": {
      "text/plain": [
       "((100, 5), (100,), (100,))"
      ]
     },
     "execution_count": 18,
     "metadata": {},
     "output_type": "execute_result"
    }
   ],
   "source": [
    "# validation set shape\n",
    "X_valid.shape, y_valid.shape, yC_valid.shape"
   ]
  },
  {
   "cell_type": "code",
   "execution_count": 19,
   "id": "06c6c921-0c1c-4f26-995d-3dd81b29561a",
   "metadata": {},
   "outputs": [
    {
     "data": {
      "text/plain": [
       "((100, 5), (100,), (100,))"
      ]
     },
     "execution_count": 19,
     "metadata": {},
     "output_type": "execute_result"
    }
   ],
   "source": [
    "# test set shape\n",
    "X_test.shape, y_test.shape, yC_test.shape"
   ]
  },
  {
   "cell_type": "markdown",
   "id": "de78b28f-0ab0-4f34-ae71-f2c749c47dc9",
   "metadata": {},
   "source": [
    "### Decision Tree "
   ]
  },
  {
   "cell_type": "code",
   "execution_count": 20,
   "id": "96b001f1-2085-473b-8c42-665258736906",
   "metadata": {},
   "outputs": [],
   "source": [
    "from sklearn.tree import DecisionTreeRegressor, DecisionTreeClassifier"
   ]
  },
  {
   "cell_type": "code",
   "execution_count": 21,
   "id": "1d820411-fd96-4763-ab05-d15228f89018",
   "metadata": {},
   "outputs": [],
   "source": [
    "dtC_2 = DecisionTreeClassifier(max_depth=2)\n",
    "dtC_4 = DecisionTreeClassifier(max_depth=4)\n",
    "dtC_6 = DecisionTreeClassifier(max_depth=6)"
   ]
  },
  {
   "cell_type": "code",
   "execution_count": 22,
   "id": "5cb49871-8a20-442a-a488-791fb76e9937",
   "metadata": {},
   "outputs": [
    {
     "data": {
      "text/plain": [
       "0.54"
      ]
     },
     "execution_count": 22,
     "metadata": {},
     "output_type": "execute_result"
    }
   ],
   "source": [
    "dtC_2.fit(X_train, yC_train)\n",
    "dtC_2.score(X_valid, yC_valid)"
   ]
  },
  {
   "cell_type": "code",
   "execution_count": 23,
   "id": "1d97cda8-92fa-42d1-960e-3ed8415c8470",
   "metadata": {},
   "outputs": [
    {
     "data": {
      "text/plain": [
       "0.54"
      ]
     },
     "execution_count": 23,
     "metadata": {},
     "output_type": "execute_result"
    }
   ],
   "source": [
    "dtC_4.fit(X_train, yC_train)\n",
    "dtC_4.score(X_valid, yC_valid)"
   ]
  },
  {
   "cell_type": "code",
   "execution_count": 24,
   "id": "1ad85617-456b-467c-a6ff-e50bb2d92040",
   "metadata": {},
   "outputs": [
    {
     "data": {
      "text/plain": [
       "0.47"
      ]
     },
     "execution_count": 24,
     "metadata": {},
     "output_type": "execute_result"
    }
   ],
   "source": [
    "dtC_6.fit(X_train, yC_train)\n",
    "dtC_6.score(X_valid, yC_valid)"
   ]
  },
  {
   "cell_type": "code",
   "execution_count": 25,
   "id": "cd8646a0-540c-4730-8f11-130d5ca8c8d1",
   "metadata": {},
   "outputs": [
    {
     "data": {
      "text/plain": [
       "0.49"
      ]
     },
     "execution_count": 25,
     "metadata": {},
     "output_type": "execute_result"
    }
   ],
   "source": [
    "dtC_2.score(X_test, yC_test)"
   ]
  },
  {
   "cell_type": "markdown",
   "id": "96481eaf-9537-4d00-b232-3fa4adaa530b",
   "metadata": {},
   "source": [
    "### Random Forest"
   ]
  },
  {
   "cell_type": "code",
   "execution_count": 26,
   "id": "07e529d2-797b-4e33-bef8-2fbbacf916b8",
   "metadata": {},
   "outputs": [],
   "source": [
    "from sklearn.ensemble import RandomForestRegressor, RandomForestClassifier"
   ]
  },
  {
   "cell_type": "code",
   "execution_count": 27,
   "id": "7c062dda-a3cb-428d-b370-5f3e112b1eff",
   "metadata": {},
   "outputs": [],
   "source": [
    "rfC_2 = RandomForestClassifier(max_depth=2)\n",
    "rfC_4 = RandomForestClassifier(max_depth=4)\n",
    "rfC_6 = RandomForestClassifier(max_depth=6)"
   ]
  },
  {
   "cell_type": "code",
   "execution_count": 28,
   "id": "f90198b9-acc2-48ca-b3c0-4bd055f37e96",
   "metadata": {},
   "outputs": [
    {
     "data": {
      "text/plain": [
       "0.53"
      ]
     },
     "execution_count": 28,
     "metadata": {},
     "output_type": "execute_result"
    }
   ],
   "source": [
    "rfC_2.fit(X_train, yC_train)\n",
    "rfC_2.score(X_valid, yC_valid)"
   ]
  },
  {
   "cell_type": "code",
   "execution_count": 29,
   "id": "d6206185-a1f3-48d2-87a4-cc885e08bde4",
   "metadata": {},
   "outputs": [
    {
     "data": {
      "text/plain": [
       "0.52"
      ]
     },
     "execution_count": 29,
     "metadata": {},
     "output_type": "execute_result"
    }
   ],
   "source": [
    "rfC_4.fit(X_train, yC_train)\n",
    "rfC_4.score(X_valid, yC_valid)"
   ]
  },
  {
   "cell_type": "code",
   "execution_count": 30,
   "id": "d145bee0-964c-42ce-b26e-273eded1afc7",
   "metadata": {},
   "outputs": [
    {
     "data": {
      "text/plain": [
       "0.48"
      ]
     },
     "execution_count": 30,
     "metadata": {},
     "output_type": "execute_result"
    }
   ],
   "source": [
    "rfC_6.fit(X_train, yC_train)\n",
    "rfC_6.score(X_valid, yC_valid)"
   ]
  },
  {
   "cell_type": "code",
   "execution_count": 31,
   "id": "ae52191a-daad-4066-8e1c-dea393c94333",
   "metadata": {},
   "outputs": [
    {
     "data": {
      "text/plain": [
       "0.54"
      ]
     },
     "execution_count": 31,
     "metadata": {},
     "output_type": "execute_result"
    }
   ],
   "source": [
    "rfC_2.score(X_test, yC_test)"
   ]
  },
  {
   "cell_type": "markdown",
   "id": "e7ed9b65-8df3-4876-82f2-b64f4364fe18",
   "metadata": {},
   "source": [
    "## Multiple Stock"
   ]
  },
  {
   "cell_type": "code",
   "execution_count": null,
   "id": "5b17e735-6c48-4a97-9285-3a881f5d6e9f",
   "metadata": {},
   "outputs": [],
   "source": []
  }
 ],
 "metadata": {
  "kernelspec": {
   "display_name": "Python 3 (ipykernel)",
   "language": "python",
   "name": "python3"
  },
  "language_info": {
   "codemirror_mode": {
    "name": "ipython",
    "version": 3
   },
   "file_extension": ".py",
   "mimetype": "text/x-python",
   "name": "python",
   "nbconvert_exporter": "python",
   "pygments_lexer": "ipython3",
   "version": "3.11.7"
  }
 },
 "nbformat": 4,
 "nbformat_minor": 5
}
