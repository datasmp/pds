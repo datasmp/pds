{
 "cells": [
  {
   "cell_type": "markdown",
   "id": "58187e9c-5d7e-4f9f-b2c2-2a3319dfd06a",
   "metadata": {},
   "source": [
    "# Files Exercises Solutions\n",
    "\n",
    "![Section Title: Files Exercises](title_pict/files_exer.png)\n"
   ]
  },
  {
   "cell_type": "markdown",
   "id": "7bc1b809-c4c0-4d64-9a77-2731ab466b1b",
   "metadata": {},
   "source": [
    "Use the [email_message.txt](https://github.com/datasmp/datasets/blob/main/email_message.txt) file for the questions in this section."
   ]
  },
  {
   "cell_type": "markdown",
   "id": "ea21668e-0fee-4ccd-8312-b0f20a541fc5",
   "metadata": {},
   "source": [
    "## Question-1\n",
    "Store the names of the email senders in a list."
   ]
  },
  {
   "cell_type": "code",
   "execution_count": 22,
   "id": "99899bfb-4013-424c-bcbd-a61b3928e480",
   "metadata": {},
   "outputs": [
    {
     "data": {
      "text/plain": [
       "['michael',\n",
       " 'sam',\n",
       " 'ashley',\n",
       " 'amy',\n",
       " 'michael',\n",
       " 'sarah',\n",
       " 'emily',\n",
       " 'anna',\n",
       " 'lucas',\n",
       " 'oliver',\n",
       " 'charlotte',\n",
       " 'ethan',\n",
       " 'alice',\n",
       " 'charlie',\n",
       " 'edward',\n",
       " 'george',\n",
       " 'ian',\n",
       " 'xavier']"
      ]
     },
     "execution_count": 22,
     "metadata": {},
     "output_type": "execute_result"
    }
   ],
   "source": [
    "from_name_list = []\n",
    "fhand = open('email_message.txt')\n",
    "for line in fhand:\n",
    "    if line.startswith('From'):\n",
    "        from_name_list.append(line[line.find(':')+2:line.find('@')])\n",
    "from_name_list"
   ]
  },
  {
   "cell_type": "markdown",
   "id": "82142386-600f-48ee-98cc-a8f8d0f86e01",
   "metadata": {},
   "source": [
    "## Question-2\n",
    "Store the email numbers in a list as integers using regular expressions."
   ]
  },
  {
   "cell_type": "code",
   "execution_count": 39,
   "id": "eba3655f-e79d-4a2e-8dbf-08a73b23d655",
   "metadata": {},
   "outputs": [],
   "source": [
    "import re"
   ]
  },
  {
   "cell_type": "code",
   "execution_count": 85,
   "id": "cb09bfd0-eee4-43f2-ad16-d660f3d1206a",
   "metadata": {},
   "outputs": [
    {
     "data": {
      "text/plain": [
       "[1, 2, 3, 4, 5, 6, 7, 8, 9, 10, 11, 12, 13, 14, 15, 17, 18, 19]"
      ]
     },
     "execution_count": 85,
     "metadata": {},
     "output_type": "execute_result"
    }
   ],
   "source": [
    "email_number_list = []\n",
    "fhand = open('email_message.txt')\n",
    "for line in fhand:\n",
    "    number = re.findall('Email-(\\d+)', line)\n",
    "    if len(number) > 0:\n",
    "        email_number_list.append(int(number[0]))\n",
    "email_number_list"
   ]
  },
  {
   "cell_type": "markdown",
   "id": "8c1a916d-0c14-4c2c-83da-20e1a0ffdea5",
   "metadata": {},
   "source": [
    "## Question-3\n",
    "Find the missing email number."
   ]
  },
  {
   "cell_type": "code",
   "execution_count": 89,
   "id": "f24f607c-6917-4238-a3de-4729abb6a969",
   "metadata": {},
   "outputs": [
    {
     "data": {
      "text/plain": [
       "{16}"
      ]
     },
     "execution_count": 89,
     "metadata": {},
     "output_type": "execute_result"
    }
   ],
   "source": [
    "set(range(1,email_number_list[-1])) - set(email_number_list)"
   ]
  },
  {
   "cell_type": "markdown",
   "id": "313a6898-5798-4f97-8e0d-7f7a328f5add",
   "metadata": {},
   "source": [
    "## Question-4\n",
    "Find the longest message."
   ]
  },
  {
   "cell_type": "code",
   "execution_count": 164,
   "id": "f0a596bc-3517-4d9e-89f6-14d864692376",
   "metadata": {},
   "outputs": [
    {
     "data": {
      "text/plain": [
       "'The budget review call is planned for 4 p.m. today. Let me know if it works for you.'"
      ]
     },
     "execution_count": 164,
     "metadata": {},
     "output_type": "execute_result"
    }
   ],
   "source": [
    "length_longest_email = 0\n",
    "longest_email =''\n",
    "longest_email_number = 0\n",
    "\n",
    "fhand = open('email_message.txt')\n",
    "for line in fhand:\n",
    "    message = re.findall('Message: (.+)', line.strip())\n",
    "    if (len(message)>0) and (len(message[0]) > length_longest_email):\n",
    "        longest_email = message[0]\n",
    "        length_longest_email = len(message[0])\n",
    "\n",
    "longest_email"
   ]
  },
  {
   "cell_type": "markdown",
   "id": "6347a772-931a-4f7a-a9d3-abeed0a15b1a",
   "metadata": {},
   "source": [
    "## Question-5\n",
    "Find the number of the email with the longest message."
   ]
  },
  {
   "cell_type": "code",
   "execution_count": 169,
   "id": "13d39f65-d091-4071-975c-8e76e18f5bc4",
   "metadata": {},
   "outputs": [
    {
     "data": {
      "text/plain": [
       "12"
      ]
     },
     "execution_count": 169,
     "metadata": {},
     "output_type": "execute_result"
    }
   ],
   "source": [
    "length_longest_email = 0\n",
    "longest_email =''\n",
    "longest_email_number = 0\n",
    "ind, longest_ind = 0, 0\n",
    "\n",
    "fhand = open('email_message.txt')\n",
    "for line in fhand:\n",
    "    message = re.findall('Message: (.+)', line.strip())\n",
    "    if (len(message)>0) and (len(message[0]) > length_longest_email):\n",
    "        longest_email = message[0]\n",
    "        length_longest_email = len(message[0])\n",
    "        longest_ind = ind//4\n",
    "    ind += 1\n",
    "        \n",
    "email_number_list[longest_ind]"
   ]
  },
  {
   "cell_type": "code",
   "execution_count": null,
   "id": "0d0ada7a-87b6-415a-a708-4dc3ba04e59d",
   "metadata": {},
   "outputs": [],
   "source": []
  }
 ],
 "metadata": {
  "kernelspec": {
   "display_name": "Python 3 (ipykernel)",
   "language": "python",
   "name": "python3"
  },
  "language_info": {
   "codemirror_mode": {
    "name": "ipython",
    "version": 3
   },
   "file_extension": ".py",
   "mimetype": "text/x-python",
   "name": "python",
   "nbconvert_exporter": "python",
   "pygments_lexer": "ipython3",
   "version": "3.11.8"
  }
 },
 "nbformat": 4,
 "nbformat_minor": 5
}
