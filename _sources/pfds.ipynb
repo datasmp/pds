{
 "cells": [
  {
   "cell_type": "markdown",
   "id": "768e5354-b178-43a3-b6be-93f0d56c8718",
   "metadata": {},
   "source": [
    "# Python for Data Science\n",
    "\n",
    "![Section Title: Python for Data Science](title_pict/pfds2.png)"
   ]
  },
  {
   "cell_type": "markdown",
   "id": "7f26981d-f4bc-4430-9ac1-596c714a89a6",
   "metadata": {},
   "source": [
    "This book covers the Python topics essential for data science projects."
   ]
  }
 ],
 "metadata": {
  "kernelspec": {
   "display_name": "Python 3 (ipykernel)",
   "language": "python",
   "name": "python3"
  },
  "language_info": {
   "codemirror_mode": {
    "name": "ipython",
    "version": 3
   },
   "file_extension": ".py",
   "mimetype": "text/x-python",
   "name": "python",
   "nbconvert_exporter": "python",
   "pygments_lexer": "ipython3",
   "version": "3.11.8"
  }
 },
 "nbformat": 4,
 "nbformat_minor": 5
}
