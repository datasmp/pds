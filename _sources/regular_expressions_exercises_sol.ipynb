{
 "cells": [
  {
   "cell_type": "markdown",
   "id": "58187e9c-5d7e-4f9f-b2c2-2a3319dfd06a",
   "metadata": {},
   "source": [
    "# Regular Expression Exercises Solutions"
   ]
  },
  {
   "cell_type": "code",
   "execution_count": 4,
   "id": "a70108e4-6c91-46ff-8b7e-86bfeebd3002",
   "metadata": {},
   "outputs": [],
   "source": [
    "import re"
   ]
  },
  {
   "cell_type": "markdown",
   "id": "6745970d-4199-4f9d-920d-314c15ff1b49",
   "metadata": {},
   "source": [
    "## Question-1\n",
    "Separate and extract the digits from the following text: 'I am 25 years old and my height is 180 cm.'\n",
    "- Output: ['2', '5', '1', '8', '0']"
   ]
  },
  {
   "cell_type": "code",
   "execution_count": 13,
   "id": "42c4fd2a-d36b-43b4-8f66-76c497faad0f",
   "metadata": {},
   "outputs": [
    {
     "data": {
      "text/plain": [
       "['2', '5', '1', '8', '0']"
      ]
     },
     "execution_count": 13,
     "metadata": {},
     "output_type": "execute_result"
    }
   ],
   "source": [
    "text = 'I am 25 years old and my height is 180 cm.'\n",
    "re.findall('[0-9]', text)"
   ]
  },
  {
   "cell_type": "markdown",
   "id": "5ad25b6c-773a-4f6b-86a6-99a8d4c19bd5",
   "metadata": {},
   "source": [
    "## Question-2\n",
    "Extract the numbers from the following text: 'I am 25 years old and my height is 180 cm.' \n",
    "- Output: ['25', '180']"
   ]
  },
  {
   "cell_type": "code",
   "execution_count": 10,
   "id": "e6076559-af73-41c5-8804-977d27a3a0c4",
   "metadata": {},
   "outputs": [
    {
     "data": {
      "text/plain": [
       "['25', '180']"
      ]
     },
     "execution_count": 10,
     "metadata": {},
     "output_type": "execute_result"
    }
   ],
   "source": [
    "re.findall('[0-9]+', text)"
   ]
  },
  {
   "cell_type": "markdown",
   "id": "4a81de57-6fb5-41b9-a7ae-7be393a44189",
   "metadata": {},
   "source": [
    "## Question-3\n",
    "For the given *states* list, print the parts that include everything between 'o' and 'a'.\n",
    "```python\n",
    "states = ['Ohio', 'Florida', 'Iowa', 'Dakota', 'Arizona', 'Texas']\n"
   ]
  },
  {
   "cell_type": "code",
   "execution_count": 38,
   "id": "090dfc71-9fd9-494f-af37-39a1f6989b2f",
   "metadata": {},
   "outputs": [
    {
     "name": "stdout",
     "output_type": "stream",
     "text": [
      "['rid']\n",
      "['w']\n",
      "['t']\n",
      "['n']\n"
     ]
    }
   ],
   "source": [
    "states = ['Ohio', 'Florida', 'Iowa', 'Dakota', 'Arizona', 'Texas']\n",
    "\n",
    "for state in states:\n",
    "    match = re.findall('o(.+)a', state)\n",
    "    if len(match) > 0:\n",
    "        print(match)"
   ]
  },
  {
   "cell_type": "markdown",
   "id": "26e2add4-d8cc-4611-a073-39b480f6c373",
   "metadata": {},
   "source": [
    "## Question-4\n",
    "For the given *states* list, print the parts that include everything between 'o' and 'a', including 'o' and 'a' themselves.\n",
    "```python\n",
    "states = ['Ohio', 'Florida', 'Iowa', 'Dakota', 'Arizona', 'Texas']\n"
   ]
  },
  {
   "cell_type": "code",
   "execution_count": 41,
   "id": "b97492f5-43e4-47a1-9528-c118133b2d09",
   "metadata": {},
   "outputs": [
    {
     "name": "stdout",
     "output_type": "stream",
     "text": [
      "['orida']\n",
      "['owa']\n",
      "['ota']\n",
      "['ona']\n"
     ]
    }
   ],
   "source": [
    "states = ['Ohio', 'Florida', 'Iowa', 'Dakota', 'Arizona', 'Texas']\n",
    "\n",
    "for state in states:\n",
    "    match = re.findall('o.+a', state)\n",
    "    if len(match) > 0:\n",
    "        print(match)"
   ]
  },
  {
   "cell_type": "markdown",
   "id": "65d7b081-160c-447c-af8a-e314a478327a",
   "metadata": {},
   "source": [
    "## Question-5\n",
    "Extract the company name in the email part of the following text if it starts with 'ID'.\n",
    "\n",
    "``` python\n",
    "text = 'ID=78243537282  email= abc@tesla.net 10/25/2001 12:59:34 pm'"
   ]
  },
  {
   "cell_type": "code",
   "execution_count": 50,
   "id": "98caf1a3-816f-45e3-9741-b21a60136d23",
   "metadata": {},
   "outputs": [
    {
     "data": {
      "text/plain": [
       "['tesla']"
      ]
     },
     "execution_count": 50,
     "metadata": {},
     "output_type": "execute_result"
    }
   ],
   "source": [
    "text = 'ID=78243537282  email= abc@tesla.net 10/25/2001 12:59:34 pm'\n",
    "re.findall('^ID.*@(.+)\\.' , text)"
   ]
  },
  {
   "cell_type": "code",
   "execution_count": null,
   "id": "532543f3-dd9d-49f5-93e8-f9c1727a9a20",
   "metadata": {},
   "outputs": [],
   "source": []
  }
 ],
 "metadata": {
  "kernelspec": {
   "display_name": "Python 3 (ipykernel)",
   "language": "python",
   "name": "python3"
  },
  "language_info": {
   "codemirror_mode": {
    "name": "ipython",
    "version": 3
   },
   "file_extension": ".py",
   "mimetype": "text/x-python",
   "name": "python",
   "nbconvert_exporter": "python",
   "pygments_lexer": "ipython3",
   "version": "3.11.8"
  }
 },
 "nbformat": 4,
 "nbformat_minor": 5
}
