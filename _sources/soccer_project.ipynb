{
 "cells": [
  {
   "cell_type": "code",
   "execution_count": 3,
   "id": "9f5b04cf-d973-447c-a992-0fce3519b27d",
   "metadata": {},
   "outputs": [],
   "source": [
    "import pandas as pd"
   ]
  },
  {
   "cell_type": "code",
   "execution_count": 1,
   "id": "cabf0cd9-7629-4eca-b806-eaf628ae6064",
   "metadata": {},
   "outputs": [],
   "source": [
    "from soccer_data_api import SoccerDataAPI\n",
    "soccer_data = SoccerDataAPI()"
   ]
  },
  {
   "cell_type": "code",
   "execution_count": 2,
   "id": "d952e089-9d3d-4cad-a435-bcd32bf13a99",
   "metadata": {},
   "outputs": [],
   "source": [
    "leagues_dict = {'english_premier':soccer_data.english_premier(),\n",
    "'la_liga': soccer_data.la_liga(),\n",
    "'ligue_1': soccer_data.ligue_1(),\n",
    "'bundesliga': soccer_data.bundesliga(),\n",
    "'serie_a': soccer_data.serie_a(),\n",
    "'eredivisie': soccer_data.eredivisie(),\n",
    "'russian_premier': soccer_data.russian_premier(),\n",
    "'english_championship': soccer_data.english_championship()}"
   ]
  },
  {
   "cell_type": "code",
   "execution_count": 5,
   "id": "16016011-c090-4afb-847e-331c94377a84",
   "metadata": {},
   "outputs": [
    {
     "data": {
      "text/plain": [
       "['team',\n",
       " 'pos',\n",
       " 'points',\n",
       " 'matches_played',\n",
       " 'wins',\n",
       " 'draws',\n",
       " 'losses',\n",
       " 'goals_for',\n",
       " 'goals_against',\n",
       " 'goal_diff',\n",
       " 'top_scorer']"
      ]
     },
     "execution_count": 5,
     "metadata": {},
     "output_type": "execute_result"
    }
   ],
   "source": [
    "key_list = list(soccer_data.english_premier()[0].keys())\n",
    "key_list"
   ]
  },
  {
   "cell_type": "code",
   "execution_count": 7,
   "id": "e1bcbdd0-04cf-4799-9b65-7107e00d3f81",
   "metadata": {},
   "outputs": [
    {
     "data": {
      "text/html": [
       "<div>\n",
       "<style scoped>\n",
       "    .dataframe tbody tr th:only-of-type {\n",
       "        vertical-align: middle;\n",
       "    }\n",
       "\n",
       "    .dataframe tbody tr th {\n",
       "        vertical-align: top;\n",
       "    }\n",
       "\n",
       "    .dataframe thead th {\n",
       "        text-align: right;\n",
       "    }\n",
       "</style>\n",
       "<table border=\"1\" class=\"dataframe\">\n",
       "  <thead>\n",
       "    <tr style=\"text-align: right;\">\n",
       "      <th></th>\n",
       "      <th>league</th>\n",
       "      <th>team</th>\n",
       "      <th>pos</th>\n",
       "      <th>points</th>\n",
       "      <th>matches_played</th>\n",
       "      <th>wins</th>\n",
       "      <th>draws</th>\n",
       "      <th>losses</th>\n",
       "      <th>goals_for</th>\n",
       "      <th>goals_against</th>\n",
       "      <th>goal_diff</th>\n",
       "      <th>top_scorer</th>\n",
       "    </tr>\n",
       "  </thead>\n",
       "  <tbody>\n",
       "  </tbody>\n",
       "</table>\n",
       "</div>"
      ],
      "text/plain": [
       "Empty DataFrame\n",
       "Columns: [league, team, pos, points, matches_played, wins, draws, losses, goals_for, goals_against, goal_diff, top_scorer]\n",
       "Index: []"
      ]
     },
     "execution_count": 7,
     "metadata": {},
     "output_type": "execute_result"
    }
   ],
   "source": [
    "df = pd.DataFrame(columns=['league'] + key_list)\n",
    "df"
   ]
  },
  {
   "cell_type": "code",
   "execution_count": 9,
   "id": "53ecc873-a6f8-4136-aae1-b3a8d88ce1fd",
   "metadata": {},
   "outputs": [
    {
     "data": {
      "text/html": [
       "<div>\n",
       "<style scoped>\n",
       "    .dataframe tbody tr th:only-of-type {\n",
       "        vertical-align: middle;\n",
       "    }\n",
       "\n",
       "    .dataframe tbody tr th {\n",
       "        vertical-align: top;\n",
       "    }\n",
       "\n",
       "    .dataframe thead th {\n",
       "        text-align: right;\n",
       "    }\n",
       "</style>\n",
       "<table border=\"1\" class=\"dataframe\">\n",
       "  <thead>\n",
       "    <tr style=\"text-align: right;\">\n",
       "      <th></th>\n",
       "      <th>league</th>\n",
       "      <th>team</th>\n",
       "      <th>pos</th>\n",
       "      <th>points</th>\n",
       "      <th>matches_played</th>\n",
       "      <th>wins</th>\n",
       "      <th>draws</th>\n",
       "      <th>losses</th>\n",
       "      <th>goals_for</th>\n",
       "      <th>goals_against</th>\n",
       "      <th>goal_diff</th>\n",
       "      <th>top_scorer</th>\n",
       "    </tr>\n",
       "  </thead>\n",
       "  <tbody>\n",
       "    <tr>\n",
       "      <th>0</th>\n",
       "      <td>english_premier</td>\n",
       "      <td>Manchester City</td>\n",
       "      <td>1</td>\n",
       "      <td>91</td>\n",
       "      <td>38</td>\n",
       "      <td>28</td>\n",
       "      <td>28</td>\n",
       "      <td>3</td>\n",
       "      <td>96</td>\n",
       "      <td>34</td>\n",
       "      <td>+62</td>\n",
       "      <td>Erling Haaland - 27</td>\n",
       "    </tr>\n",
       "    <tr>\n",
       "      <th>1</th>\n",
       "      <td>english_premier</td>\n",
       "      <td>Arsenal</td>\n",
       "      <td>2</td>\n",
       "      <td>89</td>\n",
       "      <td>38</td>\n",
       "      <td>28</td>\n",
       "      <td>28</td>\n",
       "      <td>5</td>\n",
       "      <td>91</td>\n",
       "      <td>29</td>\n",
       "      <td>+62</td>\n",
       "      <td>Bukayo Saka - 16</td>\n",
       "    </tr>\n",
       "    <tr>\n",
       "      <th>2</th>\n",
       "      <td>english_premier</td>\n",
       "      <td>Liverpool</td>\n",
       "      <td>3</td>\n",
       "      <td>82</td>\n",
       "      <td>38</td>\n",
       "      <td>24</td>\n",
       "      <td>24</td>\n",
       "      <td>4</td>\n",
       "      <td>86</td>\n",
       "      <td>41</td>\n",
       "      <td>+45</td>\n",
       "      <td>Mohamed Salah - 18</td>\n",
       "    </tr>\n",
       "    <tr>\n",
       "      <th>3</th>\n",
       "      <td>english_premier</td>\n",
       "      <td>Aston Villa</td>\n",
       "      <td>4</td>\n",
       "      <td>68</td>\n",
       "      <td>38</td>\n",
       "      <td>20</td>\n",
       "      <td>20</td>\n",
       "      <td>10</td>\n",
       "      <td>76</td>\n",
       "      <td>61</td>\n",
       "      <td>+15</td>\n",
       "      <td>Ollie Watkins - 19</td>\n",
       "    </tr>\n",
       "    <tr>\n",
       "      <th>4</th>\n",
       "      <td>english_premier</td>\n",
       "      <td>Tottenham</td>\n",
       "      <td>5</td>\n",
       "      <td>66</td>\n",
       "      <td>38</td>\n",
       "      <td>20</td>\n",
       "      <td>20</td>\n",
       "      <td>12</td>\n",
       "      <td>74</td>\n",
       "      <td>61</td>\n",
       "      <td>+13</td>\n",
       "      <td>Son Heung-min - 17</td>\n",
       "    </tr>\n",
       "  </tbody>\n",
       "</table>\n",
       "</div>"
      ],
      "text/plain": [
       "            league             team pos points matches_played wins draws  \\\n",
       "0  english_premier  Manchester City   1     91             38   28    28   \n",
       "1  english_premier          Arsenal   2     89             38   28    28   \n",
       "2  english_premier        Liverpool   3     82             38   24    24   \n",
       "3  english_premier      Aston Villa   4     68             38   20    20   \n",
       "4  english_premier        Tottenham   5     66             38   20    20   \n",
       "\n",
       "  losses goals_for goals_against goal_diff           top_scorer  \n",
       "0      3        96            34       +62  Erling Haaland - 27  \n",
       "1      5        91            29       +62     Bukayo Saka - 16  \n",
       "2      4        86            41       +45   Mohamed Salah - 18  \n",
       "3     10        76            61       +15   Ollie Watkins - 19  \n",
       "4     12        74            61       +13   Son Heung-min - 17  "
      ]
     },
     "execution_count": 9,
     "metadata": {},
     "output_type": "execute_result"
    }
   ],
   "source": [
    "for name, league in leagues_dict.items():\n",
    "    for t in league:\n",
    "        df.loc[len(df)] = [name] + list(t.values())\n",
    "\n",
    "df.head()"
   ]
  },
  {
   "cell_type": "code",
   "execution_count": 11,
   "id": "b5b7bde7-8d16-4af5-9b4e-798ecd2c4b80",
   "metadata": {},
   "outputs": [],
   "source": [
    "# df.to_excel('soccer_data.xlsx')"
   ]
  },
  {
   "cell_type": "code",
   "execution_count": null,
   "id": "1119271d-3f21-4282-9401-0316bfda4a6e",
   "metadata": {},
   "outputs": [],
   "source": []
  }
 ],
 "metadata": {
  "kernelspec": {
   "display_name": "Python 3 (ipykernel)",
   "language": "python",
   "name": "python3"
  },
  "language_info": {
   "codemirror_mode": {
    "name": "ipython",
    "version": 3
   },
   "file_extension": ".py",
   "mimetype": "text/x-python",
   "name": "python",
   "nbconvert_exporter": "python",
   "pygments_lexer": "ipython3",
   "version": "3.11.7"
  }
 },
 "nbformat": 4,
 "nbformat_minor": 5
}
