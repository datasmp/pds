{
 "cells": [
  {
   "cell_type": "markdown",
   "id": "58187e9c-5d7e-4f9f-b2c2-2a3319dfd06a",
   "metadata": {},
   "source": [
    "# Web APIs Exercises\n",
    "![Section Title: Web APIs Exercises](title_pict/web_api_exe2.png)\n"
   ]
  },
  {
   "cell_type": "markdown",
   "id": "24a38d4f-f276-423a-8102-ad2ff42d48ba",
   "metadata": {},
   "source": [
    "## Question-1\n",
    "Retrieve the advice with the 'id' number equal to 123 using the [Advice Slip API](https://api.adviceslip.com/)."
   ]
  },
  {
   "cell_type": "markdown",
   "id": "663b2ba2-2990-464e-a4c2-4efe548b069b",
   "metadata": {},
   "source": [
    "## Question-2\n",
    "Choose 10 random 'id' numbers between 100 and 200 using the numpy.random.randint() function, and print the corresponding advice messages  if they contain fewer than 30 characters using the [Advice Slip API](https://api.adviceslip.com/)"
   ]
  },
  {
   "cell_type": "markdown",
   "id": "bf2b59cc-23fd-48a6-8885-6ceaf29adea5",
   "metadata": {},
   "source": [
    "## Question-3\n",
    "Find the date of the advice slip containing the word \"better\" and having an id number closest to 100 using the [Advice Slip API](https://api.adviceslip.com/)"
   ]
  },
  {
   "cell_type": "markdown",
   "id": "73d90a63-3b8b-4c65-9e42-d9e7b7ac0c90",
   "metadata": {},
   "source": [
    "## Question-4\n",
    "Generate random latitude and longitude values for 20 different locations within the following ranges: latitude from -90 to 90 and longitude from -180 to 180. \n",
    "- Use the [Open-Meteo API](https://open-meteo.com/en/docs) to retrieve the temperature data for these locations.\n",
    "- Plot each location as a point on a graph, with the size of the point proportional to the absolute value of the temperature.\n",
    "- Assign red to the points representing negative temperatures and blue to those with positive temperatures."
   ]
  },
  {
   "cell_type": "markdown",
   "id": "1d5b6353-782a-48d4-95da-bc1e908fa4ae",
   "metadata": {},
   "source": [
    "## Question-5\n",
    "Request one week of hourly temperature data for New York using the [Open-Meteo API](https://open-meteo.com/en/docs) and calculate the descriptive statistics of the temperature values, including max, min, mean, median, and standard deviation."
   ]
  },
  {
   "cell_type": "markdown",
   "id": "fd5c0b09-d5ae-4916-a96b-5bf1366ac383",
   "metadata": {},
   "source": [
    "## Question-6\n",
    "Request the latitude and longitude values of 10 cities using the OpenWeather API, and then plot the locations of these countries on a \n",
    "coordinate system."
   ]
  },
  {
   "cell_type": "code",
   "execution_count": null,
   "id": "e7ecaeac-02e2-4dac-84d3-0145c8928e5f",
   "metadata": {},
   "outputs": [],
   "source": []
  }
 ],
 "metadata": {
  "kernelspec": {
   "display_name": "Python 3 (ipykernel)",
   "language": "python",
   "name": "python3"
  },
  "language_info": {
   "codemirror_mode": {
    "name": "ipython",
    "version": 3
   },
   "file_extension": ".py",
   "mimetype": "text/x-python",
   "name": "python",
   "nbconvert_exporter": "python",
   "pygments_lexer": "ipython3",
   "version": "3.11.8"
  }
 },
 "nbformat": 4,
 "nbformat_minor": 5
}
