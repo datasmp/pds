{
 "cells": [
  {
   "cell_type": "markdown",
   "id": "58187e9c-5d7e-4f9f-b2c2-2a3319dfd06a",
   "metadata": {},
   "source": [
    "# Web Crawling Exercises\n",
    "![Section Title: Web Crawling Exercises](title_pict/web_craw_exe2.png)"
   ]
  },
  {
   "cell_type": "markdown",
   "id": "80a36382-77be-408b-a968-6e745eedf366",
   "metadata": {},
   "source": [
    "## Question-1\n",
    "Find all unique website URLs on the http://quotes.toscrape.com/ website using regular expressions.\n",
    "\n",
    "- Hint: The URLs are located within `<div>` HTML elements and start with http."
   ]
  },
  {
   "cell_type": "markdown",
   "id": "a6677fcb-b69c-471e-bebc-ded2cf228c5a",
   "metadata": {},
   "source": [
    "## Question-2\n",
    "Find all unique font sizes on the http://quotes.toscrape.com/ website using regular expressions.\n",
    "\n",
    "- Hint: The font are located within `<a>` HTML elements."
   ]
  },
  {
   "cell_type": "markdown",
   "id": "b660c65c-7d9c-4ac5-83cb-d142131f13d4",
   "metadata": {},
   "source": [
    "## Question-3\n",
    "Find all the headlines and their corresponding URLs on the https://news.ycombinator.com/ website using regular expressions.\n",
    "\n",
    "- Hint: The headlines are contained within <a> HTML elements.\n",
    "- Ensure that you extract 30 headlines along with their URLs."
   ]
  },
  {
   "cell_type": "markdown",
   "id": "5606adaf-c9dc-4eac-9623-188a9d52678b",
   "metadata": {},
   "source": [
    "## Question-4\n",
    "Find all book titles on the https://books.toscrape.com/ website using regular expressions.\n",
    "\n",
    "- Consider using find_all() instead of findall() at some point."
   ]
  },
  {
   "cell_type": "markdown",
   "id": "4e68ec7c-db01-4d96-8da8-df9bfced55e5",
   "metadata": {},
   "source": [
    "## Question-5\n",
    "Store all book categories on the https://books.toscrape.com/ website in a list using regular expressions.\n",
    "\n",
    "- Consider using find_all() instead of findall() at some point."
   ]
  }
 ],
 "metadata": {
  "kernelspec": {
   "display_name": "Python 3 (ipykernel)",
   "language": "python",
   "name": "python3"
  },
  "language_info": {
   "codemirror_mode": {
    "name": "ipython",
    "version": 3
   },
   "file_extension": ".py",
   "mimetype": "text/x-python",
   "name": "python",
   "nbconvert_exporter": "python",
   "pygments_lexer": "ipython3",
   "version": "3.11.8"
  }
 },
 "nbformat": 4,
 "nbformat_minor": 5
}
