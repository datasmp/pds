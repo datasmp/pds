{
 "cells": [
  {
   "cell_type": "markdown",
   "id": "be1e8dc7-8eaa-4762-ac8c-485a7fdce22a",
   "metadata": {},
   "source": [
    "# Dataframe"
   ]
  },
  {
   "cell_type": "markdown",
   "id": "a6ec46e0-d064-490e-8743-299233264dd0",
   "metadata": {},
   "source": [
    "A DataFrame is a two-dimensional data structure characterized by labeled axes for rows and columns. \n",
    "- Similar to a Microsoft Excel worksheet, it efficiently accommodates mixed data types.\n",
    "- Primarily used for data wrangling and manipulation.\n",
    "- DataFrames offer a wide range of methods for tasks such as data cleaning, exploration, and preprocessing.\n",
    "- They support vectorized operations across rows or columns and facilitate visualization.\n",
    "- As the main data structure of the pandas library, DataFrames require importing the library to create and manipulate them, and to utilize their methods.\n",
    "- It's common practice to abbreviate pandas as pd for brevity in code  `import pandas as pd`."
   ]
  },
  {
   "cell_type": "markdown",
   "id": "a9c8d5aa-8092-4eb2-89f1-d755fe973ff3",
   "metadata": {},
   "source": [
    "## Create Dataframes"
   ]
  },
  {
   "cell_type": "code",
   "execution_count": 1,
   "id": "e83079fb-5c7f-4edd-afb1-b56e50c60547",
   "metadata": {},
   "outputs": [],
   "source": [
    "import pandas as pd"
   ]
  },
  {
   "cell_type": "markdown",
   "id": "b938e3c3-ab73-4114-b199-868597f8d184",
   "metadata": {},
   "source": [
    "### Use Tuples or Lists\n",
    "- Use `pd.DataFrame()` to create a dataframe.\n",
    "- When using pd.DataFrame(), you can provide column and row labels. If they are not provided, default values $0, 1, 2, \\ldots$ are used."
   ]
  },
  {
   "cell_type": "code",
   "execution_count": 2,
   "id": "582f8252-30c6-47da-b226-4d1be4e004b4",
   "metadata": {},
   "outputs": [
    {
     "data": {
      "text/html": [
       "<div>\n",
       "<style scoped>\n",
       "    .dataframe tbody tr th:only-of-type {\n",
       "        vertical-align: middle;\n",
       "    }\n",
       "\n",
       "    .dataframe tbody tr th {\n",
       "        vertical-align: top;\n",
       "    }\n",
       "\n",
       "    .dataframe thead th {\n",
       "        text-align: right;\n",
       "    }\n",
       "</style>\n",
       "<table border=\"1\" class=\"dataframe\">\n",
       "  <thead>\n",
       "    <tr style=\"text-align: right;\">\n",
       "      <th></th>\n",
       "      <th>0</th>\n",
       "    </tr>\n",
       "  </thead>\n",
       "  <tbody>\n",
       "    <tr>\n",
       "      <th>0</th>\n",
       "      <td>NY</td>\n",
       "    </tr>\n",
       "    <tr>\n",
       "      <th>1</th>\n",
       "      <td>OK</td>\n",
       "    </tr>\n",
       "    <tr>\n",
       "      <th>2</th>\n",
       "      <td>TX</td>\n",
       "    </tr>\n",
       "  </tbody>\n",
       "</table>\n",
       "</div>"
      ],
      "text/plain": [
       "    0\n",
       "0  NY\n",
       "1  OK\n",
       "2  TX"
      ]
     },
     "metadata": {},
     "output_type": "display_data"
    }
   ],
   "source": [
    "state_tuple = ('NY', 'OK', 'TX')\n",
    "df = pd.DataFrame(state_tuple)\n",
    "display(df)"
   ]
  },
  {
   "cell_type": "code",
   "execution_count": 3,
   "id": "00f3f0bd-cbde-42bc-a04f-dfd41704fedb",
   "metadata": {},
   "outputs": [
    {
     "data": {
      "text/html": [
       "<div>\n",
       "<style scoped>\n",
       "    .dataframe tbody tr th:only-of-type {\n",
       "        vertical-align: middle;\n",
       "    }\n",
       "\n",
       "    .dataframe tbody tr th {\n",
       "        vertical-align: top;\n",
       "    }\n",
       "\n",
       "    .dataframe thead th {\n",
       "        text-align: right;\n",
       "    }\n",
       "</style>\n",
       "<table border=\"1\" class=\"dataframe\">\n",
       "  <thead>\n",
       "    <tr style=\"text-align: right;\">\n",
       "      <th></th>\n",
       "      <th>0</th>\n",
       "    </tr>\n",
       "  </thead>\n",
       "  <tbody>\n",
       "    <tr>\n",
       "      <th>0</th>\n",
       "      <td>NY</td>\n",
       "    </tr>\n",
       "    <tr>\n",
       "      <th>1</th>\n",
       "      <td>OK</td>\n",
       "    </tr>\n",
       "    <tr>\n",
       "      <th>2</th>\n",
       "      <td>TX</td>\n",
       "    </tr>\n",
       "  </tbody>\n",
       "</table>\n",
       "</div>"
      ],
      "text/plain": [
       "    0\n",
       "0  NY\n",
       "1  OK\n",
       "2  TX"
      ]
     },
     "metadata": {},
     "output_type": "display_data"
    }
   ],
   "source": [
    "state_list = ['NY', 'OK', 'TX']\n",
    "df = pd.DataFrame(state_tuple)\n",
    "display(df)"
   ]
  },
  {
   "cell_type": "markdown",
   "id": "02051476-07ca-4f97-a29e-d89734754b14",
   "metadata": {},
   "source": [
    "- You can provide row and column labels using the index and columns parameters"
   ]
  },
  {
   "cell_type": "code",
   "execution_count": 4,
   "id": "fd1f2154-1739-474c-ad0d-717451d8b537",
   "metadata": {},
   "outputs": [
    {
     "data": {
      "text/html": [
       "<div>\n",
       "<style scoped>\n",
       "    .dataframe tbody tr th:only-of-type {\n",
       "        vertical-align: middle;\n",
       "    }\n",
       "\n",
       "    .dataframe tbody tr th {\n",
       "        vertical-align: top;\n",
       "    }\n",
       "\n",
       "    .dataframe thead th {\n",
       "        text-align: right;\n",
       "    }\n",
       "</style>\n",
       "<table border=\"1\" class=\"dataframe\">\n",
       "  <thead>\n",
       "    <tr style=\"text-align: right;\">\n",
       "      <th></th>\n",
       "      <th>State</th>\n",
       "    </tr>\n",
       "  </thead>\n",
       "  <tbody>\n",
       "    <tr>\n",
       "      <th>John</th>\n",
       "      <td>NY</td>\n",
       "    </tr>\n",
       "    <tr>\n",
       "      <th>Liz</th>\n",
       "      <td>OK</td>\n",
       "    </tr>\n",
       "    <tr>\n",
       "      <th>Tim</th>\n",
       "      <td>TX</td>\n",
       "    </tr>\n",
       "  </tbody>\n",
       "</table>\n",
       "</div>"
      ],
      "text/plain": [
       "     State\n",
       "John    NY\n",
       "Liz     OK\n",
       "Tim     TX"
      ]
     },
     "metadata": {},
     "output_type": "display_data"
    }
   ],
   "source": [
    "state_list = ['NY', 'OK', 'TX']\n",
    "df = pd.DataFrame(state_tuple, index=['John', 'Liz', 'Tim'], columns=['State'])\n",
    "display(df)"
   ]
  },
  {
   "cell_type": "markdown",
   "id": "8b6e6a98-20fd-4711-82c5-2f89cfb0e316",
   "metadata": {},
   "source": [
    "### Use a Dictionary\n",
    "The keys of the dictionary serve as column labels."
   ]
  },
  {
   "cell_type": "code",
   "execution_count": 5,
   "id": "60a18995-403d-4796-bc94-dc0b300654ab",
   "metadata": {},
   "outputs": [
    {
     "data": {
      "text/html": [
       "<div>\n",
       "<style scoped>\n",
       "    .dataframe tbody tr th:only-of-type {\n",
       "        vertical-align: middle;\n",
       "    }\n",
       "\n",
       "    .dataframe tbody tr th {\n",
       "        vertical-align: top;\n",
       "    }\n",
       "\n",
       "    .dataframe thead th {\n",
       "        text-align: right;\n",
       "    }\n",
       "</style>\n",
       "<table border=\"1\" class=\"dataframe\">\n",
       "  <thead>\n",
       "    <tr style=\"text-align: right;\">\n",
       "      <th></th>\n",
       "      <th>State</th>\n",
       "      <th>Height</th>\n",
       "    </tr>\n",
       "  </thead>\n",
       "  <tbody>\n",
       "    <tr>\n",
       "      <th>0</th>\n",
       "      <td>NY</td>\n",
       "      <td>160</td>\n",
       "    </tr>\n",
       "    <tr>\n",
       "      <th>1</th>\n",
       "      <td>OK</td>\n",
       "      <td>180</td>\n",
       "    </tr>\n",
       "    <tr>\n",
       "      <th>2</th>\n",
       "      <td>TX</td>\n",
       "      <td>140</td>\n",
       "    </tr>\n",
       "  </tbody>\n",
       "</table>\n",
       "</div>"
      ],
      "text/plain": [
       "  State  Height\n",
       "0    NY     160\n",
       "1    OK     180\n",
       "2    TX     140"
      ]
     },
     "metadata": {},
     "output_type": "display_data"
    }
   ],
   "source": [
    "state_height_dic = {'State':['NY', 'OK', 'TX'], 'Height':[160, 180, 140]}\n",
    "df = pd.DataFrame(state_height_dic)\n",
    "display(df)"
   ]
  },
  {
   "cell_type": "markdown",
   "id": "61dcbcdb-227f-4ef6-90b1-d8d17fa3d9c9",
   "metadata": {},
   "source": [
    "- You can change row labels."
   ]
  },
  {
   "cell_type": "code",
   "execution_count": 6,
   "id": "1bb5313c-e5f7-4f07-a25d-60faffafde05",
   "metadata": {},
   "outputs": [
    {
     "data": {
      "text/html": [
       "<div>\n",
       "<style scoped>\n",
       "    .dataframe tbody tr th:only-of-type {\n",
       "        vertical-align: middle;\n",
       "    }\n",
       "\n",
       "    .dataframe tbody tr th {\n",
       "        vertical-align: top;\n",
       "    }\n",
       "\n",
       "    .dataframe thead th {\n",
       "        text-align: right;\n",
       "    }\n",
       "</style>\n",
       "<table border=\"1\" class=\"dataframe\">\n",
       "  <thead>\n",
       "    <tr style=\"text-align: right;\">\n",
       "      <th></th>\n",
       "      <th>State</th>\n",
       "      <th>Height</th>\n",
       "    </tr>\n",
       "  </thead>\n",
       "  <tbody>\n",
       "    <tr>\n",
       "      <th>John</th>\n",
       "      <td>NY</td>\n",
       "      <td>160</td>\n",
       "    </tr>\n",
       "    <tr>\n",
       "      <th>Liz</th>\n",
       "      <td>OK</td>\n",
       "      <td>180</td>\n",
       "    </tr>\n",
       "    <tr>\n",
       "      <th>Tim</th>\n",
       "      <td>TX</td>\n",
       "      <td>140</td>\n",
       "    </tr>\n",
       "  </tbody>\n",
       "</table>\n",
       "</div>"
      ],
      "text/plain": [
       "     State  Height\n",
       "John    NY     160\n",
       "Liz     OK     180\n",
       "Tim     TX     140"
      ]
     },
     "execution_count": 6,
     "metadata": {},
     "output_type": "execute_result"
    }
   ],
   "source": [
    "state_height_dic = {'State':['NY', 'OK', 'TX'], 'Height':[160, 180, 140]}\n",
    "df_sh = pd.DataFrame(state_height_dic, index=['John', 'Liz', 'Tim'])\n",
    "df_sh"
   ]
  },
  {
   "cell_type": "markdown",
   "id": "2e50388f-cc69-4a8a-b738-9d5bc45a23d2",
   "metadata": {},
   "source": [
    "### Use an Array"
   ]
  },
  {
   "cell_type": "code",
   "execution_count": 7,
   "id": "6ee74ecb-2867-4418-9ed1-dda81606fcd7",
   "metadata": {},
   "outputs": [],
   "source": [
    "import numpy as np"
   ]
  },
  {
   "cell_type": "code",
   "execution_count": 8,
   "id": "14c7f22f-67b2-43ab-957d-4aadc7b2c7a2",
   "metadata": {},
   "outputs": [
    {
     "data": {
      "text/plain": [
       "array([['NY', '160'],\n",
       "       ['OK', '180'],\n",
       "       ['TX', '140']], dtype='<U21')"
      ]
     },
     "execution_count": 8,
     "metadata": {},
     "output_type": "execute_result"
    }
   ],
   "source": [
    "state_array = np.array([['NY',160], ['OK', 180], ['TX', 140]])\n",
    "state_array"
   ]
  },
  {
   "cell_type": "code",
   "execution_count": 9,
   "id": "c6421147-07eb-4a61-9565-a9c3714086fd",
   "metadata": {},
   "outputs": [
    {
     "data": {
      "text/html": [
       "<div>\n",
       "<style scoped>\n",
       "    .dataframe tbody tr th:only-of-type {\n",
       "        vertical-align: middle;\n",
       "    }\n",
       "\n",
       "    .dataframe tbody tr th {\n",
       "        vertical-align: top;\n",
       "    }\n",
       "\n",
       "    .dataframe thead th {\n",
       "        text-align: right;\n",
       "    }\n",
       "</style>\n",
       "<table border=\"1\" class=\"dataframe\">\n",
       "  <thead>\n",
       "    <tr style=\"text-align: right;\">\n",
       "      <th></th>\n",
       "      <th>0</th>\n",
       "      <th>1</th>\n",
       "    </tr>\n",
       "  </thead>\n",
       "  <tbody>\n",
       "    <tr>\n",
       "      <th>0</th>\n",
       "      <td>NY</td>\n",
       "      <td>160</td>\n",
       "    </tr>\n",
       "    <tr>\n",
       "      <th>1</th>\n",
       "      <td>OK</td>\n",
       "      <td>180</td>\n",
       "    </tr>\n",
       "    <tr>\n",
       "      <th>2</th>\n",
       "      <td>TX</td>\n",
       "      <td>140</td>\n",
       "    </tr>\n",
       "  </tbody>\n",
       "</table>\n",
       "</div>"
      ],
      "text/plain": [
       "    0    1\n",
       "0  NY  160\n",
       "1  OK  180\n",
       "2  TX  140"
      ]
     },
     "metadata": {},
     "output_type": "display_data"
    }
   ],
   "source": [
    "df = pd.DataFrame(state_array)\n",
    "display(df)"
   ]
  },
  {
   "cell_type": "markdown",
   "id": "4434e73b-8e66-4395-af66-c55e306272d5",
   "metadata": {},
   "source": [
    "### Import from Websites\n",
    "1. If the URL of the website ends with `.csv`, import the data from the website as a CSV file.   \n",
    "    - To import a CSV file, use `pd.read_csv()`.\n",
    "2. If the URL ends with `.xlsx`, import the data as an Excel file.\n",
    "    - To import an Excel file, use `pd.read_excel()`.\n",
    "3. To import a table from a website, you can use pd.read_html().\n",
    "    - This function returns a list containing all tables found on the website.\n",
    "    - You can use indexing to access the specific dataframe you want from the list.\n",
    "\n",
    "- The `head()` method displays the first 5 rows.\n",
    "- The `tail()` method displays the last 5 rows."
   ]
  },
  {
   "cell_type": "code",
   "execution_count": 10,
   "id": "c97d2831-ead5-4dfa-9b9c-abc4734e5da8",
   "metadata": {},
   "outputs": [
    {
     "data": {
      "text/html": [
       "<div>\n",
       "<style scoped>\n",
       "    .dataframe tbody tr th:only-of-type {\n",
       "        vertical-align: middle;\n",
       "    }\n",
       "\n",
       "    .dataframe tbody tr th {\n",
       "        vertical-align: top;\n",
       "    }\n",
       "\n",
       "    .dataframe thead th {\n",
       "        text-align: right;\n",
       "    }\n",
       "</style>\n",
       "<table border=\"1\" class=\"dataframe\">\n",
       "  <thead>\n",
       "    <tr style=\"text-align: right;\">\n",
       "      <th></th>\n",
       "      <th>Name</th>\n",
       "      <th>ID</th>\n",
       "      <th>Grade</th>\n",
       "      <th>Gender</th>\n",
       "      <th>HW</th>\n",
       "      <th>Test-1</th>\n",
       "      <th>Test-2</th>\n",
       "      <th>Test-3</th>\n",
       "      <th>Test-4</th>\n",
       "      <th>Final</th>\n",
       "    </tr>\n",
       "  </thead>\n",
       "  <tbody>\n",
       "    <tr>\n",
       "      <th>0</th>\n",
       "      <td>mqtvy</td>\n",
       "      <td>37047871</td>\n",
       "      <td>10</td>\n",
       "      <td>M</td>\n",
       "      <td>30</td>\n",
       "      <td>91</td>\n",
       "      <td>69</td>\n",
       "      <td>93</td>\n",
       "      <td>17</td>\n",
       "      <td>50</td>\n",
       "    </tr>\n",
       "    <tr>\n",
       "      <th>1</th>\n",
       "      <td>jbbsx</td>\n",
       "      <td>35439616</td>\n",
       "      <td>11</td>\n",
       "      <td>F</td>\n",
       "      <td>6</td>\n",
       "      <td>18</td>\n",
       "      <td>93</td>\n",
       "      <td>9</td>\n",
       "      <td>98</td>\n",
       "      <td>91</td>\n",
       "    </tr>\n",
       "    <tr>\n",
       "      <th>2</th>\n",
       "      <td>mrvab</td>\n",
       "      <td>35543247</td>\n",
       "      <td>11</td>\n",
       "      <td>M</td>\n",
       "      <td>78</td>\n",
       "      <td>92</td>\n",
       "      <td>60</td>\n",
       "      <td>43</td>\n",
       "      <td>34</td>\n",
       "      <td>26</td>\n",
       "    </tr>\n",
       "    <tr>\n",
       "      <th>3</th>\n",
       "      <td>bjyve</td>\n",
       "      <td>61282135</td>\n",
       "      <td>9</td>\n",
       "      <td>M</td>\n",
       "      <td>60</td>\n",
       "      <td>8</td>\n",
       "      <td>10</td>\n",
       "      <td>99</td>\n",
       "      <td>80</td>\n",
       "      <td>87</td>\n",
       "    </tr>\n",
       "    <tr>\n",
       "      <th>4</th>\n",
       "      <td>rlpsr</td>\n",
       "      <td>53448034</td>\n",
       "      <td>10</td>\n",
       "      <td>M</td>\n",
       "      <td>3</td>\n",
       "      <td>38</td>\n",
       "      <td>45</td>\n",
       "      <td>43</td>\n",
       "      <td>79</td>\n",
       "      <td>69</td>\n",
       "    </tr>\n",
       "  </tbody>\n",
       "</table>\n",
       "</div>"
      ],
      "text/plain": [
       "    Name        ID  Grade Gender  HW  Test-1  Test-2  Test-3  Test-4  Final\n",
       "0  mqtvy  37047871     10      M  30      91      69      93      17     50\n",
       "1  jbbsx  35439616     11      F   6      18      93       9      98     91\n",
       "2  mrvab  35543247     11      M  78      92      60      43      34     26\n",
       "3  bjyve  61282135      9      M  60       8      10      99      80     87\n",
       "4  rlpsr  53448034     10      M   3      38      45      43      79     69"
      ]
     },
     "execution_count": 10,
     "metadata": {},
     "output_type": "execute_result"
    }
   ],
   "source": [
    "df_grades = pd.read_csv('https://raw.githubusercontent.com/datasmp/datasets/main/grades.csv')\n",
    "df_grades.head()"
   ]
  },
  {
   "cell_type": "code",
   "execution_count": 11,
   "id": "1d57202c-3a0a-48d4-bc9c-0f4ac0d10304",
   "metadata": {},
   "outputs": [
    {
     "data": {
      "text/html": [
       "<div>\n",
       "<style scoped>\n",
       "    .dataframe tbody tr th:only-of-type {\n",
       "        vertical-align: middle;\n",
       "    }\n",
       "\n",
       "    .dataframe tbody tr th {\n",
       "        vertical-align: top;\n",
       "    }\n",
       "\n",
       "    .dataframe thead th {\n",
       "        text-align: right;\n",
       "    }\n",
       "</style>\n",
       "<table border=\"1\" class=\"dataframe\">\n",
       "  <thead>\n",
       "    <tr style=\"text-align: right;\">\n",
       "      <th></th>\n",
       "      <th>Date</th>\n",
       "      <th>APPLE</th>\n",
       "      <th>TESLA</th>\n",
       "      <th>AMAZON</th>\n",
       "      <th>VISA</th>\n",
       "      <th>SP500</th>\n",
       "    </tr>\n",
       "  </thead>\n",
       "  <tbody>\n",
       "    <tr>\n",
       "      <th>0</th>\n",
       "      <td>2020-01-02</td>\n",
       "      <td>74.33</td>\n",
       "      <td>86.05</td>\n",
       "      <td>1898.01</td>\n",
       "      <td>189.66</td>\n",
       "      <td>3257.85</td>\n",
       "    </tr>\n",
       "    <tr>\n",
       "      <th>1</th>\n",
       "      <td>2020-01-03</td>\n",
       "      <td>73.61</td>\n",
       "      <td>88.60</td>\n",
       "      <td>1874.97</td>\n",
       "      <td>188.15</td>\n",
       "      <td>3234.85</td>\n",
       "    </tr>\n",
       "    <tr>\n",
       "      <th>2</th>\n",
       "      <td>2020-01-06</td>\n",
       "      <td>74.20</td>\n",
       "      <td>90.31</td>\n",
       "      <td>1902.88</td>\n",
       "      <td>187.74</td>\n",
       "      <td>3246.28</td>\n",
       "    </tr>\n",
       "    <tr>\n",
       "      <th>3</th>\n",
       "      <td>2020-01-07</td>\n",
       "      <td>73.85</td>\n",
       "      <td>93.81</td>\n",
       "      <td>1906.86</td>\n",
       "      <td>187.24</td>\n",
       "      <td>3237.18</td>\n",
       "    </tr>\n",
       "    <tr>\n",
       "      <th>4</th>\n",
       "      <td>2020-01-08</td>\n",
       "      <td>75.04</td>\n",
       "      <td>98.43</td>\n",
       "      <td>1891.97</td>\n",
       "      <td>190.45</td>\n",
       "      <td>3253.05</td>\n",
       "    </tr>\n",
       "  </tbody>\n",
       "</table>\n",
       "</div>"
      ],
      "text/plain": [
       "         Date  APPLE  TESLA   AMAZON    VISA    SP500\n",
       "0  2020-01-02  74.33  86.05  1898.01  189.66  3257.85\n",
       "1  2020-01-03  73.61  88.60  1874.97  188.15  3234.85\n",
       "2  2020-01-06  74.20  90.31  1902.88  187.74  3246.28\n",
       "3  2020-01-07  73.85  93.81  1906.86  187.24  3237.18\n",
       "4  2020-01-08  75.04  98.43  1891.97  190.45  3253.05"
      ]
     },
     "execution_count": 11,
     "metadata": {},
     "output_type": "execute_result"
    }
   ],
   "source": [
    "df_stock = pd.read_excel('https://raw.githubusercontent.com/datasmp/datasets/main/stock.xlsx')\n",
    "df_stock.head()"
   ]
  },
  {
   "cell_type": "code",
   "execution_count": 52,
   "id": "607cb728-dd49-4c27-9585-6ecd3189c384",
   "metadata": {},
   "outputs": [],
   "source": [
    "# list of tables from a website imported as dataframes\n",
    "df_list = pd.read_html('https://en.wikipedia.org/wiki/List_of_states_and_territories_of_the_United_States')"
   ]
  },
  {
   "cell_type": "code",
   "execution_count": 53,
   "id": "08c92099-9441-4f65-8649-7bf9979af5de",
   "metadata": {},
   "outputs": [
    {
     "data": {
      "text/plain": [
       "list"
      ]
     },
     "execution_count": 53,
     "metadata": {},
     "output_type": "execute_result"
    }
   ],
   "source": [
    "type(df_list)"
   ]
  },
  {
   "cell_type": "code",
   "execution_count": 54,
   "id": "0ceaca86-4236-444c-902b-463c9e7ef75a",
   "metadata": {},
   "outputs": [
    {
     "data": {
      "text/plain": [
       "26"
      ]
     },
     "execution_count": 54,
     "metadata": {},
     "output_type": "execute_result"
    }
   ],
   "source": [
    "# there are 26 tables in the website\n",
    "len(df_list)"
   ]
  },
  {
   "cell_type": "code",
   "execution_count": 58,
   "id": "07a8dc92-b740-4ada-91cf-5519e6a9ccdf",
   "metadata": {},
   "outputs": [
    {
     "data": {
      "text/html": [
       "<div>\n",
       "<style scoped>\n",
       "    .dataframe tbody tr th:only-of-type {\n",
       "        vertical-align: middle;\n",
       "    }\n",
       "\n",
       "    .dataframe tbody tr th {\n",
       "        vertical-align: top;\n",
       "    }\n",
       "\n",
       "    .dataframe thead tr th {\n",
       "        text-align: left;\n",
       "    }\n",
       "</style>\n",
       "<table border=\"1\" class=\"dataframe\">\n",
       "  <thead>\n",
       "    <tr>\n",
       "      <th></th>\n",
       "      <th colspan=\"2\" halign=\"left\">Flag, name and postal abbreviation[8]</th>\n",
       "      <th colspan=\"2\" halign=\"left\">Cities</th>\n",
       "      <th>Ratification or admission[A]</th>\n",
       "      <th>Population (2020)[10]</th>\n",
       "      <th colspan=\"2\" halign=\"left\">Total area[11]</th>\n",
       "      <th>Reps.</th>\n",
       "    </tr>\n",
       "    <tr>\n",
       "      <th></th>\n",
       "      <th>Flag, name and postal abbreviation[8]</th>\n",
       "      <th>Flag, name and postal abbreviation[8].1</th>\n",
       "      <th>Capital</th>\n",
       "      <th>Largest[12]</th>\n",
       "      <th>Ratification or admission[A]</th>\n",
       "      <th>Population (2020)[10]</th>\n",
       "      <th>mi2</th>\n",
       "      <th>km2</th>\n",
       "      <th>Unnamed: 8_level_1</th>\n",
       "    </tr>\n",
       "  </thead>\n",
       "  <tbody>\n",
       "    <tr>\n",
       "      <th>0</th>\n",
       "      <td>Alabama</td>\n",
       "      <td>AL</td>\n",
       "      <td>Montgomery</td>\n",
       "      <td>Huntsville</td>\n",
       "      <td>Dec 14, 1819</td>\n",
       "      <td>5024279</td>\n",
       "      <td>52420</td>\n",
       "      <td>135767</td>\n",
       "      <td>7</td>\n",
       "    </tr>\n",
       "    <tr>\n",
       "      <th>1</th>\n",
       "      <td>Alaska</td>\n",
       "      <td>AK</td>\n",
       "      <td>Juneau</td>\n",
       "      <td>Anchorage</td>\n",
       "      <td>Jan 3, 1959</td>\n",
       "      <td>733391</td>\n",
       "      <td>665384</td>\n",
       "      <td>1723337</td>\n",
       "      <td>1</td>\n",
       "    </tr>\n",
       "    <tr>\n",
       "      <th>2</th>\n",
       "      <td>Arizona</td>\n",
       "      <td>AZ</td>\n",
       "      <td>Phoenix</td>\n",
       "      <td>Phoenix</td>\n",
       "      <td>Feb 14, 1912</td>\n",
       "      <td>7151502</td>\n",
       "      <td>113990</td>\n",
       "      <td>295234</td>\n",
       "      <td>9</td>\n",
       "    </tr>\n",
       "    <tr>\n",
       "      <th>3</th>\n",
       "      <td>Arkansas</td>\n",
       "      <td>AR</td>\n",
       "      <td>Little Rock</td>\n",
       "      <td>Little Rock</td>\n",
       "      <td>Jun 15, 1836</td>\n",
       "      <td>3011524</td>\n",
       "      <td>53179</td>\n",
       "      <td>137732</td>\n",
       "      <td>4</td>\n",
       "    </tr>\n",
       "    <tr>\n",
       "      <th>4</th>\n",
       "      <td>California</td>\n",
       "      <td>CA</td>\n",
       "      <td>Sacramento</td>\n",
       "      <td>Los Angeles</td>\n",
       "      <td>Sep 9, 1850</td>\n",
       "      <td>39538223</td>\n",
       "      <td>163695</td>\n",
       "      <td>423967</td>\n",
       "      <td>52</td>\n",
       "    </tr>\n",
       "  </tbody>\n",
       "</table>\n",
       "</div>"
      ],
      "text/plain": [
       "  Flag, name and postal abbreviation[8]  \\\n",
       "  Flag, name and postal abbreviation[8]   \n",
       "0                               Alabama   \n",
       "1                                Alaska   \n",
       "2                               Arizona   \n",
       "3                              Arkansas   \n",
       "4                            California   \n",
       "\n",
       "                                                Cities               \\\n",
       "  Flag, name and postal abbreviation[8].1      Capital  Largest[12]   \n",
       "0                                      AL   Montgomery   Huntsville   \n",
       "1                                      AK       Juneau    Anchorage   \n",
       "2                                      AZ      Phoenix      Phoenix   \n",
       "3                                      AR  Little Rock  Little Rock   \n",
       "4                                      CA   Sacramento  Los Angeles   \n",
       "\n",
       "  Ratification or admission[A] Population (2020)[10] Total area[11]           \\\n",
       "  Ratification or admission[A] Population (2020)[10]            mi2      km2   \n",
       "0                 Dec 14, 1819               5024279          52420   135767   \n",
       "1                  Jan 3, 1959                733391         665384  1723337   \n",
       "2                 Feb 14, 1912               7151502         113990   295234   \n",
       "3                 Jun 15, 1836               3011524          53179   137732   \n",
       "4                  Sep 9, 1850              39538223         163695   423967   \n",
       "\n",
       "               Reps.  \n",
       "  Unnamed: 8_level_1  \n",
       "0                  7  \n",
       "1                  1  \n",
       "2                  9  \n",
       "3                  4  \n",
       "4                 52  "
      ]
     },
     "execution_count": 58,
     "metadata": {},
     "output_type": "execute_result"
    }
   ],
   "source": [
    "# second table\n",
    "df_list[1].head()"
   ]
  },
  {
   "cell_type": "markdown",
   "id": "1e114d0f-19d7-40fd-b2f0-502fa943250c",
   "metadata": {},
   "source": [
    "### Import from a Local Computer\n",
    "\n",
    "- To import an Excel file, use *pd.read_excel()*.\n",
    "- To import a CSV file, use *pd.read_csv()*.\n",
    "- You need to provide the path of the Excel or CSV file that will be imported.\n",
    "    - In the following example, the grades CSV file is located in the *data_files* folder."
   ]
  },
  {
   "cell_type": "code",
   "execution_count": 12,
   "id": "b8cc9750-6d42-4283-bce7-e91a170977ee",
   "metadata": {},
   "outputs": [
    {
     "data": {
      "text/html": [
       "<div>\n",
       "<style scoped>\n",
       "    .dataframe tbody tr th:only-of-type {\n",
       "        vertical-align: middle;\n",
       "    }\n",
       "\n",
       "    .dataframe tbody tr th {\n",
       "        vertical-align: top;\n",
       "    }\n",
       "\n",
       "    .dataframe thead th {\n",
       "        text-align: right;\n",
       "    }\n",
       "</style>\n",
       "<table border=\"1\" class=\"dataframe\">\n",
       "  <thead>\n",
       "    <tr style=\"text-align: right;\">\n",
       "      <th></th>\n",
       "      <th>Name</th>\n",
       "      <th>ID</th>\n",
       "      <th>Grade</th>\n",
       "      <th>Gender</th>\n",
       "      <th>HW</th>\n",
       "      <th>Test-1</th>\n",
       "      <th>Test-2</th>\n",
       "      <th>Test-3</th>\n",
       "      <th>Test-4</th>\n",
       "      <th>Final</th>\n",
       "    </tr>\n",
       "  </thead>\n",
       "  <tbody>\n",
       "    <tr>\n",
       "      <th>0</th>\n",
       "      <td>mqtvy</td>\n",
       "      <td>37047871</td>\n",
       "      <td>10</td>\n",
       "      <td>M</td>\n",
       "      <td>30</td>\n",
       "      <td>91</td>\n",
       "      <td>69</td>\n",
       "      <td>93</td>\n",
       "      <td>17</td>\n",
       "      <td>50</td>\n",
       "    </tr>\n",
       "    <tr>\n",
       "      <th>1</th>\n",
       "      <td>jbbsx</td>\n",
       "      <td>35439616</td>\n",
       "      <td>11</td>\n",
       "      <td>F</td>\n",
       "      <td>6</td>\n",
       "      <td>18</td>\n",
       "      <td>93</td>\n",
       "      <td>9</td>\n",
       "      <td>98</td>\n",
       "      <td>91</td>\n",
       "    </tr>\n",
       "    <tr>\n",
       "      <th>2</th>\n",
       "      <td>mrvab</td>\n",
       "      <td>35543247</td>\n",
       "      <td>11</td>\n",
       "      <td>M</td>\n",
       "      <td>78</td>\n",
       "      <td>92</td>\n",
       "      <td>60</td>\n",
       "      <td>43</td>\n",
       "      <td>34</td>\n",
       "      <td>26</td>\n",
       "    </tr>\n",
       "    <tr>\n",
       "      <th>3</th>\n",
       "      <td>bjyve</td>\n",
       "      <td>61282135</td>\n",
       "      <td>9</td>\n",
       "      <td>M</td>\n",
       "      <td>60</td>\n",
       "      <td>8</td>\n",
       "      <td>10</td>\n",
       "      <td>99</td>\n",
       "      <td>80</td>\n",
       "      <td>87</td>\n",
       "    </tr>\n",
       "    <tr>\n",
       "      <th>4</th>\n",
       "      <td>rlpsr</td>\n",
       "      <td>53448034</td>\n",
       "      <td>10</td>\n",
       "      <td>M</td>\n",
       "      <td>3</td>\n",
       "      <td>38</td>\n",
       "      <td>45</td>\n",
       "      <td>43</td>\n",
       "      <td>79</td>\n",
       "      <td>69</td>\n",
       "    </tr>\n",
       "  </tbody>\n",
       "</table>\n",
       "</div>"
      ],
      "text/plain": [
       "    Name        ID  Grade Gender  HW  Test-1  Test-2  Test-3  Test-4  Final\n",
       "0  mqtvy  37047871     10      M  30      91      69      93      17     50\n",
       "1  jbbsx  35439616     11      F   6      18      93       9      98     91\n",
       "2  mrvab  35543247     11      M  78      92      60      43      34     26\n",
       "3  bjyve  61282135      9      M  60       8      10      99      80     87\n",
       "4  rlpsr  53448034     10      M   3      38      45      43      79     69"
      ]
     },
     "execution_count": 12,
     "metadata": {},
     "output_type": "execute_result"
    }
   ],
   "source": [
    "df_grades = pd.read_csv('data_files/grades.csv')\n",
    "df_grades.head()"
   ]
  },
  {
   "cell_type": "code",
   "execution_count": 13,
   "id": "dcb29612-c242-45f1-93a2-10ea8d5eef27",
   "metadata": {},
   "outputs": [
    {
     "data": {
      "text/html": [
       "<div>\n",
       "<style scoped>\n",
       "    .dataframe tbody tr th:only-of-type {\n",
       "        vertical-align: middle;\n",
       "    }\n",
       "\n",
       "    .dataframe tbody tr th {\n",
       "        vertical-align: top;\n",
       "    }\n",
       "\n",
       "    .dataframe thead th {\n",
       "        text-align: right;\n",
       "    }\n",
       "</style>\n",
       "<table border=\"1\" class=\"dataframe\">\n",
       "  <thead>\n",
       "    <tr style=\"text-align: right;\">\n",
       "      <th></th>\n",
       "      <th>Date</th>\n",
       "      <th>APPLE</th>\n",
       "      <th>TESLA</th>\n",
       "      <th>AMAZON</th>\n",
       "      <th>VISA</th>\n",
       "      <th>SP500</th>\n",
       "    </tr>\n",
       "  </thead>\n",
       "  <tbody>\n",
       "    <tr>\n",
       "      <th>0</th>\n",
       "      <td>2020-01-02</td>\n",
       "      <td>74.33</td>\n",
       "      <td>86.05</td>\n",
       "      <td>1898.01</td>\n",
       "      <td>189.66</td>\n",
       "      <td>3257.85</td>\n",
       "    </tr>\n",
       "    <tr>\n",
       "      <th>1</th>\n",
       "      <td>2020-01-03</td>\n",
       "      <td>73.61</td>\n",
       "      <td>88.60</td>\n",
       "      <td>1874.97</td>\n",
       "      <td>188.15</td>\n",
       "      <td>3234.85</td>\n",
       "    </tr>\n",
       "    <tr>\n",
       "      <th>2</th>\n",
       "      <td>2020-01-06</td>\n",
       "      <td>74.20</td>\n",
       "      <td>90.31</td>\n",
       "      <td>1902.88</td>\n",
       "      <td>187.74</td>\n",
       "      <td>3246.28</td>\n",
       "    </tr>\n",
       "    <tr>\n",
       "      <th>3</th>\n",
       "      <td>2020-01-07</td>\n",
       "      <td>73.85</td>\n",
       "      <td>93.81</td>\n",
       "      <td>1906.86</td>\n",
       "      <td>187.24</td>\n",
       "      <td>3237.18</td>\n",
       "    </tr>\n",
       "    <tr>\n",
       "      <th>4</th>\n",
       "      <td>2020-01-08</td>\n",
       "      <td>75.04</td>\n",
       "      <td>98.43</td>\n",
       "      <td>1891.97</td>\n",
       "      <td>190.45</td>\n",
       "      <td>3253.05</td>\n",
       "    </tr>\n",
       "  </tbody>\n",
       "</table>\n",
       "</div>"
      ],
      "text/plain": [
       "         Date  APPLE  TESLA   AMAZON    VISA    SP500\n",
       "0  2020-01-02  74.33  86.05  1898.01  189.66  3257.85\n",
       "1  2020-01-03  73.61  88.60  1874.97  188.15  3234.85\n",
       "2  2020-01-06  74.20  90.31  1902.88  187.74  3246.28\n",
       "3  2020-01-07  73.85  93.81  1906.86  187.24  3237.18\n",
       "4  2020-01-08  75.04  98.43  1891.97  190.45  3253.05"
      ]
     },
     "execution_count": 13,
     "metadata": {},
     "output_type": "execute_result"
    }
   ],
   "source": [
    "df_stock = pd.read_excel('data_files/stock.xlsx')\n",
    "df_stock.head()"
   ]
  },
  {
   "cell_type": "markdown",
   "id": "34d5bca2-2e05-4349-94bd-afe976c4a6fe",
   "metadata": {},
   "source": [
    "### Import from Google Drive\n",
    "1. You need to mount to establish the connection between your Google Drive and Google Colab notebook using the following code.\n",
    "``` python\n",
    "from google.colab import drive\n",
    "drive.mount('/content/drive')\n",
    "```\n",
    "2. You can import the Excel or CSV file by providing the file's path.\n",
    "``` python \n",
    "  df_grades = pd.read_excel('/content/drive/My Drive/data_files/grades.xlsx')\n",
    "```\n",
    "- In the code above *data_files* is a folder in *My Drive*.\n",
    "- *grades.xlsx* is an Excel file in *data_files* folder."
   ]
  },
  {
   "cell_type": "code",
   "execution_count": 14,
   "id": "ace3d800-2d2e-4f68-b63d-2beee5f0b65e",
   "metadata": {},
   "outputs": [
    {
     "data": {
      "text/html": [
       "<div>\n",
       "<style scoped>\n",
       "    .dataframe tbody tr th:only-of-type {\n",
       "        vertical-align: middle;\n",
       "    }\n",
       "\n",
       "    .dataframe tbody tr th {\n",
       "        vertical-align: top;\n",
       "    }\n",
       "\n",
       "    .dataframe thead th {\n",
       "        text-align: right;\n",
       "    }\n",
       "</style>\n",
       "<table border=\"1\" class=\"dataframe\">\n",
       "  <thead>\n",
       "    <tr style=\"text-align: right;\">\n",
       "      <th></th>\n",
       "      <th>Name</th>\n",
       "      <th>ID</th>\n",
       "      <th>Grade</th>\n",
       "      <th>Gender</th>\n",
       "      <th>HW</th>\n",
       "      <th>Test-1</th>\n",
       "      <th>Test-2</th>\n",
       "      <th>Test-3</th>\n",
       "      <th>Test-4</th>\n",
       "      <th>Final</th>\n",
       "    </tr>\n",
       "  </thead>\n",
       "  <tbody>\n",
       "    <tr>\n",
       "      <th>0</th>\n",
       "      <td>mqtvy</td>\n",
       "      <td>37047871</td>\n",
       "      <td>10</td>\n",
       "      <td>M</td>\n",
       "      <td>30</td>\n",
       "      <td>91</td>\n",
       "      <td>69</td>\n",
       "      <td>93</td>\n",
       "      <td>17</td>\n",
       "      <td>50</td>\n",
       "    </tr>\n",
       "    <tr>\n",
       "      <th>1</th>\n",
       "      <td>jbbsx</td>\n",
       "      <td>35439616</td>\n",
       "      <td>11</td>\n",
       "      <td>F</td>\n",
       "      <td>6</td>\n",
       "      <td>18</td>\n",
       "      <td>93</td>\n",
       "      <td>9</td>\n",
       "      <td>98</td>\n",
       "      <td>91</td>\n",
       "    </tr>\n",
       "    <tr>\n",
       "      <th>2</th>\n",
       "      <td>mrvab</td>\n",
       "      <td>35543247</td>\n",
       "      <td>11</td>\n",
       "      <td>M</td>\n",
       "      <td>78</td>\n",
       "      <td>92</td>\n",
       "      <td>60</td>\n",
       "      <td>43</td>\n",
       "      <td>34</td>\n",
       "      <td>26</td>\n",
       "    </tr>\n",
       "    <tr>\n",
       "      <th>3</th>\n",
       "      <td>bjyve</td>\n",
       "      <td>61282135</td>\n",
       "      <td>9</td>\n",
       "      <td>M</td>\n",
       "      <td>60</td>\n",
       "      <td>8</td>\n",
       "      <td>10</td>\n",
       "      <td>99</td>\n",
       "      <td>80</td>\n",
       "      <td>87</td>\n",
       "    </tr>\n",
       "    <tr>\n",
       "      <th>4</th>\n",
       "      <td>rlpsr</td>\n",
       "      <td>53448034</td>\n",
       "      <td>10</td>\n",
       "      <td>M</td>\n",
       "      <td>3</td>\n",
       "      <td>38</td>\n",
       "      <td>45</td>\n",
       "      <td>43</td>\n",
       "      <td>79</td>\n",
       "      <td>69</td>\n",
       "    </tr>\n",
       "  </tbody>\n",
       "</table>\n",
       "</div>"
      ],
      "text/plain": [
       "    Name        ID  Grade Gender  HW  Test-1  Test-2  Test-3  Test-4  Final\n",
       "0  mqtvy  37047871     10      M  30      91      69      93      17     50\n",
       "1  jbbsx  35439616     11      F   6      18      93       9      98     91\n",
       "2  mrvab  35543247     11      M  78      92      60      43      34     26\n",
       "3  bjyve  61282135      9      M  60       8      10      99      80     87\n",
       "4  rlpsr  53448034     10      M   3      38      45      43      79     69"
      ]
     },
     "execution_count": 14,
     "metadata": {},
     "output_type": "execute_result"
    }
   ],
   "source": [
    "df_grades.head()"
   ]
  },
  {
   "cell_type": "markdown",
   "id": "da004c14-97b8-441e-80d3-c178060e6528",
   "metadata": {},
   "source": [
    "## Accessing values"
   ]
  },
  {
   "cell_type": "markdown",
   "id": "d7f62cbe-bed9-4661-a84f-92cb50234506",
   "metadata": {},
   "source": [
    "### Select columns\n",
    "\n",
    "A single column or multiple columns can be accessed using square brackets. \n",
    "- If multiple columns are accessed, column labels can be provided as a list.\n",
    "- When accessing single columns, if the column label consists of letters and digits, a period (.) can also be used instead of square brackets."
   ]
  },
  {
   "cell_type": "code",
   "execution_count": 15,
   "id": "8b9c696f-a898-4d98-a9d5-8a14890e7031",
   "metadata": {},
   "outputs": [
    {
     "data": {
      "text/html": [
       "<div>\n",
       "<style scoped>\n",
       "    .dataframe tbody tr th:only-of-type {\n",
       "        vertical-align: middle;\n",
       "    }\n",
       "\n",
       "    .dataframe tbody tr th {\n",
       "        vertical-align: top;\n",
       "    }\n",
       "\n",
       "    .dataframe thead th {\n",
       "        text-align: right;\n",
       "    }\n",
       "</style>\n",
       "<table border=\"1\" class=\"dataframe\">\n",
       "  <thead>\n",
       "    <tr style=\"text-align: right;\">\n",
       "      <th></th>\n",
       "      <th>Date</th>\n",
       "      <th>APPLE</th>\n",
       "      <th>TESLA</th>\n",
       "      <th>AMAZON</th>\n",
       "      <th>VISA</th>\n",
       "      <th>SP500</th>\n",
       "    </tr>\n",
       "  </thead>\n",
       "  <tbody>\n",
       "    <tr>\n",
       "      <th>0</th>\n",
       "      <td>2020-01-02</td>\n",
       "      <td>74.33</td>\n",
       "      <td>86.05</td>\n",
       "      <td>1898.01</td>\n",
       "      <td>189.66</td>\n",
       "      <td>3257.85</td>\n",
       "    </tr>\n",
       "    <tr>\n",
       "      <th>1</th>\n",
       "      <td>2020-01-03</td>\n",
       "      <td>73.61</td>\n",
       "      <td>88.60</td>\n",
       "      <td>1874.97</td>\n",
       "      <td>188.15</td>\n",
       "      <td>3234.85</td>\n",
       "    </tr>\n",
       "    <tr>\n",
       "      <th>2</th>\n",
       "      <td>2020-01-06</td>\n",
       "      <td>74.20</td>\n",
       "      <td>90.31</td>\n",
       "      <td>1902.88</td>\n",
       "      <td>187.74</td>\n",
       "      <td>3246.28</td>\n",
       "    </tr>\n",
       "    <tr>\n",
       "      <th>3</th>\n",
       "      <td>2020-01-07</td>\n",
       "      <td>73.85</td>\n",
       "      <td>93.81</td>\n",
       "      <td>1906.86</td>\n",
       "      <td>187.24</td>\n",
       "      <td>3237.18</td>\n",
       "    </tr>\n",
       "    <tr>\n",
       "      <th>4</th>\n",
       "      <td>2020-01-08</td>\n",
       "      <td>75.04</td>\n",
       "      <td>98.43</td>\n",
       "      <td>1891.97</td>\n",
       "      <td>190.45</td>\n",
       "      <td>3253.05</td>\n",
       "    </tr>\n",
       "  </tbody>\n",
       "</table>\n",
       "</div>"
      ],
      "text/plain": [
       "         Date  APPLE  TESLA   AMAZON    VISA    SP500\n",
       "0  2020-01-02  74.33  86.05  1898.01  189.66  3257.85\n",
       "1  2020-01-03  73.61  88.60  1874.97  188.15  3234.85\n",
       "2  2020-01-06  74.20  90.31  1902.88  187.74  3246.28\n",
       "3  2020-01-07  73.85  93.81  1906.86  187.24  3237.18\n",
       "4  2020-01-08  75.04  98.43  1891.97  190.45  3253.05"
      ]
     },
     "execution_count": 15,
     "metadata": {},
     "output_type": "execute_result"
    }
   ],
   "source": [
    "# df_stock has 6 columns.\n",
    "df_stock.head()"
   ]
  },
  {
   "cell_type": "markdown",
   "id": "c4288cc1-a095-415b-a55e-4f6e37666034",
   "metadata": {},
   "source": [
    "- df_stick['APPLE'] returns only the *APPLE* column as a Series type."
   ]
  },
  {
   "cell_type": "code",
   "execution_count": 16,
   "id": "cc5e5a3f-28cf-4410-ba99-d141f2bd2fdf",
   "metadata": {
    "scrolled": true
   },
   "outputs": [
    {
     "data": {
      "text/plain": [
       "0    74.33\n",
       "1    73.61\n",
       "2    74.20\n",
       "3    73.85\n",
       "4    75.04\n",
       "Name: APPLE, dtype: float64"
      ]
     },
     "execution_count": 16,
     "metadata": {},
     "output_type": "execute_result"
    }
   ],
   "source": [
    "df_stock['APPLE'].head()"
   ]
  },
  {
   "cell_type": "markdown",
   "id": "51ee3458-3390-46ff-9490-1a191cfa4eec",
   "metadata": {
    "scrolled": true
   },
   "source": [
    "- Using a period (.) instead of square brackets ([])."
   ]
  },
  {
   "cell_type": "code",
   "execution_count": 17,
   "id": "8485808f-8785-479d-9f96-a7fc21fa46aa",
   "metadata": {},
   "outputs": [
    {
     "data": {
      "text/plain": [
       "0    74.33\n",
       "1    73.61\n",
       "2    74.20\n",
       "3    73.85\n",
       "4    75.04\n",
       "Name: APPLE, dtype: float64"
      ]
     },
     "execution_count": 17,
     "metadata": {},
     "output_type": "execute_result"
    }
   ],
   "source": [
    "df_stock.APPLE.head()"
   ]
  },
  {
   "cell_type": "markdown",
   "id": "93686ae0-5caa-4a2d-8701-52abdde81bf1",
   "metadata": {},
   "source": [
    "- When ['APPLE','TESLA'] is provided as a list inside the square brackets, it returns a DataFrame with only two columns."
   ]
  },
  {
   "cell_type": "code",
   "execution_count": 18,
   "id": "ed654df9-8b7d-4238-8127-3a13ae21e784",
   "metadata": {},
   "outputs": [
    {
     "data": {
      "text/html": [
       "<div>\n",
       "<style scoped>\n",
       "    .dataframe tbody tr th:only-of-type {\n",
       "        vertical-align: middle;\n",
       "    }\n",
       "\n",
       "    .dataframe tbody tr th {\n",
       "        vertical-align: top;\n",
       "    }\n",
       "\n",
       "    .dataframe thead th {\n",
       "        text-align: right;\n",
       "    }\n",
       "</style>\n",
       "<table border=\"1\" class=\"dataframe\">\n",
       "  <thead>\n",
       "    <tr style=\"text-align: right;\">\n",
       "      <th></th>\n",
       "      <th>APPLE</th>\n",
       "      <th>TESLA</th>\n",
       "    </tr>\n",
       "  </thead>\n",
       "  <tbody>\n",
       "    <tr>\n",
       "      <th>0</th>\n",
       "      <td>74.33</td>\n",
       "      <td>86.05</td>\n",
       "    </tr>\n",
       "    <tr>\n",
       "      <th>1</th>\n",
       "      <td>73.61</td>\n",
       "      <td>88.60</td>\n",
       "    </tr>\n",
       "    <tr>\n",
       "      <th>2</th>\n",
       "      <td>74.20</td>\n",
       "      <td>90.31</td>\n",
       "    </tr>\n",
       "    <tr>\n",
       "      <th>3</th>\n",
       "      <td>73.85</td>\n",
       "      <td>93.81</td>\n",
       "    </tr>\n",
       "    <tr>\n",
       "      <th>4</th>\n",
       "      <td>75.04</td>\n",
       "      <td>98.43</td>\n",
       "    </tr>\n",
       "  </tbody>\n",
       "</table>\n",
       "</div>"
      ],
      "text/plain": [
       "   APPLE  TESLA\n",
       "0  74.33  86.05\n",
       "1  73.61  88.60\n",
       "2  74.20  90.31\n",
       "3  73.85  93.81\n",
       "4  75.04  98.43"
      ]
     },
     "execution_count": 18,
     "metadata": {},
     "output_type": "execute_result"
    }
   ],
   "source": [
    "df_stock[['APPLE','TESLA']].head()"
   ]
  },
  {
   "cell_type": "markdown",
   "id": "8c255695-3586-4585-ba13-69b7ed92078f",
   "metadata": {},
   "source": [
    "### Select rows\n",
    "The `loc` operator can be used to access single or multiple rows using row labels."
   ]
  },
  {
   "cell_type": "code",
   "execution_count": 19,
   "id": "a7870119-74d8-4618-9a5e-74b9e3c5dc64",
   "metadata": {},
   "outputs": [
    {
     "data": {
      "text/plain": [
       "State      TX\n",
       "Height    140\n",
       "Name: Tim, dtype: object"
      ]
     },
     "execution_count": 19,
     "metadata": {},
     "output_type": "execute_result"
    }
   ],
   "source": [
    "# row with label 'Tim'\n",
    "df_sh.loc['Tim']"
   ]
  },
  {
   "cell_type": "code",
   "execution_count": 20,
   "id": "9e66ce01-ffce-4cca-bc94-a488d06e8dbe",
   "metadata": {},
   "outputs": [
    {
     "data": {
      "text/html": [
       "<div>\n",
       "<style scoped>\n",
       "    .dataframe tbody tr th:only-of-type {\n",
       "        vertical-align: middle;\n",
       "    }\n",
       "\n",
       "    .dataframe tbody tr th {\n",
       "        vertical-align: top;\n",
       "    }\n",
       "\n",
       "    .dataframe thead th {\n",
       "        text-align: right;\n",
       "    }\n",
       "</style>\n",
       "<table border=\"1\" class=\"dataframe\">\n",
       "  <thead>\n",
       "    <tr style=\"text-align: right;\">\n",
       "      <th></th>\n",
       "      <th>State</th>\n",
       "      <th>Height</th>\n",
       "    </tr>\n",
       "  </thead>\n",
       "  <tbody>\n",
       "    <tr>\n",
       "      <th>John</th>\n",
       "      <td>NY</td>\n",
       "      <td>160</td>\n",
       "    </tr>\n",
       "    <tr>\n",
       "      <th>Tim</th>\n",
       "      <td>TX</td>\n",
       "      <td>140</td>\n",
       "    </tr>\n",
       "  </tbody>\n",
       "</table>\n",
       "</div>"
      ],
      "text/plain": [
       "     State  Height\n",
       "John    NY     160\n",
       "Tim     TX     140"
      ]
     },
     "execution_count": 20,
     "metadata": {},
     "output_type": "execute_result"
    }
   ],
   "source": [
    "# rows with labels 'John' and 'Tim'\n",
    "df_sh.loc[['John', 'Tim']]"
   ]
  },
  {
   "cell_type": "markdown",
   "id": "d651fc5c-e78c-4d5e-a6c7-bf5e7c04bed1",
   "metadata": {},
   "source": [
    "### Slicing\n",
    "\n",
    "Slicing can be performed either by using the row and column indexes or labels.\n",
    "\n",
    "- For row and column indexes: Use iloc[row index, column index].\n",
    "- For row and column labels: Use loc[row label, column label].\n",
    "\n",
    "Let's recall the small DataFrame df_sh."
   ]
  },
  {
   "cell_type": "code",
   "execution_count": 21,
   "id": "1dcf39d5-1463-41fd-bebd-e779f58e98c0",
   "metadata": {},
   "outputs": [
    {
     "data": {
      "text/html": [
       "<div>\n",
       "<style scoped>\n",
       "    .dataframe tbody tr th:only-of-type {\n",
       "        vertical-align: middle;\n",
       "    }\n",
       "\n",
       "    .dataframe tbody tr th {\n",
       "        vertical-align: top;\n",
       "    }\n",
       "\n",
       "    .dataframe thead th {\n",
       "        text-align: right;\n",
       "    }\n",
       "</style>\n",
       "<table border=\"1\" class=\"dataframe\">\n",
       "  <thead>\n",
       "    <tr style=\"text-align: right;\">\n",
       "      <th></th>\n",
       "      <th>State</th>\n",
       "      <th>Height</th>\n",
       "    </tr>\n",
       "  </thead>\n",
       "  <tbody>\n",
       "    <tr>\n",
       "      <th>John</th>\n",
       "      <td>NY</td>\n",
       "      <td>160</td>\n",
       "    </tr>\n",
       "    <tr>\n",
       "      <th>Liz</th>\n",
       "      <td>OK</td>\n",
       "      <td>180</td>\n",
       "    </tr>\n",
       "    <tr>\n",
       "      <th>Tim</th>\n",
       "      <td>TX</td>\n",
       "      <td>140</td>\n",
       "    </tr>\n",
       "  </tbody>\n",
       "</table>\n",
       "</div>"
      ],
      "text/plain": [
       "     State  Height\n",
       "John    NY     160\n",
       "Liz     OK     180\n",
       "Tim     TX     140"
      ]
     },
     "execution_count": 21,
     "metadata": {},
     "output_type": "execute_result"
    }
   ],
   "source": [
    "df_sh"
   ]
  },
  {
   "cell_type": "markdown",
   "id": "63e26eea-5aea-42b6-bee9-38c558fddc86",
   "metadata": {},
   "source": [
    "\n",
    "Let's try to access Tim's height, which is 140, using both loc and iloc.\n",
    "- The row label for Tim's height of 140 is Tim.\n",
    "- The column label for the height is Height."
   ]
  },
  {
   "cell_type": "code",
   "execution_count": 22,
   "id": "5356f584-7155-439a-b3d5-d0f4c876b87b",
   "metadata": {},
   "outputs": [
    {
     "data": {
      "text/plain": [
       "140"
      ]
     },
     "execution_count": 22,
     "metadata": {},
     "output_type": "execute_result"
    }
   ],
   "source": [
    "df_sh.loc['Tim', 'Height']"
   ]
  },
  {
   "cell_type": "markdown",
   "id": "e1b6c990-63a2-49ef-80d1-93aa59eaeb75",
   "metadata": {},
   "source": [
    " Let's try to access Tim's height, which is 140, using iloc.\n",
    "- The row index for Tim is the index of Tim in the list ['John', 'Liz', 'Tim'], which is 2.\n",
    "- The column index for the height is the index of Height in the list ['State', 'Height'], which is 1."
   ]
  },
  {
   "cell_type": "code",
   "execution_count": 23,
   "id": "7b47e6fc-00c2-4003-8528-559697d7a62a",
   "metadata": {},
   "outputs": [
    {
     "data": {
      "text/plain": [
       "140"
      ]
     },
     "execution_count": 23,
     "metadata": {},
     "output_type": "execute_result"
    }
   ],
   "source": [
    "df_sh.iloc[2,1]"
   ]
  },
  {
   "cell_type": "markdown",
   "id": "41aa5635-84ef-4f2f-b026-ec8817c90cac",
   "metadata": {},
   "source": [
    "You can also perform slicing similar to strings, tuples, and lists.\n",
    "- When using slicing with loc (labels), there's a small difference:\n",
    "    - loc is inclusive for the end label, meaning the end label is included.\n",
    "- For example, considering the column labels of the df_sh DataFrame are ['State', 'Height']:\n",
    "    - df_sh.loc['Liz':,:'Height'] includes the columns up to and including 'Height'."
   ]
  },
  {
   "cell_type": "code",
   "execution_count": 24,
   "id": "856cf448-1b60-4501-b46f-7dfac66b683c",
   "metadata": {},
   "outputs": [
    {
     "data": {
      "text/html": [
       "<div>\n",
       "<style scoped>\n",
       "    .dataframe tbody tr th:only-of-type {\n",
       "        vertical-align: middle;\n",
       "    }\n",
       "\n",
       "    .dataframe tbody tr th {\n",
       "        vertical-align: top;\n",
       "    }\n",
       "\n",
       "    .dataframe thead th {\n",
       "        text-align: right;\n",
       "    }\n",
       "</style>\n",
       "<table border=\"1\" class=\"dataframe\">\n",
       "  <thead>\n",
       "    <tr style=\"text-align: right;\">\n",
       "      <th></th>\n",
       "      <th>State</th>\n",
       "    </tr>\n",
       "  </thead>\n",
       "  <tbody>\n",
       "    <tr>\n",
       "      <th>Liz</th>\n",
       "      <td>OK</td>\n",
       "    </tr>\n",
       "    <tr>\n",
       "      <th>Tim</th>\n",
       "      <td>TX</td>\n",
       "    </tr>\n",
       "  </tbody>\n",
       "</table>\n",
       "</div>"
      ],
      "text/plain": [
       "    State\n",
       "Liz    OK\n",
       "Tim    TX"
      ]
     },
     "execution_count": 24,
     "metadata": {},
     "output_type": "execute_result"
    }
   ],
   "source": [
    "# rows starting from index 1 (includes 1)    --> row indexes: 1, 2\n",
    "# columns up to index 1 (does not include 1) --> column index: 0\n",
    "\n",
    "df_sh.iloc[1:,:1]"
   ]
  },
  {
   "cell_type": "code",
   "execution_count": 25,
   "id": "0db63431-1d7d-41cc-93de-1eeef3c4e01f",
   "metadata": {},
   "outputs": [
    {
     "data": {
      "text/html": [
       "<div>\n",
       "<style scoped>\n",
       "    .dataframe tbody tr th:only-of-type {\n",
       "        vertical-align: middle;\n",
       "    }\n",
       "\n",
       "    .dataframe tbody tr th {\n",
       "        vertical-align: top;\n",
       "    }\n",
       "\n",
       "    .dataframe thead th {\n",
       "        text-align: right;\n",
       "    }\n",
       "</style>\n",
       "<table border=\"1\" class=\"dataframe\">\n",
       "  <thead>\n",
       "    <tr style=\"text-align: right;\">\n",
       "      <th></th>\n",
       "      <th>State</th>\n",
       "      <th>Height</th>\n",
       "    </tr>\n",
       "  </thead>\n",
       "  <tbody>\n",
       "    <tr>\n",
       "      <th>Liz</th>\n",
       "      <td>OK</td>\n",
       "      <td>180</td>\n",
       "    </tr>\n",
       "    <tr>\n",
       "      <th>Tim</th>\n",
       "      <td>TX</td>\n",
       "      <td>140</td>\n",
       "    </tr>\n",
       "  </tbody>\n",
       "</table>\n",
       "</div>"
      ],
      "text/plain": [
       "    State  Height\n",
       "Liz    OK     180\n",
       "Tim    TX     140"
      ]
     },
     "execution_count": 25,
     "metadata": {},
     "output_type": "execute_result"
    }
   ],
   "source": [
    "# rows starting from  'Liz' (includes 'Liz')          --> row labels: 1, 2\n",
    "# columns up to label 'Height' (includes 'Height')    --> column labels: 'State', 'Height'\n",
    "\n",
    "df_sh.loc['Liz':,:'Height']"
   ]
  },
  {
   "cell_type": "markdown",
   "id": "7f4a59bc-163c-48d2-976a-7a7bf99e181b",
   "metadata": {},
   "source": [
    "### Filtering\n",
    "Boolean expressions can be used to select specific parts of the DataFrame based on certain conditions.\n",
    "- For example, *df['column_label'] > 90* returns a Series with a boolean value for each row, indicating whether the condition is True or False for that row."
   ]
  },
  {
   "cell_type": "code",
   "execution_count": 26,
   "id": "72dd6337-c08a-4300-8aae-dfd7f9c1c439",
   "metadata": {},
   "outputs": [
    {
     "data": {
      "text/plain": [
       "0      True\n",
       "1     False\n",
       "2     False\n",
       "3      True\n",
       "4     False\n",
       "      ...  \n",
       "95    False\n",
       "96    False\n",
       "97    False\n",
       "98    False\n",
       "99    False\n",
       "Name: Test-3, Length: 100, dtype: bool"
      ]
     },
     "execution_count": 26,
     "metadata": {},
     "output_type": "execute_result"
    }
   ],
   "source": [
    "# returns a boolean value for each row.\n",
    "df_grades['Test-3']>90"
   ]
  },
  {
   "cell_type": "markdown",
   "id": "c48b4a12-2e3c-4888-b19c-b5b5540d6980",
   "metadata": {
    "scrolled": true
   },
   "source": [
    "- Two conditions can be combined with a boolean operator to filter the DataFrame based on multiple criteria."
   ]
  },
  {
   "cell_type": "code",
   "execution_count": 27,
   "id": "1728a325-09a4-424a-b16e-8b5fd1efbc45",
   "metadata": {},
   "outputs": [
    {
     "data": {
      "text/plain": [
       "0      True\n",
       "1     False\n",
       "2     False\n",
       "3     False\n",
       "4     False\n",
       "      ...  \n",
       "95    False\n",
       "96    False\n",
       "97    False\n",
       "98    False\n",
       "99    False\n",
       "Length: 100, dtype: bool"
      ]
     },
     "execution_count": 27,
     "metadata": {},
     "output_type": "execute_result"
    }
   ],
   "source": [
    "(df_grades['Test-2']>65) & (df_grades['Test-3']>90)"
   ]
  },
  {
   "cell_type": "markdown",
   "id": "4efae9e4-536c-4d02-914a-77af457eefba",
   "metadata": {},
   "source": [
    "- These boolean values can be used within square brackets to select a subset of the DataFrame.\n",
    "    - **Example:** The following code selects the rows for which the grade for Test-3 is more than 90."
   ]
  },
  {
   "cell_type": "code",
   "execution_count": 28,
   "id": "ef64d1c0-4cbb-4714-97ba-97206fa2906d",
   "metadata": {},
   "outputs": [
    {
     "data": {
      "text/html": [
       "<div>\n",
       "<style scoped>\n",
       "    .dataframe tbody tr th:only-of-type {\n",
       "        vertical-align: middle;\n",
       "    }\n",
       "\n",
       "    .dataframe tbody tr th {\n",
       "        vertical-align: top;\n",
       "    }\n",
       "\n",
       "    .dataframe thead th {\n",
       "        text-align: right;\n",
       "    }\n",
       "</style>\n",
       "<table border=\"1\" class=\"dataframe\">\n",
       "  <thead>\n",
       "    <tr style=\"text-align: right;\">\n",
       "      <th></th>\n",
       "      <th>Name</th>\n",
       "      <th>ID</th>\n",
       "      <th>Grade</th>\n",
       "      <th>Gender</th>\n",
       "      <th>HW</th>\n",
       "      <th>Test-1</th>\n",
       "      <th>Test-2</th>\n",
       "      <th>Test-3</th>\n",
       "      <th>Test-4</th>\n",
       "      <th>Final</th>\n",
       "    </tr>\n",
       "  </thead>\n",
       "  <tbody>\n",
       "    <tr>\n",
       "      <th>0</th>\n",
       "      <td>mqtvy</td>\n",
       "      <td>37047871</td>\n",
       "      <td>10</td>\n",
       "      <td>M</td>\n",
       "      <td>30</td>\n",
       "      <td>91</td>\n",
       "      <td>69</td>\n",
       "      <td>93</td>\n",
       "      <td>17</td>\n",
       "      <td>50</td>\n",
       "    </tr>\n",
       "    <tr>\n",
       "      <th>3</th>\n",
       "      <td>bjyve</td>\n",
       "      <td>61282135</td>\n",
       "      <td>9</td>\n",
       "      <td>M</td>\n",
       "      <td>60</td>\n",
       "      <td>8</td>\n",
       "      <td>10</td>\n",
       "      <td>99</td>\n",
       "      <td>80</td>\n",
       "      <td>87</td>\n",
       "    </tr>\n",
       "    <tr>\n",
       "      <th>9</th>\n",
       "      <td>iyhzx</td>\n",
       "      <td>840574</td>\n",
       "      <td>11</td>\n",
       "      <td>M</td>\n",
       "      <td>91</td>\n",
       "      <td>89</td>\n",
       "      <td>37</td>\n",
       "      <td>93</td>\n",
       "      <td>96</td>\n",
       "      <td>28</td>\n",
       "    </tr>\n",
       "    <tr>\n",
       "      <th>24</th>\n",
       "      <td>affft</td>\n",
       "      <td>61590869</td>\n",
       "      <td>9</td>\n",
       "      <td>M</td>\n",
       "      <td>65</td>\n",
       "      <td>29</td>\n",
       "      <td>44</td>\n",
       "      <td>100</td>\n",
       "      <td>83</td>\n",
       "      <td>35</td>\n",
       "    </tr>\n",
       "    <tr>\n",
       "      <th>35</th>\n",
       "      <td>gauus</td>\n",
       "      <td>73384666</td>\n",
       "      <td>9</td>\n",
       "      <td>M</td>\n",
       "      <td>19</td>\n",
       "      <td>58</td>\n",
       "      <td>94</td>\n",
       "      <td>91</td>\n",
       "      <td>76</td>\n",
       "      <td>19</td>\n",
       "    </tr>\n",
       "    <tr>\n",
       "      <th>39</th>\n",
       "      <td>micxs</td>\n",
       "      <td>32507584</td>\n",
       "      <td>12</td>\n",
       "      <td>M</td>\n",
       "      <td>17</td>\n",
       "      <td>62</td>\n",
       "      <td>20</td>\n",
       "      <td>95</td>\n",
       "      <td>26</td>\n",
       "      <td>67</td>\n",
       "    </tr>\n",
       "    <tr>\n",
       "      <th>58</th>\n",
       "      <td>rhjkj</td>\n",
       "      <td>15745708</td>\n",
       "      <td>12</td>\n",
       "      <td>F</td>\n",
       "      <td>59</td>\n",
       "      <td>61</td>\n",
       "      <td>9</td>\n",
       "      <td>98</td>\n",
       "      <td>5</td>\n",
       "      <td>10</td>\n",
       "    </tr>\n",
       "    <tr>\n",
       "      <th>81</th>\n",
       "      <td>mndro</td>\n",
       "      <td>52386329</td>\n",
       "      <td>11</td>\n",
       "      <td>M</td>\n",
       "      <td>76</td>\n",
       "      <td>88</td>\n",
       "      <td>85</td>\n",
       "      <td>91</td>\n",
       "      <td>80</td>\n",
       "      <td>44</td>\n",
       "    </tr>\n",
       "    <tr>\n",
       "      <th>92</th>\n",
       "      <td>lagws</td>\n",
       "      <td>82526433</td>\n",
       "      <td>12</td>\n",
       "      <td>F</td>\n",
       "      <td>12</td>\n",
       "      <td>45</td>\n",
       "      <td>97</td>\n",
       "      <td>92</td>\n",
       "      <td>20</td>\n",
       "      <td>29</td>\n",
       "    </tr>\n",
       "    <tr>\n",
       "      <th>94</th>\n",
       "      <td>jloze</td>\n",
       "      <td>30408806</td>\n",
       "      <td>10</td>\n",
       "      <td>M</td>\n",
       "      <td>19</td>\n",
       "      <td>24</td>\n",
       "      <td>73</td>\n",
       "      <td>98</td>\n",
       "      <td>48</td>\n",
       "      <td>95</td>\n",
       "    </tr>\n",
       "  </tbody>\n",
       "</table>\n",
       "</div>"
      ],
      "text/plain": [
       "     Name        ID  Grade Gender  HW  Test-1  Test-2  Test-3  Test-4  Final\n",
       "0   mqtvy  37047871     10      M  30      91      69      93      17     50\n",
       "3   bjyve  61282135      9      M  60       8      10      99      80     87\n",
       "9   iyhzx    840574     11      M  91      89      37      93      96     28\n",
       "24  affft  61590869      9      M  65      29      44     100      83     35\n",
       "35  gauus  73384666      9      M  19      58      94      91      76     19\n",
       "39  micxs  32507584     12      M  17      62      20      95      26     67\n",
       "58  rhjkj  15745708     12      F  59      61       9      98       5     10\n",
       "81  mndro  52386329     11      M  76      88      85      91      80     44\n",
       "92  lagws  82526433     12      F  12      45      97      92      20     29\n",
       "94  jloze  30408806     10      M  19      24      73      98      48     95"
      ]
     },
     "execution_count": 28,
     "metadata": {},
     "output_type": "execute_result"
    }
   ],
   "source": [
    "df_grades[ df_grades['Test-3']>90 ]"
   ]
  },
  {
   "cell_type": "markdown",
   "id": "1723494c-8881-4455-93c8-35f6dea90298",
   "metadata": {},
   "source": [
    "**Example:** The following code selects the rows for which the grade for *Test-2* is more than 65 and the grade for *Test-3* is more than 90."
   ]
  },
  {
   "cell_type": "code",
   "execution_count": 29,
   "id": "4f2ed4b3-9726-4398-98b1-b0e2e16574a0",
   "metadata": {},
   "outputs": [
    {
     "data": {
      "text/html": [
       "<div>\n",
       "<style scoped>\n",
       "    .dataframe tbody tr th:only-of-type {\n",
       "        vertical-align: middle;\n",
       "    }\n",
       "\n",
       "    .dataframe tbody tr th {\n",
       "        vertical-align: top;\n",
       "    }\n",
       "\n",
       "    .dataframe thead th {\n",
       "        text-align: right;\n",
       "    }\n",
       "</style>\n",
       "<table border=\"1\" class=\"dataframe\">\n",
       "  <thead>\n",
       "    <tr style=\"text-align: right;\">\n",
       "      <th></th>\n",
       "      <th>Name</th>\n",
       "      <th>ID</th>\n",
       "      <th>Grade</th>\n",
       "      <th>Gender</th>\n",
       "      <th>HW</th>\n",
       "      <th>Test-1</th>\n",
       "      <th>Test-2</th>\n",
       "      <th>Test-3</th>\n",
       "      <th>Test-4</th>\n",
       "      <th>Final</th>\n",
       "    </tr>\n",
       "  </thead>\n",
       "  <tbody>\n",
       "    <tr>\n",
       "      <th>0</th>\n",
       "      <td>mqtvy</td>\n",
       "      <td>37047871</td>\n",
       "      <td>10</td>\n",
       "      <td>M</td>\n",
       "      <td>30</td>\n",
       "      <td>91</td>\n",
       "      <td>69</td>\n",
       "      <td>93</td>\n",
       "      <td>17</td>\n",
       "      <td>50</td>\n",
       "    </tr>\n",
       "    <tr>\n",
       "      <th>35</th>\n",
       "      <td>gauus</td>\n",
       "      <td>73384666</td>\n",
       "      <td>9</td>\n",
       "      <td>M</td>\n",
       "      <td>19</td>\n",
       "      <td>58</td>\n",
       "      <td>94</td>\n",
       "      <td>91</td>\n",
       "      <td>76</td>\n",
       "      <td>19</td>\n",
       "    </tr>\n",
       "    <tr>\n",
       "      <th>81</th>\n",
       "      <td>mndro</td>\n",
       "      <td>52386329</td>\n",
       "      <td>11</td>\n",
       "      <td>M</td>\n",
       "      <td>76</td>\n",
       "      <td>88</td>\n",
       "      <td>85</td>\n",
       "      <td>91</td>\n",
       "      <td>80</td>\n",
       "      <td>44</td>\n",
       "    </tr>\n",
       "    <tr>\n",
       "      <th>92</th>\n",
       "      <td>lagws</td>\n",
       "      <td>82526433</td>\n",
       "      <td>12</td>\n",
       "      <td>F</td>\n",
       "      <td>12</td>\n",
       "      <td>45</td>\n",
       "      <td>97</td>\n",
       "      <td>92</td>\n",
       "      <td>20</td>\n",
       "      <td>29</td>\n",
       "    </tr>\n",
       "    <tr>\n",
       "      <th>94</th>\n",
       "      <td>jloze</td>\n",
       "      <td>30408806</td>\n",
       "      <td>10</td>\n",
       "      <td>M</td>\n",
       "      <td>19</td>\n",
       "      <td>24</td>\n",
       "      <td>73</td>\n",
       "      <td>98</td>\n",
       "      <td>48</td>\n",
       "      <td>95</td>\n",
       "    </tr>\n",
       "  </tbody>\n",
       "</table>\n",
       "</div>"
      ],
      "text/plain": [
       "     Name        ID  Grade Gender  HW  Test-1  Test-2  Test-3  Test-4  Final\n",
       "0   mqtvy  37047871     10      M  30      91      69      93      17     50\n",
       "35  gauus  73384666      9      M  19      58      94      91      76     19\n",
       "81  mndro  52386329     11      M  76      88      85      91      80     44\n",
       "92  lagws  82526433     12      F  12      45      97      92      20     29\n",
       "94  jloze  30408806     10      M  19      24      73      98      48     95"
      ]
     },
     "execution_count": 29,
     "metadata": {},
     "output_type": "execute_result"
    }
   ],
   "source": [
    "df_grades[ (df_grades['Test-2']>65) & (df_grades['Test-3']>90) ]"
   ]
  },
  {
   "cell_type": "markdown",
   "id": "728dbc2d-25a8-4b37-a8b5-4c2642ffd8b4",
   "metadata": {},
   "source": [
    "**Example:** The following code selects the rows for which *Gender* is male and the grade for *Final* is more than 95."
   ]
  },
  {
   "cell_type": "code",
   "execution_count": 30,
   "id": "9a05fe65-9457-46e0-b7dc-1649f53d72bb",
   "metadata": {},
   "outputs": [
    {
     "data": {
      "text/html": [
       "<div>\n",
       "<style scoped>\n",
       "    .dataframe tbody tr th:only-of-type {\n",
       "        vertical-align: middle;\n",
       "    }\n",
       "\n",
       "    .dataframe tbody tr th {\n",
       "        vertical-align: top;\n",
       "    }\n",
       "\n",
       "    .dataframe thead th {\n",
       "        text-align: right;\n",
       "    }\n",
       "</style>\n",
       "<table border=\"1\" class=\"dataframe\">\n",
       "  <thead>\n",
       "    <tr style=\"text-align: right;\">\n",
       "      <th></th>\n",
       "      <th>Name</th>\n",
       "      <th>ID</th>\n",
       "      <th>Grade</th>\n",
       "      <th>Gender</th>\n",
       "      <th>HW</th>\n",
       "      <th>Test-1</th>\n",
       "      <th>Test-2</th>\n",
       "      <th>Test-3</th>\n",
       "      <th>Test-4</th>\n",
       "      <th>Final</th>\n",
       "    </tr>\n",
       "  </thead>\n",
       "  <tbody>\n",
       "    <tr>\n",
       "      <th>29</th>\n",
       "      <td>htboh</td>\n",
       "      <td>16544350</td>\n",
       "      <td>10</td>\n",
       "      <td>M</td>\n",
       "      <td>22</td>\n",
       "      <td>93</td>\n",
       "      <td>35</td>\n",
       "      <td>42</td>\n",
       "      <td>12</td>\n",
       "      <td>99</td>\n",
       "    </tr>\n",
       "    <tr>\n",
       "      <th>36</th>\n",
       "      <td>hbkmj</td>\n",
       "      <td>92596786</td>\n",
       "      <td>11</td>\n",
       "      <td>M</td>\n",
       "      <td>55</td>\n",
       "      <td>14</td>\n",
       "      <td>74</td>\n",
       "      <td>49</td>\n",
       "      <td>75</td>\n",
       "      <td>98</td>\n",
       "    </tr>\n",
       "    <tr>\n",
       "      <th>56</th>\n",
       "      <td>hnewl</td>\n",
       "      <td>2809344</td>\n",
       "      <td>12</td>\n",
       "      <td>M</td>\n",
       "      <td>4</td>\n",
       "      <td>15</td>\n",
       "      <td>45</td>\n",
       "      <td>18</td>\n",
       "      <td>27</td>\n",
       "      <td>97</td>\n",
       "    </tr>\n",
       "    <tr>\n",
       "      <th>65</th>\n",
       "      <td>yxchm</td>\n",
       "      <td>48696307</td>\n",
       "      <td>9</td>\n",
       "      <td>M</td>\n",
       "      <td>33</td>\n",
       "      <td>54</td>\n",
       "      <td>5</td>\n",
       "      <td>39</td>\n",
       "      <td>94</td>\n",
       "      <td>99</td>\n",
       "    </tr>\n",
       "    <tr>\n",
       "      <th>95</th>\n",
       "      <td>zxuaq</td>\n",
       "      <td>58332078</td>\n",
       "      <td>12</td>\n",
       "      <td>M</td>\n",
       "      <td>57</td>\n",
       "      <td>1</td>\n",
       "      <td>48</td>\n",
       "      <td>61</td>\n",
       "      <td>58</td>\n",
       "      <td>99</td>\n",
       "    </tr>\n",
       "  </tbody>\n",
       "</table>\n",
       "</div>"
      ],
      "text/plain": [
       "     Name        ID  Grade Gender  HW  Test-1  Test-2  Test-3  Test-4  Final\n",
       "29  htboh  16544350     10      M  22      93      35      42      12     99\n",
       "36  hbkmj  92596786     11      M  55      14      74      49      75     98\n",
       "56  hnewl   2809344     12      M   4      15      45      18      27     97\n",
       "65  yxchm  48696307      9      M  33      54       5      39      94     99\n",
       "95  zxuaq  58332078     12      M  57       1      48      61      58     99"
      ]
     },
     "execution_count": 30,
     "metadata": {},
     "output_type": "execute_result"
    }
   ],
   "source": [
    "df_grades[ (df_grades['Gender']=='M') & (df_grades['Final']>95) ]"
   ]
  },
  {
   "cell_type": "markdown",
   "id": "6ec17080-d678-4343-9951-7d3d254ccbc7",
   "metadata": {},
   "source": [
    "## Adding Columns and Rows"
   ]
  },
  {
   "cell_type": "markdown",
   "id": "c86a1ae9-f761-4444-a9b5-9dc01557905a",
   "metadata": {},
   "source": [
    "\n",
    "To add a new column, use `df['new_col_label'] = New column values`.\n",
    "- The length of the New column values should be equal to the number of rows to fit the DataFrame.\n",
    "\n",
    "To add a new row, use `df.loc['new_row_label'] = New row values`.\n",
    "- The length of the New row values should be equal to the number of columns to fit the DataFrame."
   ]
  },
  {
   "cell_type": "code",
   "execution_count": 31,
   "id": "a13c4dcd-f889-41e1-a67c-1b41b810af33",
   "metadata": {},
   "outputs": [
    {
     "data": {
      "text/html": [
       "<div>\n",
       "<style scoped>\n",
       "    .dataframe tbody tr th:only-of-type {\n",
       "        vertical-align: middle;\n",
       "    }\n",
       "\n",
       "    .dataframe tbody tr th {\n",
       "        vertical-align: top;\n",
       "    }\n",
       "\n",
       "    .dataframe thead th {\n",
       "        text-align: right;\n",
       "    }\n",
       "</style>\n",
       "<table border=\"1\" class=\"dataframe\">\n",
       "  <thead>\n",
       "    <tr style=\"text-align: right;\">\n",
       "      <th></th>\n",
       "      <th>State</th>\n",
       "      <th>Height</th>\n",
       "    </tr>\n",
       "  </thead>\n",
       "  <tbody>\n",
       "    <tr>\n",
       "      <th>John</th>\n",
       "      <td>NY</td>\n",
       "      <td>160</td>\n",
       "    </tr>\n",
       "    <tr>\n",
       "      <th>Liz</th>\n",
       "      <td>OK</td>\n",
       "      <td>180</td>\n",
       "    </tr>\n",
       "    <tr>\n",
       "      <th>Tim</th>\n",
       "      <td>TX</td>\n",
       "      <td>140</td>\n",
       "    </tr>\n",
       "  </tbody>\n",
       "</table>\n",
       "</div>"
      ],
      "text/plain": [
       "     State  Height\n",
       "John    NY     160\n",
       "Liz     OK     180\n",
       "Tim     TX     140"
      ]
     },
     "execution_count": 31,
     "metadata": {},
     "output_type": "execute_result"
    }
   ],
   "source": [
    "df_sh"
   ]
  },
  {
   "cell_type": "markdown",
   "id": "173ebb06-f8a2-4385-a881-60efa1f023ed",
   "metadata": {},
   "source": [
    "- To add a new column with values 150, 190, and 170 and label it 'Weight', you can use the following code:"
   ]
  },
  {
   "cell_type": "code",
   "execution_count": 32,
   "id": "e416de3d-7d56-4d44-b8a3-376a57ec47b4",
   "metadata": {},
   "outputs": [],
   "source": [
    "df_sh['Weight'] = [150, 190, 170]  # you can also use a tuple"
   ]
  },
  {
   "cell_type": "code",
   "execution_count": 33,
   "id": "d2c4f817-102b-4ad9-8998-687cb6167a5c",
   "metadata": {},
   "outputs": [
    {
     "data": {
      "text/html": [
       "<div>\n",
       "<style scoped>\n",
       "    .dataframe tbody tr th:only-of-type {\n",
       "        vertical-align: middle;\n",
       "    }\n",
       "\n",
       "    .dataframe tbody tr th {\n",
       "        vertical-align: top;\n",
       "    }\n",
       "\n",
       "    .dataframe thead th {\n",
       "        text-align: right;\n",
       "    }\n",
       "</style>\n",
       "<table border=\"1\" class=\"dataframe\">\n",
       "  <thead>\n",
       "    <tr style=\"text-align: right;\">\n",
       "      <th></th>\n",
       "      <th>State</th>\n",
       "      <th>Height</th>\n",
       "      <th>Weight</th>\n",
       "    </tr>\n",
       "  </thead>\n",
       "  <tbody>\n",
       "    <tr>\n",
       "      <th>John</th>\n",
       "      <td>NY</td>\n",
       "      <td>160</td>\n",
       "      <td>150</td>\n",
       "    </tr>\n",
       "    <tr>\n",
       "      <th>Liz</th>\n",
       "      <td>OK</td>\n",
       "      <td>180</td>\n",
       "      <td>190</td>\n",
       "    </tr>\n",
       "    <tr>\n",
       "      <th>Tim</th>\n",
       "      <td>TX</td>\n",
       "      <td>140</td>\n",
       "      <td>170</td>\n",
       "    </tr>\n",
       "  </tbody>\n",
       "</table>\n",
       "</div>"
      ],
      "text/plain": [
       "     State  Height  Weight\n",
       "John    NY     160     150\n",
       "Liz     OK     180     190\n",
       "Tim     TX     140     170"
      ]
     },
     "execution_count": 33,
     "metadata": {},
     "output_type": "execute_result"
    }
   ],
   "source": [
    "df_sh"
   ]
  },
  {
   "cell_type": "markdown",
   "id": "640d45ec-0a77-4520-9e36-70645356b6d3",
   "metadata": {},
   "source": [
    "- To add a new row with values 'Jack', 190, 185 and label it 'TX', you can use the following code:"
   ]
  },
  {
   "cell_type": "code",
   "execution_count": 34,
   "id": "8f8545cd-ae01-48b8-bab1-914dd7db6032",
   "metadata": {},
   "outputs": [],
   "source": [
    "df_sh.loc['TX'] = ['Jack', 190, 185]  # you can also use a tuple"
   ]
  },
  {
   "cell_type": "code",
   "execution_count": 35,
   "id": "19f8f23c-076f-4205-8298-f1b6fc8a2768",
   "metadata": {
    "scrolled": true
   },
   "outputs": [
    {
     "data": {
      "text/html": [
       "<div>\n",
       "<style scoped>\n",
       "    .dataframe tbody tr th:only-of-type {\n",
       "        vertical-align: middle;\n",
       "    }\n",
       "\n",
       "    .dataframe tbody tr th {\n",
       "        vertical-align: top;\n",
       "    }\n",
       "\n",
       "    .dataframe thead th {\n",
       "        text-align: right;\n",
       "    }\n",
       "</style>\n",
       "<table border=\"1\" class=\"dataframe\">\n",
       "  <thead>\n",
       "    <tr style=\"text-align: right;\">\n",
       "      <th></th>\n",
       "      <th>State</th>\n",
       "      <th>Height</th>\n",
       "      <th>Weight</th>\n",
       "    </tr>\n",
       "  </thead>\n",
       "  <tbody>\n",
       "    <tr>\n",
       "      <th>John</th>\n",
       "      <td>NY</td>\n",
       "      <td>160</td>\n",
       "      <td>150</td>\n",
       "    </tr>\n",
       "    <tr>\n",
       "      <th>Liz</th>\n",
       "      <td>OK</td>\n",
       "      <td>180</td>\n",
       "      <td>190</td>\n",
       "    </tr>\n",
       "    <tr>\n",
       "      <th>Tim</th>\n",
       "      <td>TX</td>\n",
       "      <td>140</td>\n",
       "      <td>170</td>\n",
       "    </tr>\n",
       "    <tr>\n",
       "      <th>TX</th>\n",
       "      <td>Jack</td>\n",
       "      <td>190</td>\n",
       "      <td>185</td>\n",
       "    </tr>\n",
       "  </tbody>\n",
       "</table>\n",
       "</div>"
      ],
      "text/plain": [
       "     State  Height  Weight\n",
       "John    NY     160     150\n",
       "Liz     OK     180     190\n",
       "Tim     TX     140     170\n",
       "TX    Jack     190     185"
      ]
     },
     "execution_count": 35,
     "metadata": {},
     "output_type": "execute_result"
    }
   ],
   "source": [
    "df_sh"
   ]
  },
  {
   "cell_type": "markdown",
   "id": "61307b50-ba75-4b23-983c-a72b3cfceb89",
   "metadata": {},
   "source": [
    "## Vectorized Operations\n",
    "Vectorized operations can be performed using the columns of a DataFrame, meaning that a single algebraic operation, such as addition (+), can be executed for each row."
   ]
  },
  {
   "cell_type": "code",
   "execution_count": 36,
   "id": "b2e1f728-5be2-4478-9d37-5c12f12504fe",
   "metadata": {},
   "outputs": [
    {
     "data": {
      "text/html": [
       "<div>\n",
       "<style scoped>\n",
       "    .dataframe tbody tr th:only-of-type {\n",
       "        vertical-align: middle;\n",
       "    }\n",
       "\n",
       "    .dataframe tbody tr th {\n",
       "        vertical-align: top;\n",
       "    }\n",
       "\n",
       "    .dataframe thead th {\n",
       "        text-align: right;\n",
       "    }\n",
       "</style>\n",
       "<table border=\"1\" class=\"dataframe\">\n",
       "  <thead>\n",
       "    <tr style=\"text-align: right;\">\n",
       "      <th></th>\n",
       "      <th>Name</th>\n",
       "      <th>ID</th>\n",
       "      <th>Grade</th>\n",
       "      <th>Gender</th>\n",
       "      <th>HW</th>\n",
       "      <th>Test-1</th>\n",
       "      <th>Test-2</th>\n",
       "      <th>Test-3</th>\n",
       "      <th>Test-4</th>\n",
       "      <th>Final</th>\n",
       "    </tr>\n",
       "  </thead>\n",
       "  <tbody>\n",
       "    <tr>\n",
       "      <th>0</th>\n",
       "      <td>mqtvy</td>\n",
       "      <td>37047871</td>\n",
       "      <td>10</td>\n",
       "      <td>M</td>\n",
       "      <td>30</td>\n",
       "      <td>91</td>\n",
       "      <td>69</td>\n",
       "      <td>93</td>\n",
       "      <td>17</td>\n",
       "      <td>50</td>\n",
       "    </tr>\n",
       "    <tr>\n",
       "      <th>1</th>\n",
       "      <td>jbbsx</td>\n",
       "      <td>35439616</td>\n",
       "      <td>11</td>\n",
       "      <td>F</td>\n",
       "      <td>6</td>\n",
       "      <td>18</td>\n",
       "      <td>93</td>\n",
       "      <td>9</td>\n",
       "      <td>98</td>\n",
       "      <td>91</td>\n",
       "    </tr>\n",
       "    <tr>\n",
       "      <th>2</th>\n",
       "      <td>mrvab</td>\n",
       "      <td>35543247</td>\n",
       "      <td>11</td>\n",
       "      <td>M</td>\n",
       "      <td>78</td>\n",
       "      <td>92</td>\n",
       "      <td>60</td>\n",
       "      <td>43</td>\n",
       "      <td>34</td>\n",
       "      <td>26</td>\n",
       "    </tr>\n",
       "    <tr>\n",
       "      <th>3</th>\n",
       "      <td>bjyve</td>\n",
       "      <td>61282135</td>\n",
       "      <td>9</td>\n",
       "      <td>M</td>\n",
       "      <td>60</td>\n",
       "      <td>8</td>\n",
       "      <td>10</td>\n",
       "      <td>99</td>\n",
       "      <td>80</td>\n",
       "      <td>87</td>\n",
       "    </tr>\n",
       "    <tr>\n",
       "      <th>4</th>\n",
       "      <td>rlpsr</td>\n",
       "      <td>53448034</td>\n",
       "      <td>10</td>\n",
       "      <td>M</td>\n",
       "      <td>3</td>\n",
       "      <td>38</td>\n",
       "      <td>45</td>\n",
       "      <td>43</td>\n",
       "      <td>79</td>\n",
       "      <td>69</td>\n",
       "    </tr>\n",
       "  </tbody>\n",
       "</table>\n",
       "</div>"
      ],
      "text/plain": [
       "    Name        ID  Grade Gender  HW  Test-1  Test-2  Test-3  Test-4  Final\n",
       "0  mqtvy  37047871     10      M  30      91      69      93      17     50\n",
       "1  jbbsx  35439616     11      F   6      18      93       9      98     91\n",
       "2  mrvab  35543247     11      M  78      92      60      43      34     26\n",
       "3  bjyve  61282135      9      M  60       8      10      99      80     87\n",
       "4  rlpsr  53448034     10      M   3      38      45      43      79     69"
      ]
     },
     "execution_count": 36,
     "metadata": {},
     "output_type": "execute_result"
    }
   ],
   "source": [
    "df_grades.head()"
   ]
  },
  {
   "cell_type": "code",
   "execution_count": 37,
   "id": "5df841ad-1232-4331-8413-3cf5359e26da",
   "metadata": {},
   "outputs": [
    {
     "data": {
      "text/plain": [
       "0     160\n",
       "1     111\n",
       "2     152\n",
       "3      18\n",
       "4      83\n",
       "     ... \n",
       "95     49\n",
       "96     78\n",
       "97     87\n",
       "98    116\n",
       "99     88\n",
       "Length: 100, dtype: int64"
      ]
     },
     "execution_count": 37,
     "metadata": {},
     "output_type": "execute_result"
    }
   ],
   "source": [
    "# sum of Test-1 and Test-2 grades for each student\n",
    "df_grades['Test-1'] + df_grades['Test-2']"
   ]
  },
  {
   "cell_type": "code",
   "execution_count": 38,
   "id": "ac5cb32b-bb61-4b95-8f96-08e9ec570d89",
   "metadata": {},
   "outputs": [
    {
     "data": {
      "text/plain": [
       "0     22\n",
       "1    -75\n",
       "2     32\n",
       "3     -2\n",
       "4     -7\n",
       "      ..\n",
       "95   -47\n",
       "96   -18\n",
       "97   -57\n",
       "98   -84\n",
       "99    60\n",
       "Length: 100, dtype: int64"
      ]
     },
     "execution_count": 38,
     "metadata": {},
     "output_type": "execute_result"
    }
   ],
   "source": [
    "# difference of Test-1 and Test-2 grades for each student\n",
    "df_grades['Test-1'] - df_grades['Test-2']"
   ]
  },
  {
   "cell_type": "code",
   "execution_count": 39,
   "id": "6ca8360b-937c-4fc8-93af-cb302ed2ab13",
   "metadata": {},
   "outputs": [
    {
     "data": {
      "text/plain": [
       "0     182\n",
       "1      36\n",
       "2     184\n",
       "3      16\n",
       "4      76\n",
       "     ... \n",
       "95      2\n",
       "96     60\n",
       "97     30\n",
       "98     32\n",
       "99    148\n",
       "Name: Test-1, Length: 100, dtype: int64"
      ]
     },
     "execution_count": 39,
     "metadata": {},
     "output_type": "execute_result"
    }
   ],
   "source": [
    "# twice the Test-1 grades\n",
    "2*df_grades['Test-1']"
   ]
  },
  {
   "cell_type": "markdown",
   "id": "91157ada-fe7d-494f-a6c6-dabff911af0f",
   "metadata": {},
   "source": [
    "To calculate the weighted average using the following formula and add it as a new column:\n",
    "- Weighted Average $= 0.1\\times HW + 0.15\\times Test1+ 0.15\\times Test2+ 0.15\\times Test3+ 0.15\\times Test4+0.3\\times Final$"
   ]
  },
  {
   "cell_type": "code",
   "execution_count": 40,
   "id": "efc57957-413d-4a6e-8277-a43061d7487d",
   "metadata": {},
   "outputs": [],
   "source": [
    "df_grades['Weighted Average'] = 0.1*df_grades['HW']+0.15*df_grades['Test-1']+0.15*df_grades['Test-2']+0.15*df_grades['Test-3']+0.15*df_grades['Test-4']+0.3*df_grades['Final'] "
   ]
  },
  {
   "cell_type": "code",
   "execution_count": 41,
   "id": "3b0acff2-c5fc-43ab-9678-979146efd8f3",
   "metadata": {},
   "outputs": [
    {
     "data": {
      "text/html": [
       "<div>\n",
       "<style scoped>\n",
       "    .dataframe tbody tr th:only-of-type {\n",
       "        vertical-align: middle;\n",
       "    }\n",
       "\n",
       "    .dataframe tbody tr th {\n",
       "        vertical-align: top;\n",
       "    }\n",
       "\n",
       "    .dataframe thead th {\n",
       "        text-align: right;\n",
       "    }\n",
       "</style>\n",
       "<table border=\"1\" class=\"dataframe\">\n",
       "  <thead>\n",
       "    <tr style=\"text-align: right;\">\n",
       "      <th></th>\n",
       "      <th>Name</th>\n",
       "      <th>ID</th>\n",
       "      <th>Grade</th>\n",
       "      <th>Gender</th>\n",
       "      <th>HW</th>\n",
       "      <th>Test-1</th>\n",
       "      <th>Test-2</th>\n",
       "      <th>Test-3</th>\n",
       "      <th>Test-4</th>\n",
       "      <th>Final</th>\n",
       "      <th>Weighted Average</th>\n",
       "    </tr>\n",
       "  </thead>\n",
       "  <tbody>\n",
       "    <tr>\n",
       "      <th>0</th>\n",
       "      <td>mqtvy</td>\n",
       "      <td>37047871</td>\n",
       "      <td>10</td>\n",
       "      <td>M</td>\n",
       "      <td>30</td>\n",
       "      <td>91</td>\n",
       "      <td>69</td>\n",
       "      <td>93</td>\n",
       "      <td>17</td>\n",
       "      <td>50</td>\n",
       "      <td>58.50</td>\n",
       "    </tr>\n",
       "    <tr>\n",
       "      <th>1</th>\n",
       "      <td>jbbsx</td>\n",
       "      <td>35439616</td>\n",
       "      <td>11</td>\n",
       "      <td>F</td>\n",
       "      <td>6</td>\n",
       "      <td>18</td>\n",
       "      <td>93</td>\n",
       "      <td>9</td>\n",
       "      <td>98</td>\n",
       "      <td>91</td>\n",
       "      <td>60.60</td>\n",
       "    </tr>\n",
       "    <tr>\n",
       "      <th>2</th>\n",
       "      <td>mrvab</td>\n",
       "      <td>35543247</td>\n",
       "      <td>11</td>\n",
       "      <td>M</td>\n",
       "      <td>78</td>\n",
       "      <td>92</td>\n",
       "      <td>60</td>\n",
       "      <td>43</td>\n",
       "      <td>34</td>\n",
       "      <td>26</td>\n",
       "      <td>49.95</td>\n",
       "    </tr>\n",
       "    <tr>\n",
       "      <th>3</th>\n",
       "      <td>bjyve</td>\n",
       "      <td>61282135</td>\n",
       "      <td>9</td>\n",
       "      <td>M</td>\n",
       "      <td>60</td>\n",
       "      <td>8</td>\n",
       "      <td>10</td>\n",
       "      <td>99</td>\n",
       "      <td>80</td>\n",
       "      <td>87</td>\n",
       "      <td>61.65</td>\n",
       "    </tr>\n",
       "    <tr>\n",
       "      <th>4</th>\n",
       "      <td>rlpsr</td>\n",
       "      <td>53448034</td>\n",
       "      <td>10</td>\n",
       "      <td>M</td>\n",
       "      <td>3</td>\n",
       "      <td>38</td>\n",
       "      <td>45</td>\n",
       "      <td>43</td>\n",
       "      <td>79</td>\n",
       "      <td>69</td>\n",
       "      <td>51.75</td>\n",
       "    </tr>\n",
       "  </tbody>\n",
       "</table>\n",
       "</div>"
      ],
      "text/plain": [
       "    Name        ID  Grade Gender  HW  Test-1  Test-2  Test-3  Test-4  Final  \\\n",
       "0  mqtvy  37047871     10      M  30      91      69      93      17     50   \n",
       "1  jbbsx  35439616     11      F   6      18      93       9      98     91   \n",
       "2  mrvab  35543247     11      M  78      92      60      43      34     26   \n",
       "3  bjyve  61282135      9      M  60       8      10      99      80     87   \n",
       "4  rlpsr  53448034     10      M   3      38      45      43      79     69   \n",
       "\n",
       "   Weighted Average  \n",
       "0             58.50  \n",
       "1             60.60  \n",
       "2             49.95  \n",
       "3             61.65  \n",
       "4             51.75  "
      ]
     },
     "execution_count": 41,
     "metadata": {},
     "output_type": "execute_result"
    }
   ],
   "source": [
    "df_grades.head()"
   ]
  },
  {
   "cell_type": "markdown",
   "id": "4e9a2299-1888-4d2a-9d92-9217e2fd85d6",
   "metadata": {},
   "source": [
    "## Iterations and Dataframes\n",
    "\n",
    "DataFrames can be iterated through using their row and column labels or indexes. Here's how you can access them:\n",
    "- Use df.index for row labels.\n",
    "- Use df.columns for column labels.\n",
    "- Use range(len(df)) or range(df.shape[0]) for row indexes.\n",
    "- Use range(df.shape[1]) for column indexes."
   ]
  },
  {
   "cell_type": "code",
   "execution_count": 42,
   "id": "bc6b55fa-1131-4ddb-b4b3-f11ebeeaace0",
   "metadata": {},
   "outputs": [
    {
     "data": {
      "text/html": [
       "<div>\n",
       "<style scoped>\n",
       "    .dataframe tbody tr th:only-of-type {\n",
       "        vertical-align: middle;\n",
       "    }\n",
       "\n",
       "    .dataframe tbody tr th {\n",
       "        vertical-align: top;\n",
       "    }\n",
       "\n",
       "    .dataframe thead th {\n",
       "        text-align: right;\n",
       "    }\n",
       "</style>\n",
       "<table border=\"1\" class=\"dataframe\">\n",
       "  <thead>\n",
       "    <tr style=\"text-align: right;\">\n",
       "      <th></th>\n",
       "      <th>State</th>\n",
       "      <th>Height</th>\n",
       "      <th>Weight</th>\n",
       "    </tr>\n",
       "  </thead>\n",
       "  <tbody>\n",
       "    <tr>\n",
       "      <th>John</th>\n",
       "      <td>NY</td>\n",
       "      <td>160</td>\n",
       "      <td>150</td>\n",
       "    </tr>\n",
       "    <tr>\n",
       "      <th>Liz</th>\n",
       "      <td>OK</td>\n",
       "      <td>180</td>\n",
       "      <td>190</td>\n",
       "    </tr>\n",
       "    <tr>\n",
       "      <th>Tim</th>\n",
       "      <td>TX</td>\n",
       "      <td>140</td>\n",
       "      <td>170</td>\n",
       "    </tr>\n",
       "    <tr>\n",
       "      <th>TX</th>\n",
       "      <td>Jack</td>\n",
       "      <td>190</td>\n",
       "      <td>185</td>\n",
       "    </tr>\n",
       "  </tbody>\n",
       "</table>\n",
       "</div>"
      ],
      "text/plain": [
       "     State  Height  Weight\n",
       "John    NY     160     150\n",
       "Liz     OK     180     190\n",
       "Tim     TX     140     170\n",
       "TX    Jack     190     185"
      ]
     },
     "execution_count": 42,
     "metadata": {},
     "output_type": "execute_result"
    }
   ],
   "source": [
    "df_sh"
   ]
  },
  {
   "cell_type": "code",
   "execution_count": 43,
   "id": "b5c09f55-dd38-4a58-9dcf-8c821d16998d",
   "metadata": {},
   "outputs": [
    {
     "name": "stdout",
     "output_type": "stream",
     "text": [
      "John\n",
      "Liz\n",
      "Tim\n",
      "TX\n"
     ]
    }
   ],
   "source": [
    "# row labels\n",
    "for row in df_sh.index:\n",
    "    print(row)"
   ]
  },
  {
   "cell_type": "code",
   "execution_count": 44,
   "id": "4dabac12-75d6-4d5d-93fc-d8fe96e9b180",
   "metadata": {},
   "outputs": [
    {
     "name": "stdout",
     "output_type": "stream",
     "text": [
      "State\n",
      "Height\n",
      "Weight\n"
     ]
    }
   ],
   "source": [
    "# column labels\n",
    "for col in df_sh.columns:\n",
    "    print(col)"
   ]
  },
  {
   "cell_type": "code",
   "execution_count": 45,
   "id": "ef48e014-93f0-4007-8a8d-8e13332db8cd",
   "metadata": {},
   "outputs": [
    {
     "name": "stdout",
     "output_type": "stream",
     "text": [
      "NY\n",
      "160\n",
      "150\n",
      "OK\n",
      "180\n",
      "190\n",
      "TX\n",
      "140\n",
      "170\n",
      "Jack\n",
      "190\n",
      "185\n"
     ]
    }
   ],
   "source": [
    "# access all values using the row and column labels\n",
    "for row in df_sh.index:\n",
    "    for col in df_sh.columns:\n",
    "        print(df_sh.loc[row, col])"
   ]
  },
  {
   "cell_type": "code",
   "execution_count": 46,
   "id": "f915156f-1a66-4405-b2c4-4b253c058057",
   "metadata": {},
   "outputs": [
    {
     "name": "stdout",
     "output_type": "stream",
     "text": [
      "0\n",
      "1\n",
      "2\n",
      "3\n"
     ]
    }
   ],
   "source": [
    "for i in range(df_sh.shape[0]):    # you can also use len(df_sh)\n",
    "    print(i)"
   ]
  },
  {
   "cell_type": "code",
   "execution_count": 47,
   "id": "7e79f9d9-2a51-4d9d-8462-6192af81d72f",
   "metadata": {},
   "outputs": [
    {
     "name": "stdout",
     "output_type": "stream",
     "text": [
      "0\n",
      "1\n",
      "2\n"
     ]
    }
   ],
   "source": [
    "# column indexes\n",
    "for j in range(df_sh.shape[1]):\n",
    "    print(j)"
   ]
  },
  {
   "cell_type": "code",
   "execution_count": 48,
   "id": "5280c38c-495d-42e0-8b03-9090daa7e461",
   "metadata": {},
   "outputs": [
    {
     "name": "stdout",
     "output_type": "stream",
     "text": [
      "NY\n",
      "160\n",
      "150\n",
      "OK\n",
      "180\n",
      "190\n",
      "TX\n",
      "140\n",
      "170\n",
      "Jack\n",
      "190\n",
      "185\n"
     ]
    }
   ],
   "source": [
    "# access all values using the row and column indexes\n",
    "for i in range(df_sh.shape[0]):\n",
    "    for j in range(df_sh.shape[1]):\n",
    "        print(df_sh.iloc[i,j])"
   ]
  },
  {
   "cell_type": "markdown",
   "id": "110e943a-bc7c-493b-9c51-7665f3e40b96",
   "metadata": {},
   "source": [
    "## Saving Dataframes"
   ]
  },
  {
   "cell_type": "markdown",
   "id": "a0055c52-418b-40d8-abd6-fd52b2eecf7f",
   "metadata": {},
   "source": [
    "### Google Colab"
   ]
  },
  {
   "cell_type": "markdown",
   "id": "48cf3f86-bebe-4ed2-b748-ed8c1bc37264",
   "metadata": {},
   "source": [
    "1. You need to mount to establish the connection between your Google Drive and Google Colab notebook using the following code.\n",
    "``` python\n",
    "from google.colab import drive\n",
    "drive.mount('/content/drive')\n",
    "```\n",
    "2. You can save your DataFrame as an Excel or CSV file using the path of the folder where you want to save it.\n",
    "``` python \n",
    "  df_sh.to_excel('/content/drive/My Drive/data_files/state_and_height.xlsx')\n",
    "```\n",
    "- In the code above, *data_files* is a folder in My Drive.\n",
    "- The DataFrame *df_sh* is saved as an Excel file in the data_files folder, and the name of the Excel file is *state_and_height*."
   ]
  },
  {
   "cell_type": "markdown",
   "id": "3966a4e3-fe31-45e8-8a4a-3ad81caf3ace",
   "metadata": {},
   "source": [
    "### Jupyter Notebook\n",
    "\n",
    "The following codes will save your DataFrame as an Excel or CSV file inside the folder where your Jupyter notebook is located.  You can use the same codes with other editors, including Spider and PyCharm.\n",
    "- *name of dataframe.to_excel('name of the excel file.xlsx')*\n",
    "- *name of dataframe.to_csv('name of the csv file.csv')*"
   ]
  },
  {
   "cell_type": "code",
   "execution_count": 49,
   "id": "0947dd14-5b07-4e81-9983-d0e9c59023d4",
   "metadata": {},
   "outputs": [],
   "source": [
    "# save as an excel file\n",
    "df_sh.to_excel('state_and_height.xlsx')"
   ]
  },
  {
   "cell_type": "code",
   "execution_count": 50,
   "id": "d551e3d2-5c4d-4a98-a322-ba7898e954f9",
   "metadata": {},
   "outputs": [],
   "source": [
    "#save as a csv file\n",
    "df_sh.to_csv('state_and_height.csv')"
   ]
  },
  {
   "cell_type": "markdown",
   "id": "86b2c52d-eee2-4660-9795-1bb4695fa665",
   "metadata": {
    "scrolled": true
   },
   "source": [
    "\n",
    "- If you want to save your DataFrame in a different folder, you need to provide the path.\n",
    "- The following code saves the DataFrame as a CSV file in a folder called data_files:"
   ]
  },
  {
   "cell_type": "code",
   "execution_count": 51,
   "id": "ef9dfeae-1ad8-485d-bed0-e150e891b558",
   "metadata": {},
   "outputs": [],
   "source": [
    "df_sh.to_csv('data_files/state_and_height.csv')"
   ]
  }
 ],
 "metadata": {
  "kernelspec": {
   "display_name": "Python 3 (ipykernel)",
   "language": "python",
   "name": "python3"
  },
  "language_info": {
   "codemirror_mode": {
    "name": "ipython",
    "version": 3
   },
   "file_extension": ".py",
   "mimetype": "text/x-python",
   "name": "python",
   "nbconvert_exporter": "python",
   "pygments_lexer": "ipython3",
   "version": "3.11.7"
  }
 },
 "nbformat": 4,
 "nbformat_minor": 5
}
