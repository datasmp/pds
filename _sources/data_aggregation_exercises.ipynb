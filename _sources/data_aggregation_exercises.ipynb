{
 "cells": [
  {
   "cell_type": "markdown",
   "id": "4f0fd273-b183-4a12-acfc-d91a5ac7c039",
   "metadata": {},
   "source": [
    "## Data Aggregation Exercises\n",
    "![Warning Message: Under Construction](pict/under_construction.png)"
   ]
  },
  {
   "cell_type": "code",
   "execution_count": null,
   "id": "4d01edd3-5cac-4cd1-99e2-382a5a6790a1",
   "metadata": {},
   "outputs": [],
   "source": []
  }
 ],
 "metadata": {
  "kernelspec": {
   "display_name": "Python 3 (ipykernel)",
   "language": "python",
   "name": "python3"
  },
  "language_info": {
   "codemirror_mode": {
    "name": "ipython",
    "version": 3
   },
   "file_extension": ".py",
   "mimetype": "text/x-python",
   "name": "python",
   "nbconvert_exporter": "python",
   "pygments_lexer": "ipython3",
   "version": "3.11.8"
  }
 },
 "nbformat": 4,
 "nbformat_minor": 5
}
