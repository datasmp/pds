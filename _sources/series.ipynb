{
 "cells": [
  {
   "cell_type": "markdown",
   "id": "188d3cd9-4bbd-4af5-b050-fe11affca2ab",
   "metadata": {},
   "source": [
    "# Series\n",
    "\n",
    "![](title_pict/series2.png)\n",
    "\n",
    "A Series is a one-dimensional data structure in the Pandas library, distinguished by a labeled axis for rows.\n",
    "- It resembles a column in a table, with row labels referred to as the index.\n",
    "- A Series can contain data of any type.\n",
    "- It supports vectorized operations, allowing efficient computations across rows or columns, and facilitates data visualization.\n",
    "- The Pandas library is typically imported with the abbreviation pd for brevity in code: import pandas as pd."
   ]
  },
  {
   "cell_type": "markdown",
   "id": "581eb9fa-c525-4b07-a7b3-7a640b0ae335",
   "metadata": {},
   "source": [
    "## Create Series"
   ]
  },
  {
   "cell_type": "markdown",
   "id": "3428f927-b50b-4949-917b-93709ce5b645",
   "metadata": {},
   "source": [
    "- You can use a tuple, list, or numpy array to create a Series.\n",
    "- Use `pd.Series()` to create a series.\n",
    "- When using pd.Series(), you can provide row labels. If they are not provided, default values $0, 1, 2, \\ldots$ are used.\n",
    "- The name parameter allows you to assign a name to the Series."
   ]
  },
  {
   "cell_type": "code",
   "execution_count": 99,
   "id": "b48a14d2-8ad1-4e0d-9ebc-23b74f9ed0aa",
   "metadata": {},
   "outputs": [],
   "source": [
    "import pandas as pd"
   ]
  },
  {
   "cell_type": "code",
   "execution_count": 100,
   "id": "e16aa3f3-3201-4d5f-8a79-9c7f9329fbef",
   "metadata": {},
   "outputs": [
    {
     "data": {
      "text/plain": [
       "0    NJ\n",
       "1    NY\n",
       "2    TX\n",
       "3    AZ\n",
       "4    MO\n",
       "dtype: object"
      ]
     },
     "execution_count": 100,
     "metadata": {},
     "output_type": "execute_result"
    }
   ],
   "source": [
    "state_tuple = ('NJ', 'NY', 'TX', 'AZ', 'MO')\n",
    "pd.Series(state_tuple)"
   ]
  },
  {
   "cell_type": "code",
   "execution_count": 101,
   "id": "6592d2a7-cab3-49b0-9441-99e3939c4969",
   "metadata": {},
   "outputs": [
    {
     "data": {
      "text/plain": [
       "0    NJ\n",
       "1    NY\n",
       "2    TX\n",
       "3    AZ\n",
       "4    MO\n",
       "dtype: object"
      ]
     },
     "execution_count": 101,
     "metadata": {},
     "output_type": "execute_result"
    }
   ],
   "source": [
    "state_list = ['NJ', 'NY', 'TX', 'AZ', 'MO']\n",
    "pd.Series(state_list)"
   ]
  },
  {
   "cell_type": "code",
   "execution_count": 102,
   "id": "5baca4c3-990f-4022-9da9-9267a8699913",
   "metadata": {},
   "outputs": [
    {
     "data": {
      "text/plain": [
       "0    NJ\n",
       "1    NY\n",
       "2    TX\n",
       "3    AZ\n",
       "4    MO\n",
       "dtype: object"
      ]
     },
     "execution_count": 102,
     "metadata": {},
     "output_type": "execute_result"
    }
   ],
   "source": [
    "import numpy as np\n",
    "state_array = np.array(['NJ', 'NY', 'TX', 'AZ', 'MO'])\n",
    "pd.Series(state_array)"
   ]
  },
  {
   "cell_type": "markdown",
   "id": "70d76eed-2d3e-40c0-a82d-a9940fb004d6",
   "metadata": {},
   "source": [
    "- You can provide row labels using the index parameter."
   ]
  },
  {
   "cell_type": "code",
   "execution_count": 103,
   "id": "c363c95d-0c0a-45df-8a18-68f574435fb0",
   "metadata": {},
   "outputs": [
    {
     "data": {
      "text/plain": [
       "S-1    NJ\n",
       "S-2    NY\n",
       "S-3    TX\n",
       "S-4    AZ\n",
       "S-5    MO\n",
       "dtype: object"
      ]
     },
     "execution_count": 103,
     "metadata": {},
     "output_type": "execute_result"
    }
   ],
   "source": [
    "pd.Series( state_list  , index=['S-1', 'S-2', 'S-3', 'S-4', 'S-5'])"
   ]
  },
  {
   "cell_type": "markdown",
   "id": "33080ae2-57ea-421b-8173-02856ed406ee",
   "metadata": {},
   "source": [
    "- You can assign a name to the Series using the name parameter."
   ]
  },
  {
   "cell_type": "code",
   "execution_count": 104,
   "id": "7832be88-ba20-4c58-ac14-04f4b4cd1940",
   "metadata": {},
   "outputs": [
    {
     "data": {
      "text/plain": [
       "S-1    NJ\n",
       "S-2    NY\n",
       "S-3    TX\n",
       "S-4    AZ\n",
       "S-5    MO\n",
       "Name: States, dtype: object"
      ]
     },
     "execution_count": 104,
     "metadata": {},
     "output_type": "execute_result"
    }
   ],
   "source": [
    "pd.Series( state_list , index=['S-1', 'S-2', 'S-3', 'S-4', 'S-5'], name='States')"
   ]
  },
  {
   "cell_type": "markdown",
   "id": "56b10763-d392-4711-adbf-b2e6394cb33f",
   "metadata": {},
   "source": [
    "## Accessing values\n",
    "- Square brackets, along with the loc and iloc operators, can be used to access values in a Series.\n",
    "    - For row labels: Use loc[row label].\n",
    "    - For row indexes: Use iloc[row index].\n",
    "\n",
    "- We will use the following Series."
   ]
  },
  {
   "cell_type": "code",
   "execution_count": 105,
   "id": "2ec7891a-c505-4a67-a97a-4d381bd68af9",
   "metadata": {},
   "outputs": [
    {
     "data": {
      "text/plain": [
       "S-1    NJ\n",
       "S-2    NY\n",
       "S-3    TX\n",
       "S-4    AZ\n",
       "S-5    MO\n",
       "Name: States, dtype: object"
      ]
     },
     "execution_count": 105,
     "metadata": {},
     "output_type": "execute_result"
    }
   ],
   "source": [
    "state_series = pd.Series( state_list , index=['S-1', 'S-2', 'S-3', 'S-4', 'S-5'], name='States')\n",
    "state_series"
   ]
  },
  {
   "cell_type": "markdown",
   "id": "e3699c82-6638-4d3b-a7b1-75003a688415",
   "metadata": {},
   "source": [
    "- The square brackets can be used to access single or multiple rows using row labels."
   ]
  },
  {
   "cell_type": "code",
   "execution_count": 106,
   "id": "3bd27bfa-4708-427d-beb1-ab871c102612",
   "metadata": {},
   "outputs": [
    {
     "data": {
      "text/plain": [
       "'TX'"
      ]
     },
     "execution_count": 106,
     "metadata": {},
     "output_type": "execute_result"
    }
   ],
   "source": [
    "# row with label 'S-3'\n",
    "state_series['S-3']"
   ]
  },
  {
   "cell_type": "code",
   "execution_count": 107,
   "id": "3c98569d-f9f4-4d4a-8da3-307755130eea",
   "metadata": {},
   "outputs": [
    {
     "data": {
      "text/plain": [
       "S-3    TX\n",
       "S-4    AZ\n",
       "Name: States, dtype: object"
      ]
     },
     "execution_count": 107,
     "metadata": {},
     "output_type": "execute_result"
    }
   ],
   "source": [
    "state_series[['S-3','S-4']]"
   ]
  },
  {
   "cell_type": "markdown",
   "id": "f4114615-dad0-4a99-8de1-ad731b90db4d",
   "metadata": {},
   "source": [
    "- The `loc` operator also can be used to access single or multiple rows using row labels."
   ]
  },
  {
   "cell_type": "code",
   "execution_count": 108,
   "id": "486dc3ff-7516-4f80-88c7-f8179ba3ea95",
   "metadata": {},
   "outputs": [
    {
     "data": {
      "text/plain": [
       "'TX'"
      ]
     },
     "execution_count": 108,
     "metadata": {},
     "output_type": "execute_result"
    }
   ],
   "source": [
    "# row with label 'S-3'\n",
    "state_series.loc['S-3']"
   ]
  },
  {
   "cell_type": "code",
   "execution_count": 109,
   "id": "edb593e8-8b65-46a6-8b41-fe6509ce4029",
   "metadata": {},
   "outputs": [
    {
     "data": {
      "text/plain": [
       "S-3    TX\n",
       "S-4    AZ\n",
       "Name: States, dtype: object"
      ]
     },
     "execution_count": 109,
     "metadata": {},
     "output_type": "execute_result"
    }
   ],
   "source": [
    "# rows with labels 'S-3' and 'S-4'\n",
    "state_series.loc[['S-3','S-4']]"
   ]
  },
  {
   "cell_type": "code",
   "execution_count": 110,
   "id": "3791f272-8227-4e23-b6f2-784c9a988564",
   "metadata": {},
   "outputs": [
    {
     "data": {
      "text/plain": [
       "'AZ'"
      ]
     },
     "execution_count": 110,
     "metadata": {},
     "output_type": "execute_result"
    }
   ],
   "source": [
    "state_series.iloc[3]"
   ]
  },
  {
   "cell_type": "markdown",
   "id": "23e7237f-6e7b-495f-b7a2-7cc79388db75",
   "metadata": {},
   "source": [
    "- The `iloc` operator can be used to access single or multiple rows using row indexes."
   ]
  },
  {
   "cell_type": "code",
   "execution_count": 111,
   "id": "2a38cd2b-b099-4532-90b5-d6b323daf2e9",
   "metadata": {},
   "outputs": [
    {
     "data": {
      "text/plain": [
       "'TX'"
      ]
     },
     "execution_count": 111,
     "metadata": {},
     "output_type": "execute_result"
    }
   ],
   "source": [
    "# row with index 2\n",
    "state_series.iloc[2]"
   ]
  },
  {
   "cell_type": "code",
   "execution_count": 112,
   "id": "1092585a-0a93-4fb8-b0aa-a5a3d6a1fc5a",
   "metadata": {
    "scrolled": true
   },
   "outputs": [
    {
     "data": {
      "text/plain": [
       "S-3    TX\n",
       "S-4    AZ\n",
       "Name: States, dtype: object"
      ]
     },
     "execution_count": 112,
     "metadata": {},
     "output_type": "execute_result"
    }
   ],
   "source": [
    "# rows with indexes 2 and 3\n",
    "state_series.iloc[[2,3]]"
   ]
  },
  {
   "cell_type": "markdown",
   "id": "349a0588-a07f-4911-81bf-add2fcaf72cd",
   "metadata": {},
   "source": [
    "## Slicing\n",
    "- Square brackets, along with the loc and iloc operators, and the colon (:), can be used to access a slice in a Series.\n",
    "- When using square brackets or the loc operator, the value corresponding to the end label is included. However, with the iloc operator, the value corresponding to the end index is not included."
   ]
  },
  {
   "cell_type": "code",
   "execution_count": 113,
   "id": "ef25f29a-bf19-481a-a817-c0f45ac8a8a7",
   "metadata": {},
   "outputs": [
    {
     "data": {
      "text/plain": [
       "S-1    NJ\n",
       "S-2    NY\n",
       "S-3    TX\n",
       "S-4    AZ\n",
       "S-5    MO\n",
       "Name: States, dtype: object"
      ]
     },
     "execution_count": 113,
     "metadata": {},
     "output_type": "execute_result"
    }
   ],
   "source": [
    "state_series"
   ]
  },
  {
   "cell_type": "code",
   "execution_count": 114,
   "id": "66cf0e09-b783-4724-8869-d3d372f07d53",
   "metadata": {},
   "outputs": [
    {
     "data": {
      "text/plain": [
       "S-2    NY\n",
       "S-3    TX\n",
       "S-4    AZ\n",
       "Name: States, dtype: object"
      ]
     },
     "execution_count": 114,
     "metadata": {},
     "output_type": "execute_result"
    }
   ],
   "source": [
    "# rows with labels: 'S-2', 'S-3', 'S-4'\n",
    "state_series['S-2':'S-4']"
   ]
  },
  {
   "cell_type": "code",
   "execution_count": 115,
   "id": "80f8aace-b165-4e90-9ed4-c801ab5a3a2f",
   "metadata": {},
   "outputs": [
    {
     "data": {
      "text/plain": [
       "S-2    NY\n",
       "S-3    TX\n",
       "S-4    AZ\n",
       "Name: States, dtype: object"
      ]
     },
     "execution_count": 115,
     "metadata": {},
     "output_type": "execute_result"
    }
   ],
   "source": [
    "# rows with labels: 'S-2', 'S-3', 'S-4'\n",
    "state_series.loc['S-2':'S-4']"
   ]
  },
  {
   "cell_type": "code",
   "execution_count": 116,
   "id": "b725ffb2-8675-40ad-99b2-1cc5f9355a79",
   "metadata": {},
   "outputs": [
    {
     "data": {
      "text/plain": [
       "S-2    NY\n",
       "S-3    TX\n",
       "Name: States, dtype: object"
      ]
     },
     "execution_count": 116,
     "metadata": {},
     "output_type": "execute_result"
    }
   ],
   "source": [
    "# rows with indexes: 1, 2\n",
    "state_series.iloc[1:3]"
   ]
  },
  {
   "cell_type": "markdown",
   "id": "383f007e-c6ac-4828-9bc1-6d588e7ab860",
   "metadata": {},
   "source": [
    "## Adding a New Row\n",
    "To add a new row, use either of the following methods:\n",
    "- state_series['new_row_label'] = new_value\n",
    "- state_series.loc['new_row_label'] = new_value"
   ]
  },
  {
   "cell_type": "code",
   "execution_count": 117,
   "id": "ad954290-75c1-4e4f-b069-d4a90fc65518",
   "metadata": {},
   "outputs": [
    {
     "data": {
      "text/plain": [
       "S-1    NJ\n",
       "S-2    NY\n",
       "S-3    TX\n",
       "S-4    AZ\n",
       "S-5    MO\n",
       "Name: States, dtype: object"
      ]
     },
     "execution_count": 117,
     "metadata": {},
     "output_type": "execute_result"
    }
   ],
   "source": [
    "state_series"
   ]
  },
  {
   "cell_type": "code",
   "execution_count": 118,
   "id": "b038df8d-d42d-43b3-9098-c1616e610b17",
   "metadata": {},
   "outputs": [
    {
     "data": {
      "text/plain": [
       "S-1    NJ\n",
       "S-2    NY\n",
       "S-3    TX\n",
       "S-4    AZ\n",
       "S-5    MO\n",
       "S-6    FL\n",
       "Name: States, dtype: object"
      ]
     },
     "execution_count": 118,
     "metadata": {},
     "output_type": "execute_result"
    }
   ],
   "source": [
    "state_series['S-6'] = 'FL'\n",
    "state_series"
   ]
  },
  {
   "cell_type": "code",
   "execution_count": 119,
   "id": "ed92afa9-ea3d-4eb3-a927-e715324a281b",
   "metadata": {},
   "outputs": [
    {
     "data": {
      "text/plain": [
       "S-1    NJ\n",
       "S-2    NY\n",
       "S-3    TX\n",
       "S-4    AZ\n",
       "S-5    MO\n",
       "S-6    FL\n",
       "S-7    CA\n",
       "Name: States, dtype: object"
      ]
     },
     "execution_count": 119,
     "metadata": {},
     "output_type": "execute_result"
    }
   ],
   "source": [
    "state_series.loc['S-7'] = 'CA'\n",
    "state_series"
   ]
  },
  {
   "cell_type": "markdown",
   "id": "ca4a9be1-c848-4930-9ad7-0e69dee47e32",
   "metadata": {},
   "source": [
    "## Changing a Value\n",
    "To change a value in a Series, use any of the following methods:\n",
    "- state_series['row_label'] = new_value\n",
    "- state_series.loc['row_label'] = new_value\n",
    "- state_series.iloc[row_index] = new_value"
   ]
  },
  {
   "cell_type": "code",
   "execution_count": 120,
   "id": "85a70112-cfb9-46c0-9621-ed4c93d7e24d",
   "metadata": {},
   "outputs": [
    {
     "data": {
      "text/plain": [
       "S-1    NJ\n",
       "S-2    NY\n",
       "S-3    TX\n",
       "S-4    AZ\n",
       "S-5    MO\n",
       "S-6    FL\n",
       "S-7    MA\n",
       "Name: States, dtype: object"
      ]
     },
     "execution_count": 120,
     "metadata": {},
     "output_type": "execute_result"
    }
   ],
   "source": [
    "state_series.loc['S-7'] = 'MA'\n",
    "state_series"
   ]
  },
  {
   "cell_type": "code",
   "execution_count": 121,
   "id": "0fd2591c-dc28-4d01-9c76-517187d5538e",
   "metadata": {},
   "outputs": [
    {
     "data": {
      "text/plain": [
       "S-1    NJ\n",
       "S-2    NY\n",
       "S-3    TX\n",
       "S-4    AZ\n",
       "S-5    MO\n",
       "S-6    FL\n",
       "S-7    TN\n",
       "Name: States, dtype: object"
      ]
     },
     "execution_count": 121,
     "metadata": {},
     "output_type": "execute_result"
    }
   ],
   "source": [
    "state_series.loc['S-7'] = 'TN'\n",
    "state_series"
   ]
  },
  {
   "cell_type": "code",
   "execution_count": 122,
   "id": "05e9be3e-b2e7-48fb-8c2d-696d5d1658dc",
   "metadata": {},
   "outputs": [
    {
     "data": {
      "text/plain": [
       "S-1    NJ\n",
       "S-2    NY\n",
       "S-3    TX\n",
       "S-4    AZ\n",
       "S-5    MO\n",
       "S-6    FL\n",
       "S-7    ID\n",
       "Name: States, dtype: object"
      ]
     },
     "execution_count": 122,
     "metadata": {},
     "output_type": "execute_result"
    }
   ],
   "source": [
    "state_series.iloc[6] =  'ID'\n",
    "state_series"
   ]
  },
  {
   "cell_type": "markdown",
   "id": "3b605d1d-9a00-4179-880b-d10e58e64494",
   "metadata": {},
   "source": [
    "## Changing Row Labels\n",
    "The row labels of a Series can be modified by assigning *new_row_labels* to *state_series.index*."
   ]
  },
  {
   "cell_type": "code",
   "execution_count": 123,
   "id": "bfdd3725-35fd-41fc-b34f-a7ab2692aa8c",
   "metadata": {},
   "outputs": [],
   "source": [
    "new_labels = ['St-'+str(i) for i in range(1,8)]"
   ]
  },
  {
   "cell_type": "code",
   "execution_count": 124,
   "id": "8e51a9af-fb36-44d3-a2ad-b0feb5578f96",
   "metadata": {},
   "outputs": [
    {
     "data": {
      "text/plain": [
       "St-1    NJ\n",
       "St-2    NY\n",
       "St-3    TX\n",
       "St-4    AZ\n",
       "St-5    MO\n",
       "St-6    FL\n",
       "St-7    ID\n",
       "Name: States, dtype: object"
      ]
     },
     "execution_count": 124,
     "metadata": {},
     "output_type": "execute_result"
    }
   ],
   "source": [
    "state_series.index = new_labels\n",
    "state_series"
   ]
  },
  {
   "cell_type": "markdown",
   "id": "a4388487-78a3-439c-bb60-0c3a4e821e37",
   "metadata": {},
   "source": [
    "## Vectorized Operations\n",
    "Vectorized operations can be performed using the values of a Series or between two or more Series."
   ]
  },
  {
   "cell_type": "code",
   "execution_count": 125,
   "id": "80c417ae-00e6-4fc0-aac9-742e9d8d748b",
   "metadata": {},
   "outputs": [
    {
     "data": {
      "text/plain": [
       "Jack    90\n",
       "Joe     85\n",
       "Amy     70\n",
       "Ted     80\n",
       "Mia     60\n",
       "Ben     60\n",
       "Name: Test-1, dtype: int64"
      ]
     },
     "execution_count": 125,
     "metadata": {},
     "output_type": "execute_result"
    }
   ],
   "source": [
    "test1_grades = pd.Series( [90, 85, 70, 80, 60, 60],   index = ['Jack', 'Joe', 'Amy', 'Ted', 'Mia', 'Ben'], name='Test-1')\n",
    "test1_grades "
   ]
  },
  {
   "cell_type": "markdown",
   "id": "e1ef7753-04ac-48d0-942b-9fc84f2ace10",
   "metadata": {},
   "source": [
    "- Multiply each value by 2"
   ]
  },
  {
   "cell_type": "code",
   "execution_count": 126,
   "id": "88d1cd69-a519-488c-b369-49122789d8a2",
   "metadata": {},
   "outputs": [
    {
     "data": {
      "text/plain": [
       "Jack    180\n",
       "Joe     170\n",
       "Amy     140\n",
       "Ted     160\n",
       "Mia     120\n",
       "Ben     120\n",
       "Name: Test-1, dtype: int64"
      ]
     },
     "execution_count": 126,
     "metadata": {},
     "output_type": "execute_result"
    }
   ],
   "source": [
    "2*test1_grades"
   ]
  },
  {
   "cell_type": "markdown",
   "id": "01ea7d34-0002-4ce8-9b1d-f56279ab7d6d",
   "metadata": {},
   "source": [
    "- Divide each value by 100"
   ]
  },
  {
   "cell_type": "code",
   "execution_count": 127,
   "id": "36a71176-9e6f-4f81-ae87-f64190e91b93",
   "metadata": {},
   "outputs": [
    {
     "data": {
      "text/plain": [
       "Jack    0.90\n",
       "Joe     0.85\n",
       "Amy     0.70\n",
       "Ted     0.80\n",
       "Mia     0.60\n",
       "Ben     0.60\n",
       "Name: Test-1, dtype: float64"
      ]
     },
     "execution_count": 127,
     "metadata": {},
     "output_type": "execute_result"
    }
   ],
   "source": [
    "test1_grades/100"
   ]
  },
  {
   "cell_type": "code",
   "execution_count": 128,
   "id": "20f4559b-55af-407c-8c3d-56697d485651",
   "metadata": {},
   "outputs": [
    {
     "data": {
      "text/plain": [
       "Jack    50\n",
       "Joe     70\n",
       "Amy     30\n",
       "Ted     90\n",
       "Mia     95\n",
       "Ben     75\n",
       "Name: Test-2, dtype: int64"
      ]
     },
     "execution_count": 128,
     "metadata": {},
     "output_type": "execute_result"
    }
   ],
   "source": [
    "test2_grades = pd.Series( [50, 70, 30, 90, 95, 75],   index = ['Jack', 'Joe', 'Amy', 'Ted', 'Mia', 'Ben'], name='Test-2')\n",
    "test2_grades "
   ]
  },
  {
   "cell_type": "markdown",
   "id": "548bb91b-42ef-47b1-9cb5-07caeee61892",
   "metadata": {},
   "source": [
    "- Sum of Test-1 and Test-2 grades"
   ]
  },
  {
   "cell_type": "code",
   "execution_count": 129,
   "id": "8ec71ef4-fb9f-4418-b673-a28ad19a2f44",
   "metadata": {},
   "outputs": [
    {
     "data": {
      "text/plain": [
       "Jack    140\n",
       "Joe     155\n",
       "Amy     100\n",
       "Ted     170\n",
       "Mia     155\n",
       "Ben     135\n",
       "dtype: int64"
      ]
     },
     "execution_count": 129,
     "metadata": {},
     "output_type": "execute_result"
    }
   ],
   "source": [
    "test1_grades + test2_grades"
   ]
  },
  {
   "cell_type": "markdown",
   "id": "34ad5b3d-f3b0-4c41-8d1f-ad55ccd37be5",
   "metadata": {},
   "source": [
    "- Difference of Test-1 and Test-2 grades"
   ]
  },
  {
   "cell_type": "code",
   "execution_count": 130,
   "id": "d9dcdb5d-974a-40c6-9738-5f0fc11949e3",
   "metadata": {},
   "outputs": [
    {
     "data": {
      "text/plain": [
       "Jack    40\n",
       "Joe     15\n",
       "Amy     40\n",
       "Ted    -10\n",
       "Mia    -35\n",
       "Ben    -15\n",
       "dtype: int64"
      ]
     },
     "execution_count": 130,
     "metadata": {},
     "output_type": "execute_result"
    }
   ],
   "source": [
    "test1_grades - test2_grades"
   ]
  },
  {
   "cell_type": "markdown",
   "id": "2dfd81e4-a024-4f86-aa66-2925d41cf10d",
   "metadata": {},
   "source": [
    "- Weighted average of Test-1 and Test-2 grades."
   ]
  },
  {
   "cell_type": "code",
   "execution_count": 131,
   "id": "b7411991-dede-4dc0-b0df-65c456c14130",
   "metadata": {},
   "outputs": [
    {
     "data": {
      "text/plain": [
       "Jack    62.0\n",
       "Joe     74.5\n",
       "Amy     42.0\n",
       "Ted     87.0\n",
       "Mia     84.5\n",
       "Ben     70.5\n",
       "dtype: float64"
      ]
     },
     "execution_count": 131,
     "metadata": {},
     "output_type": "execute_result"
    }
   ],
   "source": [
    "0.3*test1_grades + 0.7*test2_grades"
   ]
  },
  {
   "cell_type": "markdown",
   "id": "97ffe55b-48ec-4efa-bee8-c7681d128142",
   "metadata": {},
   "source": [
    "## Attributes\n",
    "- Attributes provide information about the properties and characteristics of objects."
   ]
  },
  {
   "cell_type": "markdown",
   "id": "e0243d96-1372-4edd-b5b2-c73ed064d639",
   "metadata": {},
   "source": [
    "### shape and len()\n",
    "- `shape` returns the tuple (number of rows, ).\n",
    "- `len()` returns the number of rows."
   ]
  },
  {
   "cell_type": "code",
   "execution_count": 132,
   "id": "1f3cda30-24b9-4a83-881f-f00ecb228e1f",
   "metadata": {},
   "outputs": [
    {
     "data": {
      "text/plain": [
       "St-1    NJ\n",
       "St-2    NY\n",
       "St-3    TX\n",
       "St-4    AZ\n",
       "St-5    MO\n",
       "St-6    FL\n",
       "St-7    ID\n",
       "Name: States, dtype: object"
      ]
     },
     "execution_count": 132,
     "metadata": {},
     "output_type": "execute_result"
    }
   ],
   "source": [
    "state_series"
   ]
  },
  {
   "cell_type": "code",
   "execution_count": 133,
   "id": "5a213249-2b50-4c5e-a6cd-0dd6bc48ba0e",
   "metadata": {},
   "outputs": [
    {
     "data": {
      "text/plain": [
       "(7,)"
      ]
     },
     "execution_count": 133,
     "metadata": {},
     "output_type": "execute_result"
    }
   ],
   "source": [
    "state_series.shape"
   ]
  },
  {
   "cell_type": "code",
   "execution_count": 134,
   "id": "93628f28-24af-4a5e-940a-14540d0bfde2",
   "metadata": {},
   "outputs": [
    {
     "data": {
      "text/plain": [
       "7"
      ]
     },
     "execution_count": 134,
     "metadata": {},
     "output_type": "execute_result"
    }
   ],
   "source": [
    "len(state_series)"
   ]
  },
  {
   "cell_type": "markdown",
   "id": "afd9527f-4589-43d1-ae5a-a224562a6682",
   "metadata": {},
   "source": [
    "### index \n",
    "- *index* returns row labels."
   ]
  },
  {
   "cell_type": "code",
   "execution_count": 135,
   "id": "6c9fa0a8-e78c-417c-a7d0-4cb99150511e",
   "metadata": {},
   "outputs": [
    {
     "data": {
      "text/plain": [
       "Index(['St-1', 'St-2', 'St-3', 'St-4', 'St-5', 'St-6', 'St-7'], dtype='object')"
      ]
     },
     "execution_count": 135,
     "metadata": {},
     "output_type": "execute_result"
    }
   ],
   "source": [
    "state_series.index"
   ]
  },
  {
   "cell_type": "markdown",
   "id": "c9a08c1b-7450-44f8-9985-5cdfc142030d",
   "metadata": {},
   "source": [
    "### values \n",
    "- The values attribute removes labels and returns an array."
   ]
  },
  {
   "cell_type": "code",
   "execution_count": 136,
   "id": "6b8bf112-d067-4597-b3bb-c7a16fbde61e",
   "metadata": {},
   "outputs": [
    {
     "data": {
      "text/plain": [
       "array(['NJ', 'NY', 'TX', 'AZ', 'MO', 'FL', 'ID'], dtype=object)"
      ]
     },
     "execution_count": 136,
     "metadata": {},
     "output_type": "execute_result"
    }
   ],
   "source": [
    "state_series.values"
   ]
  },
  {
   "cell_type": "markdown",
   "id": "099fb189-6a36-41c6-8b8f-4c776ee49465",
   "metadata": {},
   "source": [
    "## Iterations and Series\n",
    "\n",
    "Series can be iterated through using their row labels or indexes. Here's how you can access them:\n",
    "- Use state_series.index for row labels.\n",
    "- Use range(len(state_series)) or range(state_series.shape[0]) for row indexes.\n"
   ]
  },
  {
   "cell_type": "code",
   "execution_count": 137,
   "id": "7391f758-f924-455e-829f-d82ae34d18cd",
   "metadata": {},
   "outputs": [
    {
     "name": "stdout",
     "output_type": "stream",
     "text": [
      "St-1\n",
      "St-2\n",
      "St-3\n",
      "St-4\n",
      "St-5\n",
      "St-6\n",
      "St-7\n"
     ]
    }
   ],
   "source": [
    "# row labels\n",
    "for row in state_series.index:\n",
    "    print(row)"
   ]
  },
  {
   "cell_type": "code",
   "execution_count": 138,
   "id": "a01616c3-af93-4376-9ff3-4a5c3f67b280",
   "metadata": {},
   "outputs": [
    {
     "name": "stdout",
     "output_type": "stream",
     "text": [
      "NJ\n",
      "NY\n",
      "TX\n",
      "AZ\n",
      "MO\n",
      "FL\n",
      "ID\n"
     ]
    }
   ],
   "source": [
    "# access all values using the row  labels\n",
    "for row in state_series.index:\n",
    "    print(state_series.loc[row])"
   ]
  },
  {
   "cell_type": "code",
   "execution_count": 139,
   "id": "6efad421-3f20-4aa3-8de7-107af85386b8",
   "metadata": {},
   "outputs": [
    {
     "name": "stdout",
     "output_type": "stream",
     "text": [
      "NJ\n",
      "NY\n",
      "TX\n",
      "AZ\n",
      "MO\n",
      "FL\n",
      "ID\n"
     ]
    }
   ],
   "source": [
    "# access all values using the row indexes\n",
    "for i in range(state_series.shape[0]):    # you can also use len(state_series)\n",
    "    print(state_series.iloc[i])"
   ]
  },
  {
   "cell_type": "markdown",
   "id": "cc9814d0-7f4d-4fda-b5c9-45e00b2abcd9",
   "metadata": {},
   "source": [
    "## Comparison Operations\n",
    "Comparison operators can be applied to the values of a Series, returning boolean values for each row."
   ]
  },
  {
   "cell_type": "code",
   "execution_count": 140,
   "id": "5703bf63-f750-41c1-a092-9f1bb137364a",
   "metadata": {},
   "outputs": [
    {
     "data": {
      "text/plain": [
       "Jack    90\n",
       "Joe     85\n",
       "Amy     70\n",
       "Ted     80\n",
       "Mia     60\n",
       "Ben     60\n",
       "Name: Test-1, dtype: int64"
      ]
     },
     "execution_count": 140,
     "metadata": {},
     "output_type": "execute_result"
    }
   ],
   "source": [
    "test1_grades"
   ]
  },
  {
   "cell_type": "code",
   "execution_count": 141,
   "id": "b2e071da-c6f4-48bf-aee6-be026ec88540",
   "metadata": {},
   "outputs": [
    {
     "data": {
      "text/plain": [
       "Jack    False\n",
       "Joe     False\n",
       "Amy      True\n",
       "Ted     False\n",
       "Mia      True\n",
       "Ben      True\n",
       "Name: Test-1, dtype: bool"
      ]
     },
     "execution_count": 141,
     "metadata": {},
     "output_type": "execute_result"
    }
   ],
   "source": [
    "# grades less than 75 \n",
    "test1_grades < 75"
   ]
  },
  {
   "cell_type": "markdown",
   "id": "1829498e-fbee-4bd6-825c-28ee1d548b79",
   "metadata": {},
   "source": [
    "## Methods\n",
    "- Methods can manipulate the data and perform actions on it."
   ]
  },
  {
   "cell_type": "markdown",
   "id": "8d0b92f5-ddb5-42b2-9a02-55443a7e33fe",
   "metadata": {},
   "source": [
    "### head() and tail()\n",
    "- head(n) displays the first n rows.\n",
    "- tail(n) displays the last n rows.\n",
    "- The default value of $n$ is 5.\n"
   ]
  },
  {
   "cell_type": "code",
   "execution_count": 142,
   "id": "2197d741-3620-46c3-b946-ef250a76ba4d",
   "metadata": {},
   "outputs": [
    {
     "data": {
      "text/plain": [
       "St-1    NJ\n",
       "St-2    NY\n",
       "St-3    TX\n",
       "St-4    AZ\n",
       "St-5    MO\n",
       "Name: States, dtype: object"
      ]
     },
     "execution_count": 142,
     "metadata": {},
     "output_type": "execute_result"
    }
   ],
   "source": [
    "# first 5 rows\n",
    "state_series.head()"
   ]
  },
  {
   "cell_type": "code",
   "execution_count": 143,
   "id": "8ae5f451-f956-487d-a840-383ff4b215df",
   "metadata": {},
   "outputs": [
    {
     "data": {
      "text/plain": [
       "St-1    NJ\n",
       "St-2    NY\n",
       "Name: States, dtype: object"
      ]
     },
     "execution_count": 143,
     "metadata": {},
     "output_type": "execute_result"
    }
   ],
   "source": [
    "# first 2 rows\n",
    "state_series.head(2)"
   ]
  },
  {
   "cell_type": "code",
   "execution_count": 144,
   "id": "14948906-367c-4092-b80a-f54baed7a74d",
   "metadata": {},
   "outputs": [
    {
     "data": {
      "text/plain": [
       "St-3    TX\n",
       "St-4    AZ\n",
       "St-5    MO\n",
       "St-6    FL\n",
       "St-7    ID\n",
       "Name: States, dtype: object"
      ]
     },
     "execution_count": 144,
     "metadata": {},
     "output_type": "execute_result"
    }
   ],
   "source": [
    "# last 5 rows\n",
    "state_series.tail()"
   ]
  },
  {
   "cell_type": "code",
   "execution_count": 145,
   "id": "c59610fd-d820-4e53-a3ad-28925d3112b9",
   "metadata": {},
   "outputs": [
    {
     "data": {
      "text/plain": [
       "St-6    FL\n",
       "St-7    ID\n",
       "Name: States, dtype: object"
      ]
     },
     "execution_count": 145,
     "metadata": {},
     "output_type": "execute_result"
    }
   ],
   "source": [
    "# last 2 rows\n",
    "state_series.tail(2)"
   ]
  },
  {
   "cell_type": "markdown",
   "id": "f956d645-3442-4de2-a52d-c5f8a8a2c213",
   "metadata": {},
   "source": [
    "### info()\n",
    "The info() method provides basic information about the Series, including:\n",
    "- row labels: Jack to Mia\n",
    "- number of rows: 5 entries\n",
    "- Non-null (non-missing) values: 5 non-null\n",
    "- dtype: int64\n",
    "- memory usage: 252.0+ bytes"
   ]
  },
  {
   "cell_type": "code",
   "execution_count": 146,
   "id": "c9aeb7fa-b80f-4e64-b467-22a7eaede1e1",
   "metadata": {},
   "outputs": [
    {
     "data": {
      "text/plain": [
       "Jack    90\n",
       "Joe     85\n",
       "Amy     70\n",
       "Ted     80\n",
       "Mia     60\n",
       "Ben     60\n",
       "Name: Test-1, dtype: int64"
      ]
     },
     "execution_count": 146,
     "metadata": {},
     "output_type": "execute_result"
    }
   ],
   "source": [
    "test1_grades"
   ]
  },
  {
   "cell_type": "code",
   "execution_count": 147,
   "id": "628ea81c-b8bf-4dc2-82fc-3b3f99108c1a",
   "metadata": {},
   "outputs": [
    {
     "name": "stdout",
     "output_type": "stream",
     "text": [
      "<class 'pandas.core.series.Series'>\n",
      "Index: 6 entries, Jack to Ben\n",
      "Series name: Test-1\n",
      "Non-Null Count  Dtype\n",
      "--------------  -----\n",
      "6 non-null      int64\n",
      "dtypes: int64(1)\n",
      "memory usage: 268.0+ bytes\n"
     ]
    }
   ],
   "source": [
    "test1_grades.info()"
   ]
  },
  {
   "cell_type": "markdown",
   "id": "01a112ca-1f31-423d-8ab7-5c2bb8ad2042",
   "metadata": {},
   "source": [
    "### describe()\n",
    "\n",
    "It returns the descriptive statistics of the values of the Series, including:\n",
    "- Count\n",
    "- Mean\n",
    "- Standard deviation (std)\n",
    "- Minimum (min)\n",
    "- 25th percentile\n",
    "- 50th percentile (median)\n",
    "- 75th percentile\n",
    "- Maximum (max)"
   ]
  },
  {
   "cell_type": "code",
   "execution_count": 148,
   "id": "3648d07a-8882-4d56-8b20-41a230d34f76",
   "metadata": {},
   "outputs": [
    {
     "data": {
      "text/plain": [
       "count     6.000000\n",
       "mean     74.166667\n",
       "std      12.812754\n",
       "min      60.000000\n",
       "25%      62.500000\n",
       "50%      75.000000\n",
       "75%      83.750000\n",
       "max      90.000000\n",
       "Name: Test-1, dtype: float64"
      ]
     },
     "execution_count": 148,
     "metadata": {},
     "output_type": "execute_result"
    }
   ],
   "source": [
    "test1_grades.describe()"
   ]
  },
  {
   "cell_type": "markdown",
   "id": "4f9b6b8d-b98f-4c84-a1e4-887b615c6dce",
   "metadata": {},
   "source": [
    "### value_counts()\n",
    "It returns the number of occurrences for each value of the column."
   ]
  },
  {
   "cell_type": "code",
   "execution_count": 149,
   "id": "8614aa48-7fdb-41c6-bd7f-502fafe31eb5",
   "metadata": {},
   "outputs": [
    {
     "data": {
      "text/plain": [
       "St-1    NJ\n",
       "St-2    NY\n",
       "St-3    TX\n",
       "St-4    AZ\n",
       "St-5    MO\n",
       "St-6    FL\n",
       "St-7    ID\n",
       "Name: States, dtype: object"
      ]
     },
     "execution_count": 149,
     "metadata": {},
     "output_type": "execute_result"
    }
   ],
   "source": [
    "state_series"
   ]
  },
  {
   "cell_type": "code",
   "execution_count": 150,
   "id": "04102afb-8393-4bb5-9e0d-14b4e761eca9",
   "metadata": {},
   "outputs": [
    {
     "data": {
      "text/plain": [
       "States\n",
       "NJ    1\n",
       "NY    1\n",
       "TX    1\n",
       "AZ    1\n",
       "MO    1\n",
       "FL    1\n",
       "ID    1\n",
       "Name: count, dtype: int64"
      ]
     },
     "execution_count": 150,
     "metadata": {},
     "output_type": "execute_result"
    }
   ],
   "source": [
    "# one from each value\n",
    "state_series.value_counts()"
   ]
  },
  {
   "cell_type": "code",
   "execution_count": 151,
   "id": "3ec1b538-eed0-4d4a-a75d-639db258828d",
   "metadata": {},
   "outputs": [
    {
     "data": {
      "text/plain": [
       "St-1    NJ\n",
       "St-2    NY\n",
       "St-3    TX\n",
       "St-4    AZ\n",
       "St-5    MO\n",
       "St-6    FL\n",
       "St-7    ID\n",
       "S-8     AZ\n",
       "Name: States, dtype: object"
      ]
     },
     "execution_count": 151,
     "metadata": {},
     "output_type": "execute_result"
    }
   ],
   "source": [
    "# add 'AZ' as a new value\n",
    "state_series['S-8'] = 'AZ'\n",
    "state_series"
   ]
  },
  {
   "cell_type": "code",
   "execution_count": 152,
   "id": "e5dea6a8-0e45-4d63-b74f-4cd527723a7a",
   "metadata": {},
   "outputs": [
    {
     "data": {
      "text/plain": [
       "States\n",
       "AZ    2\n",
       "NJ    1\n",
       "NY    1\n",
       "TX    1\n",
       "MO    1\n",
       "FL    1\n",
       "ID    1\n",
       "Name: count, dtype: int64"
      ]
     },
     "execution_count": 152,
     "metadata": {},
     "output_type": "execute_result"
    }
   ],
   "source": [
    "# there are 2 AZ values\n",
    "state_series.value_counts()"
   ]
  },
  {
   "cell_type": "markdown",
   "id": "c60a2ec8-3be3-4d04-8bff-2416f4000fd8",
   "metadata": {},
   "source": [
    "### copy()\n",
    "The *copy()* method returns a copy of the Series."
   ]
  },
  {
   "cell_type": "code",
   "execution_count": 153,
   "id": "6ac36fcb-7aa4-4960-8c5d-88f48e713f4d",
   "metadata": {},
   "outputs": [
    {
     "data": {
      "text/plain": [
       "St-1    NJ\n",
       "St-2    NY\n",
       "St-3    TX\n",
       "St-4    AZ\n",
       "St-5    MO\n",
       "St-6    FL\n",
       "St-7    ID\n",
       "S-8     AZ\n",
       "Name: States, dtype: object"
      ]
     },
     "execution_count": 153,
     "metadata": {},
     "output_type": "execute_result"
    }
   ],
   "source": [
    "state_series_copy = state_series.copy()\n",
    "state_series_copy"
   ]
  },
  {
   "cell_type": "markdown",
   "id": "bfe24fc4-2479-4db9-8d1a-805020efb29a",
   "metadata": {},
   "source": [
    "### drop()\n",
    "The drop() method is used to remove row(s) from the Series."
   ]
  },
  {
   "cell_type": "code",
   "execution_count": 154,
   "id": "db0a4c7d-1ab6-4424-8e16-f79d62fd5332",
   "metadata": {},
   "outputs": [
    {
     "data": {
      "text/plain": [
       "St-1    NJ\n",
       "St-2    NY\n",
       "St-3    TX\n",
       "St-4    AZ\n",
       "St-5    MO\n",
       "St-6    FL\n",
       "St-7    ID\n",
       "S-8     AZ\n",
       "Name: States, dtype: object"
      ]
     },
     "execution_count": 154,
     "metadata": {},
     "output_type": "execute_result"
    }
   ],
   "source": [
    "state_series"
   ]
  },
  {
   "cell_type": "code",
   "execution_count": 155,
   "id": "964527dc-7c7e-4ea3-8b7c-a7878bd6e6cc",
   "metadata": {
    "scrolled": true
   },
   "outputs": [
    {
     "data": {
      "text/plain": [
       "St-1    NJ\n",
       "St-2    NY\n",
       "St-3    TX\n",
       "St-4    AZ\n",
       "St-5    MO\n",
       "St-6    FL\n",
       "St-7    ID\n",
       "Name: States, dtype: object"
      ]
     },
     "execution_count": 155,
     "metadata": {},
     "output_type": "execute_result"
    }
   ],
   "source": [
    "state_series.drop('S-8')"
   ]
  },
  {
   "cell_type": "markdown",
   "id": "f77a724b-5859-46f7-a9b0-66b4f8c84208",
   "metadata": {},
   "source": [
    "- By default, the *drop()* method does not change the Series.\n",
    "- It just displays how the Series would look if the dropping were performed."
   ]
  },
  {
   "cell_type": "code",
   "execution_count": 156,
   "id": "cf052cc1-03d9-4c87-bc15-554e90894cb0",
   "metadata": {
    "scrolled": true
   },
   "outputs": [
    {
     "data": {
      "text/plain": [
       "St-1    NJ\n",
       "St-2    NY\n",
       "St-3    TX\n",
       "St-4    AZ\n",
       "St-5    MO\n",
       "St-6    FL\n",
       "St-7    ID\n",
       "S-8     AZ\n",
       "Name: States, dtype: object"
      ]
     },
     "execution_count": 156,
     "metadata": {},
     "output_type": "execute_result"
    }
   ],
   "source": [
    "# no change on state_series\n",
    "state_series"
   ]
  },
  {
   "cell_type": "markdown",
   "id": "5b0f0d23-aac5-4169-967c-80dff947eba1",
   "metadata": {},
   "source": [
    "- To make a change to the Series, the parameter `inplace` should be set to True, which is False by default."
   ]
  },
  {
   "cell_type": "code",
   "execution_count": 157,
   "id": "a4cc13e2-f6f9-4d23-a34f-b1e861494d8d",
   "metadata": {},
   "outputs": [],
   "source": [
    "state_series.drop('S-8', inplace=True)"
   ]
  },
  {
   "cell_type": "code",
   "execution_count": 158,
   "id": "f6f68518-b66c-4562-9343-5c9d076be73d",
   "metadata": {},
   "outputs": [
    {
     "data": {
      "text/plain": [
       "St-1    NJ\n",
       "St-2    NY\n",
       "St-3    TX\n",
       "St-4    AZ\n",
       "St-5    MO\n",
       "St-6    FL\n",
       "St-7    ID\n",
       "Name: States, dtype: object"
      ]
     },
     "execution_count": 158,
     "metadata": {},
     "output_type": "execute_result"
    }
   ],
   "source": [
    "# no 'S-8' row any more\n",
    "state_series"
   ]
  },
  {
   "cell_type": "markdown",
   "id": "a221fc86-171c-47b5-85d5-e7ccea8dd994",
   "metadata": {},
   "source": [
    "### reset_index()\n",
    "The *reset_index()* method is used to reset the row labels of a Series to default values: $0, 1, 2, ...$\n",
    "- It also adds the initial row labels as a new column with label *index*.\n",
    "- It returns a DataFrame."
   ]
  },
  {
   "cell_type": "markdown",
   "id": "85270ccf-b0b0-48c1-add1-6f35bed49fd3",
   "metadata": {},
   "source": [
    "- By default, the *drop()* method does not change the Series.\n",
    "- It just displays how the Series would look if the dropping were performed."
   ]
  },
  {
   "cell_type": "code",
   "execution_count": 159,
   "id": "cf65fb84-a9b0-43b4-a05f-77badce2c74a",
   "metadata": {
    "scrolled": true
   },
   "outputs": [
    {
     "data": {
      "text/html": [
       "<div>\n",
       "<style scoped>\n",
       "    .dataframe tbody tr th:only-of-type {\n",
       "        vertical-align: middle;\n",
       "    }\n",
       "\n",
       "    .dataframe tbody tr th {\n",
       "        vertical-align: top;\n",
       "    }\n",
       "\n",
       "    .dataframe thead th {\n",
       "        text-align: right;\n",
       "    }\n",
       "</style>\n",
       "<table border=\"1\" class=\"dataframe\">\n",
       "  <thead>\n",
       "    <tr style=\"text-align: right;\">\n",
       "      <th></th>\n",
       "      <th>index</th>\n",
       "      <th>States</th>\n",
       "    </tr>\n",
       "  </thead>\n",
       "  <tbody>\n",
       "    <tr>\n",
       "      <th>0</th>\n",
       "      <td>St-1</td>\n",
       "      <td>NJ</td>\n",
       "    </tr>\n",
       "    <tr>\n",
       "      <th>1</th>\n",
       "      <td>St-2</td>\n",
       "      <td>NY</td>\n",
       "    </tr>\n",
       "    <tr>\n",
       "      <th>2</th>\n",
       "      <td>St-3</td>\n",
       "      <td>TX</td>\n",
       "    </tr>\n",
       "    <tr>\n",
       "      <th>3</th>\n",
       "      <td>St-4</td>\n",
       "      <td>AZ</td>\n",
       "    </tr>\n",
       "    <tr>\n",
       "      <th>4</th>\n",
       "      <td>St-5</td>\n",
       "      <td>MO</td>\n",
       "    </tr>\n",
       "    <tr>\n",
       "      <th>5</th>\n",
       "      <td>St-6</td>\n",
       "      <td>FL</td>\n",
       "    </tr>\n",
       "    <tr>\n",
       "      <th>6</th>\n",
       "      <td>St-7</td>\n",
       "      <td>ID</td>\n",
       "    </tr>\n",
       "    <tr>\n",
       "      <th>7</th>\n",
       "      <td>S-8</td>\n",
       "      <td>AZ</td>\n",
       "    </tr>\n",
       "  </tbody>\n",
       "</table>\n",
       "</div>"
      ],
      "text/plain": [
       "  index States\n",
       "0  St-1     NJ\n",
       "1  St-2     NY\n",
       "2  St-3     TX\n",
       "3  St-4     AZ\n",
       "4  St-5     MO\n",
       "5  St-6     FL\n",
       "6  St-7     ID\n",
       "7   S-8     AZ"
      ]
     },
     "execution_count": 159,
     "metadata": {},
     "output_type": "execute_result"
    }
   ],
   "source": [
    "state_series_copy.reset_index()"
   ]
  },
  {
   "cell_type": "markdown",
   "id": "16fb5a2d-60af-41d4-a4d7-e37a413f8d00",
   "metadata": {},
   "source": [
    "- If you do not want to keep the initial index values, you can set the *drop* parameter to True."
   ]
  },
  {
   "cell_type": "code",
   "execution_count": 160,
   "id": "ab50e0ae-ac57-4a69-814b-508bdf0ca93e",
   "metadata": {},
   "outputs": [
    {
     "data": {
      "text/plain": [
       "0    NJ\n",
       "1    NY\n",
       "2    TX\n",
       "3    AZ\n",
       "4    MO\n",
       "5    FL\n",
       "6    ID\n",
       "7    AZ\n",
       "Name: States, dtype: object"
      ]
     },
     "execution_count": 160,
     "metadata": {},
     "output_type": "execute_result"
    }
   ],
   "source": [
    "state_series_copy.reset_index(drop=True)"
   ]
  },
  {
   "cell_type": "code",
   "execution_count": 161,
   "id": "dec4bdae-faa4-4031-bcea-9499beca8a7c",
   "metadata": {},
   "outputs": [
    {
     "data": {
      "text/plain": [
       "St-1    NJ\n",
       "St-2    NY\n",
       "St-3    TX\n",
       "St-4    AZ\n",
       "St-5    MO\n",
       "St-6    FL\n",
       "St-7    ID\n",
       "S-8     AZ\n",
       "Name: States, dtype: object"
      ]
     },
     "execution_count": 161,
     "metadata": {},
     "output_type": "execute_result"
    }
   ],
   "source": [
    "# no change on state_series_copy\n",
    "state_series_copy"
   ]
  },
  {
   "cell_type": "markdown",
   "id": "0fd9b494-a8f3-4a49-bc63-143d6c11083a",
   "metadata": {},
   "source": [
    "- *reset_index()* does not change the Series unless inplace=True."
   ]
  },
  {
   "cell_type": "code",
   "execution_count": 162,
   "id": "d631e7e6-e846-4373-b567-f6739410c905",
   "metadata": {},
   "outputs": [],
   "source": [
    "state_series_copy.reset_index(drop=True, inplace=True)"
   ]
  },
  {
   "cell_type": "code",
   "execution_count": 163,
   "id": "e6a15ab2-94c7-4134-81a9-fa1f49e12fef",
   "metadata": {},
   "outputs": [
    {
     "data": {
      "text/plain": [
       "0    NJ\n",
       "1    NY\n",
       "2    TX\n",
       "3    AZ\n",
       "4    MO\n",
       "5    FL\n",
       "6    ID\n",
       "7    AZ\n",
       "Name: States, dtype: object"
      ]
     },
     "execution_count": 163,
     "metadata": {},
     "output_type": "execute_result"
    }
   ],
   "source": [
    "# indexes updated\n",
    "state_series_copy"
   ]
  },
  {
   "cell_type": "markdown",
   "id": "77b2702e-c5ff-4895-aa7d-af6db7ff766a",
   "metadata": {},
   "source": [
    "### set_axis()\n",
    "The *set_axis()* method is used to assign new labels to the Series' row indixes.\n",
    "- It does not have an *inplace* parameter to change the Series."
   ]
  },
  {
   "cell_type": "code",
   "execution_count": 164,
   "id": "e0520c61-763c-416e-b916-6f970d14cbf2",
   "metadata": {},
   "outputs": [
    {
     "data": {
      "text/plain": [
       "['State-0', 'State-1', 'State-2', 'State-3', 'State-4', 'State-5', 'State-6']"
      ]
     },
     "execution_count": 164,
     "metadata": {},
     "output_type": "execute_result"
    }
   ],
   "source": [
    "new_labels = ['State-'+str(i) for i in range(7)]\n",
    "new_labels"
   ]
  },
  {
   "cell_type": "code",
   "execution_count": 165,
   "id": "df717a17-72b6-46c0-ba9f-e31ae4a70804",
   "metadata": {},
   "outputs": [
    {
     "data": {
      "text/plain": [
       "State-0    NJ\n",
       "State-1    NY\n",
       "State-2    TX\n",
       "State-3    AZ\n",
       "State-4    MO\n",
       "State-5    FL\n",
       "State-6    ID\n",
       "Name: States, dtype: object"
      ]
     },
     "execution_count": 165,
     "metadata": {},
     "output_type": "execute_result"
    }
   ],
   "source": [
    "state_series.set_axis(new_labels)"
   ]
  },
  {
   "cell_type": "code",
   "execution_count": 166,
   "id": "d5da12fe-35b5-4203-9026-e7d590f504eb",
   "metadata": {},
   "outputs": [
    {
     "data": {
      "text/plain": [
       "St-1    NJ\n",
       "St-2    NY\n",
       "St-3    TX\n",
       "St-4    AZ\n",
       "St-5    MO\n",
       "St-6    FL\n",
       "St-7    ID\n",
       "Name: States, dtype: object"
      ]
     },
     "execution_count": 166,
     "metadata": {},
     "output_type": "execute_result"
    }
   ],
   "source": [
    "# no change on state_series\n",
    "state_series"
   ]
  },
  {
   "cell_type": "markdown",
   "id": "ade6a352-4dbd-4b2d-ad50-733dd04aad0f",
   "metadata": {},
   "source": [
    "### sum(), mean(), median(), std()\n",
    "These operations can be applied directly to the values of the Series."
   ]
  },
  {
   "cell_type": "code",
   "execution_count": 167,
   "id": "8460af1e-2710-44b1-9af0-9c6ca6b1cbf6",
   "metadata": {},
   "outputs": [
    {
     "data": {
      "text/plain": [
       "Jack    90\n",
       "Joe     85\n",
       "Amy     70\n",
       "Ted     80\n",
       "Mia     60\n",
       "Ben     60\n",
       "Name: Test-1, dtype: int64"
      ]
     },
     "execution_count": 167,
     "metadata": {},
     "output_type": "execute_result"
    }
   ],
   "source": [
    "test1_grades"
   ]
  },
  {
   "cell_type": "code",
   "execution_count": 168,
   "id": "f015802f-34df-49ac-a6b5-a0b710af87b8",
   "metadata": {},
   "outputs": [
    {
     "data": {
      "text/plain": [
       "445"
      ]
     },
     "execution_count": 168,
     "metadata": {},
     "output_type": "execute_result"
    }
   ],
   "source": [
    "test1_grades.sum()"
   ]
  },
  {
   "cell_type": "code",
   "execution_count": 169,
   "id": "6519e1d2-7e16-4df7-a37f-691ee9ff1ad1",
   "metadata": {},
   "outputs": [
    {
     "data": {
      "text/plain": [
       "74.16666666666667"
      ]
     },
     "execution_count": 169,
     "metadata": {},
     "output_type": "execute_result"
    }
   ],
   "source": [
    "test1_grades.mean()"
   ]
  },
  {
   "cell_type": "code",
   "execution_count": 170,
   "id": "2822b595-2a39-45ae-bbb4-7b8dba1a72a7",
   "metadata": {},
   "outputs": [
    {
     "data": {
      "text/plain": [
       "75.0"
      ]
     },
     "execution_count": 170,
     "metadata": {},
     "output_type": "execute_result"
    }
   ],
   "source": [
    "test1_grades.median()"
   ]
  },
  {
   "cell_type": "code",
   "execution_count": 171,
   "id": "3bd7631c-318c-470f-8ddb-fd31708eb83e",
   "metadata": {},
   "outputs": [
    {
     "data": {
      "text/plain": [
       "12.812754062521714"
      ]
     },
     "execution_count": 171,
     "metadata": {},
     "output_type": "execute_result"
    }
   ],
   "source": [
    "test1_grades.std()"
   ]
  },
  {
   "cell_type": "markdown",
   "id": "0e0ea1bf-1e45-411c-944d-650a2d7d5230",
   "metadata": {},
   "source": [
    "### sort_values()\n",
    "It sorts the series based on the values in ascending or descending order.\n",
    "- By default, sorting is done in ascending order.\n",
    "- To sort in descending order, set the `ascending` parameter to False."
   ]
  },
  {
   "cell_type": "code",
   "execution_count": 172,
   "id": "c2609ac5-6b3d-43d7-8e87-0eacec91e67e",
   "metadata": {
    "scrolled": true
   },
   "outputs": [
    {
     "data": {
      "text/plain": [
       "Mia     60\n",
       "Ben     60\n",
       "Amy     70\n",
       "Ted     80\n",
       "Joe     85\n",
       "Jack    90\n",
       "Name: Test-1, dtype: int64"
      ]
     },
     "execution_count": 172,
     "metadata": {},
     "output_type": "execute_result"
    }
   ],
   "source": [
    "test1_grades.sort_values()"
   ]
  },
  {
   "cell_type": "code",
   "execution_count": 173,
   "id": "5b26e9bd-8fc9-4656-8178-791570b1a557",
   "metadata": {
    "scrolled": true
   },
   "outputs": [
    {
     "data": {
      "text/plain": [
       "Jack    90\n",
       "Joe     85\n",
       "Ted     80\n",
       "Amy     70\n",
       "Mia     60\n",
       "Ben     60\n",
       "Name: Test-1, dtype: int64"
      ]
     },
     "execution_count": 173,
     "metadata": {},
     "output_type": "execute_result"
    }
   ],
   "source": [
    "test1_grades.sort_values(ascending=False)"
   ]
  },
  {
   "cell_type": "markdown",
   "id": "90bf2b0a-556c-43ed-a3a4-8c67a74f4fd3",
   "metadata": {},
   "source": [
    "- To make a change to the Series, the parameter `inplace` should be set to True, which is False by default."
   ]
  },
  {
   "cell_type": "code",
   "execution_count": 174,
   "id": "0495ccfa-64fd-4b0b-b60b-7129cdf20387",
   "metadata": {
    "scrolled": true
   },
   "outputs": [],
   "source": [
    "test1_grades.sort_values(inplace=True)"
   ]
  },
  {
   "cell_type": "code",
   "execution_count": 175,
   "id": "749bd96b-8d30-45c4-86e0-aad834d03ac1",
   "metadata": {},
   "outputs": [
    {
     "data": {
      "text/plain": [
       "Mia     60\n",
       "Ben     60\n",
       "Amy     70\n",
       "Ted     80\n",
       "Joe     85\n",
       "Jack    90\n",
       "Name: Test-1, dtype: int64"
      ]
     },
     "execution_count": 175,
     "metadata": {},
     "output_type": "execute_result"
    }
   ],
   "source": [
    "test1_grades"
   ]
  },
  {
   "cell_type": "markdown",
   "id": "cdcb6c73-eca7-401b-8cbc-6a48e89cb7af",
   "metadata": {},
   "source": [
    "### sort_index()\n",
    "It sorts the series based on the indexes in ascending or descending order.\n",
    "- By default, sorting is done in ascending order.\n",
    "- To sort in descending order, set the `ascending` parameter to False."
   ]
  },
  {
   "cell_type": "code",
   "execution_count": 176,
   "id": "36ed0715-2e8a-48d1-b1c0-d97f49a98446",
   "metadata": {},
   "outputs": [
    {
     "data": {
      "text/plain": [
       "Amy     70\n",
       "Ben     60\n",
       "Jack    90\n",
       "Joe     85\n",
       "Mia     60\n",
       "Ted     80\n",
       "Name: Test-1, dtype: int64"
      ]
     },
     "execution_count": 176,
     "metadata": {},
     "output_type": "execute_result"
    }
   ],
   "source": [
    "# alphabetical order\n",
    "test1_grades.sort_index()"
   ]
  },
  {
   "cell_type": "code",
   "execution_count": 177,
   "id": "5d646cf1-a6eb-4796-801c-2dcb57159081",
   "metadata": {},
   "outputs": [
    {
     "data": {
      "text/plain": [
       "Ted     80\n",
       "Mia     60\n",
       "Joe     85\n",
       "Jack    90\n",
       "Ben     60\n",
       "Amy     70\n",
       "Name: Test-1, dtype: int64"
      ]
     },
     "execution_count": 177,
     "metadata": {},
     "output_type": "execute_result"
    }
   ],
   "source": [
    "test1_grades.sort_index(ascending=False)"
   ]
  },
  {
   "cell_type": "markdown",
   "id": "7f4e36d8-a1e6-46fc-8c72-960a949d370b",
   "metadata": {},
   "source": [
    "- To make a change to the Series, the parameter `inplace` should be set to True, which is False by default."
   ]
  },
  {
   "cell_type": "code",
   "execution_count": 178,
   "id": "625e968c-151e-4f0c-9253-6875f5465f5d",
   "metadata": {
    "scrolled": true
   },
   "outputs": [],
   "source": [
    "test1_grades.sort_index(inplace=True)"
   ]
  },
  {
   "cell_type": "code",
   "execution_count": 179,
   "id": "8d7e40fc-b883-48e2-9a6e-29e6fa61009d",
   "metadata": {},
   "outputs": [
    {
     "data": {
      "text/plain": [
       "Amy     70\n",
       "Ben     60\n",
       "Jack    90\n",
       "Joe     85\n",
       "Mia     60\n",
       "Ted     80\n",
       "Name: Test-1, dtype: int64"
      ]
     },
     "execution_count": 179,
     "metadata": {},
     "output_type": "execute_result"
    }
   ],
   "source": [
    "test1_grades"
   ]
  },
  {
   "cell_type": "markdown",
   "id": "30c0ce70-2647-4384-8be1-77d879265bdb",
   "metadata": {},
   "source": [
    "### duplicated()\n",
    "- It returns a Series with boolean values showing if a row is a repeat or not."
   ]
  },
  {
   "cell_type": "code",
   "execution_count": 74,
   "id": "91c2f446-9fec-4f24-b65f-c8c3c16af790",
   "metadata": {},
   "outputs": [
    {
     "data": {
      "text/plain": [
       "St-1    NJ\n",
       "St-2    NY\n",
       "St-3    TX\n",
       "St-4    AZ\n",
       "St-5    MO\n",
       "St-6    FL\n",
       "St-7    ID\n",
       "Name: States, dtype: object"
      ]
     },
     "execution_count": 74,
     "metadata": {},
     "output_type": "execute_result"
    }
   ],
   "source": [
    "state_series"
   ]
  },
  {
   "cell_type": "code",
   "execution_count": 75,
   "id": "ad942925-b4b9-498f-9df3-145a9c878322",
   "metadata": {
    "scrolled": true
   },
   "outputs": [
    {
     "data": {
      "text/plain": [
       "St-1    False\n",
       "St-2    False\n",
       "St-3    False\n",
       "St-4    False\n",
       "St-5    False\n",
       "St-6    False\n",
       "St-7    False\n",
       "Name: States, dtype: bool"
      ]
     },
     "execution_count": 75,
     "metadata": {},
     "output_type": "execute_result"
    }
   ],
   "source": [
    "# no repetition\n",
    "state_series.duplicated()"
   ]
  },
  {
   "cell_type": "code",
   "execution_count": 76,
   "id": "994ee832-af70-4409-8e4d-ee57b730e2c2",
   "metadata": {},
   "outputs": [
    {
     "data": {
      "text/plain": [
       "St-1    NJ\n",
       "St-2    NY\n",
       "St-3    TX\n",
       "St-4    AZ\n",
       "St-5    MO\n",
       "St-6    FL\n",
       "St-7    ID\n",
       "St-8    AZ\n",
       "Name: States, dtype: object"
      ]
     },
     "execution_count": 76,
     "metadata": {},
     "output_type": "execute_result"
    }
   ],
   "source": [
    "# add a repeatition\n",
    "state_series['St-8'] = 'AZ'\n",
    "state_series"
   ]
  },
  {
   "cell_type": "code",
   "execution_count": 77,
   "id": "42631899-30ed-4842-96e9-5c8597b1644e",
   "metadata": {},
   "outputs": [
    {
     "data": {
      "text/plain": [
       "St-1    False\n",
       "St-2    False\n",
       "St-3    False\n",
       "St-4    False\n",
       "St-5    False\n",
       "St-6    False\n",
       "St-7    False\n",
       "St-8     True\n",
       "Name: States, dtype: bool"
      ]
     },
     "execution_count": 77,
     "metadata": {},
     "output_type": "execute_result"
    }
   ],
   "source": [
    "# second 'AZ' is repeated\n",
    "state_series.duplicated()"
   ]
  },
  {
   "cell_type": "markdown",
   "id": "90d790cc-a529-485d-aaa7-fb4029cf0448",
   "metadata": {},
   "source": [
    "### drop_duplicates()\n",
    "- It returns a Series with duplicate rows removed."
   ]
  },
  {
   "cell_type": "code",
   "execution_count": 78,
   "id": "6874513d-c446-4e55-b907-3447091ab5ce",
   "metadata": {},
   "outputs": [
    {
     "data": {
      "text/plain": [
       "St-1    NJ\n",
       "St-2    NY\n",
       "St-3    TX\n",
       "St-4    AZ\n",
       "St-5    MO\n",
       "St-6    FL\n",
       "St-7    ID\n",
       "Name: States, dtype: object"
      ]
     },
     "execution_count": 78,
     "metadata": {},
     "output_type": "execute_result"
    }
   ],
   "source": [
    "state_series.drop_duplicates()"
   ]
  },
  {
   "cell_type": "code",
   "execution_count": 79,
   "id": "d615272b-85b3-464c-81f5-1ceaac6892b5",
   "metadata": {
    "scrolled": true
   },
   "outputs": [
    {
     "data": {
      "text/plain": [
       "St-1    NJ\n",
       "St-2    NY\n",
       "St-3    TX\n",
       "St-4    AZ\n",
       "St-5    MO\n",
       "St-6    FL\n",
       "St-7    ID\n",
       "St-8    AZ\n",
       "Name: States, dtype: object"
      ]
     },
     "execution_count": 79,
     "metadata": {},
     "output_type": "execute_result"
    }
   ],
   "source": [
    "# no change\n",
    "state_series"
   ]
  },
  {
   "cell_type": "code",
   "execution_count": 80,
   "id": "415c2d99-4a7d-41df-a513-830ddad5df8d",
   "metadata": {},
   "outputs": [],
   "source": [
    "state_series.drop_duplicates(inplace=True)"
   ]
  },
  {
   "cell_type": "code",
   "execution_count": 81,
   "id": "d527f1ed-1fe5-4890-8146-ac56f298a3b6",
   "metadata": {},
   "outputs": [
    {
     "data": {
      "text/plain": [
       "St-1    NJ\n",
       "St-2    NY\n",
       "St-3    TX\n",
       "St-4    AZ\n",
       "St-5    MO\n",
       "St-6    FL\n",
       "St-7    ID\n",
       "Name: States, dtype: object"
      ]
     },
     "execution_count": 81,
     "metadata": {},
     "output_type": "execute_result"
    }
   ],
   "source": [
    "# second 'AZ' is removed\n",
    "state_series"
   ]
  },
  {
   "cell_type": "markdown",
   "id": "f12d5945-b276-4937-9df4-5d2cfc99d7ee",
   "metadata": {},
   "source": [
    "## Visualization"
   ]
  },
  {
   "cell_type": "markdown",
   "id": "8141b017-367b-4ae7-a2d4-99c0a66f79dd",
   "metadata": {},
   "source": [
    "### Line Plot\n",
    "- The default value of the *kind* parameter is 'line'."
   ]
  },
  {
   "cell_type": "code",
   "execution_count": 82,
   "id": "293574d1-1434-4375-95f3-5e0416ce1b9a",
   "metadata": {},
   "outputs": [
    {
     "data": {
      "image/png": "[encoded data removed]",
      "text/plain": [
       "<Figure size 640x480 with 1 Axes>"
      ]
     },
     "metadata": {},
     "output_type": "display_data"
    }
   ],
   "source": [
    "test1_grades.plot();"
   ]
  },
  {
   "cell_type": "markdown",
   "id": "c18ff8c2-b036-4eb0-9faa-5a4df009a257",
   "metadata": {},
   "source": [
    "### Scatter Plot\n",
    "- *x-coordinates* should be provided."
   ]
  },
  {
   "cell_type": "code",
   "execution_count": 83,
   "id": "6323e965-843f-46e3-8d5b-d35f7fd36a92",
   "metadata": {},
   "outputs": [
    {
     "data": {
      "image/png": "[encoded data removed]",
      "text/plain": [
       "<Figure size 640x480 with 1 Axes>"
      ]
     },
     "metadata": {},
     "output_type": "display_data"
    }
   ],
   "source": [
    "test1_grades.plot(style='.');"
   ]
  },
  {
   "cell_type": "markdown",
   "id": "a2cfa09c-a535-4dac-ac0d-21018c8fcb2e",
   "metadata": {},
   "source": [
    "### Histogram\n",
    "Distribution of values. "
   ]
  },
  {
   "cell_type": "code",
   "execution_count": 84,
   "id": "50624bd3-4a36-4bd8-bba3-18a87add101f",
   "metadata": {},
   "outputs": [],
   "source": [
    "grade_series = pd.Series([1,2,2,2,2,3,3,3,4,5,5,5,5,5])"
   ]
  },
  {
   "cell_type": "code",
   "execution_count": 85,
   "id": "e16288bc-d57d-453d-a60e-a587d62ee0b7",
   "metadata": {},
   "outputs": [
    {
     "data": {
      "image/png": "[encoded data removed]",
      "text/plain": [
       "<Figure size 640x480 with 1 Axes>"
      ]
     },
     "metadata": {},
     "output_type": "display_data"
    }
   ],
   "source": [
    "grade_series.hist();"
   ]
  },
  {
   "cell_type": "markdown",
   "id": "24a05a17-18f5-478d-a146-ae9ce8534534",
   "metadata": {},
   "source": [
    "## Matplotlib and Series"
   ]
  },
  {
   "cell_type": "code",
   "execution_count": 86,
   "id": "337e35ec-2317-4ea6-ad44-76494b5dca62",
   "metadata": {},
   "outputs": [],
   "source": [
    "import matplotlib.pyplot as plt"
   ]
  },
  {
   "cell_type": "markdown",
   "id": "495f676a-2cd2-446e-bbfb-f164d8520ef3",
   "metadata": {},
   "source": [
    "### Scatter Plot\n",
    "- *x-coordinates* should be provided."
   ]
  },
  {
   "cell_type": "code",
   "execution_count": 87,
   "id": "895aa255-4ef9-452e-87cb-8afb2509f0bf",
   "metadata": {},
   "outputs": [
    {
     "data": {
      "text/plain": [
       "Jack    90\n",
       "Joe     85\n",
       "Amy     70\n",
       "Ted     80\n",
       "Mia     60\n",
       "Ben     60\n",
       "Name: Test-1, dtype: int64"
      ]
     },
     "execution_count": 87,
     "metadata": {},
     "output_type": "execute_result"
    }
   ],
   "source": [
    "test1_grades"
   ]
  },
  {
   "cell_type": "code",
   "execution_count": 88,
   "id": "b3a9a4c0-9684-4845-b138-95fef9416da2",
   "metadata": {},
   "outputs": [
    {
     "data": {
      "image/png": "[encoded data removed]",
      "text/plain": [
       "<Figure size 640x480 with 1 Axes>"
      ]
     },
     "metadata": {},
     "output_type": "display_data"
    }
   ],
   "source": [
    "plt.scatter(test1_grades.index, test1_grades);"
   ]
  },
  {
   "cell_type": "markdown",
   "id": "fb7d4770-3591-4f69-a877-d11f12f7827d",
   "metadata": {},
   "source": [
    "### Line Plot\n",
    "- The default x values are the indexes of the Series."
   ]
  },
  {
   "cell_type": "code",
   "execution_count": 89,
   "id": "77b7ae40-96f6-4a97-b626-0b4aea4e8d43",
   "metadata": {},
   "outputs": [
    {
     "data": {
      "image/png": "[encoded data removed]",
      "text/plain": [
       "<Figure size 640x480 with 1 Axes>"
      ]
     },
     "metadata": {},
     "output_type": "display_data"
    }
   ],
   "source": [
    "plt.plot(test1_grades);"
   ]
  },
  {
   "cell_type": "markdown",
   "id": "2162b2e5-867a-4ad8-b72b-c59595e828d2",
   "metadata": {},
   "source": [
    "### Histogram"
   ]
  },
  {
   "cell_type": "code",
   "execution_count": 90,
   "id": "b72a5dd7-71b7-47ec-91cf-abb7aa75e66d",
   "metadata": {},
   "outputs": [
    {
     "data": {
      "image/png": "[encoded data removed]",
      "text/plain": [
       "<Figure size 640x480 with 1 Axes>"
      ]
     },
     "metadata": {},
     "output_type": "display_data"
    }
   ],
   "source": [
    "plt.hist(test1_grades);"
   ]
  },
  {
   "cell_type": "code",
   "execution_count": null,
   "id": "c871ddb4-e3ea-4bb8-939e-76a8cebdfd2a",
   "metadata": {},
   "outputs": [],
   "source": []
  }
 ],
 "metadata": {
  "kernelspec": {
   "display_name": "Python 3 (ipykernel)",
   "language": "python",
   "name": "python3"
  },
  "language_info": {
   "codemirror_mode": {
    "name": "ipython",
    "version": 3
   },
   "file_extension": ".py",
   "mimetype": "text/x-python",
   "name": "python",
   "nbconvert_exporter": "python",
   "pygments_lexer": "ipython3",
   "version": "3.11.7"
  }
 },
 "nbformat": 4,
 "nbformat_minor": 5
}
