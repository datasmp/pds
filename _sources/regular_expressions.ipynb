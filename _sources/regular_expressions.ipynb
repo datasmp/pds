{
 "cells": [
  {
   "cell_type": "markdown",
   "id": "cb5c2bae-dc87-4c4f-824d-5267b2c5ee57",
   "metadata": {},
   "source": [
    "# Regular Expressions\n",
    "![Section Title: Regular Expressions](title_pict/reg_exp.png)\n",
    "\n",
    "Regular expressions, commonly known as regex, are a powerful tool for working with strings and text. \n",
    "- They are widely used when handling files containing long texts or strings to search for specific patterns or modify the original text.\n",
    "- Instead of writing lengthy programs with numerous iterations and conditional statements, regular expressions allow you to accomplish the same tasks in a concise and readable manner.\n",
    "- This makes them an efficient and effective way to process and manipulate text.\n",
    "- The module for working with regular expressions in Python is called *re* and should be imported using:"
   ]
  },
  {
   "cell_type": "code",
   "execution_count": 3,
   "id": "c571f0a1-2536-4477-a60f-b0ff0fcb5377",
   "metadata": {},
   "outputs": [],
   "source": [
    "import re"
   ]
  },
  {
   "cell_type": "markdown",
   "id": "255dfd46-8b35-415c-82af-c0f37976de7f",
   "metadata": {},
   "source": [
    "## Characters\n",
    "The following characters are commonly used to define patterns for finding matches:\n",
    "- Caret (`^`): Matches the start of a string.\n",
    "    - '^x' matches 'xy' at the beginning.\n",
    "- Dollar Sign (`$`): Matches the end of a string.\n",
    "    - 'x$' matches 'yx' at the end.\n",
    "- Dot (`.`): Matches any character except a newline.\n",
    "    - 'x.y' matches 'xay', 'xby' \n",
    "- Asterisk (`*`): Matches zero or more repetitions of the preceding character.\n",
    "    - 'x*' matches '', 'x', 'xx', 'xxx'\n",
    "- Plus (`+`): Matches one or more repetitions of the preceding character.\n",
    "    - 'x+' matches 'x', 'xx', 'xxx'\n",
    "- Question Mark (`?`): Matches zero or one occurrence of the preceding character.\n",
    "    - 'xy?' matches 'x' or 'xy'.\n",
    "- Pipe (`|`): Acts as an OR operator.\n",
    "    - 'xyz|yzt' matches 'xyz' or 'yzt'.\n",
    "- Backslash (`\\`): Escapes special characters or introduces special sequences.\n",
    "    - `\\.` matches a literal dot.\n",
    "- Parentheses (`()`): Groups patterns and captures matches.\n",
    "    - '(xyz)+' matches one or more repetitions of 'xyz'. \n",
    "- Square Brackets (`[...]`): Matches any one character inside the brackets.  \n",
    "    - `0-9`: all digits  \n",
    "    - `A-Za-z`: all letters\n",
    "    - `A-Z`: uppercase letters\n",
    "    - `a-z`: lowercase letters\n",
    "    - `[^...]`: except the characters in the square bracket\n",
    "\n",
    "- `\\d`: Matches any digit (0-9).\n",
    "    - '\\d' matches '1','2','3',..,'9'\n",
    "- `\\D`: Matches any non-digit.\n",
    "    - '\\D' matches 'x', 'c', '!'\n",
    "- `\\s`: Matches any whitespace character.\n",
    "    - '\\s' matches spaces, tabs\n",
    "- `\\S`:Matches any non-whitespace character.\n",
    "    - '\\S' matches 'x', '1'\n",
    "- `\\w`: Matches any alphanumeric character (letters, digits, or underscore).\n",
    "    - '\\w' matches 'x', '1', '_'.\n",
    "- `\\W`: Matches any non-alphanumeric character.\n",
    "    - '\\W' matches '%', '#'"
   ]
  },
  {
   "cell_type": "markdown",
   "id": "18e4b286-92d5-4f69-bf76-00e98b762ad1",
   "metadata": {},
   "source": [
    "## findall()\n",
    "- Purpose: Extracts all occurrences of a specified pattern in a string.\n",
    "- Return Value: A list of non-overlapping matches for the pattern in the string.\n",
    "- Order of Output: Matches are returned in the order they appear in the string.\n",
    "\n",
    "This function is useful for identifying and retrieving all instances of a pattern efficiently."
   ]
  },
  {
   "cell_type": "code",
   "execution_count": 22,
   "id": "7039291c-b1a4-41a8-9096-99b7390e900d",
   "metadata": {},
   "outputs": [
    {
     "name": "stdout",
     "output_type": "stream",
     "text": [
      "Help on function findall in module re:\n",
      "\n",
      "findall(pattern, string, flags=0)\n",
      "    Return a list of all non-overlapping matches in the string.\n",
      "    \n",
      "    If one or more capturing groups are present in the pattern, return\n",
      "    a list of groups; this will be a list of tuples if the pattern\n",
      "    has more than one group.\n",
      "    \n",
      "    Empty matches are included in the result.\n",
      "\n"
     ]
    }
   ],
   "source": [
    "help(re.findall)"
   ]
  },
  {
   "cell_type": "markdown",
   "id": "9a3734bd-6817-4d9b-b7db-b6ebbbf1b448",
   "metadata": {},
   "source": [
    "### Caret\n",
    "- Starts with 'a'"
   ]
  },
  {
   "cell_type": "code",
   "execution_count": 22,
   "id": "64afa82b-af1d-444a-b539-c02f85ecfaf7",
   "metadata": {},
   "outputs": [
    {
     "data": {
      "text/plain": [
       "['a']"
      ]
     },
     "execution_count": 22,
     "metadata": {},
     "output_type": "execute_result"
    }
   ],
   "source": [
    "re.findall('^a' , 'abcd')"
   ]
  },
  {
   "cell_type": "code",
   "execution_count": 61,
   "id": "4c8cc8f8-8aac-4920-8bf9-fdc7305f8948",
   "metadata": {},
   "outputs": [
    {
     "data": {
      "text/plain": [
       "[]"
      ]
     },
     "execution_count": 61,
     "metadata": {},
     "output_type": "execute_result"
    }
   ],
   "source": [
    "re.findall('^a' , 'bcd')"
   ]
  },
  {
   "cell_type": "markdown",
   "id": "d24c34b9-6ca3-4b2a-bbd0-27d8c9133060",
   "metadata": {},
   "source": [
    "- Starts with 'b'"
   ]
  },
  {
   "cell_type": "code",
   "execution_count": 105,
   "id": "beff71a9-54a6-4f34-b474-b9f8d59fa76a",
   "metadata": {},
   "outputs": [
    {
     "data": {
      "text/plain": [
       "[]"
      ]
     },
     "execution_count": 105,
     "metadata": {},
     "output_type": "execute_result"
    }
   ],
   "source": [
    "re.findall('^b' , 'abcd')"
   ]
  },
  {
   "cell_type": "markdown",
   "id": "557af2b0-b824-48de-99a9-6e1580679970",
   "metadata": {},
   "source": [
    "### Dollar sign\n",
    "- Ends with 'd'"
   ]
  },
  {
   "cell_type": "code",
   "execution_count": 64,
   "id": "18d8c9b5-1a38-4968-9d3b-70511d93e68c",
   "metadata": {},
   "outputs": [
    {
     "data": {
      "text/plain": [
       "['d']"
      ]
     },
     "execution_count": 64,
     "metadata": {},
     "output_type": "execute_result"
    }
   ],
   "source": [
    "re.findall('d$' , 'abcd')"
   ]
  },
  {
   "cell_type": "markdown",
   "id": "94647dbc-f9e6-4b9b-be28-24d4da50b320",
   "metadata": {},
   "source": [
    "- Ends with 'a'"
   ]
  },
  {
   "cell_type": "code",
   "execution_count": 66,
   "id": "77cb79f8-2b43-4242-8f87-78145900cf2f",
   "metadata": {},
   "outputs": [
    {
     "data": {
      "text/plain": [
       "[]"
      ]
     },
     "execution_count": 66,
     "metadata": {},
     "output_type": "execute_result"
    }
   ],
   "source": [
    "re.findall('a$' , 'bcd')"
   ]
  },
  {
   "cell_type": "markdown",
   "id": "e2703a0b-6120-4d7f-acee-fedd5d33fad3",
   "metadata": {},
   "source": [
    "- Ends with 'b'"
   ]
  },
  {
   "cell_type": "code",
   "execution_count": 107,
   "id": "cec81c04-7740-4954-bdf4-90907d7e5b1f",
   "metadata": {},
   "outputs": [
    {
     "data": {
      "text/plain": [
       "[]"
      ]
     },
     "execution_count": 107,
     "metadata": {},
     "output_type": "execute_result"
    }
   ],
   "source": [
    "re.findall('b$' , 'abcd')"
   ]
  },
  {
   "cell_type": "markdown",
   "id": "bd1f853d-5abe-4fad-8c16-536525375ec1",
   "metadata": {},
   "source": [
    "### Dot"
   ]
  },
  {
   "cell_type": "markdown",
   "id": "0e1c5d75-92eb-4ac8-8c1c-5addb568a108",
   "metadata": {},
   "source": [
    "- Any character (except newline) between between 'a' and 'c' "
   ]
  },
  {
   "cell_type": "code",
   "execution_count": 40,
   "id": "98b29170-42da-4a7f-81a4-01e632129a80",
   "metadata": {},
   "outputs": [
    {
     "data": {
      "text/plain": [
       "['afc']"
      ]
     },
     "execution_count": 40,
     "metadata": {},
     "output_type": "execute_result"
    }
   ],
   "source": [
    "re.findall('a.c' , 'afc')"
   ]
  },
  {
   "cell_type": "code",
   "execution_count": 42,
   "id": "d1f8702f-6636-44aa-8a70-fccde80c5bf7",
   "metadata": {},
   "outputs": [
    {
     "data": {
      "text/plain": [
       "[]"
      ]
     },
     "execution_count": 42,
     "metadata": {},
     "output_type": "execute_result"
    }
   ],
   "source": [
    "re.findall('a.c' , 'bcd')"
   ]
  },
  {
   "cell_type": "markdown",
   "id": "83c570f9-5489-42bd-a52a-df52a961c270",
   "metadata": {},
   "source": [
    "- Any two characters (except newline) between between 'a' and 'c' "
   ]
  },
  {
   "cell_type": "code",
   "execution_count": 44,
   "id": "a7708af2-ecca-4089-aa87-b3d531052f2c",
   "metadata": {},
   "outputs": [
    {
     "data": {
      "text/plain": [
       "['axyc']"
      ]
     },
     "execution_count": 44,
     "metadata": {},
     "output_type": "execute_result"
    }
   ],
   "source": [
    "re.findall('a..c' , 'axyc')"
   ]
  },
  {
   "cell_type": "markdown",
   "id": "76e16d18-6e59-4601-a155-235d3d9db812",
   "metadata": {},
   "source": [
    "### Asterisk"
   ]
  },
  {
   "cell_type": "markdown",
   "id": "70eb414e-d6d1-4b30-bc33-09470b45d07b",
   "metadata": {},
   "source": [
    "- Zero or more 'a'"
   ]
  },
  {
   "cell_type": "code",
   "execution_count": 57,
   "id": "f9ae12bd-c4e1-464f-bb8f-def99b712302",
   "metadata": {
    "scrolled": true
   },
   "outputs": [
    {
     "data": {
      "text/plain": [
       "['a', '', '', '', '']"
      ]
     },
     "execution_count": 57,
     "metadata": {},
     "output_type": "execute_result"
    }
   ],
   "source": [
    "re.findall('a*' , 'axyc')"
   ]
  },
  {
   "cell_type": "markdown",
   "id": "0b7b1136-5d00-48dc-9512-8c7149332c01",
   "metadata": {},
   "source": [
    "- Zero or more 'c'"
   ]
  },
  {
   "cell_type": "code",
   "execution_count": 59,
   "id": "cb503b1b-a1b8-46cc-b811-8be4f0e2464c",
   "metadata": {},
   "outputs": [
    {
     "data": {
      "text/plain": [
       "['', '', '', 'c', '']"
      ]
     },
     "execution_count": 59,
     "metadata": {},
     "output_type": "execute_result"
    }
   ],
   "source": [
    "re.findall('c*' , 'axyc')"
   ]
  },
  {
   "cell_type": "markdown",
   "id": "19656d41-2e9e-49f0-bbeb-3cd8ae4ad38d",
   "metadata": {},
   "source": [
    "- 'a' followed by one or more 'x'"
   ]
  },
  {
   "cell_type": "code",
   "execution_count": 65,
   "id": "4f51e706-0735-420a-9d04-3df33a05604c",
   "metadata": {},
   "outputs": [
    {
     "data": {
      "text/plain": [
       "['ax']"
      ]
     },
     "execution_count": 65,
     "metadata": {},
     "output_type": "execute_result"
    }
   ],
   "source": [
    "re.findall('ax*' , 'axyc')"
   ]
  },
  {
   "cell_type": "markdown",
   "id": "3abed501-f1d6-4a2e-9f51-f7549f4727fe",
   "metadata": {},
   "source": [
    "### Plus"
   ]
  },
  {
   "cell_type": "markdown",
   "id": "19ec9796-ee53-4e61-bb33-68572c6ed3e0",
   "metadata": {},
   "source": [
    "- One or more 'a'"
   ]
  },
  {
   "cell_type": "code",
   "execution_count": 70,
   "id": "c985f4bf-8d3e-4ce5-82fc-9fd49f978374",
   "metadata": {},
   "outputs": [
    {
     "data": {
      "text/plain": [
       "['a']"
      ]
     },
     "execution_count": 70,
     "metadata": {},
     "output_type": "execute_result"
    }
   ],
   "source": [
    "re.findall('a+' , 'axyc')"
   ]
  },
  {
   "cell_type": "markdown",
   "id": "00c1302b-bd5c-4d6d-b2c1-2fb11eaaad70",
   "metadata": {},
   "source": [
    "- One or more 'c'"
   ]
  },
  {
   "cell_type": "code",
   "execution_count": 72,
   "id": "fe668d8b-91fa-4097-93cd-4f355a60e16d",
   "metadata": {},
   "outputs": [
    {
     "data": {
      "text/plain": [
       "['c']"
      ]
     },
     "execution_count": 72,
     "metadata": {},
     "output_type": "execute_result"
    }
   ],
   "source": [
    "re.findall('c+' , 'axyc')"
   ]
  },
  {
   "cell_type": "markdown",
   "id": "0ea3a25d-caeb-4553-a3d1-817de051c0f3",
   "metadata": {},
   "source": [
    "- 'a' followed by one or more 'x'"
   ]
  },
  {
   "cell_type": "code",
   "execution_count": 75,
   "id": "5d54bb6b-2785-4b08-89d3-9b973ac518ac",
   "metadata": {},
   "outputs": [
    {
     "data": {
      "text/plain": [
       "['ax']"
      ]
     },
     "execution_count": 75,
     "metadata": {},
     "output_type": "execute_result"
    }
   ],
   "source": [
    "re.findall('ax+' , 'axyc')"
   ]
  },
  {
   "cell_type": "markdown",
   "id": "e81b787c-8915-4192-a79a-377e1e030d7d",
   "metadata": {},
   "source": [
    "### Question Mark"
   ]
  },
  {
   "cell_type": "markdown",
   "id": "686128c6-acba-4d2d-8ba8-6ab2c174a85c",
   "metadata": {},
   "source": [
    "- Zero or more 'a'"
   ]
  },
  {
   "cell_type": "code",
   "execution_count": 173,
   "id": "be68bed0-e902-4a6d-bfe7-efc4717d7c71",
   "metadata": {},
   "outputs": [
    {
     "data": {
      "text/plain": [
       "['a', '', '', '', '']"
      ]
     },
     "execution_count": 173,
     "metadata": {},
     "output_type": "execute_result"
    }
   ],
   "source": [
    "re.findall('a?' , 'axyc')"
   ]
  },
  {
   "cell_type": "markdown",
   "id": "be92768a-675f-492c-a0f1-8956e586f664",
   "metadata": {},
   "source": [
    "- Zero or more 'c'"
   ]
  },
  {
   "cell_type": "code",
   "execution_count": 176,
   "id": "fbb4e27e-89c0-4571-b953-48fe7f03ba5e",
   "metadata": {},
   "outputs": [
    {
     "data": {
      "text/plain": [
       "['', '', '', 'c', '']"
      ]
     },
     "execution_count": 176,
     "metadata": {},
     "output_type": "execute_result"
    }
   ],
   "source": [
    "re.findall('c?' , 'axyc')"
   ]
  },
  {
   "cell_type": "markdown",
   "id": "23af5136-7a7c-48cc-89ae-7111931737ce",
   "metadata": {},
   "source": [
    "- 'a' followed by zero or more 'x'"
   ]
  },
  {
   "cell_type": "code",
   "execution_count": 178,
   "id": "70207b42-3265-4e80-b2b0-9b772f70e2b8",
   "metadata": {},
   "outputs": [
    {
     "data": {
      "text/plain": [
       "['ax']"
      ]
     },
     "execution_count": 178,
     "metadata": {},
     "output_type": "execute_result"
    }
   ],
   "source": [
    "re.findall('ax?' , 'axyc')"
   ]
  },
  {
   "cell_type": "markdown",
   "id": "abe04af0-7979-4e91-929d-285e0f4f6252",
   "metadata": {},
   "source": [
    "### Pipe"
   ]
  },
  {
   "cell_type": "markdown",
   "id": "aa846e3d-3c38-4037-8c19-aa0853c2195e",
   "metadata": {},
   "source": [
    "- 'x' or 'y'"
   ]
  },
  {
   "cell_type": "code",
   "execution_count": 85,
   "id": "4e84cbde-f7ea-4dcb-8942-6bd72f3bff76",
   "metadata": {},
   "outputs": [
    {
     "data": {
      "text/plain": [
       "['x', 'y']"
      ]
     },
     "execution_count": 85,
     "metadata": {},
     "output_type": "execute_result"
    }
   ],
   "source": [
    "re.findall('x|y' , 'axyc')"
   ]
  },
  {
   "cell_type": "markdown",
   "id": "8501281b-2a1b-4155-a308-b81af41c1a77",
   "metadata": {},
   "source": [
    "- 'ax' or 'yd'"
   ]
  },
  {
   "cell_type": "code",
   "execution_count": 87,
   "id": "487146b4-d8e0-4e7a-8a9a-63bd6eeac87c",
   "metadata": {},
   "outputs": [
    {
     "data": {
      "text/plain": [
       "['ax']"
      ]
     },
     "execution_count": 87,
     "metadata": {},
     "output_type": "execute_result"
    }
   ],
   "source": [
    "re.findall('ax|yd' , 'axyc')"
   ]
  },
  {
   "cell_type": "markdown",
   "id": "9107ece5-4f54-48d5-bae6-dd784638b6ce",
   "metadata": {},
   "source": [
    "### Backslash"
   ]
  },
  {
   "cell_type": "markdown",
   "id": "dd1164e6-991b-4b12-88ef-0df8ad160567",
   "metadata": {},
   "source": [
    "- 'a\\\\.c' matches 'a.c'"
   ]
  },
  {
   "cell_type": "code",
   "execution_count": 101,
   "id": "21411969-fcf3-42ce-a863-08f6d0eef0c9",
   "metadata": {},
   "outputs": [
    {
     "data": {
      "text/plain": [
       "['a.c']"
      ]
     },
     "execution_count": 101,
     "metadata": {},
     "output_type": "execute_result"
    }
   ],
   "source": [
    "re.findall('a\\.c' , 'abcda.c')"
   ]
  },
  {
   "cell_type": "markdown",
   "id": "14e455c5-aef0-4aa3-be6b-95a4f2093f49",
   "metadata": {},
   "source": [
    "- 'a\\\\..c' matches 'a.(any character)c'"
   ]
  },
  {
   "cell_type": "code",
   "execution_count": 98,
   "id": "72fdcd48-984c-4dfe-92bd-000d4d5d71d6",
   "metadata": {},
   "outputs": [
    {
     "data": {
      "text/plain": [
       "['a.fc']"
      ]
     },
     "execution_count": 98,
     "metadata": {},
     "output_type": "execute_result"
    }
   ],
   "source": [
    "re.findall('a\\..c' , 'abcda.fc')"
   ]
  },
  {
   "cell_type": "markdown",
   "id": "32d86c13-0348-4068-a87d-e0517c6c1cd4",
   "metadata": {},
   "source": [
    "### Paranthesis"
   ]
  },
  {
   "cell_type": "markdown",
   "id": "f205fe92-4d93-4888-af18-42e25bddffa8",
   "metadata": {},
   "source": [
    "- Matches one or more repetitions of 'ab'"
   ]
  },
  {
   "cell_type": "code",
   "execution_count": 108,
   "id": "29932b3c-0ddd-4975-85dc-d3ac0a7e584d",
   "metadata": {},
   "outputs": [
    {
     "data": {
      "text/plain": [
       "['ab', 'ab']"
      ]
     },
     "execution_count": 108,
     "metadata": {},
     "output_type": "execute_result"
    }
   ],
   "source": [
    "re.findall('(ab)+' , 'abcdab')"
   ]
  },
  {
   "cell_type": "markdown",
   "id": "41c9436b-8dcd-47d1-93bb-6a3754cd42aa",
   "metadata": {},
   "source": [
    "- Matches one or more repetitions of 'a(any character)b'"
   ]
  },
  {
   "cell_type": "code",
   "execution_count": 113,
   "id": "faffe94e-aea0-41b8-8bd9-8aa1f3c2d18b",
   "metadata": {},
   "outputs": [
    {
     "data": {
      "text/plain": [
       "['axb', 'ayb']"
      ]
     },
     "execution_count": 113,
     "metadata": {},
     "output_type": "execute_result"
    }
   ],
   "source": [
    "re.findall('(a.b)+' , 'axbcdayb')"
   ]
  },
  {
   "cell_type": "markdown",
   "id": "1391a352-c83a-4a6e-a383-d70970fe325c",
   "metadata": {},
   "source": [
    "- Paranthesis also used to extract only the part of the match inside the parentheses."
   ]
  },
  {
   "cell_type": "markdown",
   "id": "b5f81972-bfad-4b27-aef0-b194a1092d96",
   "metadata": {},
   "source": [
    "- Starts with 'c' and ends with 'd', with the match taking the form 'a(any character)d'."
   ]
  },
  {
   "cell_type": "code",
   "execution_count": 191,
   "id": "9efa687c-f746-40c9-8a88-12bc9bebbb73",
   "metadata": {},
   "outputs": [
    {
     "data": {
      "text/plain": [
       "['avb']"
      ]
     },
     "execution_count": 191,
     "metadata": {},
     "output_type": "execute_result"
    }
   ],
   "source": [
    "re.findall('c(a.b)d' , 'apbxcavbd')"
   ]
  },
  {
   "cell_type": "markdown",
   "id": "78e5327b-30a3-4e97-828f-697f4dfab399",
   "metadata": {},
   "source": [
    "### Square Brackets\n",
    "- All digits"
   ]
  },
  {
   "cell_type": "code",
   "execution_count": 118,
   "id": "17de9cae-898a-4b67-b9ae-1455007899a9",
   "metadata": {},
   "outputs": [
    {
     "data": {
      "text/plain": [
       "['1']"
      ]
     },
     "execution_count": 118,
     "metadata": {},
     "output_type": "execute_result"
    }
   ],
   "source": [
    "re.findall('[0-9]', '1abcd')"
   ]
  },
  {
   "cell_type": "markdown",
   "id": "0f3354ea-82ca-4122-b393-a2cc5f2fd017",
   "metadata": {},
   "source": [
    "- Non-digits"
   ]
  },
  {
   "cell_type": "code",
   "execution_count": 116,
   "id": "a1f4f1d1-21be-4a20-b7bf-ea357a0410c7",
   "metadata": {},
   "outputs": [
    {
     "data": {
      "text/plain": [
       "['a', 'b', 'c', 'd']"
      ]
     },
     "execution_count": 116,
     "metadata": {},
     "output_type": "execute_result"
    }
   ],
   "source": [
    "re.findall('[^0-9]', '1abcd')"
   ]
  },
  {
   "cell_type": "markdown",
   "id": "7ecf84e3-42dd-48dc-a5ee-79f5f0e05725",
   "metadata": {},
   "source": [
    "- All letters"
   ]
  },
  {
   "cell_type": "code",
   "execution_count": 120,
   "id": "815e311c-7e6d-49db-a7f9-df60b900a120",
   "metadata": {},
   "outputs": [
    {
     "data": {
      "text/plain": [
       "['a', 'b', 'c', 'd']"
      ]
     },
     "execution_count": 120,
     "metadata": {},
     "output_type": "execute_result"
    }
   ],
   "source": [
    "re.findall('[A-Za-z]', '1abcd')"
   ]
  },
  {
   "cell_type": "markdown",
   "id": "12a4b8e8-be42-4f8d-b92b-234683274aae",
   "metadata": {},
   "source": [
    "- All non-letters"
   ]
  },
  {
   "cell_type": "code",
   "execution_count": 29,
   "id": "a330c976-a27d-45bb-a2c6-fcce356823d8",
   "metadata": {},
   "outputs": [
    {
     "data": {
      "text/plain": [
       "['1', '!']"
      ]
     },
     "execution_count": 29,
     "metadata": {},
     "output_type": "execute_result"
    }
   ],
   "source": [
    "re.findall('[^A-Za-z]', '1ab!cd')"
   ]
  },
  {
   "cell_type": "markdown",
   "id": "4b4eaea5-5caf-4081-ab97-c853a3d42cad",
   "metadata": {},
   "source": [
    "- Match the characters 'd', 'n', and 'k'"
   ]
  },
  {
   "cell_type": "code",
   "execution_count": 168,
   "id": "18c5acf1-6a8d-416c-984d-4797b70fc417",
   "metadata": {},
   "outputs": [
    {
     "data": {
      "text/plain": [
       "['d', 'n', 'd']"
      ]
     },
     "execution_count": 168,
     "metadata": {},
     "output_type": "execute_result"
    }
   ],
   "source": [
    "re.findall('[dnk]', '1abd!cnd')"
   ]
  },
  {
   "cell_type": "markdown",
   "id": "c2d5fac0-e58d-4b54-934c-3f7820828270",
   "metadata": {},
   "source": [
    "### Digits"
   ]
  },
  {
   "cell_type": "code",
   "execution_count": 116,
   "id": "950040fe-b2a3-4307-85b1-6ef66ef49b37",
   "metadata": {},
   "outputs": [
    {
     "data": {
      "text/plain": [
       "['1']"
      ]
     },
     "execution_count": 116,
     "metadata": {},
     "output_type": "execute_result"
    }
   ],
   "source": [
    "re.findall('\\d', '1ab!cd')"
   ]
  },
  {
   "cell_type": "markdown",
   "id": "fbe403e3-0438-40cd-a182-aabab5daca5a",
   "metadata": {},
   "source": [
    "### Non-digits"
   ]
  },
  {
   "cell_type": "code",
   "execution_count": 118,
   "id": "dc2ba26d-345f-4f65-a2e2-bcffa4496a6d",
   "metadata": {},
   "outputs": [
    {
     "data": {
      "text/plain": [
       "['a', 'b', '!', 'c', 'd']"
      ]
     },
     "execution_count": 118,
     "metadata": {},
     "output_type": "execute_result"
    }
   ],
   "source": [
    "re.findall('\\D', '1ab!cd')"
   ]
  },
  {
   "cell_type": "markdown",
   "id": "034a085a-edcf-454f-87e9-374e78dc9c5a",
   "metadata": {},
   "source": [
    "### Whitespace"
   ]
  },
  {
   "cell_type": "code",
   "execution_count": 133,
   "id": "941e4f28-40f3-4806-b04f-83eb7e96e601",
   "metadata": {},
   "outputs": [
    {
     "data": {
      "text/plain": [
       "['\\n', '\\t', ' ']"
      ]
     },
     "execution_count": 133,
     "metadata": {},
     "output_type": "execute_result"
    }
   ],
   "source": [
    "re.findall('\\s', '1a\\nb!\\tc d')"
   ]
  },
  {
   "cell_type": "markdown",
   "id": "b6263d5a-ca71-407c-8941-00e2b590c487",
   "metadata": {},
   "source": [
    "### Non-Whitespace"
   ]
  },
  {
   "cell_type": "code",
   "execution_count": 130,
   "id": "cb18fa0a-45eb-4f88-b3ec-32e5781e7b04",
   "metadata": {},
   "outputs": [
    {
     "data": {
      "text/plain": [
       "['1', 'a', 'b', '!', 'c', 'd']"
      ]
     },
     "execution_count": 130,
     "metadata": {},
     "output_type": "execute_result"
    }
   ],
   "source": [
    "re.findall('\\S', '1a\\nb!\\tc d')"
   ]
  },
  {
   "cell_type": "markdown",
   "id": "046a5f71-eff5-437c-9b94-9fe1f56c8d15",
   "metadata": {},
   "source": [
    "### Alphanumeric"
   ]
  },
  {
   "cell_type": "code",
   "execution_count": 137,
   "id": "b4d80720-0742-46d2-b964-ac781aaa6be6",
   "metadata": {},
   "outputs": [
    {
     "data": {
      "text/plain": [
       "['1', 'a', 'b', 'c', 'd']"
      ]
     },
     "execution_count": 137,
     "metadata": {},
     "output_type": "execute_result"
    }
   ],
   "source": [
    "re.findall('\\w', '1a\\nb!\\tc d')"
   ]
  },
  {
   "cell_type": "markdown",
   "id": "08350680-2b42-4549-bded-98ebf482c521",
   "metadata": {},
   "source": [
    "### Non-Alphanumeric"
   ]
  },
  {
   "cell_type": "code",
   "execution_count": 142,
   "id": "d6c2c336-8866-49cc-9351-51033b76bf2f",
   "metadata": {},
   "outputs": [
    {
     "data": {
      "text/plain": [
       "['%', '&', '@', '\\n', '!', '\\t', ' ']"
      ]
     },
     "execution_count": 142,
     "metadata": {},
     "output_type": "execute_result"
    }
   ],
   "source": [
    "re.findall('\\W', '1a%&@\\nb!\\tc d')"
   ]
  },
  {
   "cell_type": "markdown",
   "id": "09329e8b-d1a4-4e15-8f23-7bc8938a6026",
   "metadata": {},
   "source": [
    "## search()\n",
    "- Purpose: Searches for the first occurrence of a specified pattern in a string.\n",
    "- Return Value: A MatchObject if the pattern is found; otherwise, it returns None.\n",
    "- Behavior: Stops searching as soon as the first match is found.\n",
    "\n",
    "This function is ideal when you only need to confirm the presence of a pattern or retrieve its first occurrence."
   ]
  },
  {
   "cell_type": "code",
   "execution_count": 139,
   "id": "155880ec-6b89-4c65-84df-72b2ff3e7038",
   "metadata": {},
   "outputs": [
    {
     "name": "stdout",
     "output_type": "stream",
     "text": [
      "Help on function search in module re:\n",
      "\n",
      "search(pattern, string, flags=0)\n",
      "    Scan through string looking for a match to the pattern, returning\n",
      "    a Match object, or None if no match was found.\n",
      "\n"
     ]
    }
   ],
   "source": [
    "help(re.search)"
   ]
  },
  {
   "cell_type": "markdown",
   "id": "fe17f2df-c79f-404a-a655-c26a6e71acfe",
   "metadata": {},
   "source": [
    "- starts with 'a'"
   ]
  },
  {
   "cell_type": "code",
   "execution_count": 141,
   "id": "fe1d8ea9-b3e1-4164-b04a-79951aeb5393",
   "metadata": {},
   "outputs": [
    {
     "data": {
      "text/plain": [
       "<re.Match object; span=(0, 1), match='a'>"
      ]
     },
     "execution_count": 141,
     "metadata": {},
     "output_type": "execute_result"
    }
   ],
   "source": [
    "re.search('^a' , 'abcd')"
   ]
  },
  {
   "cell_type": "markdown",
   "id": "bdafc598-375e-4aeb-bc20-cd032ae846af",
   "metadata": {},
   "source": [
    "- starts with 'a'"
   ]
  },
  {
   "cell_type": "code",
   "execution_count": 143,
   "id": "f2ac76ac-c232-4670-9a90-03606d0362d6",
   "metadata": {},
   "outputs": [],
   "source": [
    "re.search('^a' , 'bcd')"
   ]
  },
  {
   "cell_type": "markdown",
   "id": "4c119752-1084-4ad3-928b-9b649b0f3860",
   "metadata": {},
   "source": [
    "- starts with 'b'"
   ]
  },
  {
   "cell_type": "code",
   "execution_count": 111,
   "id": "a069eb0b-2d38-4128-9c7e-9ac631ae3fe1",
   "metadata": {},
   "outputs": [],
   "source": [
    "re.search('^b' , 'abcd')"
   ]
  },
  {
   "cell_type": "markdown",
   "id": "8c8c35b2-45c7-4451-832d-5396c80be34e",
   "metadata": {},
   "source": [
    "- ends with 'd'"
   ]
  },
  {
   "cell_type": "code",
   "execution_count": 78,
   "id": "ae92ad3c-8ac3-42e7-bdce-799cc1aafe9a",
   "metadata": {},
   "outputs": [
    {
     "data": {
      "text/plain": [
       "<re.Match object; span=(3, 4), match='d'>"
      ]
     },
     "execution_count": 78,
     "metadata": {},
     "output_type": "execute_result"
    }
   ],
   "source": [
    "re.search('d$' , 'abcd')"
   ]
  },
  {
   "cell_type": "markdown",
   "id": "9d506be1-8451-42c8-9676-489f748102ee",
   "metadata": {},
   "source": [
    "- ends with 'a'"
   ]
  },
  {
   "cell_type": "code",
   "execution_count": 109,
   "id": "34b5c2eb-5c87-4349-84ac-6e98ff2535c5",
   "metadata": {},
   "outputs": [],
   "source": [
    "re.search('a$' , 'bcd')"
   ]
  },
  {
   "cell_type": "markdown",
   "id": "2cef0ece-ebbb-4c80-b4f9-1c4bddda3827",
   "metadata": {},
   "source": [
    "- first digit"
   ]
  },
  {
   "cell_type": "code",
   "execution_count": 151,
   "id": "6ddbd777-0fe9-4339-8ae0-9f75b9f2ee30",
   "metadata": {},
   "outputs": [
    {
     "data": {
      "text/plain": [
       "<re.Match object; span=(1, 2), match='3'>"
      ]
     },
     "execution_count": 151,
     "metadata": {},
     "output_type": "execute_result"
    }
   ],
   "source": [
    "re.search('[0-9]', 'a3bc2d')"
   ]
  },
  {
   "cell_type": "markdown",
   "id": "f006d57b-39e1-4de2-a20c-85864febdfe1",
   "metadata": {},
   "source": [
    "- first non-digit"
   ]
  },
  {
   "cell_type": "code",
   "execution_count": 130,
   "id": "66be7500-4977-4189-b04a-d0344532425e",
   "metadata": {},
   "outputs": [
    {
     "data": {
      "text/plain": [
       "<re.Match object; span=(1, 2), match='a'>"
      ]
     },
     "execution_count": 130,
     "metadata": {},
     "output_type": "execute_result"
    }
   ],
   "source": [
    "re.search('[^0-9]', '1abcd')"
   ]
  },
  {
   "cell_type": "code",
   "execution_count": null,
   "id": "775fbd6f-7dd3-48f3-bd7c-1c6e68823fe6",
   "metadata": {},
   "outputs": [],
   "source": [
    "- first letter"
   ]
  },
  {
   "cell_type": "code",
   "execution_count": 156,
   "id": "71ec83ae-8962-4261-a6cd-7020b9635ecf",
   "metadata": {},
   "outputs": [
    {
     "data": {
      "text/plain": [
       "<re.Match object; span=(2, 3), match='a'>"
      ]
     },
     "execution_count": 156,
     "metadata": {},
     "output_type": "execute_result"
    }
   ],
   "source": [
    "re.search('[A-Za-z]', '1@abcd')"
   ]
  },
  {
   "cell_type": "markdown",
   "id": "2242e6a1-79dd-47f2-afc1-09f00b304122",
   "metadata": {},
   "source": [
    "- first non-letter"
   ]
  },
  {
   "cell_type": "code",
   "execution_count": 163,
   "id": "c09a3202-0da2-4f6b-ab75-70271234e17f",
   "metadata": {},
   "outputs": [
    {
     "data": {
      "text/plain": [
       "<re.Match object; span=(3, 4), match='1'>"
      ]
     },
     "execution_count": 163,
     "metadata": {},
     "output_type": "execute_result"
    }
   ],
   "source": [
    "re.search('[^A-Za-z]', 'xys1abcd')"
   ]
  }
 ],
 "metadata": {
  "kernelspec": {
   "display_name": "Python 3 (ipykernel)",
   "language": "python",
   "name": "python3"
  },
  "language_info": {
   "codemirror_mode": {
    "name": "ipython",
    "version": 3
   },
   "file_extension": ".py",
   "mimetype": "text/x-python",
   "name": "python",
   "nbconvert_exporter": "python",
   "pygments_lexer": "ipython3",
   "version": "3.11.8"
  }
 },
 "nbformat": 4,
 "nbformat_minor": 5
}
